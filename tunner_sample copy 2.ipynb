{
 "cells": [
  {
   "cell_type": "markdown",
   "metadata": {
    "collapsed": false,
    "pycharm": {
     "name": "#%% md\n"
    }
   },
   "source": [
    "## TF tunner samples"
   ]
  },
  {
   "cell_type": "code",
   "execution_count": 1,
   "metadata": {
    "collapsed": true,
    "pycharm": {
     "name": "#%%\n"
    }
   },
   "outputs": [
    {
     "name": "stderr",
     "output_type": "stream",
     "text": [
      "Using TensorFlow backend.\n"
     ]
    }
   ],
   "source": [
    "import numpy as np\n",
    "import tensorflow as tf\n",
    "from tensorflow import keras\n",
    "\n",
    "from tensorflow.keras.callbacks import ReduceLROnPlateau\n",
    "from processing import load_csv_data, slice_labels"
   ]
  },
  {
   "cell_type": "code",
   "execution_count": 3,
   "metadata": {
    "collapsed": false,
    "pycharm": {
     "name": "#%%\n"
    }
   },
   "outputs": [],
   "source": [
    "from processing import load_image_dataset\n",
    "\n",
    "x_rgb_train, y_rgb_train = load_image_dataset('Datasets/espe/masked/train', (40, 40), False)\n",
    "x_rgb_test, y_rgb_test = load_image_dataset('Datasets/espe/masked/test', (40, 40), False)\n",
    "x_rgb_validation, y_rgb_validation = load_image_dataset('Datasets/espe/masked/validation', (40, 40), False)"
   ]
  },
  {
   "cell_type": "code",
   "execution_count": 4,
   "metadata": {
    "collapsed": false,
    "pycharm": {
     "name": "#%%\n"
    }
   },
   "outputs": [],
   "source": [
    "from processing import load_csv_data, slice_labels\n",
    "\n",
    "train_path = 'Datasets/espe/lbp_histograms/train'\n",
    "train_data = load_csv_data(train_path)\n",
    "\n",
    "test_path = 'Datasets/espe/lbp_histograms/test'\n",
    "test_data = load_csv_data(test_path)\n",
    "\n",
    "validation_path = 'Datasets/espe/lbp_histograms/validation'\n",
    "validation_data = load_csv_data(validation_path)\n",
    "\n",
    "# train_data.shape, test_data.shape, validation_data.shape\n",
    "x_train, y_train = slice_labels(train_data)\n",
    "x_test, y_test = slice_labels(test_data)\n",
    "x_val, y_val = slice_labels(validation_data)"
   ]
  },
  {
   "cell_type": "code",
   "execution_count": 5,
   "metadata": {
    "collapsed": false,
    "pycharm": {
     "name": "#%%\n"
    }
   },
   "outputs": [],
   "source": [
    "import pandas as pd\n",
    "test_silhouette_dataset = pd.read_csv('Datasets/espe/lbp_histograms/test/test.csv', header=None)[1:]\n",
    "train_silhouette_dataset = pd.read_csv('Datasets/espe/lbp_histograms/train/train.csv', header=None)[1:]\n",
    "val_silhouette_dataset = pd.read_csv('Datasets/espe/lbp_histograms/validation/validation.csv', header=None)[1:]\n",
    "\n",
    "x_slhtt_test, y_slhtt_test = slice_labels(test_silhouette_dataset)\n",
    "x_slhtt_train, y_slhtt_train = slice_labels(train_silhouette_dataset)\n",
    "x_slhtt_val, y_slhtt_val = slice_labels(val_silhouette_dataset)"
   ]
  },
  {
   "cell_type": "code",
   "execution_count": 6,
   "metadata": {
    "collapsed": false,
    "pycharm": {
     "name": "#%%\n"
    }
   },
   "outputs": [
    {
     "data": {
      "text/plain": [
       "((463, 40, 40, 3), (463, 512))"
      ]
     },
     "execution_count": 6,
     "metadata": {},
     "output_type": "execute_result"
    }
   ],
   "source": [
    "x_rgb_train.shape, x_train.shape"
   ]
  },
  {
   "cell_type": "code",
   "execution_count": 7,
   "metadata": {
    "collapsed": false,
    "pycharm": {
     "name": "#%%\n"
    }
   },
   "outputs": [
    {
     "data": {
      "text/plain": [
       "((103, 40, 40, 3), (103, 512))"
      ]
     },
     "execution_count": 7,
     "metadata": {},
     "output_type": "execute_result"
    }
   ],
   "source": [
    "x_rgb_validation.shape, x_val.shape"
   ]
  },
  {
   "cell_type": "code",
   "execution_count": 53,
   "metadata": {
    "collapsed": false,
    "pycharm": {
     "name": "#%%\n"
    }
   },
   "outputs": [],
   "source": [
    "from utils.Models import multi_input_model, lbp_histogram, lbp_image_classification,multi_input_model_color_silouethe\n",
    "import datetime\n",
    "loss_function = tf.keras.losses.CategoricalCrossentropy()\n",
    "\n",
    "optimization_function = tf.keras.optimizers.Adam(lr=1e-3)\n",
    "\n",
    "#Adam(lr=1e-3) -> mejor resultado para las imagenes a rgb\n",
    "#RMSprop(lr=1e-3)\n",
    "\n",
    "#model = multi_input_model_color_silouethe()\n",
    "#model = lbp_histogram((512, ))\n",
    "model =  lbp_image_classification((40, 40, 3))\n",
    "model.compile(loss='categorical_crossentropy', optimizer=optimization_function, metrics=['acc'])"
   ]
  },
  {
   "cell_type": "code",
   "execution_count": 54,
   "metadata": {
    "collapsed": false,
    "pycharm": {
     "name": "#%%\n"
    }
   },
   "outputs": [],
   "source": [
    "stop_early = tf.keras.callbacks.EarlyStopping(monitor='val_acc', patience=8)\n",
    "reduce_lr = ReduceLROnPlateau(monitor='val_acc', factor=0.1, patience=4, verbose=1, min_delta=1e-2)\n",
    "callbacks_list = [stop_early, reduce_lr]"
   ]
  },
  {
   "cell_type": "code",
   "execution_count": 55,
   "metadata": {
    "collapsed": false,
    "pycharm": {
     "name": "#%%\n"
    }
   },
   "outputs": [
    {
     "name": "stdout",
     "output_type": "stream",
     "text": [
      "Train on 463 samples, validate on 103 samples\n",
      "Epoch 1/30\n",
      "463/463 [==============================] - 1s 3ms/sample - loss: 51.2681 - acc: 0.2052 - val_loss: 58.1694 - val_acc: 0.1262\n",
      "Epoch 2/30\n",
      "463/463 [==============================] - 1s 1ms/sample - loss: 45.2055 - acc: 0.2289 - val_loss: 53.7685 - val_acc: 0.1650\n",
      "Epoch 3/30\n",
      "463/463 [==============================] - 1s 1ms/sample - loss: 35.5392 - acc: 0.4687 - val_loss: 27.4109 - val_acc: 0.4563\n",
      "Epoch 4/30\n",
      "463/463 [==============================] - 1s 2ms/sample - loss: 20.8469 - acc: 0.6004 - val_loss: 15.0291 - val_acc: 0.6214\n",
      "Epoch 5/30\n",
      "463/463 [==============================] - 1s 2ms/sample - loss: 6.7512 - acc: 0.6955 - val_loss: 14.6445 - val_acc: 0.4951\n",
      "Epoch 6/30\n",
      "463/463 [==============================] - 1s 2ms/sample - loss: 2.8177 - acc: 0.7516 - val_loss: 6.0888 - val_acc: 0.6505\n",
      "Epoch 7/30\n",
      "463/463 [==============================] - 1s 1ms/sample - loss: 1.1645 - acc: 0.8510 - val_loss: 6.3422 - val_acc: 0.7476\n",
      "Epoch 8/30\n",
      "463/463 [==============================] - 1s 2ms/sample - loss: 0.2543 - acc: 0.9460 - val_loss: 6.0493 - val_acc: 0.7282\n",
      "Epoch 9/30\n",
      "463/463 [==============================] - 1s 2ms/sample - loss: 0.2354 - acc: 0.9590 - val_loss: 4.3606 - val_acc: 0.7767\n",
      "Epoch 10/30\n",
      "463/463 [==============================] - 1s 1ms/sample - loss: 0.0550 - acc: 0.9935 - val_loss: 3.0923 - val_acc: 0.7961\n",
      "Epoch 11/30\n",
      "463/463 [==============================] - 1s 2ms/sample - loss: 0.0434 - acc: 0.9914 - val_loss: 2.6387 - val_acc: 0.8252\n",
      "Epoch 12/30\n",
      "463/463 [==============================] - 1s 2ms/sample - loss: 0.0939 - acc: 0.9762 - val_loss: 3.1287 - val_acc: 0.8447\n",
      "Epoch 13/30\n",
      "463/463 [==============================] - 1s 1ms/sample - loss: 0.0020 - acc: 0.9978 - val_loss: 3.7003 - val_acc: 0.8447\n",
      "Epoch 14/30\n",
      "463/463 [==============================] - 1s 2ms/sample - loss: 0.0016 - acc: 1.0000 - val_loss: 3.9883 - val_acc: 0.8155\n",
      "Epoch 15/30\n",
      "463/463 [==============================] - 1s 1ms/sample - loss: 0.0033 - acc: 1.0000 - val_loss: 4.1332 - val_acc: 0.8155\n",
      "Epoch 16/30\n",
      "400/463 [========================>.....] - ETA: 0s - loss: 0.0028 - acc: 1.0000    \n",
      "Epoch 00016: ReduceLROnPlateau reducing learning rate to 0.00010000000474974513.\n",
      "463/463 [==============================] - 1s 2ms/sample - loss: 0.0026 - acc: 1.0000 - val_loss: 4.2012 - val_acc: 0.7864\n",
      "Epoch 17/30\n",
      "463/463 [==============================] - 1s 1ms/sample - loss: 0.0013 - acc: 1.0000 - val_loss: 4.2001 - val_acc: 0.7864\n",
      "Epoch 18/30\n",
      "463/463 [==============================] - 1s 1ms/sample - loss: 0.0011 - acc: 1.0000 - val_loss: 4.1924 - val_acc: 0.8058\n",
      "Epoch 19/30\n",
      "463/463 [==============================] - 1s 2ms/sample - loss: 9.1587e-04 - acc: 1.0000 - val_loss: 4.1829 - val_acc: 0.8058\n",
      "Epoch 20/30\n",
      "400/463 [========================>.....] - ETA: 0s - loss: 8.6858e-04 - acc: 1.0000\n",
      "Epoch 00020: ReduceLROnPlateau reducing learning rate to 1.0000000474974514e-05.\n",
      "463/463 [==============================] - 1s 2ms/sample - loss: 7.5794e-04 - acc: 1.0000 - val_loss: 4.1731 - val_acc: 0.8058\n"
     ]
    }
   ],
   "source": [
    "#history = model.fit(x=[x_rgb_train], y=y_train, batch_size=200, epochs=30, validation_data=[[x_rgb_validation], y_val], callbacks=callbacks_list)\n",
    "#HISTOGRAMA\n",
    "#history = model.fit(x=[x_train], y=y_train, batch_size=300, epochs=30, validation_data=[[x_val], y_val], callbacks=callbacks_list)\n",
    "#IMAGEN\n",
    "history = model.fit(x=[x_rgb_train], y=y_train, batch_size=200, epochs=30, validation_data=[[x_rgb_validation], y_val], callbacks=callbacks_list)"
   ]
  },
  {
   "cell_type": "code",
   "execution_count": 50,
   "metadata": {
    "collapsed": false,
    "pycharm": {
     "name": "#%%\n"
    }
   },
   "outputs": [],
   "source": [
    "import matplotlib.pyplot as plt"
   ]
  },
  {
   "cell_type": "code",
   "execution_count": 51,
   "metadata": {
    "collapsed": false,
    "pycharm": {
     "name": "#%%\n"
    }
   },
   "outputs": [
    {
     "name": "stdout",
     "output_type": "stream",
     "text": [
      "dict_keys(['loss', 'acc', 'val_loss', 'val_acc', 'lr'])\n"
     ]
    }
   ],
   "source": [
    "print(history.history.keys())"
   ]
  },
  {
   "cell_type": "code",
   "execution_count": 56,
   "metadata": {
    "collapsed": false,
    "pycharm": {
     "name": "#%%\n"
    }
   },
   "outputs": [
    {
     "data": {
      "image/png": "[encoded data removed]",
      "text/plain": [
       "<Figure size 432x288 with 1 Axes>"
      ]
     },
     "metadata": {
      "needs_background": "light"
     },
     "output_type": "display_data"
    }
   ],
   "source": [
    "import matplotlib.pyplot as plt\n",
    "plt.plot(history.history['acc'])\n",
    "plt.plot(history.history['val_acc'])\n",
    "plt.title('Model accuracy')\n",
    "plt.xlabel('epochs')\n",
    "plt.ylabel('accuracy')\n",
    "plt.savefig('acc_1.png')\n",
    "\n",
    "#azul = entrenamiento\n",
    "#tomate = validacion"
   ]
  },
  {
   "cell_type": "markdown",
   "metadata": {
    "collapsed": false,
    "pycharm": {
     "name": "#%% md\n"
    }
   },
   "source": [
    "## Testing inference"
   ]
  },
  {
   "cell_type": "code",
   "execution_count": 57,
   "metadata": {
    "collapsed": false,
    "pycharm": {
     "name": "#%%\n"
    }
   },
   "outputs": [
    {
     "name": "stdout",
     "output_type": "stream",
     "text": [
      "99/99 [==============================] - 0s 656us/sample - loss: 6.5318 - acc: 0.7273\n"
     ]
    },
    {
     "data": {
      "text/plain": [
       "[6.531760051997021, 0.72727275]"
      ]
     },
     "execution_count": 57,
     "metadata": {},
     "output_type": "execute_result"
    }
   ],
   "source": [
    "#IMAGEN\n",
    "model.evaluate(x=x_rgb_test, y=y_rgb_test, verbose=1)\n",
    "# RMS: [4.671262875951902, 0.7676768]\n",
    "# ADAM: [16.528304745452573, 0.72727275]\n",
    "#histograma\n",
    "#model.evaluate(x=x_test, y=y_test, verbose=1)\n",
    "#RMSprop(lr=1e-3):[1.7638206373561511, 0.4040404] 0.4\n"
   ]
  },
  {
   "cell_type": "code",
   "execution_count": null,
   "metadata": {},
   "outputs": [],
   "source": []
  },
  {
   "cell_type": "markdown",
   "metadata": {
    "collapsed": false,
    "pycharm": {
     "name": "#%% md\n"
    }
   },
   "source": [
    "## Saving model"
   ]
  },
  {
   "cell_type": "code",
   "execution_count": null,
   "metadata": {
    "collapsed": false,
    "pycharm": {
     "name": "#%%\n"
    }
   },
   "outputs": [],
   "source": [
    "import os\n",
    "checkpoint_path = \"models/own/saved_model/my_model.h5\"\n",
    "model.save(checkpoint_path)"
   ]
  },
  {
   "cell_type": "markdown",
   "metadata": {
    "collapsed": false,
    "pycharm": {
     "name": "#%% md\n"
    }
   },
   "source": [
    "# Multi input model (lbp images, lbp histograms)"
   ]
  },
  {
   "cell_type": "code",
   "execution_count": null,
   "metadata": {
    "collapsed": false,
    "pycharm": {
     "name": "#%%\n"
    }
   },
   "outputs": [],
   "source": [
    "import tensorflow as tf\n",
    "from tensorflow import keras\n",
    "import keras_tuner as kt\n",
    "from tensorflow.keras.callbacks import ReduceLROnPlateau\n",
    "from processing import load_csv_data, slice_labels"
   ]
  },
  {
   "cell_type": "code",
   "execution_count": null,
   "metadata": {
    "collapsed": false,
    "pycharm": {
     "name": "#%%\n"
    }
   },
   "outputs": [],
   "source": [
    "from processing import load_image_dataset\n",
    "\n",
    "x_rgb_train, y_rgb_train = load_image_dataset('Datasets/espe/lbp_histograms - copia/train', (40, 40), True)\n",
    "x_rgb_test, y_rgb_test = load_image_dataset('Datasets/espe/lbp_histograms - copia/test', (40, 40), True)\n",
    "x_rgb_validation, y_rgb_validation = load_image_dataset('Datasets/espe/lbp_histograms - copia/validation', (40, 40), True)"
   ]
  },
  {
   "cell_type": "code",
   "execution_count": null,
   "metadata": {
    "collapsed": false,
    "pycharm": {
     "name": "#%%\n"
    }
   },
   "outputs": [],
   "source": [
    "import pandas as pd\n",
    "test_silhouette_dataset = pd.read_csv('Datasets/espe/lbp_histograms - copia/test/test.csv', header=None)[1:]\n",
    "train_silhouette_dataset = pd.read_csv('Datasets/espe/lbp_histograms - copia/train/train.csv', header=None)[1:]\n",
    "val_silhouette_dataset = pd.read_csv('Datasets/espe/lbp_histograms - copia/validation/validation.csv', header=None)[1:]\n",
    "\n",
    "x_slhtt_test, y_slhtt_test = slice_labels(test_silhouette_dataset)\n",
    "x_slhtt_train, y_slhtt_train = slice_labels(train_silhouette_dataset)\n",
    "x_slhtt_val, y_slhtt_val = slice_labels(val_silhouette_dataset)"
   ]
  },
  {
   "cell_type": "code",
   "execution_count": null,
   "metadata": {
    "collapsed": false,
    "pycharm": {
     "name": "#%%\n"
    }
   },
   "outputs": [],
   "source": [
    "stop_early = tf.keras.callbacks.EarlyStopping(monitor='val_acc', patience=8)\n",
    "reduce_lr = ReduceLROnPlateau(monitor='val_acc', factor=0.1, patience=4, verbose=1, min_delta=1e-2)\n",
    "callbacks_list = [stop_early, reduce_lr]"
   ]
  },
  {
   "cell_type": "code",
   "execution_count": null,
   "metadata": {
    "collapsed": false,
    "pycharm": {
     "name": "#%%\n"
    }
   },
   "outputs": [],
   "source": [
    "from utils.Models import multi_input_model\n",
    "mi_model = multi_input_model()\n",
    "mi_history = mi_model.fit(x=[x_slhtt_train, x_rgb_train], y=y_rgb_train, validation_data=[[x_slhtt_val, x_rgb_validation], y_rgb_validation], batch_size=100, epochs=60, callbacks=callbacks_list)"
   ]
  },
  {
   "cell_type": "code",
   "execution_count": null,
   "metadata": {
    "collapsed": false,
    "pycharm": {
     "name": "#%%\n"
    }
   },
   "outputs": [],
   "source": [
    "import matplotlib.pyplot as plt\n",
    "plt.plot(mi_history.history['acc'])\n",
    "plt.plot(mi_history.history['val_acc'])\n",
    "plt.title('Model accuracy')\n",
    "plt.xlabel('epochs')\n",
    "plt.ylabel('accuracy')\n",
    "plt.show()"
   ]
  },
  {
   "cell_type": "markdown",
   "metadata": {
    "collapsed": false,
    "pycharm": {
     "name": "#%% md\n"
    }
   },
   "source": [
    "### Silhouette identification"
   ]
  },
  {
   "cell_type": "code",
   "execution_count": null,
   "metadata": {
    "collapsed": false,
    "pycharm": {
     "name": "#%%\n"
    }
   },
   "outputs": [],
   "source": [
    "import tensorflow as tf\n",
    "from tensorflow import keras\n",
    "import keras_tuner as kt\n",
    "from tensorflow.keras.callbacks import ReduceLROnPlateau\n",
    "from processing import load_csv_data, slice_labels"
   ]
  },
  {
   "cell_type": "code",
   "execution_count": null,
   "metadata": {
    "collapsed": false,
    "pycharm": {
     "name": "#%%\n"
    }
   },
   "outputs": [],
   "source": [
    "import pandas as pd\n",
    "from processing import slice_labels\n",
    "test_silhouette_dataset = pd.read_csv('Datasets/espe/lbp_histograms - copia/test/test.csv', header=None)[1:]\n",
    "train_silhouette_dataset = pd.read_csv('Datasets/espe/lbp_histograms - copia/train/train.csv', header=None)[1:]\n",
    "val_silhouette_dataset = pd.read_csv('Datasets/espe/lbp_histograms - copia/validation/validation.csv', header=None)[1:]\n",
    "\n",
    "x_slhtt_test, y_slhtt_test = slice_labels(test_silhouette_dataset)\n",
    "x_slhtt_train, y_slhtt_train = slice_labels(train_silhouette_dataset)\n",
    "x_slhtt_val, y_slhtt_val = slice_labels(val_silhouette_dataset)"
   ]
  },
  {
   "cell_type": "code",
   "execution_count": null,
   "metadata": {
    "collapsed": false,
    "pycharm": {
     "name": "#%%\n"
    }
   },
   "outputs": [],
   "source": [
    "from utils.Models import silhouette_classifier_model\n",
    "stop_early = tf.keras.callbacks.EarlyStopping(monitor='val_acc', patience=8)\n",
    "reduce_lr = ReduceLROnPlateau(monitor='val_acc', factor=0.1, patience=4, verbose=1, min_delta=1e-2)\n",
    "callbacks_list = [stop_early, reduce_lr]\n",
    "model = silhouette_classifier_model()\n",
    "history = model.fit(x=[x_slhtt_train], y=y_slhtt_train, validation_data=[[x_slhtt_val], y_slhtt_val], batch_size=200, epochs=70, callbacks=callbacks_list)"
   ]
  },
  {
   "cell_type": "code",
   "execution_count": null,
   "metadata": {
    "collapsed": false,
    "pycharm": {
     "name": "#%%\n"
    }
   },
   "outputs": [],
   "source": [
    "import matplotlib.pyplot as plt\n",
    "plt.plot(history.history['acc'])\n",
    "plt.plot(history.history['val_acc'])\n",
    "plt.title('Model accuracy')\n",
    "plt.xlabel('epochs')\n",
    "plt.ylabel('accuracy')\n",
    "plt.show()"
   ]
  },
  {
   "cell_type": "code",
   "execution_count": null,
   "metadata": {
    "collapsed": false,
    "pycharm": {
     "name": "#%%\n"
    }
   },
   "outputs": [],
   "source": [
    "model.evaluate(x=x_slhtt_test, y=y_slhtt_test, verbose=1)"
   ]
  },
  {
   "cell_type": "code",
   "execution_count": null,
   "metadata": {
    "collapsed": false,
    "pycharm": {
     "name": "#%%\n"
    }
   },
   "outputs": [],
   "source": [
    "val = x_slhtt_test.iloc[1200:1202]\n",
    "val"
   ]
  },
  {
   "cell_type": "code",
   "execution_count": null,
   "metadata": {
    "collapsed": false,
    "pycharm": {
     "name": "#%%\n"
    }
   },
   "outputs": [],
   "source": [
    "y_slhtt_test[1200:1202]"
   ]
  },
  {
   "cell_type": "code",
   "execution_count": null,
   "metadata": {
    "collapsed": false,
    "pycharm": {
     "name": "#%%\n"
    }
   },
   "outputs": [],
   "source": [
    "import tensorflow as tf\n",
    "from utils.IdentificationModel import IDPath\n",
    "\n",
    "model = tf.keras.models.load_model('models/own/saved_model/my_model.h5')\n",
    "image = x_rgb_test[0].reshape(1, 40, 40, 1)\n",
    "# prediction = model.predict(x=image)\n",
    "model = IDPath()\n",
    "model.identify(image)"
   ]
  },
  {
   "cell_type": "code",
   "execution_count": null,
   "metadata": {
    "collapsed": false,
    "pycharm": {
     "name": "#%%\n"
    }
   },
   "outputs": [],
   "source": []
  }
 ],
 "metadata": {
  "kernelspec": {
   "display_name": "Python 3.7.13 ('base')",
   "language": "python",
   "name": "python3"
  },
  "language_info": {
   "codemirror_mode": {
    "name": "ipython",
    "version": 3
   },
   "file_extension": ".py",
   "mimetype": "text/x-python",
   "name": "python",
   "nbconvert_exporter": "python",
   "pygments_lexer": "ipython3",
   "version": "3.7.13"
  },
  "vscode": {
   "interpreter": {
    "hash": "9429e3d8733c1ac76f5c3b0c6cdd2706acd1fd7b4f8c91f27a242412c8600fc4"
   }
  }
 },
 "nbformat": 4,
 "nbformat_minor": 0
}
