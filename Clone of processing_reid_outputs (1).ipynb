{
 "cells": [
  {
   "cell_type": "code",
   "execution_count": 1,
   "metadata": {
    "datalore": {
     "hide_input_from_viewers": false,
     "hide_output_from_viewers": false,
     "type": "CODE"
    }
   },
   "outputs": [],
   "source": [
    "import os\n",
    "import pandas as pd\n",
    "import numpy as np\n",
    "\n",
    "\n",
    "def measure_parameters(path=\"results/run/combined/cam1_detections.csv\", class_name=\"Luis\"):\n",
    "    print(f\"[INFO] Reading: {path} with class name: {class_name}\")\n",
    "    data = pd.read_csv(path)\n",
    "\n",
    "    id_accuracy = meassuring_id_precision(data[\"class\"].to_numpy(), class_name)  # identification accuracy\n",
    "    detections_measures = data[\"detection time\"].to_numpy()\n",
    "    identification_measures = data[\"identification time\"].to_numpy()\n",
    "    processing_measures = data[\"processing time\"].to_numpy()\n",
    "    pre_processing_measures = data[\"pre-processing time\"].to_numpy()\n",
    "\n",
    "    detection_average = np.average(detections_measures)\n",
    "    identification_average = np.average(identification_measures)\n",
    "    processing_average = np.average(processing_measures)\n",
    "    pre_processing_average = np.average(pre_processing_measures)\n",
    "\n",
    "    return {\n",
    "        'accuracy' : id_accuracy,\n",
    "        'detection time' : detection_average,\n",
    "        'identification time' : identification_average,\n",
    "        'processing time' : processing_average,\n",
    "        'pre-processing time' : pre_processing_average\n",
    "    }\n",
    "\n",
    "\n",
    "def meassuring_id_precision(predictions_array, expected_detecion_name):\n",
    "    counter = 0 \n",
    "    for name in predictions_array:\n",
    "        counter += 1 if expected_detecion_name in name else 0\n",
    "    return (counter / predictions_array.shape[0]) * 100\n",
    "\n",
    "\n",
    "def averaging_cameras_measures(path_1, path_2):\n",
    "    measure_cam_1 = measure_parameters(path_1)\n",
    "    measure_cam_2 = measure_parameters(path_2)\n",
    "    return {\n",
    "        'accuracy' : np.average([measure_cam_1['accuracy'], measure_cam_2['accuracy']]),\n",
    "        'detection time' : np.average([measure_cam_1['detection time'], measure_cam_2['detection time']]),\n",
    "        'identification time' : np.average([measure_cam_1['identification time'], measure_cam_2['identification time']]),\n",
    "        'processing time' : np.average([measure_cam_1['processing time'], measure_cam_2['processing time']]),\n",
    "        'pre-processing time' : np.average([measure_cam_1['pre-processing time'], measure_cam_2['pre-processing time']])\n",
    "    }"
   ]
  },
  {
   "attachments": {},
   "cell_type": "markdown",
   "metadata": {
    "datalore": {
     "hide_input_from_viewers": false,
     "hide_output_from_viewers": false,
     "type": "MD"
    }
   },
   "source": [
    "### System execution measures - multi-input model re-id"
   ]
  },
  {
   "cell_type": "code",
   "execution_count": 11,
   "metadata": {
    "datalore": {
     "hide_input_from_viewers": false,
     "hide_output_from_viewers": false,
     "type": "CODE"
    }
   },
   "outputs": [
    {
     "name": "stdout",
     "output_type": "stream",
     "text": [
      "[INFO] Reading: results/multi-input/cam1_detections.csv with class name: Luis\n",
      "[INFO] Reading: results/multi-input/cam2_detections.csv with class name: Luis\n"
     ]
    },
    {
     "data": {
      "text/plain": [
       "{'accuracy': 53.154639835939506,\n",
       " 'detection time': 13.754816554735964,\n",
       " 'identification time': 0.0217227870337482,\n",
       " 'processing time': 13.787426921446427,\n",
       " 'pre-processing time': 0.004353549407199242}"
      ]
     },
     "execution_count": 11,
     "metadata": {},
     "output_type": "execute_result"
    }
   ],
   "source": [
    "averaging_cameras_measures('results/multi-input/cam1_detections.csv', 'results/multi-input/cam2_detections.csv')"
   ]
  },
  {
   "attachments": {},
   "cell_type": "markdown",
   "metadata": {
    "datalore": {
     "hide_input_from_viewers": false,
     "hide_output_from_viewers": false,
     "type": "MD"
    }
   },
   "source": [
    "### System execution measures - RGB model re-id"
   ]
  },
  {
   "cell_type": "code",
   "execution_count": 9,
   "metadata": {
    "datalore": {
     "hide_input_from_viewers": false,
     "hide_output_from_viewers": false,
     "type": "CODE"
    }
   },
   "outputs": [
    {
     "name": "stdout",
     "output_type": "stream",
     "text": [
      "[INFO] Reading: results/run/color/cam1_detections.csv with class name: Luis\n",
      "[INFO] Reading: results/run/color/cam2_detections.csv with class name: Luis\n"
     ]
    },
    {
     "data": {
      "text/plain": [
       "{'accuracy': 54.42514739810305,\n",
       " 'detection time': 2.11776747360292,\n",
       " 'identification time': 0.009583481745068331,\n",
       " 'processing time': 2.130530261838309,\n",
       " 'pre-processing time': 0.0017210718661861938}"
      ]
     },
     "execution_count": 9,
     "metadata": {},
     "output_type": "execute_result"
    }
   ],
   "source": [
    "averaging_cameras_measures('results/run/color/cam1_detections.csv', 'results/run/color/cam2_detections.csv')"
   ]
  },
  {
   "attachments": {},
   "cell_type": "markdown",
   "metadata": {
    "datalore": {
     "hide_input_from_viewers": false,
     "hide_output_from_viewers": false,
     "type": "MD"
    }
   },
   "source": [
    "### System execution measures - silhouette model re-id"
   ]
  },
  {
   "cell_type": "code",
   "execution_count": 4,
   "metadata": {
    "datalore": {
     "hide_input_from_viewers": false,
     "hide_output_from_viewers": false,
     "type": "CODE"
    }
   },
   "outputs": [
    {
     "name": "stdout",
     "output_type": "stream",
     "text": [
      "[INFO] Reading: results/run/silhouette/cam1_detections.csv with class name: Luis\n",
      "[INFO] Reading: results/run/silhouette/cam2_detections.csv with class name: Luis\n"
     ]
    },
    {
     "data": {
      "text/plain": [
       "{'accuracy': 26.57011022814663,\n",
       " 'detection time': 2.115031515797232,\n",
       " 'identification time': 0.009982835838565116,\n",
       " 'processing time': 2.1282140390749156,\n",
       " 'pre-processing time': 0.0017417186042016045}"
      ]
     },
     "execution_count": 4,
     "metadata": {},
     "output_type": "execute_result"
    }
   ],
   "source": [
    "averaging_cameras_measures('results/run/silhouette/cam1_detections.csv', 'results/run/silhouette/cam2_detections.csv')"
   ]
  },
  {
   "attachments": {},
   "cell_type": "markdown",
   "metadata": {
    "datalore": {
     "hide_input_from_viewers": false,
     "hide_output_from_viewers": false,
     "type": "MD"
    }
   },
   "source": [
    "# Measuring confusion matrix"
   ]
  },
  {
   "cell_type": "code",
   "execution_count": null,
   "metadata": {
    "datalore": {
     "hide_input_from_viewers": false,
     "hide_output_from_viewers": false,
     "type": "CODE"
    }
   },
   "outputs": [],
   "source": [
    "import pandas as pd\n",
    "def convert_expected_predictions(expected_predictions_path, class_names_path):\n",
    "    exp_predictions = pd.read_csv(expected_predictions_path)['class']\n",
    "    class_names = pd.read_csv(class_names_path, header=None)\n",
    "    result = []\n",
    "    for exp in exp_predictions:\n",
    "        result.append(class_names[exp][0])\n",
    "    return result"
   ]
  },
  {
   "cell_type": "code",
   "execution_count": null,
   "metadata": {
    "datalore": {
     "hide_input_from_viewers": false,
     "hide_output_from_viewers": false,
     "type": "CODE"
    }
   },
   "outputs": [],
   "source": [
    "expected_classes = convert_expected_predictions('sequence_results/expected_detections.csv', 'classes_names.csv')"
   ]
  },
  {
   "attachments": {},
   "cell_type": "markdown",
   "metadata": {
    "datalore": {
     "hide_input_from_viewers": false,
     "hide_output_from_viewers": false,
     "type": "MD"
    }
   },
   "source": [
    "## Predictions with LBP re-id model"
   ]
  },
  {
   "cell_type": "code",
   "execution_count": null,
   "metadata": {
    "datalore": {
     "hide_input_from_viewers": false,
     "hide_output_from_viewers": false,
     "type": "CODE"
    }
   },
   "outputs": [],
   "source": [
    "predicted_classes_lbp = pd.read_csv('sequence_results/lbp/logs.csv')['class'].tolist()"
   ]
  },
  {
   "cell_type": "code",
   "execution_count": null,
   "metadata": {
    "datalore": {
     "hide_input_from_viewers": false,
     "hide_output_from_viewers": false,
     "type": "CODE"
    }
   },
   "outputs": [],
   "source": [
    "from sklearn.metrics import confusion_matrix\n",
    "\n",
    "confusion_matrix(predicted_classes_lbp, expected_classes, labels=['Luis', 'Juan', 'Julio', 'David', 'Mario', 'Roberto', 'Patricio'])"
   ]
  },
  {
   "attachments": {},
   "cell_type": "markdown",
   "metadata": {
    "datalore": {
     "hide_input_from_viewers": false,
     "hide_output_from_viewers": false,
     "type": "MD"
    }
   },
   "source": [
    "## Predictions with masks re-id model"
   ]
  },
  {
   "cell_type": "code",
   "execution_count": null,
   "metadata": {
    "datalore": {
     "hide_input_from_viewers": false,
     "hide_output_from_viewers": false,
     "type": "CODE"
    }
   },
   "outputs": [],
   "source": [
    "predicted_classes_silhouette = pd.read_csv('sequence_results/masked/logs.csv')['class'].tolist()"
   ]
  },
  {
   "cell_type": "code",
   "execution_count": null,
   "metadata": {
    "datalore": {
     "hide_input_from_viewers": false,
     "hide_output_from_viewers": false,
     "type": "CODE"
    }
   },
   "outputs": [],
   "source": [
    "confusion_matrix(predicted_classes_silhouette, expected_classes, labels=['Luis', 'Juan', 'Julio', 'David', 'Mario', 'Roberto', 'Patricio'])"
   ]
  },
  {
   "attachments": {},
   "cell_type": "markdown",
   "metadata": {
    "datalore": {
     "hide_input_from_viewers": false,
     "hide_output_from_viewers": false,
     "type": "MD"
    }
   },
   "source": [
    "## Predictions with multi-input re-id model"
   ]
  },
  {
   "cell_type": "code",
   "execution_count": null,
   "metadata": {
    "datalore": {
     "hide_input_from_viewers": false,
     "hide_output_from_viewers": false,
     "type": "CODE"
    }
   },
   "outputs": [],
   "source": [
    "predicted_classes_multi_input = pd.read_csv('sequence_results/multi-input/logs.csv')['class'].tolist()"
   ]
  },
  {
   "cell_type": "code",
   "execution_count": null,
   "metadata": {
    "datalore": {
     "hide_input_from_viewers": false,
     "hide_output_from_viewers": false,
     "type": "CODE"
    }
   },
   "outputs": [],
   "source": [
    "confusion_matrix(predicted_classes_multi_input, expected_classes, labels=['Luis', 'Juan', 'Julio', 'David', 'Mario', 'Roberto', 'Patricio'])"
   ]
  },
  {
   "cell_type": "code",
   "execution_count": null,
   "metadata": {
    "datalore": {
     "hide_input_from_viewers": false,
     "hide_output_from_viewers": false,
     "type": "CODE"
    }
   },
   "outputs": [],
   "source": []
  }
 ],
 "metadata": {
  "datalore": {
   "computation_mode": "JUPYTER",
   "packages": [],
   "version": 1
  },
  "kernelspec": {
   "display_name": "Python 3.7.13 ('base')",
   "language": "python",
   "name": "python3"
  },
  "language_info": {
   "codemirror_mode": {
    "name": "ipython",
    "version": 3
   },
   "file_extension": ".py",
   "mimetype": "text/x-python",
   "name": "python",
   "nbconvert_exporter": "python",
   "pygments_lexer": "ipython3",
   "version": "3.7.13"
  },
  "vscode": {
   "interpreter": {
    "hash": "9429e3d8733c1ac76f5c3b0c6cdd2706acd1fd7b4f8c91f27a242412c8600fc4"
   }
  }
 },
 "nbformat": 4,
 "nbformat_minor": 4
}
