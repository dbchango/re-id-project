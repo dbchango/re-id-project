{
 "cells": [
  {
   "cell_type": "markdown",
   "source": [
    "## TF tunner samples"
   ],
   "metadata": {
    "collapsed": false,
    "pycharm": {
     "name": "#%% md\n"
    }
   }
  },
  {
   "cell_type": "code",
   "execution_count": 4,
   "metadata": {
    "collapsed": true,
    "pycharm": {
     "name": "#%%\n"
    }
   },
   "outputs": [],
   "source": [
    "import numpy as np\n",
    "import tensorflow as tf\n",
    "from tensorflow import keras\n",
    "import keras_tuner as kt\n",
    "from tensorflow.keras.callbacks import ReduceLROnPlateau\n",
    "from processing import load_csv_data, slice_labels"
   ]
  },
  {
   "cell_type": "code",
   "execution_count": 2,
   "outputs": [
    {
     "name": "stderr",
     "output_type": "stream",
     "text": [
      "Using TensorFlow backend.\n"
     ]
    }
   ],
   "source": [
    "from processing import load_image_dataset\n",
    "\n",
    "x_rgb_train, y_rgb_train = load_image_dataset('Datasets/espe/lbp_histograms - copia/train', (40, 40), True)\n",
    "x_rgb_test, y_rgb_test = load_image_dataset('Datasets/espe/lbp_histograms - copia/test', (40, 40), True)\n",
    "x_rgb_validation, y_rgb_validation = load_image_dataset('Datasets/espe/lbp_histograms - copia/validation', (40, 40), True)"
   ],
   "metadata": {
    "collapsed": false,
    "pycharm": {
     "name": "#%%\n"
    }
   }
  },
  {
   "cell_type": "code",
   "execution_count": 3,
   "outputs": [],
   "source": [
    "from processing import load_csv_data, slice_labels\n",
    "\n",
    "train_path = 'Datasets/espe/lbp_histograms - copia/train'\n",
    "train_data = load_csv_data(train_path)\n",
    "\n",
    "test_path = 'Datasets/espe/lbp_histograms - copia/test'\n",
    "test_data = load_csv_data(test_path)\n",
    "\n",
    "validation_path = 'Datasets/espe/lbp_histograms - copia/validation'\n",
    "validation_data = load_csv_data(validation_path)\n",
    "\n",
    "# train_data.shape, test_data.shape, validation_data.shape\n",
    "x_train, y_train = slice_labels(train_data)\n",
    "x_test, y_test = slice_labels(test_data)\n",
    "x_val, y_val = slice_labels(validation_data)"
   ],
   "metadata": {
    "collapsed": false,
    "pycharm": {
     "name": "#%%\n"
    }
   }
  },
  {
   "cell_type": "code",
   "execution_count": 6,
   "outputs": [],
   "source": [
    "import pandas as pd\n",
    "test_silhouette_dataset = pd.read_csv('Datasets/espe/lbp_histograms - copia/test/test.csv', header=None)[1:]\n",
    "train_silhouette_dataset = pd.read_csv('Datasets/espe/lbp_histograms - copia/train/train.csv', header=None)[1:]\n",
    "val_silhouette_dataset = pd.read_csv('Datasets/espe/lbp_histograms - copia/validation/validation.csv', header=None)[1:]\n",
    "\n",
    "x_slhtt_test, y_slhtt_test = slice_labels(test_silhouette_dataset)\n",
    "x_slhtt_train, y_slhtt_train = slice_labels(train_silhouette_dataset)\n",
    "x_slhtt_val, y_slhtt_val = slice_labels(val_silhouette_dataset)"
   ],
   "metadata": {
    "collapsed": false,
    "pycharm": {
     "name": "#%%\n"
    }
   }
  },
  {
   "cell_type": "code",
   "execution_count": 46,
   "outputs": [
    {
     "data": {
      "text/plain": "((9247, 40, 40, 1), (9247, 26))"
     },
     "execution_count": 46,
     "metadata": {},
     "output_type": "execute_result"
    }
   ],
   "source": [
    "x_rgb_train.shape, x_train.shape"
   ],
   "metadata": {
    "collapsed": false,
    "pycharm": {
     "name": "#%%\n"
    }
   }
  },
  {
   "cell_type": "code",
   "execution_count": 47,
   "outputs": [
    {
     "data": {
      "text/plain": "((2067, 40, 40, 1), (2067, 26))"
     },
     "execution_count": 47,
     "metadata": {},
     "output_type": "execute_result"
    }
   ],
   "source": [
    "x_rgb_validation.shape, x_val.shape"
   ],
   "metadata": {
    "collapsed": false,
    "pycharm": {
     "name": "#%%\n"
    }
   }
  },
  {
   "cell_type": "code",
   "execution_count": 48,
   "outputs": [],
   "source": [
    "from utils.Models import multi_input_model, lbp_histogram, lbp_image_classification\n",
    "import datetime\n",
    "loss_function = tf.keras.losses.CategoricalCrossentropy()\n",
    "\n",
    "optimization_function = tf.keras.optimizers.RMSprop(lr=1e-3)\n",
    "model = lbp_image_classification((40, 40, 1))\n",
    "\n",
    "model.compile(loss='categorical_crossentropy', optimizer=optimization_function, metrics=['acc'])"
   ],
   "metadata": {
    "collapsed": false,
    "pycharm": {
     "name": "#%%\n"
    }
   }
  },
  {
   "cell_type": "code",
   "execution_count": 49,
   "outputs": [],
   "source": [
    "stop_early = tf.keras.callbacks.EarlyStopping(monitor='val_acc', patience=8)\n",
    "reduce_lr = ReduceLROnPlateau(monitor='val_acc', factor=0.1, patience=4, verbose=1, min_delta=1e-2)\n",
    "callbacks_list = [stop_early, reduce_lr]"
   ],
   "metadata": {
    "collapsed": false,
    "pycharm": {
     "name": "#%%\n"
    }
   }
  },
  {
   "cell_type": "code",
   "execution_count": 50,
   "outputs": [
    {
     "name": "stdout",
     "output_type": "stream",
     "text": [
      "Train on 9247 samples, validate on 2067 samples\n",
      "Epoch 1/30\n",
      "9247/9247 [==============================] - 21s 2ms/sample - loss: 14.2525 - acc: 0.1570 - val_loss: 2.0387 - val_acc: 0.1771\n",
      "Epoch 2/30\n",
      "9247/9247 [==============================] - 2s 264us/sample - loss: 2.0187 - acc: 0.2495 - val_loss: 2.3863 - val_acc: 0.1727\n",
      "Epoch 3/30\n",
      "9247/9247 [==============================] - 2s 252us/sample - loss: 1.6564 - acc: 0.3785 - val_loss: 1.7681 - val_acc: 0.3116\n",
      "Epoch 4/30\n",
      "9247/9247 [==============================] - 2s 257us/sample - loss: 1.2828 - acc: 0.5295 - val_loss: 2.6230 - val_acc: 0.2429\n",
      "Epoch 5/30\n",
      "9247/9247 [==============================] - 2s 250us/sample - loss: 1.1643 - acc: 0.6091 - val_loss: 3.1440 - val_acc: 0.2516\n",
      "Epoch 6/30\n",
      "9247/9247 [==============================] - 2s 220us/sample - loss: 0.8728 - acc: 0.6946 - val_loss: 2.1018 - val_acc: 0.3570\n",
      "Epoch 7/30\n",
      "9247/9247 [==============================] - 2s 257us/sample - loss: 0.6434 - acc: 0.7763 - val_loss: 1.6199 - val_acc: 0.5172\n",
      "Epoch 8/30\n",
      "9247/9247 [==============================] - 2s 225us/sample - loss: 0.5818 - acc: 0.8069 - val_loss: 1.6477 - val_acc: 0.5235\n",
      "Epoch 9/30\n",
      "9247/9247 [==============================] - 2s 222us/sample - loss: 0.5106 - acc: 0.8433 - val_loss: 1.6224 - val_acc: 0.5307\n",
      "Epoch 10/30\n",
      "9247/9247 [==============================] - 2s 222us/sample - loss: 0.3578 - acc: 0.8777 - val_loss: 2.1035 - val_acc: 0.4848\n",
      "Epoch 11/30\n",
      "9247/9247 [==============================] - 2s 224us/sample - loss: 0.3312 - acc: 0.8994 - val_loss: 1.5771 - val_acc: 0.5801\n",
      "Epoch 12/30\n",
      "9247/9247 [==============================] - 2s 232us/sample - loss: 0.2442 - acc: 0.9158 - val_loss: 1.8764 - val_acc: 0.5443\n",
      "Epoch 13/30\n",
      "9247/9247 [==============================] - 2s 232us/sample - loss: 0.1695 - acc: 0.9468 - val_loss: 2.4233 - val_acc: 0.5215\n",
      "Epoch 14/30\n",
      "9247/9247 [==============================] - 2s 224us/sample - loss: 0.2987 - acc: 0.9211 - val_loss: 2.6403 - val_acc: 0.4969\n",
      "Epoch 15/30\n",
      "9247/9247 [==============================] - 2s 224us/sample - loss: 0.1503 - acc: 0.9646 - val_loss: 1.7581 - val_acc: 0.6038\n",
      "Epoch 16/30\n",
      "9247/9247 [==============================] - 2s 225us/sample - loss: 0.2385 - acc: 0.9490 - val_loss: 1.9314 - val_acc: 0.5810\n",
      "Epoch 17/30\n",
      "9247/9247 [==============================] - 2s 225us/sample - loss: 0.1165 - acc: 0.9782 - val_loss: 1.8440 - val_acc: 0.6168\n",
      "Epoch 18/30\n",
      "9247/9247 [==============================] - 2s 222us/sample - loss: 0.1416 - acc: 0.9695 - val_loss: 2.0572 - val_acc: 0.6047\n",
      "Epoch 19/30\n",
      "9247/9247 [==============================] - 2s 219us/sample - loss: 0.2238 - acc: 0.9508 - val_loss: 1.9605 - val_acc: 0.6130\n",
      "Epoch 20/30\n",
      "9247/9247 [==============================] - 2s 231us/sample - loss: 0.0844 - acc: 0.9825 - val_loss: 2.0622 - val_acc: 0.6067\n",
      "Epoch 21/30\n",
      "9000/9247 [============================>.] - ETA: 0s - loss: 0.1138 - acc: 0.9772\n",
      "Epoch 00021: ReduceLROnPlateau reducing learning rate to 0.00010000000474974513.\n",
      "9247/9247 [==============================] - 3s 308us/sample - loss: 0.1110 - acc: 0.9777 - val_loss: 2.0880 - val_acc: 0.6134\n",
      "Epoch 22/30\n",
      "9247/9247 [==============================] - 2s 227us/sample - loss: 0.0036 - acc: 0.9998 - val_loss: 2.1087 - val_acc: 0.6101\n",
      "Epoch 23/30\n",
      "9247/9247 [==============================] - 2s 230us/sample - loss: 0.0016 - acc: 1.0000 - val_loss: 2.4070 - val_acc: 0.6067\n",
      "Epoch 24/30\n",
      "9247/9247 [==============================] - 2s 221us/sample - loss: 7.9759e-04 - acc: 1.0000 - val_loss: 2.4800 - val_acc: 0.6168\n",
      "Epoch 25/30\n",
      "9000/9247 [============================>.] - ETA: 0s - loss: 3.2946e-04 - acc: 1.0000\n",
      "Epoch 00025: ReduceLROnPlateau reducing learning rate to 1.0000000474974514e-05.\n",
      "9247/9247 [==============================] - 2s 222us/sample - loss: 3.2603e-04 - acc: 1.0000 - val_loss: 2.5626 - val_acc: 0.6159\n"
     ]
    }
   ],
   "source": [
    "history = model.fit(x=[x_rgb_train], y=y_train, batch_size=200, epochs=30, validation_data=[[x_rgb_validation], y_val], callbacks=callbacks_list)"
   ],
   "metadata": {
    "collapsed": false,
    "pycharm": {
     "name": "#%%\n"
    }
   }
  },
  {
   "cell_type": "code",
   "execution_count": 51,
   "outputs": [],
   "source": [
    "import matplotlib.pyplot as plt"
   ],
   "metadata": {
    "collapsed": false,
    "pycharm": {
     "name": "#%%\n"
    }
   }
  },
  {
   "cell_type": "code",
   "execution_count": 52,
   "outputs": [
    {
     "name": "stdout",
     "output_type": "stream",
     "text": [
      "dict_keys(['loss', 'acc', 'val_loss', 'val_acc', 'lr'])\n"
     ]
    }
   ],
   "source": [
    "print(history.history.keys())"
   ],
   "metadata": {
    "collapsed": false,
    "pycharm": {
     "name": "#%%\n"
    }
   }
  },
  {
   "cell_type": "code",
   "execution_count": 53,
   "outputs": [
    {
     "data": {
      "text/plain": "<Figure size 432x288 with 1 Axes>",
      "image/png": "[encoded data removed]"
     },
     "metadata": {
      "needs_background": "light"
     },
     "output_type": "display_data"
    }
   ],
   "source": [
    "import matplotlib.pyplot as plt\n",
    "plt.plot(history.history['acc'])\n",
    "plt.plot(history.history['val_acc'])\n",
    "plt.title('Model accuracy')\n",
    "plt.xlabel('epochs')\n",
    "plt.ylabel('accuracy')\n",
    "plt.savefig('acc_1.png')"
   ],
   "metadata": {
    "collapsed": false,
    "pycharm": {
     "name": "#%%\n"
    }
   }
  },
  {
   "cell_type": "markdown",
   "source": [
    "## Testing inference"
   ],
   "metadata": {
    "collapsed": false,
    "pycharm": {
     "name": "#%% md\n"
    }
   }
  },
  {
   "cell_type": "code",
   "execution_count": 54,
   "outputs": [
    {
     "name": "stdout",
     "output_type": "stream",
     "text": [
      "1967/1967 [==============================] - 0s 214us/sample - loss: 2.6367 - acc: 0.6151\n"
     ]
    },
    {
     "data": {
      "text/plain": "[2.636732850808993, 0.61515]"
     },
     "execution_count": 54,
     "metadata": {},
     "output_type": "execute_result"
    }
   ],
   "source": [
    "model.evaluate(x=x_rgb_test, y=y_rgb_test, verbose=1)"
   ],
   "metadata": {
    "collapsed": false,
    "pycharm": {
     "name": "#%%\n"
    }
   }
  },
  {
   "cell_type": "markdown",
   "source": [
    "## Saving model"
   ],
   "metadata": {
    "collapsed": false,
    "pycharm": {
     "name": "#%% md\n"
    }
   }
  },
  {
   "cell_type": "code",
   "execution_count": 41,
   "outputs": [],
   "source": [
    "import os\n",
    "checkpoint_path = \"models/own/saved_model/my_model.h5\"\n",
    "model.save(checkpoint_path)"
   ],
   "metadata": {
    "collapsed": false,
    "pycharm": {
     "name": "#%%\n"
    }
   }
  },
  {
   "cell_type": "markdown",
   "source": [
    "# Multi input model (lbp images, lbp histograms)"
   ],
   "metadata": {
    "collapsed": false,
    "pycharm": {
     "name": "#%% md\n"
    }
   }
  },
  {
   "cell_type": "code",
   "execution_count": 1,
   "outputs": [
    {
     "name": "stderr",
     "output_type": "stream",
     "text": [
      "Using TensorFlow backend.\n"
     ]
    }
   ],
   "source": [
    "import tensorflow as tf\n",
    "from tensorflow import keras\n",
    "import keras_tuner as kt\n",
    "from tensorflow.keras.callbacks import ReduceLROnPlateau\n",
    "from processing import load_csv_data, slice_labels"
   ],
   "metadata": {
    "collapsed": false,
    "pycharm": {
     "name": "#%%\n"
    }
   }
  },
  {
   "cell_type": "code",
   "execution_count": 2,
   "outputs": [],
   "source": [
    "from processing import load_image_dataset\n",
    "\n",
    "x_rgb_train, y_rgb_train = load_image_dataset('Datasets/espe/lbp_histograms - copia/train', (40, 40), True)\n",
    "x_rgb_test, y_rgb_test = load_image_dataset('Datasets/espe/lbp_histograms - copia/test', (40, 40), True)\n",
    "x_rgb_validation, y_rgb_validation = load_image_dataset('Datasets/espe/lbp_histograms - copia/validation', (40, 40), True)"
   ],
   "metadata": {
    "collapsed": false,
    "pycharm": {
     "name": "#%%\n"
    }
   }
  },
  {
   "cell_type": "code",
   "execution_count": 3,
   "outputs": [],
   "source": [
    "import pandas as pd\n",
    "test_silhouette_dataset = pd.read_csv('Datasets/espe/lbp_histograms - copia/test/test.csv', header=None)[1:]\n",
    "train_silhouette_dataset = pd.read_csv('Datasets/espe/lbp_histograms - copia/train/train.csv', header=None)[1:]\n",
    "val_silhouette_dataset = pd.read_csv('Datasets/espe/lbp_histograms - copia/validation/validation.csv', header=None)[1:]\n",
    "\n",
    "x_slhtt_test, y_slhtt_test = slice_labels(test_silhouette_dataset)\n",
    "x_slhtt_train, y_slhtt_train = slice_labels(train_silhouette_dataset)\n",
    "x_slhtt_val, y_slhtt_val = slice_labels(val_silhouette_dataset)"
   ],
   "metadata": {
    "collapsed": false,
    "pycharm": {
     "name": "#%%\n"
    }
   }
  },
  {
   "cell_type": "code",
   "execution_count": 4,
   "outputs": [],
   "source": [
    "stop_early = tf.keras.callbacks.EarlyStopping(monitor='val_acc', patience=8)\n",
    "reduce_lr = ReduceLROnPlateau(monitor='val_acc', factor=0.1, patience=4, verbose=1, min_delta=1e-2)\n",
    "callbacks_list = [stop_early, reduce_lr]"
   ],
   "metadata": {
    "collapsed": false,
    "pycharm": {
     "name": "#%%\n"
    }
   }
  },
  {
   "cell_type": "code",
   "execution_count": 5,
   "outputs": [
    {
     "name": "stdout",
     "output_type": "stream",
     "text": [
      "WARNING:tensorflow:From C:\\Python37\\lib\\site-packages\\tensorflow_core\\python\\ops\\resource_variable_ops.py:1630: calling BaseResourceVariable.__init__ (from tensorflow.python.ops.resource_variable_ops) with constraint is deprecated and will be removed in a future version.\n",
      "Instructions for updating:\n",
      "If using Keras pass *_constraint arguments to layers.\n",
      "WARNING:tensorflow:Large dropout rate: 0.8 (>0.5). In TensorFlow 2.x, dropout() uses dropout rate instead of keep_prob. Please ensure that this is intended.\n",
      "WARNING:tensorflow:Large dropout rate: 0.8 (>0.5). In TensorFlow 2.x, dropout() uses dropout rate instead of keep_prob. Please ensure that this is intended.\n",
      "WARNING:tensorflow:Large dropout rate: 0.8 (>0.5). In TensorFlow 2.x, dropout() uses dropout rate instead of keep_prob. Please ensure that this is intended.\n",
      "WARNING:tensorflow:Large dropout rate: 0.8 (>0.5). In TensorFlow 2.x, dropout() uses dropout rate instead of keep_prob. Please ensure that this is intended.\n",
      "Train on 9247 samples, validate on 2067 samples\n",
      "Epoch 1/60\n",
      "9247/9247 [==============================] - 2s 258us/sample - loss: 1077.3051 - acc: 0.1418 - val_loss: 33.7445 - val_acc: 0.1229\n",
      "Epoch 2/60\n",
      "9247/9247 [==============================] - 2s 187us/sample - loss: 104.6669 - acc: 0.1498 - val_loss: 2.1829 - val_acc: 0.1263\n",
      "Epoch 3/60\n",
      "9247/9247 [==============================] - 2s 269us/sample - loss: 7.9073 - acc: 0.1393 - val_loss: 1.9461 - val_acc: 0.1263\n",
      "Epoch 4/60\n",
      "9247/9247 [==============================] - 5s 508us/sample - loss: 4.2562 - acc: 0.1440 - val_loss: 1.9461 - val_acc: 0.1263\n",
      "Epoch 5/60\n",
      "9100/9247 [============================>.] - ETA: 0s - loss: 2.9558 - acc: 0.1437\n",
      "Epoch 00005: ReduceLROnPlateau reducing learning rate to 9.999999747378752e-06.\n",
      "9247/9247 [==============================] - 5s 513us/sample - loss: 2.9494 - acc: 0.1434 - val_loss: 1.9461 - val_acc: 0.1263\n",
      "Epoch 6/60\n",
      "9247/9247 [==============================] - 5s 508us/sample - loss: 2.4507 - acc: 0.1458 - val_loss: 1.9461 - val_acc: 0.1263\n",
      "Epoch 7/60\n",
      "9247/9247 [==============================] - 5s 509us/sample - loss: 2.3321 - acc: 0.1471 - val_loss: 1.9461 - val_acc: 0.1263\n",
      "Epoch 8/60\n",
      "9247/9247 [==============================] - 5s 511us/sample - loss: 2.3646 - acc: 0.1459 - val_loss: 1.9461 - val_acc: 0.1263\n",
      "Epoch 9/60\n",
      "9100/9247 [============================>.] - ETA: 0s - loss: 2.2859 - acc: 0.1485\n",
      "Epoch 00009: ReduceLROnPlateau reducing learning rate to 9.999999747378752e-07.\n",
      "9247/9247 [==============================] - 5s 511us/sample - loss: 2.2937 - acc: 0.1477 - val_loss: 1.9461 - val_acc: 0.1263\n",
      "Epoch 10/60\n",
      "9247/9247 [==============================] - 5s 511us/sample - loss: 2.2458 - acc: 0.1476 - val_loss: 1.9461 - val_acc: 0.1263\n"
     ]
    }
   ],
   "source": [
    "from utils.Models import multi_input_model\n",
    "mi_model = multi_input_model()\n",
    "mi_history = mi_model.fit(x=[x_slhtt_train, x_rgb_train], y=y_rgb_train, validation_data=[[x_slhtt_val, x_rgb_validation], y_rgb_validation], batch_size=100, epochs=60, callbacks=callbacks_list)"
   ],
   "metadata": {
    "collapsed": false,
    "pycharm": {
     "name": "#%%\n"
    }
   }
  },
  {
   "cell_type": "code",
   "execution_count": 7,
   "outputs": [
    {
     "data": {
      "text/plain": "<Figure size 432x288 with 1 Axes>",
      "image/png": "[encoded data removed]"
     },
     "metadata": {
      "needs_background": "light"
     },
     "output_type": "display_data"
    }
   ],
   "source": [
    "import matplotlib.pyplot as plt\n",
    "plt.plot(mi_history.history['acc'])\n",
    "plt.plot(mi_history.history['val_acc'])\n",
    "plt.title('Model accuracy')\n",
    "plt.xlabel('epochs')\n",
    "plt.ylabel('accuracy')\n",
    "plt.show()"
   ],
   "metadata": {
    "collapsed": false,
    "pycharm": {
     "name": "#%%\n"
    }
   }
  },
  {
   "cell_type": "markdown",
   "source": [
    "### Silhouette identification"
   ],
   "metadata": {
    "collapsed": false,
    "pycharm": {
     "name": "#%% md\n"
    }
   }
  },
  {
   "cell_type": "code",
   "execution_count": 1,
   "outputs": [
    {
     "name": "stderr",
     "output_type": "stream",
     "text": [
      "Using TensorFlow backend.\n"
     ]
    }
   ],
   "source": [
    "import tensorflow as tf\n",
    "from tensorflow import keras\n",
    "import keras_tuner as kt\n",
    "from tensorflow.keras.callbacks import ReduceLROnPlateau\n",
    "from processing import load_csv_data, slice_labels"
   ],
   "metadata": {
    "collapsed": false,
    "pycharm": {
     "name": "#%%\n"
    }
   }
  },
  {
   "cell_type": "code",
   "execution_count": 2,
   "outputs": [],
   "source": [
    "import pandas as pd\n",
    "from processing import slice_labels\n",
    "test_silhouette_dataset = pd.read_csv('Datasets/espe/lbp_histograms - copia/test/test.csv', header=None)[1:]\n",
    "train_silhouette_dataset = pd.read_csv('Datasets/espe/lbp_histograms - copia/train/train.csv', header=None)[1:]\n",
    "val_silhouette_dataset = pd.read_csv('Datasets/espe/lbp_histograms - copia/validation/validation.csv', header=None)[1:]\n",
    "\n",
    "x_slhtt_test, y_slhtt_test = slice_labels(test_silhouette_dataset)\n",
    "x_slhtt_train, y_slhtt_train = slice_labels(train_silhouette_dataset)\n",
    "x_slhtt_val, y_slhtt_val = slice_labels(val_silhouette_dataset)"
   ],
   "metadata": {
    "collapsed": false,
    "pycharm": {
     "name": "#%%\n"
    }
   }
  },
  {
   "cell_type": "code",
   "execution_count": 3,
   "outputs": [
    {
     "name": "stdout",
     "output_type": "stream",
     "text": [
      "WARNING:tensorflow:From C:\\Python37\\lib\\site-packages\\tensorflow_core\\python\\ops\\resource_variable_ops.py:1630: calling BaseResourceVariable.__init__ (from tensorflow.python.ops.resource_variable_ops) with constraint is deprecated and will be removed in a future version.\n",
      "Instructions for updating:\n",
      "If using Keras pass *_constraint arguments to layers.\n",
      "WARNING:tensorflow:From C:\\Python37\\lib\\site-packages\\tensorflow_core\\python\\keras\\optimizer_v2\\adagrad.py:107: calling Constant.__init__ (from tensorflow.python.ops.init_ops) with dtype is deprecated and will be removed in a future version.\n",
      "Instructions for updating:\n",
      "Call initializer instance with the dtype argument instead of passing it to the constructor\n",
      "Train on 9247 samples, validate on 2067 samples\n",
      "Epoch 1/70\n",
      "9247/9247 [==============================] - 1s 59us/sample - loss: 850.9733 - acc: 0.1432 - val_loss: 245.7383 - val_acc: 0.1456\n",
      "Epoch 2/70\n",
      "9247/9247 [==============================] - 0s 22us/sample - loss: 306.3063 - acc: 0.1411 - val_loss: 199.7325 - val_acc: 0.1456\n",
      "Epoch 3/70\n",
      "9247/9247 [==============================] - 0s 23us/sample - loss: 235.4966 - acc: 0.1362 - val_loss: 121.8422 - val_acc: 0.1456\n",
      "Epoch 4/70\n",
      "9247/9247 [==============================] - 0s 29us/sample - loss: 191.8445 - acc: 0.1412 - val_loss: 135.6841 - val_acc: 0.1263\n",
      "Epoch 5/70\n",
      "8600/9247 [==========================>...] - ETA: 0s - loss: 163.5531 - acc: 0.1381\n",
      "Epoch 00005: ReduceLROnPlateau reducing learning rate to 0.00010000000474974513.\n",
      "9247/9247 [==============================] - 0s 24us/sample - loss: 162.2252 - acc: 0.1394 - val_loss: 83.6151 - val_acc: 0.1461\n",
      "Epoch 6/70\n",
      "9247/9247 [==============================] - 0s 22us/sample - loss: 40.4908 - acc: 0.1537 - val_loss: 8.2338 - val_acc: 0.1253\n",
      "Epoch 7/70\n",
      "9247/9247 [==============================] - 0s 21us/sample - loss: 8.6452 - acc: 0.1532 - val_loss: 6.6073 - val_acc: 0.0750\n",
      "Epoch 8/70\n",
      "9247/9247 [==============================] - 0s 21us/sample - loss: 7.7291 - acc: 0.1549 - val_loss: 7.1192 - val_acc: 0.1490\n",
      "Epoch 9/70\n",
      "6200/9247 [===================>..........] - ETA: 0s - loss: 7.0852 - acc: 0.1655\n",
      "Epoch 00009: ReduceLROnPlateau reducing learning rate to 1.0000000474974514e-05.\n",
      "9247/9247 [==============================] - 0s 21us/sample - loss: 7.3055 - acc: 0.1635 - val_loss: 5.6305 - val_acc: 0.1064\n",
      "Epoch 10/70\n",
      "9247/9247 [==============================] - 0s 20us/sample - loss: 3.4410 - acc: 0.2056 - val_loss: 3.3378 - val_acc: 0.1964\n",
      "Epoch 11/70\n",
      "9247/9247 [==============================] - 0s 20us/sample - loss: 3.0376 - acc: 0.2096 - val_loss: 3.3736 - val_acc: 0.1877\n",
      "Epoch 12/70\n",
      "9247/9247 [==============================] - 0s 21us/sample - loss: 3.0362 - acc: 0.2091 - val_loss: 3.4899 - val_acc: 0.1834\n",
      "Epoch 13/70\n",
      "9247/9247 [==============================] - 0s 20us/sample - loss: 3.0365 - acc: 0.2156 - val_loss: 3.3988 - val_acc: 0.1122\n",
      "Epoch 14/70\n",
      "6400/9247 [===================>..........] - ETA: 0s - loss: 3.0421 - acc: 0.2077\n",
      "Epoch 00014: ReduceLROnPlateau reducing learning rate to 1.0000000656873453e-06.\n",
      "9247/9247 [==============================] - 0s 20us/sample - loss: 3.0382 - acc: 0.2046 - val_loss: 3.3408 - val_acc: 0.1771\n",
      "Epoch 15/70\n",
      "9247/9247 [==============================] - 0s 20us/sample - loss: 3.0324 - acc: 0.2239 - val_loss: 3.3522 - val_acc: 0.1834\n",
      "Epoch 16/70\n",
      "9247/9247 [==============================] - 0s 20us/sample - loss: 3.0310 - acc: 0.2136 - val_loss: 3.3567 - val_acc: 0.1901\n",
      "Epoch 17/70\n",
      "9247/9247 [==============================] - 0s 20us/sample - loss: 3.0310 - acc: 0.2167 - val_loss: 3.3701 - val_acc: 0.1829\n",
      "Epoch 18/70\n",
      "6200/9247 [===================>..........] - ETA: 0s - loss: 3.0216 - acc: 0.2161\n",
      "Epoch 00018: ReduceLROnPlateau reducing learning rate to 1.0000001111620805e-07.\n",
      "9247/9247 [==============================] - 0s 20us/sample - loss: 3.0310 - acc: 0.2156 - val_loss: 3.3768 - val_acc: 0.1795\n"
     ]
    }
   ],
   "source": [
    "from utils.Models import silhouette_classifier_model\n",
    "stop_early = tf.keras.callbacks.EarlyStopping(monitor='val_acc', patience=8)\n",
    "reduce_lr = ReduceLROnPlateau(monitor='val_acc', factor=0.1, patience=4, verbose=1, min_delta=1e-2)\n",
    "callbacks_list = [stop_early, reduce_lr]\n",
    "model = silhouette_classifier_model()\n",
    "history = model.fit(x=[x_slhtt_train], y=y_slhtt_train, validation_data=[[x_slhtt_val], y_slhtt_val], batch_size=200, epochs=70, callbacks=callbacks_list)"
   ],
   "metadata": {
    "collapsed": false,
    "pycharm": {
     "name": "#%%\n"
    }
   }
  },
  {
   "cell_type": "code",
   "execution_count": 4,
   "outputs": [
    {
     "data": {
      "text/plain": "<Figure size 432x288 with 1 Axes>",
      "image/png": "[encoded data removed]"
     },
     "metadata": {
      "needs_background": "light"
     },
     "output_type": "display_data"
    }
   ],
   "source": [
    "import matplotlib.pyplot as plt\n",
    "plt.plot(history.history['acc'])\n",
    "plt.plot(history.history['val_acc'])\n",
    "plt.title('Model accuracy')\n",
    "plt.xlabel('epochs')\n",
    "plt.ylabel('accuracy')\n",
    "plt.show()"
   ],
   "metadata": {
    "collapsed": false,
    "pycharm": {
     "name": "#%%\n"
    }
   }
  },
  {
   "cell_type": "code",
   "execution_count": 5,
   "outputs": [
    {
     "name": "stdout",
     "output_type": "stream",
     "text": [
      "1967/1967 [==============================] - 0s 77us/sample - loss: 2.5996 - acc: 0.2857\n"
     ]
    },
    {
     "data": {
      "text/plain": "[2.5996240609541847, 0.2857143]"
     },
     "execution_count": 5,
     "metadata": {},
     "output_type": "execute_result"
    }
   ],
   "source": [
    "model.evaluate(x=x_slhtt_test, y=y_slhtt_test, verbose=1)"
   ],
   "metadata": {
    "collapsed": false,
    "pycharm": {
     "name": "#%%\n"
    }
   }
  },
  {
   "cell_type": "code",
   "execution_count": 40,
   "outputs": [
    {
     "data": {
      "text/plain": "            0                   1\n1201  52135.0  1666.9747388362885\n1202  49878.0   1649.175748705864",
      "text/html": "<div>\n<style scoped>\n    .dataframe tbody tr th:only-of-type {\n        vertical-align: middle;\n    }\n\n    .dataframe tbody tr th {\n        vertical-align: top;\n    }\n\n    .dataframe thead th {\n        text-align: right;\n    }\n</style>\n<table border=\"1\" class=\"dataframe\">\n  <thead>\n    <tr style=\"text-align: right;\">\n      <th></th>\n      <th>0</th>\n      <th>1</th>\n    </tr>\n  </thead>\n  <tbody>\n    <tr>\n      <th>1201</th>\n      <td>52135.0</td>\n      <td>1666.9747388362885</td>\n    </tr>\n    <tr>\n      <th>1202</th>\n      <td>49878.0</td>\n      <td>1649.175748705864</td>\n    </tr>\n  </tbody>\n</table>\n</div>"
     },
     "execution_count": 40,
     "metadata": {},
     "output_type": "execute_result"
    }
   ],
   "source": [
    "val = x_slhtt_test.iloc[1200:1202]\n",
    "val"
   ],
   "metadata": {
    "collapsed": false,
    "pycharm": {
     "name": "#%%\n"
    }
   }
  },
  {
   "cell_type": "code",
   "execution_count": 39,
   "outputs": [
    {
     "data": {
      "text/plain": "array([[0., 0., 0., 0., 1., 0., 0.],\n       [0., 0., 0., 0., 1., 0., 0.]], dtype=float32)"
     },
     "execution_count": 39,
     "metadata": {},
     "output_type": "execute_result"
    }
   ],
   "source": [
    "y_slhtt_test[1200:1202]"
   ],
   "metadata": {
    "collapsed": false,
    "pycharm": {
     "name": "#%%\n"
    }
   }
  },
  {
   "cell_type": "code",
   "execution_count": 3,
   "outputs": [
    {
     "data": {
      "text/plain": "0    Luis\nName: 0, dtype: object"
     },
     "execution_count": 3,
     "metadata": {},
     "output_type": "execute_result"
    }
   ],
   "source": [
    "import tensorflow as tf\n",
    "from utils.IdentificationModel import IDPath\n",
    "\n",
    "model = tf.keras.models.load_model('models/own/saved_model/my_model.h5')\n",
    "image = x_rgb_test[0].reshape(1, 40, 40, 1)\n",
    "# prediction = model.predict(x=image)\n",
    "model = IDPath()\n",
    "model.identify(image)"
   ],
   "metadata": {
    "collapsed": false,
    "pycharm": {
     "name": "#%%\n"
    }
   }
  },
  {
   "cell_type": "code",
   "execution_count": null,
   "outputs": [],
   "source": [],
   "metadata": {
    "collapsed": false,
    "pycharm": {
     "name": "#%%\n"
    }
   }
  }
 ],
 "metadata": {
  "kernelspec": {
   "display_name": "Python 3",
   "language": "python",
   "name": "python3"
  },
  "language_info": {
   "codemirror_mode": {
    "name": "ipython",
    "version": 2
   },
   "file_extension": ".py",
   "mimetype": "text/x-python",
   "name": "python",
   "nbconvert_exporter": "python",
   "pygments_lexer": "ipython2",
   "version": "2.7.6"
  }
 },
 "nbformat": 4,
 "nbformat_minor": 0
}