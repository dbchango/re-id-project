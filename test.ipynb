{
 "cells": [
  {
   "cell_type": "code",
   "execution_count": 2,
   "outputs": [
    {
     "name": "stdout",
     "output_type": "stream",
     "text": [
      "8\n"
     ]
    }
   ],
   "source": [
    "import multiprocessing as mp\n",
    "print(mp.cpu_count())\n"
   ],
   "metadata": {
    "collapsed": false,
    "pycharm": {
     "name": "#%%\n"
    }
   }
  },
  {
   "cell_type": "code",
   "execution_count": 4,
   "outputs": [
    {
     "name": "stdout",
     "output_type": "stream",
     "text": [
      "(720, 1168, 4)\n"
     ]
    },
    {
     "ename": "Exception",
     "evalue": "Pymp relies on full 'fork' support by the operating system. You seem to be using Windows, which unfortanetly does not do this.",
     "output_type": "error",
     "traceback": [
      "\u001B[1;31m---------------------------------------------------------------------------\u001B[0m",
      "\u001B[1;31mException\u001B[0m                                 Traceback (most recent call last)",
      "\u001B[1;32m~\\AppData\\Local\\Temp\\ipykernel_25400\\818140587.py\u001B[0m in \u001B[0;36m<module>\u001B[1;34m\u001B[0m\n\u001B[0;32m     20\u001B[0m \u001B[0mi\u001B[0m \u001B[1;33m=\u001B[0m \u001B[1;32mNone\u001B[0m\u001B[1;33m\u001B[0m\u001B[1;33m\u001B[0m\u001B[0m\n\u001B[0;32m     21\u001B[0m \u001B[0mj\u001B[0m \u001B[1;33m=\u001B[0m \u001B[1;32mNone\u001B[0m\u001B[1;33m\u001B[0m\u001B[1;33m\u001B[0m\u001B[0m\n\u001B[1;32m---> 22\u001B[1;33m \u001B[1;32mwith\u001B[0m \u001B[0mpymp\u001B[0m\u001B[1;33m.\u001B[0m\u001B[0mParallel\u001B[0m\u001B[1;33m(\u001B[0m\u001B[1;36m2\u001B[0m\u001B[1;33m)\u001B[0m \u001B[1;32mas\u001B[0m \u001B[0mp1\u001B[0m\u001B[1;33m:\u001B[0m\u001B[1;33m\u001B[0m\u001B[1;33m\u001B[0m\u001B[0m\n\u001B[0m\u001B[0;32m     23\u001B[0m     \u001B[1;32mwith\u001B[0m \u001B[0mpymp\u001B[0m\u001B[1;33m.\u001B[0m\u001B[0mParallel\u001B[0m\u001B[1;33m(\u001B[0m\u001B[1;36m2\u001B[0m\u001B[1;33m)\u001B[0m \u001B[1;32mas\u001B[0m \u001B[0mp2\u001B[0m\u001B[1;33m:\u001B[0m\u001B[1;33m\u001B[0m\u001B[1;33m\u001B[0m\u001B[0m\n\u001B[0;32m     24\u001B[0m         \u001B[1;32mfor\u001B[0m \u001B[0mi\u001B[0m \u001B[1;32min\u001B[0m \u001B[0mp1\u001B[0m\u001B[1;33m.\u001B[0m\u001B[0mrange\u001B[0m\u001B[1;33m(\u001B[0m\u001B[1;36m0\u001B[0m\u001B[1;33m,\u001B[0m \u001B[0ml\u001B[0m\u001B[1;33m)\u001B[0m\u001B[1;33m:\u001B[0m\u001B[1;33m\u001B[0m\u001B[1;33m\u001B[0m\u001B[0m\n",
      "\u001B[1;32mC:\\Python37\\lib\\site-packages\\pymp\\__init__.py\u001B[0m in \u001B[0;36m__init__\u001B[1;34m(self, num_threads, if_)\u001B[0m\n\u001B[0;32m     39\u001B[0m         ):\n\u001B[0;32m     40\u001B[0m             raise Exception(\n\u001B[1;32m---> 41\u001B[1;33m                 \u001B[1;34m\"Pymp relies on full 'fork' support by the operating system. \"\u001B[0m\u001B[1;33m\u001B[0m\u001B[1;33m\u001B[0m\u001B[0m\n\u001B[0m\u001B[0;32m     42\u001B[0m                 \u001B[1;34m\"You seem to be using Windows, which unfortanetly does not \"\u001B[0m\u001B[1;33m\u001B[0m\u001B[1;33m\u001B[0m\u001B[0m\n\u001B[0;32m     43\u001B[0m                 \u001B[1;34m\"do this.\"\u001B[0m\u001B[1;33m\u001B[0m\u001B[1;33m\u001B[0m\u001B[0m\n",
      "\u001B[1;31mException\u001B[0m: Pymp relies on full 'fork' support by the operating system. You seem to be using Windows, which unfortanetly does not do this."
     ]
    }
   ],
   "source": [
    "import numpy as np\n",
    "from numpy import array\n",
    "from scipy import misc\n",
    "import imageio\n",
    "from PIL import Image\n",
    "import pymp\n",
    "import datetime\n",
    "\n",
    "a = datetime.datetime.now()\n",
    "pymp.config.nested = True\n",
    "face = imageio.v2.imread('my.png')\n",
    "print(face.shape)\n",
    "convx = array([[1/16, 2/16, 1/16],\n",
    "               [2/16, 4/16, 2/16],\n",
    "               [1/16, 2/16, 1/16]])\n",
    "l = face.shape[0]\n",
    "b = face.shape[1]\n",
    "\n",
    "padded = pymp.shared.array((l+2, b+2), dtype='uint8')\n",
    "i = None\n",
    "j = None\n",
    "with pymp.Parallel(2) as p1:\n",
    "    with pymp.Parallel(2) as p2:\n",
    "        for i in p1.range(0, l):\n",
    "            for j in p2.range(0, b):\n",
    "                padded[i+1][j+1] = face[i][j]\n",
    "\n",
    "res = pymp.shared.array((l, b), dtype='uint8')\n",
    "i = None\n",
    "j = None\n",
    "with pymp.Parallel(2) as p1:\n",
    "    with pymp.Parallel(2) as p2:\n",
    "        for i in p1.range(1, l+1):\n",
    "            for j in p2.range(1, b+1):\n",
    "                res[i-1][j-1] = (convx[0][0]*padded[i-1][j-1] + convx[0][1]*padded[i-1][j]+convx[0][2]*padded[i-1][j+1]+convx[1][0]*padded[i][j-1]+convx[1][1]*padded[i][j]+convx[1][2]*padded[i][j+1]+convx[2][0]*padded[i+1][j-1]+convx[2][1]*padded[i+1][j]+convx[2][2]*padded[i+1][j+1])\n",
    "img = Image.fromarray(res)\n",
    "img.save('my.png')\n",
    "img.show()\n",
    "b = datetime.datetime.now()\n",
    "print(b-a)"
   ],
   "metadata": {
    "collapsed": false,
    "pycharm": {
     "name": "#%%\n"
    }
   }
  },
  {
   "cell_type": "code",
   "execution_count": 3,
   "outputs": [
    {
     "name": "stdout",
     "output_type": "stream",
     "text": [
      "Datasets/videos/i-LIDS-VID/sequences/cam1/person001\n"
     ]
    },
    {
     "data": {
      "text/plain": "-1"
     },
     "execution_count": 3,
     "metadata": {},
     "output_type": "execute_result"
    }
   ],
   "source": [
    "import os\n",
    "from utils.SequenceReader import read_sequence\n",
    "import cv2\n",
    "# person 0\n",
    "directory_cam1 = 'Datasets/videos/i-LIDS-VID/sequences/cam1/person001'\n",
    "directory_cam2 = 'Datasets/videos/i-LIDS-VID/sequences/cam2/person001'\n",
    "\n",
    "for i in read_sequence(directory_cam1):\n",
    "    cv2.imshow(\"Sequence\", i)\n",
    "cv2.waitKey(0)"
   ],
   "metadata": {
    "collapsed": false,
    "pycharm": {
     "name": "#%%\n"
    }
   }
  },
  {
   "cell_type": "code",
   "execution_count": 7,
   "outputs": [
    {
     "name": "stdout",
     "output_type": "stream",
     "text": [
      "Tensor(\"MatMul_4:0\", shape=(2, 2), dtype=float32, device=/device:GPU:0)\n"
     ]
    }
   ],
   "source": [
    "# Check GPU availability:\n",
    "import tensorflow as tf\n",
    "tf.test.is_gpu_available()\n",
    "\n",
    "# Find out which device your operations and tensors are assigned to:\n",
    "tf.debugging.set_log_device_placement(True)\n",
    "a = tf.constant([[1.0, 2.0, 3.0], [4.0, 5.0, 6.0]])\n",
    "b = tf.constant([[1.0, 2.0],[3.0, 4.0], [4.0, 5.0]])\n",
    "c = tf.matmul(a, b)\n",
    "\n",
    "# Manually place operations on a GPU:\n",
    "with tf.device('/GPU:0'):\n",
    "    a = tf.constant([[1.0, 2.0, 3.0], [4.0, 5.0, 6.0]])\n",
    "    b = tf.constant([[1.0, 2.0], [3.0, 4.0], [5.0, 6.0]])\n",
    "    c = tf.matmul(a, b)\n",
    "    import cv2\n",
    "    image = cv2.imread(\"Datasets/images/25691390_f9944f61b5_z.jpg\")\n",
    "    \n",
    "    print(c)"
   ],
   "metadata": {
    "collapsed": false,
    "pycharm": {
     "name": "#%%\n"
    }
   }
  },
  {
   "cell_type": "code",
   "execution_count": null,
   "outputs": [],
   "source": [],
   "metadata": {
    "collapsed": false,
    "pycharm": {
     "name": "#%%\n"
    }
   }
  }
 ],
 "metadata": {
  "kernelspec": {
   "display_name": "Python 3",
   "language": "python",
   "name": "python3"
  },
  "language_info": {
   "codemirror_mode": {
    "name": "ipython",
    "version": 2
   },
   "file_extension": ".py",
   "mimetype": "text/x-python",
   "name": "python",
   "nbconvert_exporter": "python",
   "pygments_lexer": "ipython2",
   "version": "2.7.6"
  }
 },
 "nbformat": 4,
 "nbformat_minor": 0
}