{
 "cells": [
  {
   "cell_type": "markdown",
   "metadata": {
    "collapsed": false,
    "pycharm": {
     "name": "#%% md\n"
    }
   },
   "source": [
    "## TF tunner samples"
   ]
  },
  {
   "cell_type": "code",
<<<<<<< HEAD
   "execution_count": 1,
=======
   "execution_count": 2,
>>>>>>> f0ee60a830df54fba2413e5a9401b4d3b68b8589
   "metadata": {
    "collapsed": true,
    "pycharm": {
     "name": "#%%\n"
    }
   },
   "outputs": [],
   "source": [
    "import tensorflow as tf\n",
    "from tensorflow import keras\n",
    "from tensorflow.keras.callbacks import ReduceLROnPlateau"
   ]
  },
  {
   "cell_type": "code",
<<<<<<< HEAD
   "execution_count": 2,
   "metadata": {
    "collapsed": false,
=======
   "execution_count": 3,
   "metadata": {
>>>>>>> f0ee60a830df54fba2413e5a9401b4d3b68b8589
    "pycharm": {
     "name": "#%%\n"
    }
   },
<<<<<<< HEAD
   "outputs": [
    {
     "name": "stderr",
     "output_type": "stream",
     "text": [
      "Using TensorFlow backend.\n"
     ]
    }
   ],
   "source": [
    "from processing import load_csv_data, slice_labels\n",
    "\n",
    "train_path = 'Datasets/espe/lbp_histograms/train'\n",
    "train_data = load_csv_data(train_path)\n",
    "\n",
    "test_path = 'Datasets/espe/lbp_histograms/test'\n",
    "test_data = load_csv_data(test_path)\n",
    "\n",
    "validation_path = 'Datasets/espe/lbp_histograms/validation'\n",
    "validation_data = load_csv_data(validation_path)\n",
    "\n",
    "# train_data.shape, test_data.shape, validation_data.shape\n",
    "x_train, y_train = slice_labels(train_data)\n",
    "x_test, y_test = slice_labels(test_data)\n",
    "x_val, y_val = slice_labels(validation_data)"
   ]
  },
  {
   "cell_type": "code",
   "execution_count": 3,
   "metadata": {},
=======
>>>>>>> f0ee60a830df54fba2413e5a9401b4d3b68b8589
   "outputs": [],
   "source": [
    "from processing import load_image_dataset\n",
    "x_rgb_train, y_rgb_train = load_image_dataset('Datasets/espe/masked/train', (40, 40), False)\n",
    "x_rgb_test, y_rgb_test = load_image_dataset('Datasets/espe/masked/test', (40, 40), False)\n",
    "x_rgb_validation, y_rgb_validation = load_image_dataset('Datasets/espe/masked/validation', (40, 40), False)"
   ]
  },
  {
   "cell_type": "code",
   "execution_count": 4,
   "metadata": {
    "collapsed": false,
    "pycharm": {
     "name": "#%%\n"
    }
   },
   "outputs": [],
   "source": [
<<<<<<< HEAD
    "\n",
    "x_masks_train, y_masks_train = load_image_dataset('Datasets/espe/silueta/train', (40, 40), False)\n",
    "x_masks_test, y_masks_test = load_image_dataset('Datasets/espe/silueta/test', (40, 40), False)\n",
    "x_masks_validation, y_masks_validation = load_image_dataset('Datasets/espe/silueta/validation', (40, 40), False)"
=======
    "from processing import slice_labels\n",
    "x_masks_train, y_masks_train = load_image_dataset('Datasets/espe/masks/train', (40, 40), False)\n",
    "x_masks_test, y_masks_test = load_image_dataset('Datasets/espe/masks/test', (40, 40), False)\n",
    "x_masks_validation, y_masks_validation = load_image_dataset('Datasets/espe/masks/validation', (40, 40), False)"
>>>>>>> f0ee60a830df54fba2413e5a9401b4d3b68b8589
   ]
  },
  {
   "cell_type": "code",
<<<<<<< HEAD
=======
   "execution_count": 7,
   "outputs": [
    {
     "data": {
      "text/plain": "((10969, 40, 40, 3), (10507, 40, 40, 3))"
     },
     "execution_count": 7,
     "metadata": {},
     "output_type": "execute_result"
    }
   ],
   "source": [
    "x_rgb_train.shape, x_masks_train.shape"
   ],
   "metadata": {
    "collapsed": false,
    "pycharm": {
     "name": "#%%\n"
    }
   }
  },
  {
   "cell_type": "code",
>>>>>>> f0ee60a830df54fba2413e5a9401b4d3b68b8589
   "execution_count": 5,
   "metadata": {
    "collapsed": false,
    "pycharm": {
     "name": "#%%\n"
    }
   },
   "outputs": [],
   "source": [
    "import numpy as np\n",
    "x_masks, y_masks = np.concatenate((x_masks_train, x_masks_validation), axis=0), np.concatenate((y_masks_train, y_masks_validation), axis=0)\n",
    "x_data, y_data = np.concatenate((x_rgb_train, x_rgb_validation), axis=0), np.concatenate((y_rgb_train, y_rgb_validation), axis=0)"
   ]
  },
  {
   "cell_type": "code",
   "execution_count": 6,
   "metadata": {
    "collapsed": false,
    "pycharm": {
     "name": "#%%\n"
    }
   },
   "outputs": [
    {
     "name": "stdout",
     "output_type": "stream",
     "text": [
      "(566, 40, 40, 3)\n",
      "(566, 40, 40, 3)\n",
      "(566, 7)\n",
      "(566, 7)\n"
     ]
    },
    {
     "data": {
      "text/plain": [
       "(True, True)"
      ]
     },
     "execution_count": 6,
     "metadata": {},
     "output_type": "execute_result"
    }
   ],
   "source": [
    "#x_masks.shape == x_data.shape, y_masks.shape == y_data.shape\n",
    "print(x_masks.shape)\n",
    "print(x_data.shape)\n",
    "print(y_masks.shape)\n",
    "print(y_data.shape)\n",
    "x_masks.shape == x_data.shape, y_masks.shape == y_data.shape"
   ]
  },
  {
   "cell_type": "code",
<<<<<<< HEAD
   "execution_count": 7,
   "metadata": {},
   "outputs": [],
   "source": [
    "x_data_v1 = [x_data, x_masks]\n"
   ]
  },
  {
   "cell_type": "code",
   "execution_count": 8,
   "metadata": {},
=======
   "execution_count": 8,
   "metadata": {
    "pycharm": {
     "name": "#%%\n"
    }
   },
>>>>>>> f0ee60a830df54fba2413e5a9401b4d3b68b8589
   "outputs": [
    {
     "name": "stdout",
     "output_type": "stream",
     "text": [
      "WARNING:tensorflow:From c:\\Users\\User\\miniconda3\\lib\\site-packages\\tensorflow_core\\python\\ops\\resource_variable_ops.py:1630: calling BaseResourceVariable.__init__ (from tensorflow.python.ops.resource_variable_ops) with constraint is deprecated and will be removed in a future version.\n",
      "Instructions for updating:\n",
      "If using Keras pass *_constraint arguments to layers.\n"
     ]
    }
   ],
   "source": [
<<<<<<< HEAD
    "from utils.Models import cnn,color_histogram_branch,image_branch\n",
=======
    "from utils.Models import image_branch\n",
>>>>>>> f0ee60a830df54fba2413e5a9401b4d3b68b8589
    "a =image_branch((40,40,3))\n",
    "    #b = silhouette_features_branch()\n",
    "c = cnn()\n",
    "\n",
    "fussion = keras.layers.concatenate([a.output, c.output])\n",
    "d = keras.layers.Dense(800, activation='relu')(fussion)\n",
    "d = keras.layers.Dropout(0.8)(d)\n",
    "d = keras.layers.Dense(800, activation='relu')(d)\n",
    "d = keras.layers.Dropout(0.8)(d)\n",
    "d = keras.layers.Dense(7, activation='softmax')(d)\n",
    "model = keras.models.Model(inputs=[a.input, c.input], outputs=d)\n",
    "loss_function = tf.keras.losses.CategoricalCrossentropy()\n",
    "optimization_function = tf.keras.optimizers.RMSprop(lr=1e-4)\n",
<<<<<<< HEAD
    "model.compile(loss=loss_function, optimizer=optimization_function, metrics=['acc'])\n",
    "#######3\n",
    "# a =cnn()\n",
    "#     #b = silhouette_features_branch()\n",
    "# c = image_branch((40,40,3))\n",
    "# fussion = keras.layers.concatenate([a.output, c.output])\n",
    "# fm = keras.layers.BatchNormalization()(fussion)\n",
    "# fm = keras.layers.Dense(units=128,activation='relu')(fm)\n",
    "# fm =  keras.layers.LeakyReLU()(fm)\n",
    "# fm =  keras.layers.BatchNormalization()(fm)\n",
    "# fm =    keras.layers.Dropout(0.5)(fm)\n",
    "# prediction =keras.layers.Dense(units=7, activation='softmax')(fm)\n",
    "# model = keras.models.Model(inputs=[a.input, c.input], outputs=prediction)\n",
    "# my_adam = tf.keras.optimizers.Adam(lr=0.0025, beta_1=0.9, beta_2=0.999, amsgrad=True)\n",
    "# my_loss =  tf.keras.losses.categorical_crossentropy\n",
    "# model.compile(loss='categorical_crossentropy', optimizer=my_adam, metrics=['accuracy'])\n",
    "\n",
    "\n"
=======
    "model.compile(loss=loss_function, optimizer=optimization_function, metrics=['acc'])\n"
>>>>>>> f0ee60a830df54fba2413e5a9401b4d3b68b8589
   ]
  },
  {
   "cell_type": "code",
   "execution_count": 9,
   "metadata": {
    "collapsed": false,
    "pycharm": {
     "name": "#%%\n"
    }
   },
   "outputs": [
    {
     "name": "stderr",
     "output_type": "stream",
     "text": [
      "c:\\Users\\User\\miniconda3\\lib\\site-packages\\sklearn\\utils\\validation.py:37: DeprecationWarning: distutils Version classes are deprecated. Use packaging.version instead.\n",
      "  LARGE_SPARSE_SUPPORTED = LooseVersion(scipy_version) >= '0.14.0'\n",
      "c:\\Users\\User\\miniconda3\\lib\\site-packages\\sklearn\\model_selection\\_split.py:437: DeprecationWarning: `np.int` is a deprecated alias for the builtin `int`. To silence this warning, use `int` by itself. Doing this will not modify any behavior and is safe. When replacing `np.int`, you may wish to use e.g. `np.int64` or `np.int32` to specify the precision. If you wish to review your current use, check the release note link for additional information.\n",
      "Deprecated in NumPy 1.20; for more details and guidance: https://numpy.org/devdocs/release/1.20.0-notes.html#deprecations\n",
      "  fold_sizes = np.full(n_splits, n_samples // n_splits, dtype=np.int)\n",
      "c:\\Users\\User\\miniconda3\\lib\\site-packages\\sklearn\\model_selection\\_split.py:113: DeprecationWarning: `np.bool` is a deprecated alias for the builtin `bool`. To silence this warning, use `bool` by itself. Doing this will not modify any behavior and is safe. If you specifically wanted the numpy scalar type, use `np.bool_` here.\n",
      "Deprecated in NumPy 1.20; for more details and guidance: https://numpy.org/devdocs/release/1.20.0-notes.html#deprecations\n",
      "  test_mask = np.zeros(_num_samples(X), dtype=np.bool)\n"
     ]
    },
    {
     "name": "stdout",
     "output_type": "stream",
     "text": [
      "Train on 301 samples, validate on 76 samples\n",
      "Epoch 1/30\n",
      "301/301 [==============================] - 2s 6ms/sample - loss: 2.8911 - acc: 0.1728 - val_loss: 45.1917 - val_acc: 0.1711\n",
      "Epoch 2/30\n",
      "301/301 [==============================] - 1s 3ms/sample - loss: 1.9083 - acc: 0.3654 - val_loss: 31.0914 - val_acc: 0.1579\n",
      "Epoch 3/30\n",
      "301/301 [==============================] - 1s 3ms/sample - loss: 1.1293 - acc: 0.5847 - val_loss: 33.2901 - val_acc: 0.2895\n",
      "Epoch 4/30\n",
      "301/301 [==============================] - 1s 3ms/sample - loss: 0.8520 - acc: 0.6777 - val_loss: 34.7359 - val_acc: 0.2895\n",
      "Epoch 5/30\n",
      "301/301 [==============================] - 1s 3ms/sample - loss: 0.6921 - acc: 0.7243 - val_loss: 34.6994 - val_acc: 0.2895\n",
      "Epoch 6/30\n",
      "301/301 [==============================] - 1s 4ms/sample - loss: 0.5583 - acc: 0.8040 - val_loss: 31.7573 - val_acc: 0.2763\n",
      "Epoch 7/30\n",
      "301/301 [==============================] - 1s 3ms/sample - loss: 0.3715 - acc: 0.8771 - val_loss: 28.6213 - val_acc: 0.2105\n",
      "Epoch 8/30\n",
      "301/301 [==============================] - 1s 3ms/sample - loss: 0.3404 - acc: 0.8605 - val_loss: 27.2949 - val_acc: 0.1579\n",
      "Epoch 9/30\n",
      "301/301 [==============================] - 1s 3ms/sample - loss: 0.2080 - acc: 0.9136 - val_loss: 24.3531 - val_acc: 0.1579\n",
      "Epoch 10/30\n",
      "301/301 [==============================] - 1s 3ms/sample - loss: 0.1838 - acc: 0.9369 - val_loss: 21.5108 - val_acc: 0.1579\n",
      "Epoch 11/30\n",
      "301/301 [==============================] - 1s 3ms/sample - loss: 0.1690 - acc: 0.9502 - val_loss: 18.7497 - val_acc: 0.1579\n",
      "Epoch 12/30\n",
      "301/301 [==============================] - 1s 3ms/sample - loss: 0.1190 - acc: 0.9601 - val_loss: 16.6121 - val_acc: 0.1579\n",
      "Epoch 13/30\n",
      "301/301 [==============================] - 1s 3ms/sample - loss: 0.0961 - acc: 0.9668 - val_loss: 12.9064 - val_acc: 0.1579\n",
      "Epoch 14/30\n",
      "301/301 [==============================] - 1s 3ms/sample - loss: 0.0594 - acc: 0.9934 - val_loss: 11.0537 - val_acc: 0.1579\n",
      "Epoch 15/30\n",
      "301/301 [==============================] - 1s 3ms/sample - loss: 0.0518 - acc: 0.9900 - val_loss: 10.8358 - val_acc: 0.1842\n",
      "Epoch 16/30\n",
      "301/301 [==============================] - 1s 3ms/sample - loss: 0.0363 - acc: 0.9934 - val_loss: 10.4107 - val_acc: 0.1974\n",
      "Epoch 17/30\n",
      "301/301 [==============================] - 1s 3ms/sample - loss: 0.0342 - acc: 0.9934 - val_loss: 7.8598 - val_acc: 0.2500\n",
      "Epoch 18/30\n",
      "301/301 [==============================] - 1s 3ms/sample - loss: 0.0178 - acc: 1.0000 - val_loss: 5.6144 - val_acc: 0.3158\n",
      "Epoch 19/30\n",
      "301/301 [==============================] - 1s 3ms/sample - loss: 0.0210 - acc: 0.9967 - val_loss: 5.1849 - val_acc: 0.3553\n",
      "Epoch 20/30\n",
      "301/301 [==============================] - 1s 3ms/sample - loss: 0.0224 - acc: 0.9934 - val_loss: 6.0327 - val_acc: 0.3684\n",
      "Epoch 21/30\n",
      "301/301 [==============================] - 1s 3ms/sample - loss: 0.0184 - acc: 0.9967 - val_loss: 8.3321 - val_acc: 0.2763\n",
      "Epoch 22/30\n",
      "301/301 [==============================] - 1s 3ms/sample - loss: 0.0135 - acc: 1.0000 - val_loss: 10.7187 - val_acc: 0.2632\n",
      "Epoch 23/30\n",
      "301/301 [==============================] - 1s 3ms/sample - loss: 0.0206 - acc: 0.9934 - val_loss: 11.3123 - val_acc: 0.2632\n",
      "Epoch 24/30\n",
      "301/301 [==============================] - 1s 3ms/sample - loss: 0.0091 - acc: 1.0000 - val_loss: 11.1404 - val_acc: 0.2632\n",
      "Epoch 25/30\n",
      "301/301 [==============================] - 1s 3ms/sample - loss: 0.0146 - acc: 1.0000 - val_loss: 10.0203 - val_acc: 0.2763\n",
      "Epoch 26/30\n",
      "301/301 [==============================] - 1s 3ms/sample - loss: 0.0138 - acc: 0.9967 - val_loss: 8.2444 - val_acc: 0.2895\n",
      "Epoch 27/30\n",
      "301/301 [==============================] - 1s 3ms/sample - loss: 0.0061 - acc: 1.0000 - val_loss: 6.1773 - val_acc: 0.3553\n",
      "Epoch 28/30\n",
      "301/301 [==============================] - 1s 3ms/sample - loss: 0.0094 - acc: 1.0000 - val_loss: 4.5012 - val_acc: 0.4868\n",
      "Epoch 29/30\n",
      "301/301 [==============================] - 1s 3ms/sample - loss: 0.0063 - acc: 1.0000 - val_loss: 3.1840 - val_acc: 0.5000\n",
      "Epoch 30/30\n",
      "301/301 [==============================] - 1s 3ms/sample - loss: 0.0083 - acc: 0.9967 - val_loss: 2.4389 - val_acc: 0.5789\n"
     ]
    },
    {
     "ename": "OSError",
     "evalue": "Unable to create file (unable to open file: name = 'RESULTADOS', errno = 13, error message = 'Permission denied', flags = 13, o_flags = 302)",
     "output_type": "error",
     "traceback": [
<<<<<<< HEAD
      "\u001b[1;31m---------------------------------------------------------------------------\u001b[0m",
      "\u001b[1;31mOSError\u001b[0m                                   Traceback (most recent call last)",
      "\u001b[1;32m~\\AppData\\Local\\Temp\\ipykernel_5360\\453696424.py\u001b[0m in \u001b[0;36m<module>\u001b[1;34m\u001b[0m\n\u001b[0;32m      1\u001b[0m \u001b[1;32mfrom\u001b[0m \u001b[0mtraining\u001b[0m\u001b[1;33m.\u001b[0m\u001b[0mutils\u001b[0m \u001b[1;32mimport\u001b[0m \u001b[0mcv_training\u001b[0m\u001b[1;33m\u001b[0m\u001b[1;33m\u001b[0m\u001b[0m\n\u001b[1;32m----> 2\u001b[1;33m \u001b[0mcv_training\u001b[0m\u001b[1;33m(\u001b[0m\u001b[0mmodel\u001b[0m \u001b[1;33m=\u001b[0m \u001b[0mmodel\u001b[0m \u001b[1;33m,\u001b[0m \u001b[0mx_data\u001b[0m\u001b[1;33m=\u001b[0m\u001b[1;33m[\u001b[0m\u001b[0mx_masks\u001b[0m\u001b[1;33m,\u001b[0m\u001b[0mx_data\u001b[0m\u001b[1;33m]\u001b[0m\u001b[1;33m,\u001b[0m \u001b[0my_data\u001b[0m\u001b[1;33m=\u001b[0m\u001b[0my_data\u001b[0m\u001b[1;33m,\u001b[0m\u001b[0mpath_to_save_results\u001b[0m\u001b[1;33m=\u001b[0m\u001b[1;34m'RESULTADOS'\u001b[0m\u001b[1;33m)\u001b[0m\u001b[1;33m\u001b[0m\u001b[1;33m\u001b[0m\u001b[0m\n\u001b[0m",
      "\u001b[1;32mc:\\Users\\User\\Favorites\\Desktop\\PROYECTO-T2022\\re-id-project\\training\\utils.py\u001b[0m in \u001b[0;36mcv_training\u001b[1;34m(model, n_splits, x_data, y_data, path_to_save_results)\u001b[0m\n\u001b[0;32m     53\u001b[0m \u001b[1;33m\u001b[0m\u001b[0m\n\u001b[0;32m     54\u001b[0m         \u001b[1;31m# saving model\u001b[0m\u001b[1;33m\u001b[0m\u001b[1;33m\u001b[0m\u001b[1;33m\u001b[0m\u001b[0m\n\u001b[1;32m---> 55\u001b[1;33m         \u001b[0mmodel\u001b[0m\u001b[1;33m.\u001b[0m\u001b[0msave\u001b[0m\u001b[1;33m(\u001b[0m\u001b[0mpath_to_save_results\u001b[0m\u001b[1;33m)\u001b[0m\u001b[1;33m\u001b[0m\u001b[1;33m\u001b[0m\u001b[0m\n\u001b[0m\u001b[0;32m     56\u001b[0m \u001b[1;33m\u001b[0m\u001b[0m\n\u001b[0;32m     57\u001b[0m         \u001b[1;31m# generate generalization metrics\u001b[0m\u001b[1;33m\u001b[0m\u001b[1;33m\u001b[0m\u001b[1;33m\u001b[0m\u001b[0m\n",
      "\u001b[1;32mc:\\Users\\User\\miniconda3\\lib\\site-packages\\tensorflow_core\\python\\keras\\engine\\network.py\u001b[0m in \u001b[0;36msave\u001b[1;34m(self, filepath, overwrite, include_optimizer, save_format, signatures)\u001b[0m\n\u001b[0;32m   1169\u001b[0m     \"\"\"\n\u001b[0;32m   1170\u001b[0m     saving.save_model(self, filepath, overwrite, include_optimizer, save_format,\n\u001b[1;32m-> 1171\u001b[1;33m                       signatures)\n\u001b[0m\u001b[0;32m   1172\u001b[0m \u001b[1;33m\u001b[0m\u001b[0m\n\u001b[0;32m   1173\u001b[0m   \u001b[1;32mdef\u001b[0m \u001b[0msave_weights\u001b[0m\u001b[1;33m(\u001b[0m\u001b[0mself\u001b[0m\u001b[1;33m,\u001b[0m \u001b[0mfilepath\u001b[0m\u001b[1;33m,\u001b[0m \u001b[0moverwrite\u001b[0m\u001b[1;33m=\u001b[0m\u001b[1;32mTrue\u001b[0m\u001b[1;33m,\u001b[0m \u001b[0msave_format\u001b[0m\u001b[1;33m=\u001b[0m\u001b[1;32mNone\u001b[0m\u001b[1;33m)\u001b[0m\u001b[1;33m:\u001b[0m\u001b[1;33m\u001b[0m\u001b[1;33m\u001b[0m\u001b[0m\n",
      "\u001b[1;32mc:\\Users\\User\\miniconda3\\lib\\site-packages\\tensorflow_core\\python\\keras\\saving\\save.py\u001b[0m in \u001b[0;36msave_model\u001b[1;34m(model, filepath, overwrite, include_optimizer, save_format, signatures)\u001b[0m\n\u001b[0;32m    107\u001b[0m           'or using `save_weights`.')\n\u001b[0;32m    108\u001b[0m     hdf5_format.save_model_to_hdf5(\n\u001b[1;32m--> 109\u001b[1;33m         model, filepath, overwrite, include_optimizer)\n\u001b[0m\u001b[0;32m    110\u001b[0m   \u001b[1;32melse\u001b[0m\u001b[1;33m:\u001b[0m\u001b[1;33m\u001b[0m\u001b[1;33m\u001b[0m\u001b[0m\n\u001b[0;32m    111\u001b[0m     saved_model_save.save(model, filepath, overwrite, include_optimizer,\n",
      "\u001b[1;32mc:\\Users\\User\\miniconda3\\lib\\site-packages\\tensorflow_core\\python\\keras\\saving\\hdf5_format.py\u001b[0m in \u001b[0;36msave_model_to_hdf5\u001b[1;34m(model, filepath, overwrite, include_optimizer)\u001b[0m\n\u001b[0;32m     84\u001b[0m         \u001b[1;32mreturn\u001b[0m\u001b[1;33m\u001b[0m\u001b[1;33m\u001b[0m\u001b[0m\n\u001b[0;32m     85\u001b[0m \u001b[1;33m\u001b[0m\u001b[0m\n\u001b[1;32m---> 86\u001b[1;33m     \u001b[0mf\u001b[0m \u001b[1;33m=\u001b[0m \u001b[0mh5py\u001b[0m\u001b[1;33m.\u001b[0m\u001b[0mFile\u001b[0m\u001b[1;33m(\u001b[0m\u001b[0mfilepath\u001b[0m\u001b[1;33m,\u001b[0m \u001b[0mmode\u001b[0m\u001b[1;33m=\u001b[0m\u001b[1;34m'w'\u001b[0m\u001b[1;33m)\u001b[0m\u001b[1;33m\u001b[0m\u001b[1;33m\u001b[0m\u001b[0m\n\u001b[0m\u001b[0;32m     87\u001b[0m     \u001b[0mopened_new_file\u001b[0m \u001b[1;33m=\u001b[0m \u001b[1;32mTrue\u001b[0m\u001b[1;33m\u001b[0m\u001b[1;33m\u001b[0m\u001b[0m\n\u001b[0;32m     88\u001b[0m   \u001b[1;32melse\u001b[0m\u001b[1;33m:\u001b[0m\u001b[1;33m\u001b[0m\u001b[1;33m\u001b[0m\u001b[0m\n",
      "\u001b[1;32mc:\\Users\\User\\miniconda3\\lib\\site-packages\\h5py\\_hl\\files.py\u001b[0m in \u001b[0;36m__init__\u001b[1;34m(self, name, mode, driver, libver, userblock_size, swmr, rdcc_nslots, rdcc_nbytes, rdcc_w0, track_order, **kwds)\u001b[0m\n\u001b[0;32m    406\u001b[0m                 fid = make_fid(name, mode, userblock_size,\n\u001b[0;32m    407\u001b[0m                                \u001b[0mfapl\u001b[0m\u001b[1;33m,\u001b[0m \u001b[0mfcpl\u001b[0m\u001b[1;33m=\u001b[0m\u001b[0mmake_fcpl\u001b[0m\u001b[1;33m(\u001b[0m\u001b[0mtrack_order\u001b[0m\u001b[1;33m=\u001b[0m\u001b[0mtrack_order\u001b[0m\u001b[1;33m)\u001b[0m\u001b[1;33m,\u001b[0m\u001b[1;33m\u001b[0m\u001b[1;33m\u001b[0m\u001b[0m\n\u001b[1;32m--> 408\u001b[1;33m                                swmr=swmr)\n\u001b[0m\u001b[0;32m    409\u001b[0m \u001b[1;33m\u001b[0m\u001b[0m\n\u001b[0;32m    410\u001b[0m             \u001b[1;32mif\u001b[0m \u001b[0misinstance\u001b[0m\u001b[1;33m(\u001b[0m\u001b[0mlibver\u001b[0m\u001b[1;33m,\u001b[0m \u001b[0mtuple\u001b[0m\u001b[1;33m)\u001b[0m\u001b[1;33m:\u001b[0m\u001b[1;33m\u001b[0m\u001b[1;33m\u001b[0m\u001b[0m\n",
      "\u001b[1;32mc:\\Users\\User\\miniconda3\\lib\\site-packages\\h5py\\_hl\\files.py\u001b[0m in \u001b[0;36mmake_fid\u001b[1;34m(name, mode, userblock_size, fapl, fcpl, swmr)\u001b[0m\n\u001b[0;32m    177\u001b[0m         \u001b[0mfid\u001b[0m \u001b[1;33m=\u001b[0m \u001b[0mh5f\u001b[0m\u001b[1;33m.\u001b[0m\u001b[0mcreate\u001b[0m\u001b[1;33m(\u001b[0m\u001b[0mname\u001b[0m\u001b[1;33m,\u001b[0m \u001b[0mh5f\u001b[0m\u001b[1;33m.\u001b[0m\u001b[0mACC_EXCL\u001b[0m\u001b[1;33m,\u001b[0m \u001b[0mfapl\u001b[0m\u001b[1;33m=\u001b[0m\u001b[0mfapl\u001b[0m\u001b[1;33m,\u001b[0m \u001b[0mfcpl\u001b[0m\u001b[1;33m=\u001b[0m\u001b[0mfcpl\u001b[0m\u001b[1;33m)\u001b[0m\u001b[1;33m\u001b[0m\u001b[1;33m\u001b[0m\u001b[0m\n\u001b[0;32m    178\u001b[0m     \u001b[1;32melif\u001b[0m \u001b[0mmode\u001b[0m \u001b[1;33m==\u001b[0m \u001b[1;34m'w'\u001b[0m\u001b[1;33m:\u001b[0m\u001b[1;33m\u001b[0m\u001b[1;33m\u001b[0m\u001b[0m\n\u001b[1;32m--> 179\u001b[1;33m         \u001b[0mfid\u001b[0m \u001b[1;33m=\u001b[0m \u001b[0mh5f\u001b[0m\u001b[1;33m.\u001b[0m\u001b[0mcreate\u001b[0m\u001b[1;33m(\u001b[0m\u001b[0mname\u001b[0m\u001b[1;33m,\u001b[0m \u001b[0mh5f\u001b[0m\u001b[1;33m.\u001b[0m\u001b[0mACC_TRUNC\u001b[0m\u001b[1;33m,\u001b[0m \u001b[0mfapl\u001b[0m\u001b[1;33m=\u001b[0m\u001b[0mfapl\u001b[0m\u001b[1;33m,\u001b[0m \u001b[0mfcpl\u001b[0m\u001b[1;33m=\u001b[0m\u001b[0mfcpl\u001b[0m\u001b[1;33m)\u001b[0m\u001b[1;33m\u001b[0m\u001b[1;33m\u001b[0m\u001b[0m\n\u001b[0m\u001b[0;32m    180\u001b[0m     \u001b[1;32melif\u001b[0m \u001b[0mmode\u001b[0m \u001b[1;33m==\u001b[0m \u001b[1;34m'a'\u001b[0m\u001b[1;33m:\u001b[0m\u001b[1;33m\u001b[0m\u001b[1;33m\u001b[0m\u001b[0m\n\u001b[0;32m    181\u001b[0m         \u001b[1;31m# Open in append mode (read/write).\u001b[0m\u001b[1;33m\u001b[0m\u001b[1;33m\u001b[0m\u001b[1;33m\u001b[0m\u001b[0m\n",
      "\u001b[1;32mh5py\\_objects.pyx\u001b[0m in \u001b[0;36mh5py._objects.with_phil.wrapper\u001b[1;34m()\u001b[0m\n",
      "\u001b[1;32mh5py\\_objects.pyx\u001b[0m in \u001b[0;36mh5py._objects.with_phil.wrapper\u001b[1;34m()\u001b[0m\n",
      "\u001b[1;32mh5py\\h5f.pyx\u001b[0m in \u001b[0;36mh5py.h5f.create\u001b[1;34m()\u001b[0m\n",
      "\u001b[1;31mOSError\u001b[0m: Unable to create file (unable to open file: name = 'RESULTADOS', errno = 13, error message = 'Permission denied', flags = 13, o_flags = 302)"
=======
      "\u001B[1;31m---------------------------------------------------------------------------\u001B[0m",
      "\u001B[1;31mOSError\u001B[0m                                   Traceback (most recent call last)",
      "\u001B[1;32m~\\AppData\\Local\\Temp\\ipykernel_5360\\453696424.py\u001B[0m in \u001B[0;36m<module>\u001B[1;34m\u001B[0m\n\u001B[0;32m      1\u001B[0m \u001B[1;32mfrom\u001B[0m \u001B[0mtraining\u001B[0m\u001B[1;33m.\u001B[0m\u001B[0mutils\u001B[0m \u001B[1;32mimport\u001B[0m \u001B[0mcv_training\u001B[0m\u001B[1;33m\u001B[0m\u001B[1;33m\u001B[0m\u001B[0m\n\u001B[1;32m----> 2\u001B[1;33m \u001B[0mcv_training\u001B[0m\u001B[1;33m(\u001B[0m\u001B[0mmodel\u001B[0m \u001B[1;33m=\u001B[0m \u001B[0mmodel\u001B[0m \u001B[1;33m,\u001B[0m \u001B[0mx_data\u001B[0m\u001B[1;33m=\u001B[0m\u001B[1;33m[\u001B[0m\u001B[0mx_masks\u001B[0m\u001B[1;33m,\u001B[0m\u001B[0mx_data\u001B[0m\u001B[1;33m]\u001B[0m\u001B[1;33m,\u001B[0m \u001B[0my_data\u001B[0m\u001B[1;33m=\u001B[0m\u001B[0my_data\u001B[0m\u001B[1;33m,\u001B[0m\u001B[0mpath_to_save_results\u001B[0m\u001B[1;33m=\u001B[0m\u001B[1;34m'RESULTADOS'\u001B[0m\u001B[1;33m)\u001B[0m\u001B[1;33m\u001B[0m\u001B[1;33m\u001B[0m\u001B[0m\n\u001B[0m",
      "\u001B[1;32mc:\\Users\\User\\Favorites\\Desktop\\PROYECTO-T2022\\re-id-project\\training\\utils.py\u001B[0m in \u001B[0;36mcv_training\u001B[1;34m(model, n_splits, x_data, y_data, path_to_save_results)\u001B[0m\n\u001B[0;32m     53\u001B[0m \u001B[1;33m\u001B[0m\u001B[0m\n\u001B[0;32m     54\u001B[0m         \u001B[1;31m# saving model\u001B[0m\u001B[1;33m\u001B[0m\u001B[1;33m\u001B[0m\u001B[1;33m\u001B[0m\u001B[0m\n\u001B[1;32m---> 55\u001B[1;33m         \u001B[0mmodel\u001B[0m\u001B[1;33m.\u001B[0m\u001B[0msave\u001B[0m\u001B[1;33m(\u001B[0m\u001B[0mpath_to_save_results\u001B[0m\u001B[1;33m)\u001B[0m\u001B[1;33m\u001B[0m\u001B[1;33m\u001B[0m\u001B[0m\n\u001B[0m\u001B[0;32m     56\u001B[0m \u001B[1;33m\u001B[0m\u001B[0m\n\u001B[0;32m     57\u001B[0m         \u001B[1;31m# generate generalization metrics\u001B[0m\u001B[1;33m\u001B[0m\u001B[1;33m\u001B[0m\u001B[1;33m\u001B[0m\u001B[0m\n",
      "\u001B[1;32mc:\\Users\\User\\miniconda3\\lib\\site-packages\\tensorflow_core\\python\\keras\\engine\\network.py\u001B[0m in \u001B[0;36msave\u001B[1;34m(self, filepath, overwrite, include_optimizer, save_format, signatures)\u001B[0m\n\u001B[0;32m   1169\u001B[0m     \"\"\"\n\u001B[0;32m   1170\u001B[0m     saving.save_model(self, filepath, overwrite, include_optimizer, save_format,\n\u001B[1;32m-> 1171\u001B[1;33m                       signatures)\n\u001B[0m\u001B[0;32m   1172\u001B[0m \u001B[1;33m\u001B[0m\u001B[0m\n\u001B[0;32m   1173\u001B[0m   \u001B[1;32mdef\u001B[0m \u001B[0msave_weights\u001B[0m\u001B[1;33m(\u001B[0m\u001B[0mself\u001B[0m\u001B[1;33m,\u001B[0m \u001B[0mfilepath\u001B[0m\u001B[1;33m,\u001B[0m \u001B[0moverwrite\u001B[0m\u001B[1;33m=\u001B[0m\u001B[1;32mTrue\u001B[0m\u001B[1;33m,\u001B[0m \u001B[0msave_format\u001B[0m\u001B[1;33m=\u001B[0m\u001B[1;32mNone\u001B[0m\u001B[1;33m)\u001B[0m\u001B[1;33m:\u001B[0m\u001B[1;33m\u001B[0m\u001B[1;33m\u001B[0m\u001B[0m\n",
      "\u001B[1;32mc:\\Users\\User\\miniconda3\\lib\\site-packages\\tensorflow_core\\python\\keras\\saving\\save.py\u001B[0m in \u001B[0;36msave_model\u001B[1;34m(model, filepath, overwrite, include_optimizer, save_format, signatures)\u001B[0m\n\u001B[0;32m    107\u001B[0m           'or using `save_weights`.')\n\u001B[0;32m    108\u001B[0m     hdf5_format.save_model_to_hdf5(\n\u001B[1;32m--> 109\u001B[1;33m         model, filepath, overwrite, include_optimizer)\n\u001B[0m\u001B[0;32m    110\u001B[0m   \u001B[1;32melse\u001B[0m\u001B[1;33m:\u001B[0m\u001B[1;33m\u001B[0m\u001B[1;33m\u001B[0m\u001B[0m\n\u001B[0;32m    111\u001B[0m     saved_model_save.save(model, filepath, overwrite, include_optimizer,\n",
      "\u001B[1;32mc:\\Users\\User\\miniconda3\\lib\\site-packages\\tensorflow_core\\python\\keras\\saving\\hdf5_format.py\u001B[0m in \u001B[0;36msave_model_to_hdf5\u001B[1;34m(model, filepath, overwrite, include_optimizer)\u001B[0m\n\u001B[0;32m     84\u001B[0m         \u001B[1;32mreturn\u001B[0m\u001B[1;33m\u001B[0m\u001B[1;33m\u001B[0m\u001B[0m\n\u001B[0;32m     85\u001B[0m \u001B[1;33m\u001B[0m\u001B[0m\n\u001B[1;32m---> 86\u001B[1;33m     \u001B[0mf\u001B[0m \u001B[1;33m=\u001B[0m \u001B[0mh5py\u001B[0m\u001B[1;33m.\u001B[0m\u001B[0mFile\u001B[0m\u001B[1;33m(\u001B[0m\u001B[0mfilepath\u001B[0m\u001B[1;33m,\u001B[0m \u001B[0mmode\u001B[0m\u001B[1;33m=\u001B[0m\u001B[1;34m'w'\u001B[0m\u001B[1;33m)\u001B[0m\u001B[1;33m\u001B[0m\u001B[1;33m\u001B[0m\u001B[0m\n\u001B[0m\u001B[0;32m     87\u001B[0m     \u001B[0mopened_new_file\u001B[0m \u001B[1;33m=\u001B[0m \u001B[1;32mTrue\u001B[0m\u001B[1;33m\u001B[0m\u001B[1;33m\u001B[0m\u001B[0m\n\u001B[0;32m     88\u001B[0m   \u001B[1;32melse\u001B[0m\u001B[1;33m:\u001B[0m\u001B[1;33m\u001B[0m\u001B[1;33m\u001B[0m\u001B[0m\n",
      "\u001B[1;32mc:\\Users\\User\\miniconda3\\lib\\site-packages\\h5py\\_hl\\files.py\u001B[0m in \u001B[0;36m__init__\u001B[1;34m(self, name, mode, driver, libver, userblock_size, swmr, rdcc_nslots, rdcc_nbytes, rdcc_w0, track_order, **kwds)\u001B[0m\n\u001B[0;32m    406\u001B[0m                 fid = make_fid(name, mode, userblock_size,\n\u001B[0;32m    407\u001B[0m                                \u001B[0mfapl\u001B[0m\u001B[1;33m,\u001B[0m \u001B[0mfcpl\u001B[0m\u001B[1;33m=\u001B[0m\u001B[0mmake_fcpl\u001B[0m\u001B[1;33m(\u001B[0m\u001B[0mtrack_order\u001B[0m\u001B[1;33m=\u001B[0m\u001B[0mtrack_order\u001B[0m\u001B[1;33m)\u001B[0m\u001B[1;33m,\u001B[0m\u001B[1;33m\u001B[0m\u001B[1;33m\u001B[0m\u001B[0m\n\u001B[1;32m--> 408\u001B[1;33m                                swmr=swmr)\n\u001B[0m\u001B[0;32m    409\u001B[0m \u001B[1;33m\u001B[0m\u001B[0m\n\u001B[0;32m    410\u001B[0m             \u001B[1;32mif\u001B[0m \u001B[0misinstance\u001B[0m\u001B[1;33m(\u001B[0m\u001B[0mlibver\u001B[0m\u001B[1;33m,\u001B[0m \u001B[0mtuple\u001B[0m\u001B[1;33m)\u001B[0m\u001B[1;33m:\u001B[0m\u001B[1;33m\u001B[0m\u001B[1;33m\u001B[0m\u001B[0m\n",
      "\u001B[1;32mc:\\Users\\User\\miniconda3\\lib\\site-packages\\h5py\\_hl\\files.py\u001B[0m in \u001B[0;36mmake_fid\u001B[1;34m(name, mode, userblock_size, fapl, fcpl, swmr)\u001B[0m\n\u001B[0;32m    177\u001B[0m         \u001B[0mfid\u001B[0m \u001B[1;33m=\u001B[0m \u001B[0mh5f\u001B[0m\u001B[1;33m.\u001B[0m\u001B[0mcreate\u001B[0m\u001B[1;33m(\u001B[0m\u001B[0mname\u001B[0m\u001B[1;33m,\u001B[0m \u001B[0mh5f\u001B[0m\u001B[1;33m.\u001B[0m\u001B[0mACC_EXCL\u001B[0m\u001B[1;33m,\u001B[0m \u001B[0mfapl\u001B[0m\u001B[1;33m=\u001B[0m\u001B[0mfapl\u001B[0m\u001B[1;33m,\u001B[0m \u001B[0mfcpl\u001B[0m\u001B[1;33m=\u001B[0m\u001B[0mfcpl\u001B[0m\u001B[1;33m)\u001B[0m\u001B[1;33m\u001B[0m\u001B[1;33m\u001B[0m\u001B[0m\n\u001B[0;32m    178\u001B[0m     \u001B[1;32melif\u001B[0m \u001B[0mmode\u001B[0m \u001B[1;33m==\u001B[0m \u001B[1;34m'w'\u001B[0m\u001B[1;33m:\u001B[0m\u001B[1;33m\u001B[0m\u001B[1;33m\u001B[0m\u001B[0m\n\u001B[1;32m--> 179\u001B[1;33m         \u001B[0mfid\u001B[0m \u001B[1;33m=\u001B[0m \u001B[0mh5f\u001B[0m\u001B[1;33m.\u001B[0m\u001B[0mcreate\u001B[0m\u001B[1;33m(\u001B[0m\u001B[0mname\u001B[0m\u001B[1;33m,\u001B[0m \u001B[0mh5f\u001B[0m\u001B[1;33m.\u001B[0m\u001B[0mACC_TRUNC\u001B[0m\u001B[1;33m,\u001B[0m \u001B[0mfapl\u001B[0m\u001B[1;33m=\u001B[0m\u001B[0mfapl\u001B[0m\u001B[1;33m,\u001B[0m \u001B[0mfcpl\u001B[0m\u001B[1;33m=\u001B[0m\u001B[0mfcpl\u001B[0m\u001B[1;33m)\u001B[0m\u001B[1;33m\u001B[0m\u001B[1;33m\u001B[0m\u001B[0m\n\u001B[0m\u001B[0;32m    180\u001B[0m     \u001B[1;32melif\u001B[0m \u001B[0mmode\u001B[0m \u001B[1;33m==\u001B[0m \u001B[1;34m'a'\u001B[0m\u001B[1;33m:\u001B[0m\u001B[1;33m\u001B[0m\u001B[1;33m\u001B[0m\u001B[0m\n\u001B[0;32m    181\u001B[0m         \u001B[1;31m# Open in append mode (read/write).\u001B[0m\u001B[1;33m\u001B[0m\u001B[1;33m\u001B[0m\u001B[1;33m\u001B[0m\u001B[0m\n",
      "\u001B[1;32mh5py\\_objects.pyx\u001B[0m in \u001B[0;36mh5py._objects.with_phil.wrapper\u001B[1;34m()\u001B[0m\n",
      "\u001B[1;32mh5py\\_objects.pyx\u001B[0m in \u001B[0;36mh5py._objects.with_phil.wrapper\u001B[1;34m()\u001B[0m\n",
      "\u001B[1;32mh5py\\h5f.pyx\u001B[0m in \u001B[0;36mh5py.h5f.create\u001B[1;34m()\u001B[0m\n",
      "\u001B[1;31mOSError\u001B[0m: Unable to create file (unable to open file: name = 'RESULTADOS', errno = 13, error message = 'Permission denied', flags = 13, o_flags = 302)"
>>>>>>> f0ee60a830df54fba2413e5a9401b4d3b68b8589
     ]
    },
    {
     "data": {
      "text/plain": [
       "<Figure size 432x288 with 0 Axes>"
      ]
     },
     "metadata": {},
     "output_type": "display_data"
    }
   ],
   "source": [
<<<<<<< HEAD
    "\n",
    "from training.utils import cv_training\n",
    "cv_training(model = model , x_data=[x_masks,x_data], y_data=y_data,path_to_save_results='RESULTADOS')\n"
=======
    "from training.utils import cv_training\n",
    "cv_training(model = model , x_data=[x_masks,x_data], y_data=y_data,path_to_save_results='RESULTADOS')"
>>>>>>> f0ee60a830df54fba2413e5a9401b4d3b68b8589
   ]
  },
  {
   "cell_type": "code",
   "execution_count": 10,
   "metadata": {
    "collapsed": false,
    "pycharm": {
     "name": "#%%\n"
    }
   },
   "outputs": [
    {
     "name": "stdout",
     "output_type": "stream",
     "text": [
      "1/1 [==============================] - 0s 4ms/sample - loss: 67.5226 - acc: 0.0000e+00\n"
     ]
    },
    {
     "data": {
      "text/plain": [
       "[67.5225830078125, 0.0]"
      ]
     },
     "execution_count": 10,
     "metadata": {},
     "output_type": "execute_result"
    }
   ],
   "source": [
    "model.evaluate(x=[[x_rgb_test[0]], [x_masks_test[0]]], y=y_masks_test[:1, :])"
   ]
<<<<<<< HEAD
=======
  },
  {
   "cell_type": "markdown",
   "source": [
    "# Pamela"
   ],
   "metadata": {
    "collapsed": false,
    "pycharm": {
     "name": "#%% md\n"
    }
   }
  },
  {
   "cell_type": "code",
   "execution_count": 1,
   "outputs": [
    {
     "name": "stderr",
     "output_type": "stream",
     "text": [
      "Using TensorFlow backend.\n"
     ]
    },
    {
     "name": "stdout",
     "output_type": "stream",
     "text": [
      "WARNING:tensorflow:From C:\\Python37\\lib\\site-packages\\tensorflow_core\\python\\ops\\resource_variable_ops.py:1630: calling BaseResourceVariable.__init__ (from tensorflow.python.ops.resource_variable_ops) with constraint is deprecated and will be removed in a future version.\n",
      "Instructions for updating:\n",
      "If using Keras pass *_constraint arguments to layers.\n"
     ]
    }
   ],
   "source": [
    "from utils.Models import individual_feature_model\n",
    "model = individual_feature_model((40, 40, 1))"
   ],
   "metadata": {
    "collapsed": false,
    "pycharm": {
     "name": "#%%\n"
    }
   }
  },
  {
   "cell_type": "code",
   "execution_count": 9,
   "outputs": [],
   "source": [],
   "metadata": {
    "collapsed": false,
    "pycharm": {
     "name": "#%%\n"
    }
   }
>>>>>>> f0ee60a830df54fba2413e5a9401b4d3b68b8589
  }
 ],
 "metadata": {
  "kernelspec": {
   "display_name": "Python 3.7.13 ('base')",
   "language": "python",
   "name": "python3"
  },
  "language_info": {
   "codemirror_mode": {
    "name": "ipython",
    "version": 3
   },
   "file_extension": ".py",
   "mimetype": "text/x-python",
   "name": "python",
   "nbconvert_exporter": "python",
   "pygments_lexer": "ipython3",
   "version": "3.7.13"
  },
  "vscode": {
   "interpreter": {
    "hash": "9429e3d8733c1ac76f5c3b0c6cdd2706acd1fd7b4f8c91f27a242412c8600fc4"
   }
  }
 },
 "nbformat": 4,
 "nbformat_minor": 0
<<<<<<< HEAD
}
=======
}
>>>>>>> f0ee60a830df54fba2413e5a9401b4d3b68b8589
