{
 "cells": [
  {
   "cell_type": "markdown",
   "metadata": {
    "collapsed": false,
    "pycharm": {
     "name": "#%% md\n"
    }
   },
   "source": [
    "## TF tunner samples"
   ]
  },
  {
   "cell_type": "code",
   "execution_count": 1,
   "metadata": {
    "collapsed": true,
    "pycharm": {
     "name": "#%%\n"
    }
   },
   "outputs": [],
   "source": [
    "import tensorflow as tf\n",
    "from tensorflow import keras\n",
    "from tensorflow.keras.callbacks import ReduceLROnPlateau"
   ]
  },
  {
   "cell_type": "code",
   "execution_count": 2,
   "outputs": [
    {
     "name": "stderr",
     "output_type": "stream",
     "text": [
      "Using TensorFlow backend.\n"
     ]
    }
   ],
   "source": [
    "from processing import load_image_dataset\n",
    "x_masked_train, y_masked_train = load_image_dataset('Datasets/espe/masked/train', (40, 40), False)\n",
    "x_masked_test, y_masked_test = load_image_dataset('Datasets/espe/masked/test', (40, 40), False)\n",
    "x_masked_validation, y_masked_validation = load_image_dataset('Datasets/espe/masked/validation', (40, 40), False)"
   ],
   "metadata": {
    "collapsed": false,
    "pycharm": {
     "name": "#%%\n"
    }
   }
  },
  {
   "cell_type": "code",
   "execution_count": 3,
   "outputs": [],
   "source": [
    "from processing import slice_labels\n",
    "x_masks_train, y_masks_train = load_image_dataset('Datasets/espe/masks/train', (40, 40), False)\n",
    "x_masks_test, y_masks_test = load_image_dataset('Datasets/espe/masks/test', (40, 40), False)\n",
    "x_masks_validation, y_masks_validation = load_image_dataset('Datasets/espe/masks/validation', (40, 40), False)"
   ],
   "metadata": {
    "collapsed": false,
    "pycharm": {
     "name": "#%%\n"
    }
   }
  },
  {
   "cell_type": "code",
   "execution_count": 4,
   "outputs": [
    {
     "data": {
      "text/plain": "((10507, 40, 40, 3), (10507, 40, 40, 3))"
     },
     "execution_count": 4,
     "metadata": {},
     "output_type": "execute_result"
    }
   ],
   "source": [
    "x_masked_train.shape, x_masks_train.shape"
   ],
   "metadata": {
    "collapsed": false,
    "pycharm": {
     "name": "#%%\n"
    }
   }
  },
  {
   "cell_type": "code",
   "execution_count": 5,
   "outputs": [],
   "source": [
    "import numpy as np\n",
    "x_masks, y_masks = np.concatenate((x_masks_train, x_masks_validation), axis=0), np.concatenate((y_masks_train, y_masks_validation), axis=0)\n",
    "x_data, y_data = np.concatenate((x_masked_train, x_masked_validation), axis=0), np.concatenate((y_masked_train, y_masked_validation), axis=0)"
   ],
   "metadata": {
    "collapsed": false,
    "pycharm": {
     "name": "#%%\n"
    }
   }
  },
  {
   "cell_type": "code",
   "execution_count": 6,
   "outputs": [
    {
     "name": "stdout",
     "output_type": "stream",
     "text": [
      "(13034, 40, 40, 3)\n",
      "(13034, 40, 40, 3)\n",
      "(13034, 7)\n",
      "(13034, 7)\n"
     ]
    },
    {
     "data": {
      "text/plain": "(True, True)"
     },
     "execution_count": 6,
     "metadata": {},
     "output_type": "execute_result"
    }
   ],
   "source": [
    "#x_masks.shape == x_data.shape, y_masks.shape == y_data.shape\n",
    "print(x_masks.shape)\n",
    "print(x_data.shape)\n",
    "print(y_masks.shape)\n",
    "print(y_data.shape)\n",
    "x_masks.shape == x_data.shape, y_masks.shape == y_data.shape"
   ],
   "metadata": {
    "collapsed": false,
    "pycharm": {
     "name": "#%%\n"
    }
   }
  },
  {
   "cell_type": "markdown",
   "source": [
    "### Training model with masked images"
   ],
   "metadata": {
    "collapsed": false,
    "pycharm": {
     "name": "#%% md\n"
    }
   }
  },
  {
   "cell_type": "code",
   "execution_count": 7,
   "outputs": [
    {
     "name": "stdout",
     "output_type": "stream",
     "text": [
      "WARNING:tensorflow:From C:\\Python37\\lib\\site-packages\\tensorflow_core\\python\\ops\\resource_variable_ops.py:1630: calling BaseResourceVariable.__init__ (from tensorflow.python.ops.resource_variable_ops) with constraint is deprecated and will be removed in a future version.\n",
      "Instructions for updating:\n",
      "If using Keras pass *_constraint arguments to layers.\n",
      "Train on 6951 samples, validate on 1738 samples\n",
      "Epoch 1/20\n",
      "6951/6951 [==============================] - 3s 380us/sample - loss: 15.7274 - acc: 0.7631 - val_loss: 12.9058 - val_acc: 0.7422\n",
      "Epoch 2/20\n",
      "6951/6951 [==============================] - 1s 160us/sample - loss: 0.1005 - acc: 0.9853 - val_loss: 12.4548 - val_acc: 0.7716\n",
      "Epoch 3/20\n",
      "6951/6951 [==============================] - 1s 145us/sample - loss: 0.0745 - acc: 0.9888 - val_loss: 14.4780 - val_acc: 0.7779\n",
      "Epoch 4/20\n",
      "6951/6951 [==============================] - 1s 146us/sample - loss: 0.0221 - acc: 0.9955 - val_loss: 13.6228 - val_acc: 0.8308\n",
      "Epoch 5/20\n",
      "6951/6951 [==============================] - 1s 145us/sample - loss: 0.0061 - acc: 0.9986 - val_loss: 12.7460 - val_acc: 0.7808\n",
      "Epoch 6/20\n",
      "6951/6951 [==============================] - 1s 145us/sample - loss: 4.8978e-04 - acc: 0.9997 - val_loss: 13.4954 - val_acc: 0.8101\n",
      "Epoch 7/20\n",
      "6951/6951 [==============================] - 1s 147us/sample - loss: 1.0514e-04 - acc: 1.0000 - val_loss: 13.5320 - val_acc: 0.8055\n",
      "Epoch 8/20\n",
      "6951/6951 [==============================] - 1s 146us/sample - loss: 6.9088e-05 - acc: 1.0000 - val_loss: 13.6099 - val_acc: 0.8090\n",
      "Epoch 9/20\n",
      "6951/6951 [==============================] - 1s 147us/sample - loss: 4.2121e-05 - acc: 1.0000 - val_loss: 13.6120 - val_acc: 0.8096\n",
      "Epoch 10/20\n",
      "6951/6951 [==============================] - 1s 145us/sample - loss: 3.5085e-05 - acc: 1.0000 - val_loss: 13.6296 - val_acc: 0.8101\n",
      "Epoch 11/20\n",
      "6951/6951 [==============================] - 1s 145us/sample - loss: 3.1121e-05 - acc: 1.0000 - val_loss: 13.6477 - val_acc: 0.8101\n",
      "Epoch 12/20\n",
      "6951/6951 [==============================] - 1s 145us/sample - loss: 2.8722e-05 - acc: 1.0000 - val_loss: 13.6581 - val_acc: 0.8101\n",
      "Epoch 13/20\n",
      "6951/6951 [==============================] - 1s 146us/sample - loss: 2.6370e-05 - acc: 1.0000 - val_loss: 13.6732 - val_acc: 0.8107\n",
      "Epoch 14/20\n",
      "6951/6951 [==============================] - 1s 146us/sample - loss: 2.4652e-05 - acc: 1.0000 - val_loss: 13.6856 - val_acc: 0.8124\n",
      "Epoch 15/20\n",
      "6951/6951 [==============================] - 1s 147us/sample - loss: 2.3255e-05 - acc: 1.0000 - val_loss: 13.7042 - val_acc: 0.8119\n",
      "Epoch 16/20\n",
      "6951/6951 [==============================] - 1s 146us/sample - loss: 2.1770e-05 - acc: 1.0000 - val_loss: 13.7139 - val_acc: 0.8113\n",
      "Epoch 17/20\n",
      "6951/6951 [==============================] - 1s 146us/sample - loss: 2.0676e-05 - acc: 1.0000 - val_loss: 13.7280 - val_acc: 0.8124\n",
      "Epoch 18/20\n",
      "6951/6951 [==============================] - 1s 146us/sample - loss: 1.9665e-05 - acc: 1.0000 - val_loss: 13.7426 - val_acc: 0.8124\n",
      "Epoch 19/20\n",
      "6951/6951 [==============================] - 1s 145us/sample - loss: 1.8734e-05 - acc: 1.0000 - val_loss: 13.7539 - val_acc: 0.8124\n",
      "Epoch 20/20\n",
      "6951/6951 [==============================] - 1s 149us/sample - loss: 1.7916e-05 - acc: 1.0000 - val_loss: 13.7681 - val_acc: 0.8119\n",
      "4345/4345 [==============================] - 1s 198us/sample - loss: 3.4591 - acc: 0.9487\n",
      "Score for fold 1: loss of 3.4591205383879267; acc of 94.86766457557678%\n",
      "Train on 6951 samples, validate on 1738 samples\n",
      "Epoch 1/20\n",
      "6951/6951 [==============================] - 1s 147us/sample - loss: 0.0480 - acc: 0.9945 - val_loss: 17.2042 - val_acc: 0.7710\n",
      "Epoch 2/20\n",
      "6951/6951 [==============================] - 1s 145us/sample - loss: 0.0913 - acc: 0.9876 - val_loss: 18.2740 - val_acc: 0.7117\n",
      "Epoch 3/20\n",
      "6951/6951 [==============================] - 1s 145us/sample - loss: 0.0137 - acc: 0.9965 - val_loss: 17.6413 - val_acc: 0.7457\n",
      "Epoch 4/20\n",
      "6951/6951 [==============================] - 1s 145us/sample - loss: 0.0431 - acc: 0.9934 - val_loss: 16.8095 - val_acc: 0.7537\n",
      "Epoch 5/20\n",
      "6951/6951 [==============================] - 1s 146us/sample - loss: 0.0065 - acc: 0.9983 - val_loss: 16.1475 - val_acc: 0.7440\n",
      "Epoch 6/20\n",
      "6951/6951 [==============================] - 1s 146us/sample - loss: 0.0010 - acc: 0.9997 - val_loss: 17.1052 - val_acc: 0.7578\n",
      "Epoch 7/20\n",
      "6951/6951 [==============================] - 1s 145us/sample - loss: 6.0832e-05 - acc: 1.0000 - val_loss: 17.1061 - val_acc: 0.7566\n",
      "Epoch 8/20\n",
      "6951/6951 [==============================] - 1s 145us/sample - loss: 3.0504e-05 - acc: 1.0000 - val_loss: 17.1190 - val_acc: 0.7578\n",
      "Epoch 9/20\n",
      "6951/6951 [==============================] - 1s 145us/sample - loss: 2.5204e-05 - acc: 1.0000 - val_loss: 17.1304 - val_acc: 0.7566\n",
      "Epoch 10/20\n",
      "6951/6951 [==============================] - 1s 145us/sample - loss: 2.2059e-05 - acc: 1.0000 - val_loss: 17.1537 - val_acc: 0.7583\n",
      "Epoch 11/20\n",
      "6951/6951 [==============================] - 1s 146us/sample - loss: 1.9803e-05 - acc: 1.0000 - val_loss: 17.1766 - val_acc: 0.7583\n",
      "Epoch 12/20\n",
      "6951/6951 [==============================] - 1s 146us/sample - loss: 1.8124e-05 - acc: 1.0000 - val_loss: 17.1933 - val_acc: 0.7583\n",
      "Epoch 13/20\n",
      "6951/6951 [==============================] - 1s 146us/sample - loss: 1.6790e-05 - acc: 1.0000 - val_loss: 17.2326 - val_acc: 0.7583\n",
      "Epoch 14/20\n",
      "6951/6951 [==============================] - 1s 147us/sample - loss: 1.5634e-05 - acc: 1.0000 - val_loss: 17.2487 - val_acc: 0.7572\n",
      "Epoch 15/20\n",
      "6951/6951 [==============================] - 1s 146us/sample - loss: 1.4738e-05 - acc: 1.0000 - val_loss: 17.2773 - val_acc: 0.7572\n",
      "Epoch 16/20\n",
      "6951/6951 [==============================] - 1s 146us/sample - loss: 1.3882e-05 - acc: 1.0000 - val_loss: 17.2984 - val_acc: 0.7572\n",
      "Epoch 17/20\n",
      "6951/6951 [==============================] - 1s 146us/sample - loss: 1.3212e-05 - acc: 1.0000 - val_loss: 17.3237 - val_acc: 0.7572\n",
      "Epoch 18/20\n",
      "6951/6951 [==============================] - 1s 145us/sample - loss: 1.2536e-05 - acc: 1.0000 - val_loss: 17.3383 - val_acc: 0.7566\n",
      "Epoch 19/20\n",
      "6951/6951 [==============================] - 1s 146us/sample - loss: 1.1990e-05 - acc: 1.0000 - val_loss: 17.3607 - val_acc: 0.7572\n",
      "Epoch 20/20\n",
      "6951/6951 [==============================] - 1s 147us/sample - loss: 1.1457e-05 - acc: 1.0000 - val_loss: 17.3792 - val_acc: 0.7566\n",
      "4345/4345 [==============================] - 1s 171us/sample - loss: 2.8857 - acc: 0.9583\n",
      "Score for fold 2: loss of 2.8856630868085724; acc of 95.83429098129272%\n",
      "Train on 6952 samples, validate on 1738 samples\n",
      "Epoch 1/20\n",
      "6952/6952 [==============================] - 1s 168us/sample - loss: 0.0025 - acc: 0.9996 - val_loss: 16.2057 - val_acc: 0.7560\n",
      "Epoch 2/20\n",
      "6952/6952 [==============================] - 1s 145us/sample - loss: 0.0024 - acc: 0.9994 - val_loss: 16.6943 - val_acc: 0.7773\n",
      "Epoch 3/20\n",
      "6952/6952 [==============================] - 1s 145us/sample - loss: 5.4946e-05 - acc: 1.0000 - val_loss: 16.8380 - val_acc: 0.7923\n",
      "Epoch 4/20\n",
      "6952/6952 [==============================] - 1s 145us/sample - loss: 3.4729e-05 - acc: 1.0000 - val_loss: 16.8602 - val_acc: 0.7911\n",
      "Epoch 5/20\n",
      "6952/6952 [==============================] - 1s 146us/sample - loss: 2.5077e-05 - acc: 1.0000 - val_loss: 16.9205 - val_acc: 0.7860\n",
      "Epoch 6/20\n",
      "6952/6952 [==============================] - 1s 148us/sample - loss: 2.1512e-05 - acc: 1.0000 - val_loss: 16.9721 - val_acc: 0.7848\n",
      "Epoch 7/20\n",
      "6952/6952 [==============================] - 1s 147us/sample - loss: 1.9024e-05 - acc: 1.0000 - val_loss: 17.0030 - val_acc: 0.7848\n",
      "Epoch 8/20\n",
      "6952/6952 [==============================] - 1s 145us/sample - loss: 1.6911e-05 - acc: 1.0000 - val_loss: 17.0304 - val_acc: 0.7854\n",
      "Epoch 9/20\n",
      "6952/6952 [==============================] - 1s 146us/sample - loss: 1.5632e-05 - acc: 1.0000 - val_loss: 17.0693 - val_acc: 0.7842\n",
      "Epoch 10/20\n",
      "6952/6952 [==============================] - 1s 146us/sample - loss: 1.4405e-05 - acc: 1.0000 - val_loss: 17.0929 - val_acc: 0.7831\n",
      "Epoch 11/20\n",
      "6952/6952 [==============================] - 1s 146us/sample - loss: 1.3303e-05 - acc: 1.0000 - val_loss: 17.1097 - val_acc: 0.7814\n",
      "Epoch 12/20\n",
      "6952/6952 [==============================] - 1s 146us/sample - loss: 1.2394e-05 - acc: 1.0000 - val_loss: 17.1578 - val_acc: 0.7831\n",
      "Epoch 13/20\n",
      "6952/6952 [==============================] - 1s 145us/sample - loss: 1.1678e-05 - acc: 1.0000 - val_loss: 17.1768 - val_acc: 0.7825\n",
      "Epoch 14/20\n",
      "6952/6952 [==============================] - 1s 146us/sample - loss: 1.1046e-05 - acc: 1.0000 - val_loss: 17.1895 - val_acc: 0.7825\n",
      "Epoch 15/20\n",
      "6952/6952 [==============================] - 1s 146us/sample - loss: 1.0473e-05 - acc: 1.0000 - val_loss: 17.2086 - val_acc: 0.7825\n",
      "Epoch 16/20\n",
      "6952/6952 [==============================] - 1s 147us/sample - loss: 9.9470e-06 - acc: 1.0000 - val_loss: 17.2233 - val_acc: 0.7814\n",
      "Epoch 17/20\n",
      "6952/6952 [==============================] - 1s 146us/sample - loss: 9.5502e-06 - acc: 1.0000 - val_loss: 17.2382 - val_acc: 0.7808\n",
      "Epoch 18/20\n",
      "6952/6952 [==============================] - 1s 145us/sample - loss: 9.1047e-06 - acc: 1.0000 - val_loss: 17.2523 - val_acc: 0.7802\n",
      "Epoch 19/20\n",
      "6952/6952 [==============================] - 1s 145us/sample - loss: 8.7570e-06 - acc: 1.0000 - val_loss: 17.2649 - val_acc: 0.7796\n",
      "Epoch 20/20\n",
      "6952/6952 [==============================] - 1s 145us/sample - loss: 8.4152e-06 - acc: 1.0000 - val_loss: 17.2796 - val_acc: 0.7808\n",
      "4344/4344 [==============================] - 1s 179us/sample - loss: 3.3638 - acc: 0.9583\n",
      "Score for fold 3: loss of 3.3637612353155815; acc of 95.83333134651184%\n"
     ]
    },
    {
     "data": {
      "text/plain": "<Figure size 432x288 with 0 Axes>"
     },
     "metadata": {},
     "output_type": "display_data"
    }
   ],
   "source": [
    "from utils.Models2 import image_classification\n",
    "from training.utils import cv_training\n",
    "\n",
    "model = None\n",
    "\n",
    "model = image_classification((40, 40, 3))\n",
    "\n",
    "cv_training(model = model , x_data=[x_data], y_data=y_data, path_to_save_results='models/own/experiments/Pamela/color/experiment_0')"
   ],
   "metadata": {
    "collapsed": false,
    "pycharm": {
     "name": "#%%\n"
    }
   }
  },
  {
   "cell_type": "markdown",
   "source": [
    "### Training model with masks"
   ],
   "metadata": {
    "collapsed": false,
    "pycharm": {
     "name": "#%% md\n"
    }
   }
  },
  {
   "cell_type": "code",
   "execution_count": 8,
   "outputs": [
    {
     "name": "stdout",
     "output_type": "stream",
     "text": [
      "Train on 6951 samples, validate on 1738 samples\n",
      "Epoch 1/20\n",
      "6951/6951 [==============================] - 2s 263us/sample - loss: 1.7592 - acc: 0.2861 - val_loss: 2.3238 - val_acc: 0.1559\n",
      "Epoch 2/20\n",
      "6951/6951 [==============================] - 1s 150us/sample - loss: 1.2156 - acc: 0.5552 - val_loss: 2.1134 - val_acc: 0.2837\n",
      "Epoch 3/20\n",
      "6951/6951 [==============================] - 1s 149us/sample - loss: 0.9103 - acc: 0.6754 - val_loss: 2.2226 - val_acc: 0.3308\n",
      "Epoch 4/20\n",
      "6951/6951 [==============================] - 1s 148us/sample - loss: 0.6431 - acc: 0.7763 - val_loss: 2.6917 - val_acc: 0.3308\n",
      "Epoch 5/20\n",
      "6951/6951 [==============================] - 1s 147us/sample - loss: 0.5345 - acc: 0.8166 - val_loss: 2.5119 - val_acc: 0.3602\n",
      "Epoch 6/20\n",
      "6951/6951 [==============================] - 1s 148us/sample - loss: 0.3745 - acc: 0.8763 - val_loss: 2.6888 - val_acc: 0.3861\n",
      "Epoch 7/20\n",
      "6951/6951 [==============================] - 1s 148us/sample - loss: 0.2935 - acc: 0.8983 - val_loss: 2.7699 - val_acc: 0.4206\n",
      "Epoch 8/20\n",
      "6951/6951 [==============================] - 1s 148us/sample - loss: 0.2474 - acc: 0.9161 - val_loss: 3.1004 - val_acc: 0.3884\n",
      "Epoch 9/20\n",
      "6951/6951 [==============================] - 1s 148us/sample - loss: 0.1858 - acc: 0.9368 - val_loss: 3.2771 - val_acc: 0.4321\n",
      "Epoch 10/20\n",
      "6951/6951 [==============================] - 1s 147us/sample - loss: 0.1370 - acc: 0.9512 - val_loss: 3.4810 - val_acc: 0.4091\n",
      "Epoch 11/20\n",
      "6951/6951 [==============================] - 1s 149us/sample - loss: 0.1541 - acc: 0.9427 - val_loss: 4.0089 - val_acc: 0.3947\n",
      "Epoch 12/20\n",
      "6951/6951 [==============================] - 1s 148us/sample - loss: 0.1537 - acc: 0.9433 - val_loss: 3.7758 - val_acc: 0.4442\n",
      "Epoch 13/20\n",
      "6951/6951 [==============================] - 1s 150us/sample - loss: 0.0867 - acc: 0.9699 - val_loss: 3.6374 - val_acc: 0.4396\n",
      "Epoch 14/20\n",
      "6951/6951 [==============================] - 1s 148us/sample - loss: 0.0765 - acc: 0.9741 - val_loss: 3.9859 - val_acc: 0.4338\n",
      "Epoch 15/20\n",
      "6951/6951 [==============================] - 1s 148us/sample - loss: 0.0665 - acc: 0.9774 - val_loss: 4.4667 - val_acc: 0.4390\n",
      "Epoch 16/20\n",
      "6951/6951 [==============================] - 1s 149us/sample - loss: 0.0661 - acc: 0.9747 - val_loss: 4.5240 - val_acc: 0.4425\n",
      "Epoch 17/20\n",
      "6951/6951 [==============================] - 1s 149us/sample - loss: 0.0259 - acc: 0.9915 - val_loss: 4.7185 - val_acc: 0.4545\n",
      "Epoch 18/20\n",
      "6951/6951 [==============================] - 1s 148us/sample - loss: 0.0420 - acc: 0.9856 - val_loss: 4.7581 - val_acc: 0.4488\n",
      "Epoch 19/20\n",
      "6951/6951 [==============================] - 1s 149us/sample - loss: 0.0691 - acc: 0.9755 - val_loss: 4.9182 - val_acc: 0.4338\n",
      "Epoch 20/20\n",
      "6951/6951 [==============================] - 1s 151us/sample - loss: 0.0425 - acc: 0.9840 - val_loss: 4.6240 - val_acc: 0.4534\n",
      "4345/4345 [==============================] - 1s 185us/sample - loss: 1.4767 - acc: 0.7779\n",
      "Score for fold 1: loss of 1.4766506302672555; acc of 77.79056429862976%\n",
      "Train on 6951 samples, validate on 1738 samples\n",
      "Epoch 1/20\n",
      "6951/6951 [==============================] - 1s 167us/sample - loss: 0.3550 - acc: 0.8958 - val_loss: 2.6417 - val_acc: 0.4373\n",
      "Epoch 2/20\n",
      "6951/6951 [==============================] - 1s 162us/sample - loss: 0.1526 - acc: 0.9486 - val_loss: 2.9241 - val_acc: 0.4402\n",
      "Epoch 3/20\n",
      "6951/6951 [==============================] - 1s 159us/sample - loss: 0.0942 - acc: 0.9678 - val_loss: 3.4121 - val_acc: 0.4396\n",
      "Epoch 4/20\n",
      "6951/6951 [==============================] - 1s 150us/sample - loss: 0.0765 - acc: 0.9742 - val_loss: 3.6264 - val_acc: 0.4430\n",
      "Epoch 5/20\n",
      "6951/6951 [==============================] - 1s 149us/sample - loss: 0.0607 - acc: 0.9789 - val_loss: 3.8813 - val_acc: 0.4568\n",
      "Epoch 6/20\n",
      "6951/6951 [==============================] - 1s 151us/sample - loss: 0.0421 - acc: 0.9856 - val_loss: 4.1428 - val_acc: 0.4304\n",
      "Epoch 7/20\n",
      "6951/6951 [==============================] - 1s 153us/sample - loss: 0.0481 - acc: 0.9836 - val_loss: 4.5885 - val_acc: 0.4264\n",
      "Epoch 8/20\n",
      "6951/6951 [==============================] - 1s 158us/sample - loss: 0.0724 - acc: 0.9745 - val_loss: 3.8052 - val_acc: 0.4407\n",
      "Epoch 9/20\n",
      "6951/6951 [==============================] - 1s 154us/sample - loss: 0.0430 - acc: 0.9853 - val_loss: 4.6803 - val_acc: 0.4315\n",
      "Epoch 10/20\n",
      "6951/6951 [==============================] - 1s 151us/sample - loss: 0.0599 - acc: 0.9778 - val_loss: 4.3821 - val_acc: 0.4545\n",
      "Epoch 11/20\n",
      "6951/6951 [==============================] - 1s 150us/sample - loss: 0.0595 - acc: 0.9803 - val_loss: 4.3675 - val_acc: 0.4390\n",
      "Epoch 12/20\n",
      "6951/6951 [==============================] - 1s 148us/sample - loss: 0.0457 - acc: 0.9837 - val_loss: 4.2080 - val_acc: 0.4304\n",
      "Epoch 13/20\n",
      "6951/6951 [==============================] - 1s 147us/sample - loss: 0.0144 - acc: 0.9948 - val_loss: 4.6025 - val_acc: 0.4586\n",
      "Epoch 14/20\n",
      "6951/6951 [==============================] - 1s 148us/sample - loss: 0.0059 - acc: 0.9981 - val_loss: 4.9770 - val_acc: 0.4448\n",
      "Epoch 15/20\n",
      "6951/6951 [==============================] - 1s 150us/sample - loss: 0.0019 - acc: 0.9997 - val_loss: 5.2004 - val_acc: 0.4505\n",
      "Epoch 16/20\n",
      "6951/6951 [==============================] - 1s 151us/sample - loss: 4.5474e-04 - acc: 1.0000 - val_loss: 5.2590 - val_acc: 0.4643\n",
      "Epoch 17/20\n",
      "6951/6951 [==============================] - 1s 148us/sample - loss: 2.3175e-04 - acc: 1.0000 - val_loss: 5.3638 - val_acc: 0.4649\n",
      "Epoch 18/20\n",
      "6951/6951 [==============================] - 1s 149us/sample - loss: 1.8444e-04 - acc: 1.0000 - val_loss: 5.4523 - val_acc: 0.4661\n",
      "Epoch 19/20\n",
      "6951/6951 [==============================] - 1s 148us/sample - loss: 1.5619e-04 - acc: 1.0000 - val_loss: 5.5255 - val_acc: 0.4643\n",
      "Epoch 20/20\n",
      "6951/6951 [==============================] - 1s 148us/sample - loss: 1.3591e-04 - acc: 1.0000 - val_loss: 5.5840 - val_acc: 0.4643\n",
      "4345/4345 [==============================] - 1s 160us/sample - loss: 1.1730 - acc: 0.8773\n",
      "Score for fold 2: loss of 1.1729974362457314; acc of 87.73302435874939%\n",
      "Train on 6952 samples, validate on 1738 samples\n",
      "Epoch 1/20\n",
      "6952/6952 [==============================] - 1s 174us/sample - loss: 0.0882 - acc: 0.9740 - val_loss: 3.9130 - val_acc: 0.4609\n",
      "Epoch 2/20\n",
      "6952/6952 [==============================] - 1s 152us/sample - loss: 0.1195 - acc: 0.9604 - val_loss: 3.8028 - val_acc: 0.4476\n",
      "Epoch 3/20\n",
      "6952/6952 [==============================] - 1s 153us/sample - loss: 0.0532 - acc: 0.9809 - val_loss: 3.8474 - val_acc: 0.4839\n",
      "Epoch 4/20\n",
      "6952/6952 [==============================] - 1s 151us/sample - loss: 0.0286 - acc: 0.9908 - val_loss: 4.4469 - val_acc: 0.4977\n",
      "Epoch 5/20\n",
      "6952/6952 [==============================] - 1s 155us/sample - loss: 0.0178 - acc: 0.9937 - val_loss: 4.9989 - val_acc: 0.4614\n",
      "Epoch 6/20\n",
      "6952/6952 [==============================] - 1s 153us/sample - loss: 0.0199 - acc: 0.9932 - val_loss: 5.1375 - val_acc: 0.4591\n",
      "Epoch 7/20\n",
      "6952/6952 [==============================] - 1s 155us/sample - loss: 0.0129 - acc: 0.9960 - val_loss: 5.1582 - val_acc: 0.4522\n",
      "Epoch 8/20\n",
      "6952/6952 [==============================] - 1s 152us/sample - loss: 0.0132 - acc: 0.9963 - val_loss: 6.0463 - val_acc: 0.4540\n",
      "Epoch 9/20\n",
      "6952/6952 [==============================] - 1s 155us/sample - loss: 0.0202 - acc: 0.9938 - val_loss: 4.9902 - val_acc: 0.4753\n",
      "Epoch 10/20\n",
      "6952/6952 [==============================] - 1s 151us/sample - loss: 0.0259 - acc: 0.9917 - val_loss: 4.5933 - val_acc: 0.4724\n",
      "Epoch 11/20\n",
      "6952/6952 [==============================] - 1s 154us/sample - loss: 0.0130 - acc: 0.9954 - val_loss: 5.1453 - val_acc: 0.4689\n",
      "Epoch 12/20\n",
      "6952/6952 [==============================] - 1s 152us/sample - loss: 0.0239 - acc: 0.9931 - val_loss: 5.7136 - val_acc: 0.4661\n",
      "Epoch 13/20\n",
      "6952/6952 [==============================] - 1s 152us/sample - loss: 0.0653 - acc: 0.9783 - val_loss: 4.6266 - val_acc: 0.4442\n",
      "Epoch 14/20\n",
      "6952/6952 [==============================] - 1s 151us/sample - loss: 0.0438 - acc: 0.9866 - val_loss: 4.6984 - val_acc: 0.4528\n",
      "Epoch 15/20\n",
      "6952/6952 [==============================] - 1s 151us/sample - loss: 0.0122 - acc: 0.9971 - val_loss: 4.7902 - val_acc: 0.4574\n",
      "Epoch 16/20\n",
      "6952/6952 [==============================] - 1s 150us/sample - loss: 0.0046 - acc: 0.9987 - val_loss: 4.8096 - val_acc: 0.4816\n",
      "Epoch 17/20\n",
      "6952/6952 [==============================] - 1s 153us/sample - loss: 0.0021 - acc: 0.9997 - val_loss: 5.1492 - val_acc: 0.4862\n",
      "Epoch 18/20\n",
      "6952/6952 [==============================] - 1s 151us/sample - loss: 3.0081e-04 - acc: 1.0000 - val_loss: 5.1911 - val_acc: 0.4724\n",
      "Epoch 19/20\n",
      "6952/6952 [==============================] - 1s 154us/sample - loss: 1.4895e-04 - acc: 1.0000 - val_loss: 5.2754 - val_acc: 0.4753\n",
      "Epoch 20/20\n",
      "6952/6952 [==============================] - 1s 151us/sample - loss: 1.1480e-04 - acc: 1.0000 - val_loss: 5.3430 - val_acc: 0.4764\n",
      "4344/4344 [==============================] - 1s 184us/sample - loss: 1.0349 - acc: 0.8874\n",
      "Score for fold 3: loss of 1.0348877595574617; acc of 88.74309659004211%\n"
     ]
    },
    {
     "data": {
      "text/plain": "<Figure size 432x288 with 0 Axes>"
     },
     "metadata": {},
     "output_type": "display_data"
    }
   ],
   "source": [
    "from utils.Models2 import silhouette_cnn_model\n",
    "from training.utils import cv_training\n",
    "\n",
    "model = None\n",
    "\n",
    "model = silhouette_cnn_model((40, 40, 3))\n",
    "\n",
    "cv_training(model = model , x_data=[x_masks/255], y_data=y_masks, path_to_save_results='models/own/experiments/Pamela/silueta_2/experiment_0')"
   ],
   "metadata": {
    "collapsed": false,
    "pycharm": {
     "name": "#%%\n"
    }
   }
  },
  {
   "cell_type": "markdown",
   "source": [
    "### Training model with masks - color"
   ],
   "metadata": {
    "collapsed": false,
    "pycharm": {
     "name": "#%% md\n"
    }
   }
  },
  {
   "cell_type": "code",
   "execution_count": 10,
   "outputs": [
    {
     "name": "stdout",
     "output_type": "stream",
     "text": [
      "Train on 6951 samples, validate on 1738 samples\n",
      "Epoch 1/20\n",
      "6951/6951 [==============================] - 2s 357us/sample - loss: 7.4685 - acc: 0.7028 - val_loss: 3.8224 - val_acc: 0.7284\n",
      "Epoch 2/20\n",
      "6951/6951 [==============================] - 2s 276us/sample - loss: 0.0643 - acc: 0.9791 - val_loss: 3.9986 - val_acc: 0.8331\n",
      "Epoch 3/20\n",
      "6951/6951 [==============================] - 2s 285us/sample - loss: 0.0416 - acc: 0.9848 - val_loss: 3.9451 - val_acc: 0.7693\n",
      "Epoch 4/20\n",
      "6951/6951 [==============================] - 2s 276us/sample - loss: 0.0248 - acc: 0.9930 - val_loss: 3.1536 - val_acc: 0.8021\n",
      "Epoch 5/20\n",
      "6951/6951 [==============================] - 2s 279us/sample - loss: 0.0367 - acc: 0.9918 - val_loss: 3.7561 - val_acc: 0.7865\n",
      "Epoch 6/20\n",
      "6951/6951 [==============================] - 2s 277us/sample - loss: 0.0152 - acc: 0.9958 - val_loss: 4.6297 - val_acc: 0.8412\n",
      "Epoch 7/20\n",
      "6951/6951 [==============================] - 2s 279us/sample - loss: 0.0015 - acc: 0.9997 - val_loss: 4.8076 - val_acc: 0.8285\n",
      "Epoch 8/20\n",
      "6951/6951 [==============================] - 2s 281us/sample - loss: 5.6046e-04 - acc: 0.9999 - val_loss: 5.2684 - val_acc: 0.8360\n",
      "Epoch 9/20\n",
      "6951/6951 [==============================] - 2s 284us/sample - loss: 1.5996e-04 - acc: 1.0000 - val_loss: 5.3311 - val_acc: 0.8337\n",
      "Epoch 10/20\n",
      "6951/6951 [==============================] - 2s 278us/sample - loss: 8.5006e-05 - acc: 1.0000 - val_loss: 5.4698 - val_acc: 0.8349\n",
      "Epoch 11/20\n",
      "6951/6951 [==============================] - 2s 288us/sample - loss: 5.6196e-05 - acc: 1.0000 - val_loss: 5.4664 - val_acc: 0.8308\n",
      "Epoch 12/20\n",
      "6951/6951 [==============================] - 2s 290us/sample - loss: 3.9935e-05 - acc: 1.0000 - val_loss: 5.5512 - val_acc: 0.8331\n",
      "Epoch 13/20\n",
      "6951/6951 [==============================] - 2s 281us/sample - loss: 3.2357e-05 - acc: 1.0000 - val_loss: 5.6887 - val_acc: 0.8343\n",
      "Epoch 14/20\n",
      "6951/6951 [==============================] - 2s 284us/sample - loss: 2.5913e-05 - acc: 1.0000 - val_loss: 5.8228 - val_acc: 0.8337\n",
      "Epoch 15/20\n",
      "6951/6951 [==============================] - 2s 283us/sample - loss: 2.1066e-05 - acc: 1.0000 - val_loss: 6.0344 - val_acc: 0.8337\n",
      "Epoch 16/20\n",
      "6951/6951 [==============================] - 2s 279us/sample - loss: 1.6662e-05 - acc: 1.0000 - val_loss: 6.1734 - val_acc: 0.8326\n",
      "Epoch 17/20\n",
      "6951/6951 [==============================] - 2s 277us/sample - loss: 1.2963e-05 - acc: 1.0000 - val_loss: 6.2561 - val_acc: 0.8308\n",
      "Epoch 18/20\n",
      "6951/6951 [==============================] - 2s 279us/sample - loss: 9.6459e-06 - acc: 1.0000 - val_loss: 6.2960 - val_acc: 0.8337\n",
      "Epoch 19/20\n",
      "6951/6951 [==============================] - 2s 283us/sample - loss: 7.2834e-06 - acc: 1.0000 - val_loss: 6.3720 - val_acc: 0.8320\n",
      "Epoch 20/20\n",
      "6951/6951 [==============================] - 2s 284us/sample - loss: 6.0283e-06 - acc: 1.0000 - val_loss: 6.3701 - val_acc: 0.8337\n",
      "4345/4345 [==============================] - 1s 261us/sample - loss: 1.3531 - acc: 0.9609\n",
      "Score for fold 1: loss of 1.3531003544580038; acc of 96.08745574951172%\n",
      "Train on 6951 samples, validate on 1738 samples\n",
      "Epoch 1/20\n",
      "6951/6951 [==============================] - 2s 306us/sample - loss: 3.9017 - acc: 0.9049 - val_loss: 11.5433 - val_acc: 0.1381\n",
      "Epoch 2/20\n",
      "6951/6951 [==============================] - 2s 290us/sample - loss: 11.9963 - acc: 0.1898 - val_loss: 1.9476 - val_acc: 0.1358\n",
      "Epoch 3/20\n",
      "6951/6951 [==============================] - 2s 280us/sample - loss: 1.9473 - acc: 0.1483 - val_loss: 1.9479 - val_acc: 0.1358\n",
      "Epoch 4/20\n",
      "6951/6951 [==============================] - 2s 281us/sample - loss: 1.9463 - acc: 0.1483 - val_loss: 1.9477 - val_acc: 0.1358\n",
      "Epoch 5/20\n",
      "6951/6951 [==============================] - 2s 286us/sample - loss: 1.9460 - acc: 0.1483 - val_loss: 1.9481 - val_acc: 0.1358\n",
      "Epoch 6/20\n",
      "6951/6951 [==============================] - 2s 283us/sample - loss: 1.9458 - acc: 0.1483 - val_loss: 1.9483 - val_acc: 0.1358\n",
      "Epoch 7/20\n",
      "6951/6951 [==============================] - 2s 292us/sample - loss: 1.9457 - acc: 0.1483 - val_loss: 1.9484 - val_acc: 0.1358\n",
      "Epoch 8/20\n",
      "6951/6951 [==============================] - 2s 294us/sample - loss: 1.9456 - acc: 0.1483 - val_loss: 1.9486 - val_acc: 0.1358\n",
      "Epoch 9/20\n",
      "6951/6951 [==============================] - 2s 291us/sample - loss: 1.9456 - acc: 0.1483 - val_loss: 1.9487 - val_acc: 0.1358\n",
      "Epoch 10/20\n",
      "6951/6951 [==============================] - 2s 294us/sample - loss: 1.9456 - acc: 0.1483 - val_loss: 1.9487 - val_acc: 0.1358\n",
      "Epoch 11/20\n",
      "6951/6951 [==============================] - 2s 287us/sample - loss: 1.9456 - acc: 0.1483 - val_loss: 1.9487 - val_acc: 0.1358\n",
      "Epoch 12/20\n",
      "6951/6951 [==============================] - 2s 293us/sample - loss: 1.9456 - acc: 0.1483 - val_loss: 1.9487 - val_acc: 0.1358\n",
      "Epoch 13/20\n",
      "6951/6951 [==============================] - 2s 286us/sample - loss: 1.9456 - acc: 0.1483 - val_loss: 1.9488 - val_acc: 0.1358\n",
      "Epoch 14/20\n",
      "6951/6951 [==============================] - 2s 282us/sample - loss: 1.9456 - acc: 0.1483 - val_loss: 1.9490 - val_acc: 0.1358\n",
      "Epoch 15/20\n",
      "6951/6951 [==============================] - 2s 282us/sample - loss: 1.9456 - acc: 0.1483 - val_loss: 1.9489 - val_acc: 0.1358\n",
      "Epoch 16/20\n",
      "6951/6951 [==============================] - 2s 280us/sample - loss: 1.9456 - acc: 0.1483 - val_loss: 1.9491 - val_acc: 0.1358\n",
      "Epoch 17/20\n",
      "6951/6951 [==============================] - 2s 284us/sample - loss: 1.9456 - acc: 0.1483 - val_loss: 1.9488 - val_acc: 0.1358\n",
      "Epoch 18/20\n",
      "6951/6951 [==============================] - 2s 285us/sample - loss: 1.9456 - acc: 0.1483 - val_loss: 1.9486 - val_acc: 0.1358\n",
      "Epoch 19/20\n",
      "6951/6951 [==============================] - 2s 281us/sample - loss: 1.9456 - acc: 0.1483 - val_loss: 1.9487 - val_acc: 0.1358\n",
      "Epoch 20/20\n",
      "6951/6951 [==============================] - 2s 286us/sample - loss: 1.9456 - acc: 0.1483 - val_loss: 1.9486 - val_acc: 0.1358\n",
      "4345/4345 [==============================] - 1s 243us/sample - loss: 1.9467 - acc: 0.1369\n",
      "Score for fold 2: loss of 1.9466666766497016; acc of 13.693900406360626%\n",
      "Train on 6952 samples, validate on 1738 samples\n",
      "Epoch 1/20\n",
      "6952/6952 [==============================] - 2s 317us/sample - loss: 1.9463 - acc: 0.1394 - val_loss: 1.9467 - val_acc: 0.1392\n",
      "Epoch 2/20\n",
      "6952/6952 [==============================] - 2s 289us/sample - loss: 1.9460 - acc: 0.1443 - val_loss: 1.9465 - val_acc: 0.1392\n",
      "Epoch 3/20\n",
      "6952/6952 [==============================] - 2s 279us/sample - loss: 1.9459 - acc: 0.1457 - val_loss: 1.9464 - val_acc: 0.1392\n",
      "Epoch 4/20\n",
      "6952/6952 [==============================] - 2s 280us/sample - loss: 1.9458 - acc: 0.1457 - val_loss: 1.9463 - val_acc: 0.1392\n",
      "Epoch 5/20\n",
      "6952/6952 [==============================] - 2s 279us/sample - loss: 1.9458 - acc: 0.1457 - val_loss: 1.9464 - val_acc: 0.1392\n",
      "Epoch 6/20\n",
      "6952/6952 [==============================] - 2s 294us/sample - loss: 1.9458 - acc: 0.1457 - val_loss: 1.9464 - val_acc: 0.1392\n",
      "Epoch 7/20\n",
      "6952/6952 [==============================] - 2s 285us/sample - loss: 1.9458 - acc: 0.1400 - val_loss: 1.9462 - val_acc: 0.1456\n",
      "Epoch 8/20\n",
      "6952/6952 [==============================] - 2s 280us/sample - loss: 1.9458 - acc: 0.1460 - val_loss: 1.9463 - val_acc: 0.1398\n",
      "Epoch 9/20\n",
      "6952/6952 [==============================] - 2s 285us/sample - loss: 1.9458 - acc: 0.1459 - val_loss: 1.9463 - val_acc: 0.1456\n",
      "Epoch 10/20\n",
      "6952/6952 [==============================] - 2s 283us/sample - loss: 1.9458 - acc: 0.1391 - val_loss: 1.9463 - val_acc: 0.1456\n",
      "Epoch 11/20\n",
      "6952/6952 [==============================] - 2s 284us/sample - loss: 1.9458 - acc: 0.1345 - val_loss: 1.9463 - val_acc: 0.1398\n",
      "Epoch 12/20\n",
      "6952/6952 [==============================] - 2s 288us/sample - loss: 1.9458 - acc: 0.1467 - val_loss: 1.9463 - val_acc: 0.1398\n",
      "Epoch 13/20\n",
      "6952/6952 [==============================] - 2s 282us/sample - loss: 1.9458 - acc: 0.1410 - val_loss: 1.9464 - val_acc: 0.1398\n",
      "Epoch 14/20\n",
      "6952/6952 [==============================] - 2s 284us/sample - loss: 1.9458 - acc: 0.1381 - val_loss: 1.9463 - val_acc: 0.1398\n",
      "Epoch 15/20\n",
      "6952/6952 [==============================] - 2s 305us/sample - loss: 1.9458 - acc: 0.1436 - val_loss: 1.9463 - val_acc: 0.1456\n",
      "Epoch 16/20\n",
      "6952/6952 [==============================] - 2s 284us/sample - loss: 1.9458 - acc: 0.1463 - val_loss: 1.9464 - val_acc: 0.1456\n",
      "Epoch 17/20\n",
      "6952/6952 [==============================] - 2s 277us/sample - loss: 1.9458 - acc: 0.1463 - val_loss: 1.9463 - val_acc: 0.1456\n",
      "Epoch 18/20\n",
      "6952/6952 [==============================] - 2s 275us/sample - loss: 1.9458 - acc: 0.1434 - val_loss: 1.9464 - val_acc: 0.1398\n",
      "Epoch 19/20\n",
      "6952/6952 [==============================] - 2s 282us/sample - loss: 1.9458 - acc: 0.1437 - val_loss: 1.9464 - val_acc: 0.1392\n",
      "Epoch 20/20\n",
      "6952/6952 [==============================] - 2s 279us/sample - loss: 1.9458 - acc: 0.1433 - val_loss: 1.9465 - val_acc: 0.1398\n",
      "4344/4344 [==============================] - 1s 249us/sample - loss: 1.9469 - acc: 0.1379\n",
      "Score for fold 3: loss of 1.9468815304736846; acc of 13.789133727550507%\n"
     ]
    },
    {
     "data": {
      "text/plain": "<Figure size 432x288 with 0 Axes>"
     },
     "metadata": {},
     "output_type": "display_data"
    }
   ],
   "source": [
    "from utils.Models2 import multi_input_model\n",
    "from training.utils import cv_training\n",
    "\n",
    "model = multi_input_model()\n",
    "\n",
    "cv_training(model = model , x_data=[x_data, x_masks/255], y_data=y_masks, path_to_save_results='models/own/experiments/Pamela/silueta_2/experiment_0')"
   ],
   "metadata": {
    "collapsed": false,
    "pycharm": {
     "name": "#%%\n"
    }
   }
  },
  {
   "cell_type": "code",
   "execution_count": null,
   "outputs": [],
   "source": [],
   "metadata": {
    "collapsed": false,
    "pycharm": {
     "name": "#%%\n"
    }
   }
  }
 ],
 "metadata": {
  "kernelspec": {
   "display_name": "Python 3.7.13 ('base')",
   "language": "python",
   "name": "python3"
  },
  "language_info": {
   "codemirror_mode": {
    "name": "ipython",
    "version": 3
   },
   "file_extension": ".py",
   "mimetype": "text/x-python",
   "name": "python",
   "nbconvert_exporter": "python",
   "pygments_lexer": "ipython3",
   "version": "3.7.13"
  },
  "vscode": {
   "interpreter": {
    "hash": "9429e3d8733c1ac76f5c3b0c6cdd2706acd1fd7b4f8c91f27a242412c8600fc4"
   }
  }
 },
 "nbformat": 4,
 "nbformat_minor": 0
}