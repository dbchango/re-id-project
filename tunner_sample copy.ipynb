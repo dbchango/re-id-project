{
 "cells": [
  {
   "cell_type": "markdown",
   "source": [
    "## TF tunner samples"
   ],
   "metadata": {
    "collapsed": false,
    "pycharm": {
     "name": "#%% md\n"
    }
   }
  },
  {
   "cell_type": "code",
   "execution_count": 1,
   "metadata": {
    "collapsed": true,
    "pycharm": {
     "name": "#%%\n"
    }
   },
   "outputs": [],
   "source": [
    "import tensorflow as tf\n",
    "from tensorflow import keras\n",
    "import keras_tuner as kt\n",
    "from tensorflow.keras.callbacks import ReduceLROnPlateau"
   ]
  },
  {
   "cell_type": "code",
   "execution_count": 2,
   "outputs": [
    {
     "name": "stderr",
     "output_type": "stream",
     "text": [
      "Using TensorFlow backend.\n"
     ]
    }
   ],
   "source": [
    "from processing import load_image_dataset\n",
    "\n",
    "x_rgb_train, y_rgb_train = load_image_dataset('Datasets/espe/base/train', (64, 64), True)\n",
    "x_rgb_test, y_rgb_test = load_image_dataset('Datasets/espe/base/test', (64, 64), True)\n",
    "x_rgb_validation, y_rgb_validation = load_image_dataset('Datasets/espe/base/validation', (64, 64), True)"
   ],
   "metadata": {
    "collapsed": false,
    "pycharm": {
     "name": "#%%\n"
    }
   }
  },
  {
   "cell_type": "code",
   "execution_count": 3,
   "outputs": [],
   "source": [
    "from processing import load_csv_data, slice_labels\n",
    "\n",
    "train_path = 'Datasets/espe/lbp_histograms/train'\n",
    "train_data = load_csv_data(train_path)\n",
    "\n",
    "test_path = 'Datasets/espe/lbp_histograms/test'\n",
    "test_data = load_csv_data(test_path)\n",
    "\n",
    "validation_path = 'Datasets/espe/lbp_histograms/validation'\n",
    "validation_data = load_csv_data(validation_path)\n",
    "\n",
    "# train_data.shape, test_data.shape, validation_data.shape\n",
    "x_train, y_train = slice_labels(train_data)\n",
    "x_test, y_test = slice_labels(test_data)\n",
    "x_val, y_val = slice_labels(validation_data)"
   ],
   "metadata": {
    "collapsed": false,
    "pycharm": {
     "name": "#%%\n"
    }
   }
  },
  {
   "cell_type": "code",
   "execution_count": 4,
   "outputs": [],
   "source": [
    "import pandas as pd\n",
    "test_silhouette_dataset = pd.read_csv('Datasets/espe/lbp_histograms/test/test.csv', header=None)[1:]\n",
    "train_silhouette_dataset = pd.read_csv('Datasets/espe/lbp_histograms/train/train.csv', header=None)[1:]\n",
    "val_silhouette_dataset = pd.read_csv('Datasets/espe/lbp_histograms/validation/validation.csv', header=None)[1:]\n",
    "\n",
    "x_slhtt_test, y_slhtt_test = slice_labels(test_silhouette_dataset)\n",
    "x_slhtt_train, y_slhtt_train = slice_labels(train_silhouette_dataset)\n",
    "x_slhtt_val, y_slhtt_val = slice_labels(val_silhouette_dataset)"
   ],
   "metadata": {
    "collapsed": false,
    "pycharm": {
     "name": "#%%\n"
    }
   }
  },
  {
   "cell_type": "code",
   "execution_count": 5,
   "outputs": [
    {
     "data": {
      "text/plain": "((463, 64, 64, 1), (463, 2), (463, 26))"
     },
     "execution_count": 5,
     "metadata": {},
     "output_type": "execute_result"
    }
   ],
   "source": [
    "x_rgb_train.shape, x_slhtt_train.shape, x_train.shape"
   ],
   "metadata": {
    "collapsed": false,
    "pycharm": {
     "name": "#%%\n"
    }
   }
  },
  {
   "cell_type": "code",
   "execution_count": 2,
   "outputs": [
    {
     "name": "stdout",
     "output_type": "stream",
     "text": [
      "WARNING:tensorflow:From C:\\Python37\\lib\\site-packages\\tensorflow_core\\python\\ops\\resource_variable_ops.py:1630: calling BaseResourceVariable.__init__ (from tensorflow.python.ops.resource_variable_ops) with constraint is deprecated and will be removed in a future version.\n",
      "Instructions for updating:\n",
      "If using Keras pass *_constraint arguments to layers.\n"
     ]
    },
    {
     "name": "stderr",
     "output_type": "stream",
     "text": [
      "Using TensorFlow backend.\n"
     ]
    },
    {
     "name": "stdout",
     "output_type": "stream",
     "text": [
      "WARNING:tensorflow:Large dropout rate: 0.8 (>0.5). In TensorFlow 2.x, dropout() uses dropout rate instead of keep_prob. Please ensure that this is intended.\n",
      "WARNING:tensorflow:Large dropout rate: 0.8 (>0.5). In TensorFlow 2.x, dropout() uses dropout rate instead of keep_prob. Please ensure that this is intended.\n",
      "WARNING:tensorflow:Large dropout rate: 0.8 (>0.5). In TensorFlow 2.x, dropout() uses dropout rate instead of keep_prob. Please ensure that this is intended.\n",
      "WARNING:tensorflow:Large dropout rate: 0.8 (>0.5). In TensorFlow 2.x, dropout() uses dropout rate instead of keep_prob. Please ensure that this is intended.\n"
     ]
    }
   ],
   "source": [
    "from utils.Models import proto_model, multi_input_model\n",
    "model = multi_input_model()\n",
    "model.compile(loss='categorical_crossentropy', optimizer='sgd', metrics=['accuracy'])"
   ],
   "metadata": {
    "collapsed": false,
    "pycharm": {
     "name": "#%%\n"
    }
   }
  },
  {
   "cell_type": "code",
   "execution_count": 3,
   "outputs": [
    {
     "ename": "AttributeError",
     "evalue": "'Model' object has no attribute '_container_nodes'",
     "output_type": "error",
     "traceback": [
      "\u001B[1;31m---------------------------------------------------------------------------\u001B[0m",
      "\u001B[1;31mAttributeError\u001B[0m                            Traceback (most recent call last)",
      "\u001B[1;32m~\\AppData\\Local\\Temp\\ipykernel_24332\\870860515.py\u001B[0m in \u001B[0;36m<module>\u001B[1;34m\u001B[0m\n\u001B[0;32m      1\u001B[0m \u001B[1;32mfrom\u001B[0m \u001B[0mkeras\u001B[0m\u001B[1;33m.\u001B[0m\u001B[0mutils\u001B[0m\u001B[1;33m.\u001B[0m\u001B[0mvis_utils\u001B[0m \u001B[1;32mimport\u001B[0m \u001B[0mplot_model\u001B[0m\u001B[1;33m\u001B[0m\u001B[1;33m\u001B[0m\u001B[0m\n\u001B[1;32m----> 2\u001B[1;33m \u001B[0mplot_model\u001B[0m\u001B[1;33m(\u001B[0m\u001B[0mmodel\u001B[0m\u001B[1;33m,\u001B[0m \u001B[0mto_file\u001B[0m\u001B[1;33m=\u001B[0m\u001B[1;34m'multi_input_model.png'\u001B[0m\u001B[1;33m,\u001B[0m \u001B[0mshow_shapes\u001B[0m\u001B[1;33m=\u001B[0m\u001B[1;32mTrue\u001B[0m\u001B[1;33m,\u001B[0m \u001B[0mshow_layer_names\u001B[0m\u001B[1;33m=\u001B[0m\u001B[1;32mTrue\u001B[0m\u001B[1;33m)\u001B[0m\u001B[1;33m\u001B[0m\u001B[1;33m\u001B[0m\u001B[0m\n\u001B[0m",
      "\u001B[1;32mC:\\Python37\\lib\\site-packages\\keras\\utils\\vis_utils.py\u001B[0m in \u001B[0;36mplot_model\u001B[1;34m(model, to_file, show_shapes, show_layer_names, rankdir)\u001B[0m\n\u001B[0;32m    132\u001B[0m             \u001B[1;34m'LR'\u001B[0m \u001B[0mcreates\u001B[0m \u001B[0ma\u001B[0m \u001B[0mhorizontal\u001B[0m \u001B[0mplot\u001B[0m\u001B[1;33m.\u001B[0m\u001B[1;33m\u001B[0m\u001B[1;33m\u001B[0m\u001B[0m\n\u001B[0;32m    133\u001B[0m     \"\"\"\n\u001B[1;32m--> 134\u001B[1;33m     \u001B[0mdot\u001B[0m \u001B[1;33m=\u001B[0m \u001B[0mmodel_to_dot\u001B[0m\u001B[1;33m(\u001B[0m\u001B[0mmodel\u001B[0m\u001B[1;33m,\u001B[0m \u001B[0mshow_shapes\u001B[0m\u001B[1;33m,\u001B[0m \u001B[0mshow_layer_names\u001B[0m\u001B[1;33m,\u001B[0m \u001B[0mrankdir\u001B[0m\u001B[1;33m)\u001B[0m\u001B[1;33m\u001B[0m\u001B[1;33m\u001B[0m\u001B[0m\n\u001B[0m\u001B[0;32m    135\u001B[0m     \u001B[0m_\u001B[0m\u001B[1;33m,\u001B[0m \u001B[0mextension\u001B[0m \u001B[1;33m=\u001B[0m \u001B[0mos\u001B[0m\u001B[1;33m.\u001B[0m\u001B[0mpath\u001B[0m\u001B[1;33m.\u001B[0m\u001B[0msplitext\u001B[0m\u001B[1;33m(\u001B[0m\u001B[0mto_file\u001B[0m\u001B[1;33m)\u001B[0m\u001B[1;33m\u001B[0m\u001B[1;33m\u001B[0m\u001B[0m\n\u001B[0;32m    136\u001B[0m     \u001B[1;32mif\u001B[0m \u001B[1;32mnot\u001B[0m \u001B[0mextension\u001B[0m\u001B[1;33m:\u001B[0m\u001B[1;33m\u001B[0m\u001B[1;33m\u001B[0m\u001B[0m\n",
      "\u001B[1;32mC:\\Python37\\lib\\site-packages\\keras\\utils\\vis_utils.py\u001B[0m in \u001B[0;36mmodel_to_dot\u001B[1;34m(model, show_shapes, show_layer_names, rankdir)\u001B[0m\n\u001B[0;32m    107\u001B[0m         \u001B[1;32mfor\u001B[0m \u001B[0mi\u001B[0m\u001B[1;33m,\u001B[0m \u001B[0mnode\u001B[0m \u001B[1;32min\u001B[0m \u001B[0menumerate\u001B[0m\u001B[1;33m(\u001B[0m\u001B[0mlayer\u001B[0m\u001B[1;33m.\u001B[0m\u001B[0m_inbound_nodes\u001B[0m\u001B[1;33m)\u001B[0m\u001B[1;33m:\u001B[0m\u001B[1;33m\u001B[0m\u001B[1;33m\u001B[0m\u001B[0m\n\u001B[0;32m    108\u001B[0m             \u001B[0mnode_key\u001B[0m \u001B[1;33m=\u001B[0m \u001B[0mlayer\u001B[0m\u001B[1;33m.\u001B[0m\u001B[0mname\u001B[0m \u001B[1;33m+\u001B[0m \u001B[1;34m'_ib-'\u001B[0m \u001B[1;33m+\u001B[0m \u001B[0mstr\u001B[0m\u001B[1;33m(\u001B[0m\u001B[0mi\u001B[0m\u001B[1;33m)\u001B[0m\u001B[1;33m\u001B[0m\u001B[1;33m\u001B[0m\u001B[0m\n\u001B[1;32m--> 109\u001B[1;33m             \u001B[1;32mif\u001B[0m \u001B[0mnode_key\u001B[0m \u001B[1;32min\u001B[0m \u001B[0mmodel\u001B[0m\u001B[1;33m.\u001B[0m\u001B[0m_container_nodes\u001B[0m\u001B[1;33m:\u001B[0m\u001B[1;33m\u001B[0m\u001B[1;33m\u001B[0m\u001B[0m\n\u001B[0m\u001B[0;32m    110\u001B[0m                 \u001B[1;32mfor\u001B[0m \u001B[0minbound_layer\u001B[0m \u001B[1;32min\u001B[0m \u001B[0mnode\u001B[0m\u001B[1;33m.\u001B[0m\u001B[0minbound_layers\u001B[0m\u001B[1;33m:\u001B[0m\u001B[1;33m\u001B[0m\u001B[1;33m\u001B[0m\u001B[0m\n\u001B[0;32m    111\u001B[0m                     \u001B[0minbound_layer_id\u001B[0m \u001B[1;33m=\u001B[0m \u001B[0mstr\u001B[0m\u001B[1;33m(\u001B[0m\u001B[0mid\u001B[0m\u001B[1;33m(\u001B[0m\u001B[0minbound_layer\u001B[0m\u001B[1;33m)\u001B[0m\u001B[1;33m)\u001B[0m\u001B[1;33m\u001B[0m\u001B[1;33m\u001B[0m\u001B[0m\n",
      "\u001B[1;31mAttributeError\u001B[0m: 'Model' object has no attribute '_container_nodes'"
     ]
    }
   ],
   "source": [
    "from keras.utils.vis_utils import plot_model\n",
    "plot_model(model, to_file='multi_input_model.png', show_shapes=True, show_layer_names=True)"
   ],
   "metadata": {
    "collapsed": false,
    "pycharm": {
     "name": "#%%\n"
    }
   }
  },
  {
   "cell_type": "code",
   "execution_count": 7,
   "outputs": [],
   "source": [
    "stop_early = tf.keras.callbacks.EarlyStopping(monitor='val_loss', patience=18)\n",
    "reduce_lr = ReduceLROnPlateau(monitor='val_loss', factor=0.1, patience=4, verbose=1, min_delta=1e-4)\n",
    "callbacks_list = [stop_early, reduce_lr]"
   ],
   "metadata": {
    "collapsed": false,
    "pycharm": {
     "name": "#%%\n"
    }
   }
  },
  {
   "cell_type": "code",
   "execution_count": 9,
   "outputs": [
    {
     "name": "stdout",
     "output_type": "stream",
     "text": [
      "Train on 463 samples, validate on 103 samples\n",
      "Epoch 1/100\n",
      "463/463 [==============================] - 7s 16ms/sample - loss: 1.6500 - acc: 0.4449 - val_loss: 1.6994 - val_acc: 0.4951\n",
      "Epoch 2/100\n",
      "463/463 [==============================] - 7s 16ms/sample - loss: 1.6678 - acc: 0.4168 - val_loss: 1.6994 - val_acc: 0.4951\n",
      "Epoch 3/100\n",
      "463/463 [==============================] - 7s 16ms/sample - loss: 1.6459 - acc: 0.4406 - val_loss: 1.6994 - val_acc: 0.4951\n",
      "Epoch 4/100\n",
      "463/463 [==============================] - 7s 16ms/sample - loss: 1.6515 - acc: 0.4471 - val_loss: 1.6993 - val_acc: 0.4951\n",
      "Epoch 5/100\n",
      "463/463 [==============================] - 7s 16ms/sample - loss: 1.6676 - acc: 0.4212 - val_loss: 1.6993 - val_acc: 0.4951\n",
      "Epoch 6/100\n",
      "463/463 [==============================] - 7s 16ms/sample - loss: 1.6490 - acc: 0.4536 - val_loss: 1.6993 - val_acc: 0.4951\n",
      "Epoch 7/100\n",
      "463/463 [==============================] - 7s 16ms/sample - loss: 1.6659 - acc: 0.4104 - val_loss: 1.6992 - val_acc: 0.4951\n",
      "Epoch 8/100\n",
      "463/463 [==============================] - 7s 16ms/sample - loss: 1.6572 - acc: 0.4471 - val_loss: 1.6992 - val_acc: 0.4951\n",
      "Epoch 9/100\n",
      "463/463 [==============================] - 7s 16ms/sample - loss: 1.6658 - acc: 0.4298 - val_loss: 1.6991 - val_acc: 0.4951\n",
      "Epoch 10/100\n",
      "463/463 [==============================] - 7s 16ms/sample - loss: 1.6492 - acc: 0.4428 - val_loss: 1.6991 - val_acc: 0.4951\n",
      "Epoch 11/100\n",
      "463/463 [==============================] - 7s 16ms/sample - loss: 1.6674 - acc: 0.4147 - val_loss: 1.6991 - val_acc: 0.4951\n",
      "Epoch 12/100\n",
      "463/463 [==============================] - 7s 16ms/sample - loss: 1.6637 - acc: 0.4449 - val_loss: 1.6990 - val_acc: 0.4951\n",
      "Epoch 13/100\n",
      "463/463 [==============================] - 7s 16ms/sample - loss: 1.6557 - acc: 0.4428 - val_loss: 1.6990 - val_acc: 0.4951\n",
      "Epoch 14/100\n",
      "463/463 [==============================] - 7s 16ms/sample - loss: 1.6631 - acc: 0.4233 - val_loss: 1.6990 - val_acc: 0.4951\n",
      "Epoch 15/100\n",
      "463/463 [==============================] - 7s 16ms/sample - loss: 1.6589 - acc: 0.4017 - val_loss: 1.6989 - val_acc: 0.4951\n",
      "Epoch 16/100\n",
      "463/463 [==============================] - 7s 16ms/sample - loss: 1.6616 - acc: 0.4320 - val_loss: 1.6989 - val_acc: 0.4951\n",
      "Epoch 17/100\n",
      "463/463 [==============================] - 7s 16ms/sample - loss: 1.6661 - acc: 0.4255 - val_loss: 1.6989 - val_acc: 0.4951\n",
      "Epoch 18/100\n",
      "463/463 [==============================] - 7s 16ms/sample - loss: 1.6643 - acc: 0.4125 - val_loss: 1.6988 - val_acc: 0.4951\n",
      "Epoch 19/100\n",
      "463/463 [==============================] - 7s 16ms/sample - loss: 1.6641 - acc: 0.4384 - val_loss: 1.6988 - val_acc: 0.4951\n",
      "Epoch 20/100\n",
      "463/463 [==============================] - 7s 16ms/sample - loss: 1.6742 - acc: 0.4168 - val_loss: 1.6988 - val_acc: 0.4951\n",
      "Epoch 21/100\n",
      "463/463 [==============================] - 7s 16ms/sample - loss: 1.6560 - acc: 0.4190 - val_loss: 1.6987 - val_acc: 0.4951\n",
      "Epoch 22/100\n",
      "463/463 [==============================] - 7s 16ms/sample - loss: 1.6649 - acc: 0.4125 - val_loss: 1.6987 - val_acc: 0.4951\n",
      "Epoch 23/100\n",
      "463/463 [==============================] - 7s 16ms/sample - loss: 1.6596 - acc: 0.4341 - val_loss: 1.6987 - val_acc: 0.4951\n",
      "Epoch 24/100\n",
      "463/463 [==============================] - 7s 16ms/sample - loss: 1.6764 - acc: 0.4384 - val_loss: 1.6986 - val_acc: 0.4951\n",
      "Epoch 25/100\n",
      "463/463 [==============================] - 7s 16ms/sample - loss: 1.6569 - acc: 0.4363 - val_loss: 1.6986 - val_acc: 0.4951\n",
      "Epoch 26/100\n",
      "463/463 [==============================] - 7s 16ms/sample - loss: 1.6615 - acc: 0.4212 - val_loss: 1.6986 - val_acc: 0.4951\n",
      "Epoch 27/100\n",
      "463/463 [==============================] - 7s 16ms/sample - loss: 1.6651 - acc: 0.4341 - val_loss: 1.6985 - val_acc: 0.4951\n",
      "Epoch 28/100\n",
      "463/463 [==============================] - 7s 16ms/sample - loss: 1.6630 - acc: 0.4341 - val_loss: 1.6985 - val_acc: 0.4951\n",
      "Epoch 29/100\n",
      "463/463 [==============================] - 7s 16ms/sample - loss: 1.6594 - acc: 0.4039 - val_loss: 1.6985 - val_acc: 0.4951\n",
      "Epoch 30/100\n",
      "463/463 [==============================] - 7s 16ms/sample - loss: 1.6867 - acc: 0.4082 - val_loss: 1.6984 - val_acc: 0.4951\n",
      "Epoch 31/100\n",
      "463/463 [==============================] - 7s 16ms/sample - loss: 1.6540 - acc: 0.4428 - val_loss: 1.6984 - val_acc: 0.4951\n",
      "Epoch 32/100\n",
      "463/463 [==============================] - 7s 16ms/sample - loss: 1.6588 - acc: 0.4363 - val_loss: 1.6984 - val_acc: 0.4951\n",
      "Epoch 33/100\n",
      "463/463 [==============================] - 7s 16ms/sample - loss: 1.6665 - acc: 0.4298 - val_loss: 1.6983 - val_acc: 0.4951\n",
      "Epoch 34/100\n",
      "463/463 [==============================] - 7s 16ms/sample - loss: 1.6497 - acc: 0.4384 - val_loss: 1.6983 - val_acc: 0.4951\n",
      "Epoch 35/100\n",
      "463/463 [==============================] - 7s 16ms/sample - loss: 1.6604 - acc: 0.4298 - val_loss: 1.6983 - val_acc: 0.4951\n",
      "Epoch 36/100\n",
      "463/463 [==============================] - 7s 16ms/sample - loss: 1.6634 - acc: 0.4233 - val_loss: 1.6982 - val_acc: 0.4951\n",
      "Epoch 37/100\n",
      "463/463 [==============================] - 7s 16ms/sample - loss: 1.6673 - acc: 0.4212 - val_loss: 1.6982 - val_acc: 0.4951\n",
      "Epoch 38/100\n",
      "463/463 [==============================] - 7s 16ms/sample - loss: 1.6713 - acc: 0.4039 - val_loss: 1.6982 - val_acc: 0.4951\n",
      "Epoch 39/100\n",
      "463/463 [==============================] - 7s 16ms/sample - loss: 1.6582 - acc: 0.4428 - val_loss: 1.6981 - val_acc: 0.4951\n",
      "Epoch 40/100\n",
      "463/463 [==============================] - 7s 16ms/sample - loss: 1.6653 - acc: 0.4449 - val_loss: 1.6981 - val_acc: 0.4951\n",
      "Epoch 41/100\n",
      "463/463 [==============================] - 7s 16ms/sample - loss: 1.6678 - acc: 0.4276 - val_loss: 1.6980 - val_acc: 0.4951\n",
      "Epoch 42/100\n",
      "463/463 [==============================] - 7s 16ms/sample - loss: 1.6729 - acc: 0.4190 - val_loss: 1.6980 - val_acc: 0.4951\n",
      "Epoch 43/100\n",
      "463/463 [==============================] - 7s 16ms/sample - loss: 1.6562 - acc: 0.4341 - val_loss: 1.6980 - val_acc: 0.4951\n",
      "Epoch 44/100\n",
      "463/463 [==============================] - 7s 16ms/sample - loss: 1.6435 - acc: 0.4665 - val_loss: 1.6979 - val_acc: 0.4951\n",
      "Epoch 45/100\n",
      "463/463 [==============================] - 7s 16ms/sample - loss: 1.6596 - acc: 0.4298 - val_loss: 1.6979 - val_acc: 0.4951\n",
      "Epoch 46/100\n",
      "463/463 [==============================] - 7s 16ms/sample - loss: 1.6581 - acc: 0.4276 - val_loss: 1.6979 - val_acc: 0.4951\n",
      "Epoch 47/100\n",
      "463/463 [==============================] - 7s 16ms/sample - loss: 1.6792 - acc: 0.3866 - val_loss: 1.6978 - val_acc: 0.4951\n",
      "Epoch 48/100\n",
      "463/463 [==============================] - 7s 16ms/sample - loss: 1.6564 - acc: 0.4428 - val_loss: 1.6978 - val_acc: 0.4951\n",
      "Epoch 49/100\n",
      "463/463 [==============================] - 7s 16ms/sample - loss: 1.6676 - acc: 0.4320 - val_loss: 1.6978 - val_acc: 0.4951\n",
      "Epoch 50/100\n",
      "463/463 [==============================] - 7s 16ms/sample - loss: 1.6718 - acc: 0.4190 - val_loss: 1.6977 - val_acc: 0.4951\n",
      "Epoch 51/100\n",
      "463/463 [==============================] - 7s 16ms/sample - loss: 1.6692 - acc: 0.4190 - val_loss: 1.6977 - val_acc: 0.4951\n",
      "Epoch 52/100\n",
      "463/463 [==============================] - 7s 16ms/sample - loss: 1.6534 - acc: 0.4341 - val_loss: 1.6977 - val_acc: 0.4951\n",
      "Epoch 53/100\n",
      "463/463 [==============================] - 7s 16ms/sample - loss: 1.6473 - acc: 0.4406 - val_loss: 1.6976 - val_acc: 0.4951\n",
      "Epoch 54/100\n",
      "463/463 [==============================] - 7s 16ms/sample - loss: 1.6630 - acc: 0.4406 - val_loss: 1.6976 - val_acc: 0.4951\n",
      "Epoch 55/100\n",
      "463/463 [==============================] - 7s 16ms/sample - loss: 1.6717 - acc: 0.3931 - val_loss: 1.6976 - val_acc: 0.4951\n",
      "Epoch 56/100\n",
      "463/463 [==============================] - 7s 16ms/sample - loss: 1.6532 - acc: 0.4492 - val_loss: 1.6975 - val_acc: 0.4951\n",
      "Epoch 57/100\n",
      "463/463 [==============================] - 7s 16ms/sample - loss: 1.6657 - acc: 0.4060 - val_loss: 1.6975 - val_acc: 0.4951\n",
      "Epoch 58/100\n",
      "463/463 [==============================] - 7s 16ms/sample - loss: 1.6624 - acc: 0.4168 - val_loss: 1.6975 - val_acc: 0.5049\n",
      "Epoch 59/100\n",
      "463/463 [==============================] - 7s 16ms/sample - loss: 1.6645 - acc: 0.4708 - val_loss: 1.6974 - val_acc: 0.5049\n",
      "Epoch 60/100\n",
      "463/463 [==============================] - 7s 16ms/sample - loss: 1.6548 - acc: 0.4449 - val_loss: 1.6974 - val_acc: 0.5049\n",
      "Epoch 61/100\n",
      "463/463 [==============================] - 7s 16ms/sample - loss: 1.6666 - acc: 0.4190 - val_loss: 1.6974 - val_acc: 0.5049\n",
      "Epoch 62/100\n",
      "463/463 [==============================] - 7s 16ms/sample - loss: 1.6421 - acc: 0.4320 - val_loss: 1.6973 - val_acc: 0.5049\n",
      "Epoch 63/100\n",
      "463/463 [==============================] - 7s 16ms/sample - loss: 1.6637 - acc: 0.4212 - val_loss: 1.6973 - val_acc: 0.5049\n",
      "Epoch 64/100\n",
      "463/463 [==============================] - 7s 16ms/sample - loss: 1.6520 - acc: 0.4492 - val_loss: 1.6973 - val_acc: 0.5049\n",
      "Epoch 65/100\n",
      "463/463 [==============================] - 7s 16ms/sample - loss: 1.6663 - acc: 0.4233 - val_loss: 1.6972 - val_acc: 0.5049\n",
      "Epoch 66/100\n",
      "463/463 [==============================] - 7s 16ms/sample - loss: 1.6657 - acc: 0.4298 - val_loss: 1.6972 - val_acc: 0.5049\n",
      "Epoch 67/100\n",
      "463/463 [==============================] - 7s 16ms/sample - loss: 1.6713 - acc: 0.4406 - val_loss: 1.6972 - val_acc: 0.5049\n",
      "Epoch 68/100\n",
      "463/463 [==============================] - 7s 16ms/sample - loss: 1.6685 - acc: 0.3996 - val_loss: 1.6971 - val_acc: 0.5049\n",
      "Epoch 69/100\n",
      "463/463 [==============================] - 7s 16ms/sample - loss: 1.6676 - acc: 0.4406 - val_loss: 1.6971 - val_acc: 0.5049\n",
      "Epoch 70/100\n",
      "463/463 [==============================] - 7s 16ms/sample - loss: 1.6492 - acc: 0.4082 - val_loss: 1.6971 - val_acc: 0.5049\n",
      "Epoch 71/100\n",
      "463/463 [==============================] - 7s 16ms/sample - loss: 1.6583 - acc: 0.4406 - val_loss: 1.6970 - val_acc: 0.5049\n",
      "Epoch 72/100\n",
      "463/463 [==============================] - 7s 16ms/sample - loss: 1.6615 - acc: 0.4492 - val_loss: 1.6970 - val_acc: 0.5049\n",
      "Epoch 73/100\n",
      "463/463 [==============================] - 7s 16ms/sample - loss: 1.6642 - acc: 0.4212 - val_loss: 1.6970 - val_acc: 0.5049\n",
      "Epoch 74/100\n",
      "463/463 [==============================] - 7s 16ms/sample - loss: 1.6599 - acc: 0.4514 - val_loss: 1.6969 - val_acc: 0.5049\n",
      "Epoch 75/100\n",
      "463/463 [==============================] - 7s 16ms/sample - loss: 1.6663 - acc: 0.4168 - val_loss: 1.6969 - val_acc: 0.5049\n",
      "Epoch 76/100\n",
      "463/463 [==============================] - 7s 16ms/sample - loss: 1.6500 - acc: 0.4320 - val_loss: 1.6968 - val_acc: 0.5049\n",
      "Epoch 77/100\n",
      "463/463 [==============================] - 7s 16ms/sample - loss: 1.6684 - acc: 0.4276 - val_loss: 1.6968 - val_acc: 0.5049\n",
      "Epoch 78/100\n",
      "463/463 [==============================] - 7s 16ms/sample - loss: 1.6488 - acc: 0.4363 - val_loss: 1.6968 - val_acc: 0.5049\n",
      "Epoch 79/100\n",
      "463/463 [==============================] - 7s 16ms/sample - loss: 1.6573 - acc: 0.4384 - val_loss: 1.6967 - val_acc: 0.5049\n",
      "Epoch 80/100\n",
      "463/463 [==============================] - 7s 16ms/sample - loss: 1.6794 - acc: 0.4125 - val_loss: 1.6967 - val_acc: 0.5049\n",
      "Epoch 81/100\n",
      "463/463 [==============================] - 7s 16ms/sample - loss: 1.6561 - acc: 0.4298 - val_loss: 1.6967 - val_acc: 0.5049\n",
      "Epoch 82/100\n",
      "463/463 [==============================] - 7s 16ms/sample - loss: 1.6594 - acc: 0.4147 - val_loss: 1.6966 - val_acc: 0.5049\n",
      "Epoch 83/100\n",
      "463/463 [==============================] - 7s 16ms/sample - loss: 1.6569 - acc: 0.4082 - val_loss: 1.6966 - val_acc: 0.5049\n",
      "Epoch 84/100\n",
      "463/463 [==============================] - 7s 16ms/sample - loss: 1.6594 - acc: 0.4255 - val_loss: 1.6966 - val_acc: 0.5049\n",
      "Epoch 85/100\n",
      "463/463 [==============================] - 7s 16ms/sample - loss: 1.6504 - acc: 0.4255 - val_loss: 1.6965 - val_acc: 0.5049\n",
      "Epoch 86/100\n",
      "463/463 [==============================] - 7s 16ms/sample - loss: 1.6411 - acc: 0.4579 - val_loss: 1.6965 - val_acc: 0.5049\n",
      "Epoch 87/100\n",
      "463/463 [==============================] - 7s 16ms/sample - loss: 1.6753 - acc: 0.4384 - val_loss: 1.6965 - val_acc: 0.5049\n",
      "Epoch 88/100\n",
      "463/463 [==============================] - 7s 16ms/sample - loss: 1.6644 - acc: 0.4212 - val_loss: 1.6964 - val_acc: 0.5049\n",
      "Epoch 89/100\n",
      "463/463 [==============================] - 7s 16ms/sample - loss: 1.6681 - acc: 0.4406 - val_loss: 1.6964 - val_acc: 0.5049\n",
      "Epoch 90/100\n",
      "463/463 [==============================] - 7s 16ms/sample - loss: 1.6602 - acc: 0.4233 - val_loss: 1.6964 - val_acc: 0.5049\n",
      "Epoch 91/100\n",
      "463/463 [==============================] - 7s 16ms/sample - loss: 1.6506 - acc: 0.4341 - val_loss: 1.6963 - val_acc: 0.5049\n",
      "Epoch 92/100\n",
      "463/463 [==============================] - 7s 16ms/sample - loss: 1.6653 - acc: 0.4298 - val_loss: 1.6963 - val_acc: 0.5049\n",
      "Epoch 93/100\n",
      "463/463 [==============================] - 7s 16ms/sample - loss: 1.6489 - acc: 0.4622 - val_loss: 1.6963 - val_acc: 0.5049\n",
      "Epoch 94/100\n",
      "463/463 [==============================] - 7s 16ms/sample - loss: 1.6543 - acc: 0.4341 - val_loss: 1.6962 - val_acc: 0.5049\n",
      "Epoch 95/100\n",
      "463/463 [==============================] - 7s 16ms/sample - loss: 1.6544 - acc: 0.4708 - val_loss: 1.6962 - val_acc: 0.5049\n",
      "Epoch 96/100\n",
      "463/463 [==============================] - 7s 16ms/sample - loss: 1.6430 - acc: 0.4212 - val_loss: 1.6962 - val_acc: 0.5049\n",
      "Epoch 97/100\n",
      "463/463 [==============================] - 7s 16ms/sample - loss: 1.6529 - acc: 0.4579 - val_loss: 1.6961 - val_acc: 0.5049\n",
      "Epoch 98/100\n",
      "463/463 [==============================] - 7s 16ms/sample - loss: 1.6456 - acc: 0.4644 - val_loss: 1.6961 - val_acc: 0.5049\n",
      "Epoch 99/100\n",
      "463/463 [==============================] - 7s 16ms/sample - loss: 1.6581 - acc: 0.4320 - val_loss: 1.6960 - val_acc: 0.5049\n",
      "Epoch 100/100\n",
      "463/463 [==============================] - 7s 16ms/sample - loss: 1.6587 - acc: 0.4363 - val_loss: 1.6960 - val_acc: 0.5049\n"
     ]
    }
   ],
   "source": [
    "history = model.fit(x=[x_train, x_slhtt_train, x_rgb_train], y=y_train, batch_size=200, epochs=100, validation_data=[[x_val, x_slhtt_val, x_rgb_validation], y_val], callbacks=callbacks_list)"
   ],
   "metadata": {
    "collapsed": false,
    "pycharm": {
     "name": "#%%\n"
    }
   }
  },
  {
   "cell_type": "code",
   "execution_count": 11,
   "outputs": [],
   "source": [
    "import matplotlib.pyplot as plt"
   ],
   "metadata": {
    "collapsed": false,
    "pycharm": {
     "name": "#%%\n"
    }
   }
  },
  {
   "cell_type": "code",
   "execution_count": 13,
   "outputs": [
    {
     "name": "stdout",
     "output_type": "stream",
     "text": [
      "dict_keys(['loss', 'acc', 'val_loss', 'val_acc', 'lr'])\n"
     ]
    }
   ],
   "source": [
    "print(history.history.keys())"
   ],
   "metadata": {
    "collapsed": false,
    "pycharm": {
     "name": "#%%\n"
    }
   }
  },
  {
   "cell_type": "code",
   "execution_count": 15,
   "outputs": [
    {
     "data": {
      "text/plain": "<Figure size 432x288 with 1 Axes>",
      "image/png": "[encoded data removed]"
     },
     "metadata": {
      "needs_background": "light"
     },
     "output_type": "display_data"
    }
   ],
   "source": [
    "plt.plot(history.history['acc'])\n",
    "plt.plot(history.history['val_acc'])\n",
    "plt.title('Model accuracy')\n",
    "plt.xlabel('epochs')\n",
    "plt.ylabel('accuracy')\n",
    "plt.show()"
   ],
   "metadata": {
    "collapsed": false,
    "pycharm": {
     "name": "#%%\n"
    }
   }
  }
 ],
 "metadata": {
  "kernelspec": {
   "display_name": "Python 3",
   "language": "python",
   "name": "python3"
  },
  "language_info": {
   "codemirror_mode": {
    "name": "ipython",
    "version": 2
   },
   "file_extension": ".py",
   "mimetype": "text/x-python",
   "name": "python",
   "nbconvert_exporter": "python",
   "pygments_lexer": "ipython2",
   "version": "2.7.6"
  }
 },
 "nbformat": 4,
 "nbformat_minor": 0
}