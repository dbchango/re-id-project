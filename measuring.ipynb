{
 "cells": [
  {
   "cell_type": "code",
   "execution_count": 34,
   "outputs": [
    {
     "name": "stdout",
     "output_type": "stream",
     "text": [
      "D:/GitHub/re-id-project/Datasets/experiments/sequence/seq_1\\s0_01.jpg\n",
      "D:/GitHub/re-id-project/Datasets/experiments/sequence/seq_1\\s0_010.jpg\n",
      "D:/GitHub/re-id-project/Datasets/experiments/sequence/seq_1\\s0_011.jpg\n",
      "D:/GitHub/re-id-project/Datasets/experiments/sequence/seq_1\\s0_012.jpg\n",
      "D:/GitHub/re-id-project/Datasets/experiments/sequence/seq_1\\s0_013.jpg\n",
      "D:/GitHub/re-id-project/Datasets/experiments/sequence/seq_1\\s0_014.jpg\n",
      "D:/GitHub/re-id-project/Datasets/experiments/sequence/seq_1\\s0_02.jpg\n",
      "D:/GitHub/re-id-project/Datasets/experiments/sequence/seq_1\\s0_03.jpg\n",
      "D:/GitHub/re-id-project/Datasets/experiments/sequence/seq_1\\s0_04.jpg\n",
      "D:/GitHub/re-id-project/Datasets/experiments/sequence/seq_1\\s0_05.jpg\n",
      "D:/GitHub/re-id-project/Datasets/experiments/sequence/seq_1\\s0_06.jpg\n",
      "D:/GitHub/re-id-project/Datasets/experiments/sequence/seq_1\\s0_07.jpg\n",
      "D:/GitHub/re-id-project/Datasets/experiments/sequence/seq_1\\s0_08.jpg\n",
      "D:/GitHub/re-id-project/Datasets/experiments/sequence/seq_1\\s0_09.jpg\n",
      "D:/GitHub/re-id-project/Datasets/experiments/sequence/seq_1\\s1_01.jpg\n",
      "D:/GitHub/re-id-project/Datasets/experiments/sequence/seq_1\\s1_02.jpg\n",
      "D:/GitHub/re-id-project/Datasets/experiments/sequence/seq_1\\s1_03.jpg\n",
      "D:/GitHub/re-id-project/Datasets/experiments/sequence/seq_1\\s1_04.jpg\n",
      "D:/GitHub/re-id-project/Datasets/experiments/sequence/seq_1\\s1_05.jpg\n",
      "D:/GitHub/re-id-project/Datasets/experiments/sequence/seq_1\\s2_01.jpg\n",
      "D:/GitHub/re-id-project/Datasets/experiments/sequence/seq_1\\s2_02.jpg\n",
      "D:/GitHub/re-id-project/Datasets/experiments/sequence/seq_1\\s3_01.jpg\n",
      "D:/GitHub/re-id-project/Datasets/experiments/sequence/seq_1\\s3_02.jpg\n",
      "D:/GitHub/re-id-project/Datasets/experiments/sequence/seq_1\\s3_03.jpg\n",
      "D:/GitHub/re-id-project/Datasets/experiments/sequence/seq_1\\s3_07.jpg\n",
      "D:/GitHub/re-id-project/Datasets/experiments/sequence/seq_1\\s4_01.jpg\n",
      "D:/GitHub/re-id-project/Datasets/experiments/sequence/seq_1\\s4_010.jpg\n",
      "D:/GitHub/re-id-project/Datasets/experiments/sequence/seq_1\\s4_02.jpg\n",
      "D:/GitHub/re-id-project/Datasets/experiments/sequence/seq_1\\s4_03.jpg\n",
      "D:/GitHub/re-id-project/Datasets/experiments/sequence/seq_1\\s4_04.jpg\n",
      "D:/GitHub/re-id-project/Datasets/experiments/sequence/seq_1\\s4_05.jpg\n",
      "D:/GitHub/re-id-project/Datasets/experiments/sequence/seq_1\\s4_06.jpg\n",
      "D:/GitHub/re-id-project/Datasets/experiments/sequence/seq_1\\s4_07.jpg\n",
      "D:/GitHub/re-id-project/Datasets/experiments/sequence/seq_1\\s4_08.jpg\n",
      "D:/GitHub/re-id-project/Datasets/experiments/sequence/seq_1\\s4_09.jpg\n",
      "D:/GitHub/re-id-project/Datasets/experiments/sequence/seq_1\\s5_01.jpg\n",
      "D:/GitHub/re-id-project/Datasets/experiments/sequence/seq_1\\s5_010.jpg\n",
      "D:/GitHub/re-id-project/Datasets/experiments/sequence/seq_1\\s5_011.jpg\n",
      "D:/GitHub/re-id-project/Datasets/experiments/sequence/seq_1\\s5_012.jpg\n",
      "D:/GitHub/re-id-project/Datasets/experiments/sequence/seq_1\\s5_013.jpg\n",
      "D:/GitHub/re-id-project/Datasets/experiments/sequence/seq_1\\s5_014.jpg\n",
      "D:/GitHub/re-id-project/Datasets/experiments/sequence/seq_1\\s5_015.jpg\n",
      "D:/GitHub/re-id-project/Datasets/experiments/sequence/seq_1\\s5_02.jpg\n",
      "D:/GitHub/re-id-project/Datasets/experiments/sequence/seq_1\\s5_03.jpg\n",
      "D:/GitHub/re-id-project/Datasets/experiments/sequence/seq_1\\s5_04.jpg\n",
      "D:/GitHub/re-id-project/Datasets/experiments/sequence/seq_1\\s5_05.jpg\n",
      "D:/GitHub/re-id-project/Datasets/experiments/sequence/seq_1\\s5_06.jpg\n",
      "D:/GitHub/re-id-project/Datasets/experiments/sequence/seq_1\\s5_07.jpg\n",
      "D:/GitHub/re-id-project/Datasets/experiments/sequence/seq_1\\s5_08.jpg\n",
      "D:/GitHub/re-id-project/Datasets/experiments/sequence/seq_1\\s5_09.jpg\n",
      "D:/GitHub/re-id-project/Datasets/experiments/sequence/seq_1\\s6_01.jpg\n",
      "D:/GitHub/re-id-project/Datasets/experiments/sequence/seq_1\\s6_02.jpg\n",
      "D:/GitHub/re-id-project/Datasets/experiments/sequence/seq_1\\s6_03.jpg\n",
      "D:/GitHub/re-id-project/Datasets/experiments/sequence/seq_1\\s6_04.jpg\n",
      "D:/GitHub/re-id-project/Datasets/experiments/sequence/seq_1\\s6_05.jpg\n",
      "D:/GitHub/re-id-project/Datasets/experiments/sequence/seq_1\\s6_06.jpg\n",
      "D:/GitHub/re-id-project/Datasets/experiments/sequence/seq_1\\s6_07.jpg\n"
     ]
    }
   ],
   "source": [
    "import os\n",
    "import re\n",
    "from processing import write_csv\n",
    "\n",
    "path = 'D:/GitHub/re-id-project/Datasets/experiments/sequence/seq_1'\n",
    "\n",
    "\n",
    "\n",
    "def annotate_image_sequence(path):\n",
    "    \"\"\"\n",
    "    This function will create a .csv file with ['class id', 'image path'] of each image, the files in the folder has the name like: 's{class_id}_{counter}.jpg\n",
    "    :param path:\n",
    "    :return:\n",
    "    \"\"\"\n",
    "    data = []\n",
    "    header = ['class', 'path']\n",
    "    for image in os.listdir(path):\n",
    "        if image.endswith('.jpg') is False:\n",
    "            continue\n",
    "        image_path = os.path.join(path, image)\n",
    "        print(image_path)\n",
    "        divisions = re.split('_', string=image[1:])\n",
    "        data.append([divisions[0], image_path])\n",
    "    annotations_file_path = os.path.join(path, 'annotations.csv')\n",
    "    write_csv(annotations_file_path, header, data)\n",
    "\n",
    "annotate_image_sequence(path)"
   ],
   "metadata": {
    "collapsed": false,
    "pycharm": {
     "name": "#%%\n"
    }
   }
  }
 ],
 "metadata": {
  "kernelspec": {
   "display_name": "Python 3",
   "language": "python",
   "name": "python3"
  },
  "language_info": {
   "codemirror_mode": {
    "name": "ipython",
    "version": 2
   },
   "file_extension": ".py",
   "mimetype": "text/x-python",
   "name": "python",
   "nbconvert_exporter": "python",
   "pygments_lexer": "ipython2",
   "version": "2.7.6"
  }
 },
 "nbformat": 4,
 "nbformat_minor": 0
}