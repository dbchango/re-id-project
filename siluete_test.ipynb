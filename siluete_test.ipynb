{
 "cells": [
  {
   "cell_type": "code",
   "execution_count": 1,
   "metadata": {},
   "outputs": [
    {
     "name": "stderr",
     "output_type": "stream",
     "text": [
      "Using TensorFlow backend.\n"
     ]
    }
   ],
   "source": [
    "from keras.models import Sequential\n",
    "from keras.layers import Dense, Conv2D, Flatten\n",
    "import matplotlib.pyplot as plt\n",
    "from keras.datasets import mnist\n",
    "from keras.utils import to_categorical\n",
    "from tensorflow import keras\n",
    "import numpy as np\n",
    "import tensorflow as tf\n"
   ]
  },
  {
   "cell_type": "code",
   "execution_count": 2,
   "metadata": {},
   "outputs": [],
   "source": [
    "#silueta -lectura de datos\n",
    "from processing import load_image_dataset\n",
    "\n",
    "x_slhtt_train, y_slhtt_train = load_image_dataset('Datasets/espe/silueta/train', (40, 40), False)\n",
    "x_slhtt_test, y_slhtt_test = load_image_dataset('Datasets/espe/silueta/test', (40, 40), False)\n",
    "x_slhtt_val, y_slhtt_val = load_image_dataset('Datasets/espe/silueta/validation', (40, 40), False)"
   ]
  },
  {
   "cell_type": "code",
   "execution_count": 3,
   "metadata": {},
   "outputs": [
    {
     "data": {
      "text/plain": [
       "(463, 40, 40, 3)"
      ]
     },
     "execution_count": 3,
     "metadata": {},
     "output_type": "execute_result"
    },
    {
     "data": {
      "image/png": "[encoded data removed]",
      "text/plain": [
       "<Figure size 432x288 with 1 Axes>"
      ]
     },
     "metadata": {
      "needs_background": "light"
     },
     "output_type": "display_data"
    }
   ],
   "source": [
    "#plot the first image in the dataset\n",
    "plt.imshow(x_slhtt_train[0])\n",
    "x_slhtt_train.shape\n"
   ]
  },
  {
   "cell_type": "code",
   "execution_count": 4,
   "metadata": {},
   "outputs": [
    {
     "name": "stdout",
     "output_type": "stream",
     "text": [
      "WARNING:tensorflow:From c:\\Users\\User\\miniconda3\\lib\\site-packages\\tensorflow_core\\python\\ops\\resource_variable_ops.py:1630: calling BaseResourceVariable.__init__ (from tensorflow.python.ops.resource_variable_ops) with constraint is deprecated and will be removed in a future version.\n",
      "Instructions for updating:\n",
      "If using Keras pass *_constraint arguments to layers.\n"
     ]
    }
   ],
   "source": [
    "cnn_model = keras.Sequential()\n",
    "cnn_model.add(keras.layers.Conv2D(filters=16, kernel_size=2, padding='same', activation='relu', input_shape=(40,40,3)))\n",
    "cnn_model.add(keras.layers.MaxPooling2D(pool_size=2))\n",
    "cnn_model.add(keras.layers.Conv2D(filters=32, kernel_size=2, padding='same', activation='relu'))\n",
    "cnn_model.add(keras.layers.MaxPooling2D(pool_size=2))\n",
    "cnn_model.add(keras.layers.Conv2D(filters=64, kernel_size=2, padding='same', activation='relu'))\n",
    "cnn_model.add(keras.layers.MaxPooling2D(pool_size=2))\n",
    "cnn_model.add(keras.layers.Dropout(0.3))\n",
    "cnn_model.add(keras.layers.Flatten())\n",
    "cnn_model.add(keras.layers.Dense(500, activation='relu'))\n",
    "cnn_model.add(keras.layers.Dropout(0.4))\n",
    "cnn_model.add(keras.layers.Dense(7, activation='softmax'))"
   ]
  },
  {
   "cell_type": "code",
   "execution_count": 5,
   "metadata": {},
   "outputs": [],
   "source": [
    "loss_function = tf.keras.losses.CategoricalCrossentropy()\n",
    "\n",
    "optimization_function = tf.keras.optimizers.RMSprop(lr=1e-3)\n",
    "\n",
    "\n",
    "cnn_model.compile(loss='categorical_crossentropy', optimizer=optimization_function, metrics=['acc'])\n"
   ]
  },
  {
   "cell_type": "code",
   "execution_count": 6,
   "metadata": {},
   "outputs": [],
   "source": [
    "import tensorflow as tf\n",
    "from tensorflow import keras\n",
    "from tensorflow.keras.callbacks import ReduceLROnPlateau\n",
    "stop_early = tf.keras.callbacks.EarlyStopping(monitor='val_acc', patience=8)\n",
    "reduce_lr = ReduceLROnPlateau(monitor='val_acc', factor=0.1, patience=4, verbose=1, min_delta=1e-2)\n",
    "callbacks_list = [stop_early, reduce_lr]"
   ]
  },
  {
   "cell_type": "code",
   "execution_count": 7,
   "metadata": {},
   "outputs": [],
   "source": [
    "from keras.callbacks import ModelCheckpoint\n",
    "\n",
    "def train_model(model, saved_model_output, batch_size, epochs, plot_history=True):\n",
    "    checkpointer = ModelCheckpoint(filepath=saved_model_output, save_best_only=True)\n",
    "    \n",
    "    history = model.fit(x_slhtt_train, \n",
    "                     y_slhtt_train, \n",
    "                     batch_size=batch_size, \n",
    "                     epochs=epochs, validation_data=(x_slhtt_val, y_slhtt_val), \n",
    "                     callbacks=callbacks_list, \n",
    "                     shuffle=True)\n",
    "    \n",
    "    if plot_history:\n",
    "        plt.plot(history.history['acc'])\n",
    "        plt.plot(history.history['val_acc'])\n",
    "        plt.title('Model accuracy')\n",
    "        plt.ylabel('Accuracy')\n",
    "        plt.xlabel('Epoch')\n",
    "        plt.legend(['train', 'val'], loc='upper left')\n",
    "        plt.show()"
   ]
  },
  {
   "cell_type": "code",
   "execution_count": 8,
   "metadata": {},
   "outputs": [
    {
     "name": "stdout",
     "output_type": "stream",
     "text": [
      "Train on 463 samples, validate on 103 samples\n",
      "Epoch 1/30\n",
      "463/463 [==============================] - 1s 2ms/sample - loss: 156.3476 - acc: 0.1512 - val_loss: 125.0797 - val_acc: 0.1456\n",
      "Epoch 2/30\n",
      "463/463 [==============================] - 1s 1ms/sample - loss: 105.7346 - acc: 0.1598 - val_loss: 31.9184 - val_acc: 0.1456\n",
      "Epoch 3/30\n",
      "463/463 [==============================] - 1s 1ms/sample - loss: 26.1344 - acc: 0.1620 - val_loss: 5.5850 - val_acc: 0.1456\n",
      "Epoch 4/30\n",
      "463/463 [==============================] - 1s 2ms/sample - loss: 7.7433 - acc: 0.2462 - val_loss: 3.9565 - val_acc: 0.2233\n",
      "Epoch 5/30\n",
      "463/463 [==============================] - 1s 2ms/sample - loss: 6.2798 - acc: 0.3197 - val_loss: 3.6108 - val_acc: 0.2621\n",
      "Epoch 6/30\n",
      "463/463 [==============================] - 1s 2ms/sample - loss: 4.7647 - acc: 0.3434 - val_loss: 3.5248 - val_acc: 0.2233\n",
      "Epoch 7/30\n",
      "463/463 [==============================] - 1s 1ms/sample - loss: 4.2006 - acc: 0.3629 - val_loss: 4.0088 - val_acc: 0.2524\n",
      "Epoch 8/30\n",
      "463/463 [==============================] - 1s 1ms/sample - loss: 3.5167 - acc: 0.4147 - val_loss: 3.4519 - val_acc: 0.2330\n",
      "Epoch 9/30\n",
      "463/463 [==============================] - 1s 1ms/sample - loss: 2.8047 - acc: 0.4708 - val_loss: 3.3198 - val_acc: 0.2816\n",
      "Epoch 10/30\n",
      "463/463 [==============================] - 1s 1ms/sample - loss: 2.6212 - acc: 0.5292 - val_loss: 4.1703 - val_acc: 0.2136\n",
      "Epoch 11/30\n",
      "463/463 [==============================] - 1s 1ms/sample - loss: 2.3388 - acc: 0.5292 - val_loss: 2.9975 - val_acc: 0.2816\n",
      "Epoch 12/30\n",
      "463/463 [==============================] - 1s 1ms/sample - loss: 1.9707 - acc: 0.5378 - val_loss: 3.2379 - val_acc: 0.2913\n",
      "Epoch 13/30\n",
      "256/463 [===============>..............] - ETA: 0s - loss: 1.9440 - acc: 0.5508\n",
      "Epoch 00013: ReduceLROnPlateau reducing learning rate to 0.00010000000474974513.\n",
      "463/463 [==============================] - 1s 2ms/sample - loss: 1.7858 - acc: 0.5767 - val_loss: 2.7923 - val_acc: 0.2621\n",
      "Epoch 14/30\n",
      "463/463 [==============================] - 1s 2ms/sample - loss: 1.4939 - acc: 0.6026 - val_loss: 2.7457 - val_acc: 0.2718\n",
      "Epoch 15/30\n",
      "463/463 [==============================] - 1s 1ms/sample - loss: 1.2450 - acc: 0.6328 - val_loss: 2.7350 - val_acc: 0.2913\n",
      "Epoch 16/30\n",
      "463/463 [==============================] - 1s 1ms/sample - loss: 1.3199 - acc: 0.6415 - val_loss: 2.7543 - val_acc: 0.3010\n",
      "Epoch 17/30\n",
      "463/463 [==============================] - 1s 1ms/sample - loss: 1.1751 - acc: 0.6523 - val_loss: 2.7264 - val_acc: 0.3010\n",
      "Epoch 18/30\n",
      "463/463 [==============================] - 1s 2ms/sample - loss: 1.1850 - acc: 0.6609 - val_loss: 2.7464 - val_acc: 0.2816\n",
      "Epoch 19/30\n",
      "463/463 [==============================] - 1s 2ms/sample - loss: 1.1468 - acc: 0.6717 - val_loss: 2.7123 - val_acc: 0.2816\n",
      "Epoch 20/30\n",
      "256/463 [===============>..............] - ETA: 0s - loss: 1.3326 - acc: 0.6289\n",
      "Epoch 00020: ReduceLROnPlateau reducing learning rate to 1.0000000474974514e-05.\n",
      "463/463 [==============================] - 1s 1ms/sample - loss: 1.2401 - acc: 0.6479 - val_loss: 2.7264 - val_acc: 0.2913\n",
      "Epoch 21/30\n",
      "463/463 [==============================] - 1s 1ms/sample - loss: 0.9095 - acc: 0.7149 - val_loss: 2.7227 - val_acc: 0.2913\n",
      "Epoch 22/30\n",
      "463/463 [==============================] - 1s 1ms/sample - loss: 1.1115 - acc: 0.6911 - val_loss: 2.7200 - val_acc: 0.2913\n",
      "Epoch 23/30\n",
      "463/463 [==============================] - 1s 1ms/sample - loss: 1.3290 - acc: 0.6371 - val_loss: 2.7182 - val_acc: 0.2913\n",
      "Epoch 24/30\n",
      "256/463 [===============>..............] - ETA: 0s - loss: 1.2813 - acc: 0.6250\n",
      "Epoch 00024: ReduceLROnPlateau reducing learning rate to 1.0000000656873453e-06.\n",
      "463/463 [==============================] - 1s 1ms/sample - loss: 1.1667 - acc: 0.6479 - val_loss: 2.7194 - val_acc: 0.2913\n"
     ]
    },
    {
     "data": {
      "image/png": "[encoded data removed]",
      "text/plain": [
       "<Figure size 432x288 with 1 Axes>"
      ]
     },
     "metadata": {
      "needs_background": "light"
     },
     "output_type": "display_data"
    }
   ],
   "source": [
    "CNN_BEST_MODEL_OUTPUT = 'Datasets/cnn.cifar10.rgbMaskImage.h5'\n",
    "\n",
    "EPOCHS = 30\n",
    "BATCH_SIZE = 256\n",
    "train_model(cnn_model, CNN_BEST_MODEL_OUTPUT, BATCH_SIZE, EPOCHS)"
   ]
  },
  {
   "cell_type": "code",
   "execution_count": 9,
   "metadata": {},
   "outputs": [
    {
     "name": "stdout",
     "output_type": "stream",
     "text": [
      "99/99 [==============================] - 0s 584us/sample - loss: 2.9565 - acc: 0.1919\n",
      "MLP test accuracy: 19.191919267177582%\n"
     ]
    }
   ],
   "source": [
    "mlp_score = cnn_model.evaluate(x_slhtt_test, y_slhtt_test)\n",
    "print(f'MLP test accuracy: {100 * mlp_score[1]}%')\n",
    "#rgb -> 70.70707082748413%\n",
    "#silueta -> 19.191919267177582%\n",
    "#histograma ->61.616164445877075%"
   ]
  },
  {
   "cell_type": "code",
   "execution_count": null,
   "metadata": {},
   "outputs": [],
   "source": [
    "# mixto \n",
    "\n",
    "# a =color_histogram_branch()\n",
    "#     #b = silhouette_features_branch()\n",
    "# c = cnn()\n",
    "# fussion = keras.layers.concatenate([a.output, c.output])\n",
    "# fm = keras.layers.BatchNormalization()(fussion)\n",
    "# fm = keras.layers.Dense(units=128,activation='relu')(fm)\n",
    "# fm =  keras.layers.LeakyReLU()(fm)\n",
    "# fm =  keras.layers.BatchNormalization()(fm)\n",
    "# fm =    keras.layers.Dropout(0.5)(fm)\n",
    "# prediction =keras.layers.Dense(units=7, activation='softmax')(fm)\n",
    "# model = keras.models.Model(inputs=[a.input, c.input], outputs=prediction)\n",
    "# my_adam = tf.keras.optimizers.Adam(lr=0.0025, beta_1=0.9, beta_2=0.999, amsgrad=True)\n",
    "# my_loss =  tf.keras.losses.categorical_crossentropy\n",
    "# model.compile(loss='categorical_crossentropy', optimizer=optimization_function, metrics=['accuracy'])"
   ]
  },
  {
   "cell_type": "code",
   "execution_count": null,
   "metadata": {},
   "outputs": [],
   "source": [
    "#imagen \n",
    "def cnn():\n",
    "    cnn_model = keras.Sequential()\n",
    "    cnn_model.add(keras.layers.Conv2D(filters=16, kernel_size=2, padding='same', activation='relu', input_shape=(40,40,3)))\n",
    "    cnn_model.add(keras.layers.MaxPooling2D(pool_size=2))\n",
    "    cnn_model.add(keras.layers.Conv2D(filters=32, kernel_size=2, padding='same', activation='relu'))\n",
    "    cnn_model.add(keras.layers.MaxPooling2D(pool_size=2))\n",
    "    cnn_model.add(keras.layers.Conv2D(filters=64, kernel_size=2, padding='same', activation='relu'))\n",
    "    cnn_model.add(keras.layers.MaxPooling2D(pool_size=2))\n",
    "    cnn_model.add(keras.layers.Dropout(0.3))\n",
    "    cnn_model.add(keras.layers.Flatten())\n",
    "    cnn_model.add(keras.layers.Dense(500, activation='relu'))\n",
    "    cnn_model.add(keras.layers.Dropout(0.4))\n",
    "    #cnn_model.add(keras.layers.Dense(7, activation='softmax'))\n",
    "    return cnn_model"
   ]
  }
 ],
 "metadata": {
  "kernelspec": {
   "display_name": "Python 3.7.13 ('base')",
   "language": "python",
   "name": "python3"
  },
  "language_info": {
   "codemirror_mode": {
    "name": "ipython",
    "version": 3
   },
   "file_extension": ".py",
   "mimetype": "text/x-python",
   "name": "python",
   "nbconvert_exporter": "python",
   "pygments_lexer": "ipython3",
   "version": "3.7.13"
  },
  "orig_nbformat": 4,
  "vscode": {
   "interpreter": {
    "hash": "9429e3d8733c1ac76f5c3b0c6cdd2706acd1fd7b4f8c91f27a242412c8600fc4"
   }
  }
 },
 "nbformat": 4,
 "nbformat_minor": 2
}
