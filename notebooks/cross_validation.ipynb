{
 "cells": [
  {
   "cell_type": "markdown",
   "source": [],
   "metadata": {
    "collapsed": false,
    "pycharm": {
     "name": "#%% md\n"
    }
   }
  },
  {
   "cell_type": "code",
   "execution_count": 1,
   "outputs": [
    {
     "name": "stderr",
     "output_type": "stream",
     "text": [
      "Using TensorFlow backend.\n"
     ]
    }
   ],
   "source": [
    "from processing import load_image_dataset\n",
    "\n",
    "x_rgb_train, y_rgb_train = load_image_dataset('Datasets/espe/lbp_histograms - copia/train', (40, 40), True)\n",
    "x_rgb_test, y_rgb_test = load_image_dataset('Datasets/espe/lbp_histograms - copia/test', (40, 40), True)\n",
    "x_rgb_validation, y_rgb_validation = load_image_dataset('Datasets/espe/lbp_histograms - copia/validation', (40, 40), True)\n",
    "\n",
    "x_masks_train, y_masks_train = load_image_dataset('Datasets/espe/masks/train', (40, 40), True)\n",
    "x_masks_test, y_masks_test = load_image_dataset('Datasets/espe/masks/test', (40, 40), True)\n",
    "x_masks_validation, y_masks_validation = load_image_dataset('Datasets/espe/masks/validation', (40, 40), True)"
   ],
   "metadata": {
    "collapsed": false,
    "pycharm": {
     "name": "#%%\n"
    }
   }
  },
  {
   "cell_type": "code",
   "execution_count": 2,
   "outputs": [],
   "source": [
    "import numpy as np\n",
    "x_masks, y_masks = np.concatenate((x_masks_train, x_masks_validation), axis=0), np.concatenate((y_masks_train, y_masks_validation), axis=0)\n",
    "x_rgb, y_rgb = np.concatenate((x_rgb_train/255, x_rgb_validation/255), axis=0), np.concatenate((y_rgb_train, y_rgb_validation), axis=0)"
   ],
   "metadata": {
    "collapsed": false,
    "pycharm": {
     "name": "#%%\n"
    }
   }
  },
  {
   "cell_type": "code",
   "execution_count": 3,
   "outputs": [
    {
     "data": {
      "text/plain": "(True, True)"
     },
     "execution_count": 3,
     "metadata": {},
     "output_type": "execute_result"
    }
   ],
   "source": [
    "x_masks.shape == x_rgb.shape, y_masks.shape == y_rgb.shape"
   ],
   "metadata": {
    "collapsed": false,
    "pycharm": {
     "name": "#%%\n"
    }
   }
  },
  {
   "cell_type": "code",
   "execution_count": 11,
   "outputs": [
    {
     "ename": "AttributeError",
     "evalue": "'list' object has no attribute 'shape'",
     "output_type": "error",
     "traceback": [
      "\u001B[1;31m---------------------------------------------------------------------------\u001B[0m",
      "\u001B[1;31mAttributeError\u001B[0m                            Traceback (most recent call last)",
      "\u001B[1;32m~\\AppData\\Local\\Temp\\ipykernel_1388\\1003197309.py\u001B[0m in \u001B[0;36m<module>\u001B[1;34m\u001B[0m\n\u001B[0;32m      1\u001B[0m \u001B[0mx_data\u001B[0m \u001B[1;33m=\u001B[0m \u001B[1;33m[\u001B[0m\u001B[0mx_rgb\u001B[0m\u001B[1;33m,\u001B[0m \u001B[0mx_masks\u001B[0m\u001B[1;33m]\u001B[0m\u001B[1;33m\u001B[0m\u001B[1;33m\u001B[0m\u001B[0m\n\u001B[1;32m----> 2\u001B[1;33m \u001B[0mx_data\u001B[0m\u001B[1;33m.\u001B[0m\u001B[0mshape\u001B[0m\u001B[1;33m\u001B[0m\u001B[1;33m\u001B[0m\u001B[0m\n\u001B[0m",
      "\u001B[1;31mAttributeError\u001B[0m: 'list' object has no attribute 'shape'"
     ]
    }
   ],
   "source": [
    "x_data = [x_rgb, x_masks]\n",
    "x_data.shape"
   ],
   "metadata": {
    "collapsed": false,
    "pycharm": {
     "name": "#%%\n"
    }
   }
  },
  {
   "cell_type": "code",
   "execution_count": 4,
   "outputs": [
    {
     "ename": "TypeError",
     "evalue": "list indices must be integers or slices, not tuple",
     "output_type": "error",
     "traceback": [
      "\u001B[1;31m---------------------------------------------------------------------------\u001B[0m",
      "\u001B[1;31mTypeError\u001B[0m                                 Traceback (most recent call last)",
      "\u001B[1;32m~\\AppData\\Local\\Temp\\ipykernel_1388\\1033277809.py\u001B[0m in \u001B[0;36m<module>\u001B[1;34m\u001B[0m\n\u001B[0;32m      1\u001B[0m \u001B[1;32mfrom\u001B[0m \u001B[0mtraining\u001B[0m\u001B[1;33m.\u001B[0m\u001B[0mutils\u001B[0m \u001B[1;32mimport\u001B[0m \u001B[0mcv_training\u001B[0m\u001B[1;33m\u001B[0m\u001B[1;33m\u001B[0m\u001B[0m\n\u001B[1;32m----> 2\u001B[1;33m \u001B[0mcv_training\u001B[0m\u001B[1;33m(\u001B[0m\u001B[0mx_data\u001B[0m\u001B[1;33m=\u001B[0m\u001B[1;33m[\u001B[0m\u001B[0mx_rgb\u001B[0m\u001B[1;33m,\u001B[0m \u001B[0mx_masks\u001B[0m\u001B[1;33m]\u001B[0m\u001B[1;33m,\u001B[0m \u001B[0my_data\u001B[0m\u001B[1;33m=\u001B[0m\u001B[1;33m[\u001B[0m\u001B[0my_rgb\u001B[0m\u001B[1;33m]\u001B[0m\u001B[1;33m)\u001B[0m\u001B[1;33m\u001B[0m\u001B[1;33m\u001B[0m\u001B[0m\n\u001B[0m",
      "\u001B[1;32mD:\\GitHub\\re-id-project\\training\\utils.py\u001B[0m in \u001B[0;36mcv_training\u001B[1;34m(model, n_splits, x_data, y_data)\u001B[0m\n\u001B[0;32m     24\u001B[0m \u001B[1;33m\u001B[0m\u001B[0m\n\u001B[0;32m     25\u001B[0m         \u001B[1;31m# fitting model\u001B[0m\u001B[1;33m\u001B[0m\u001B[1;33m\u001B[0m\u001B[1;33m\u001B[0m\u001B[0m\n\u001B[1;32m---> 26\u001B[1;33m         \u001B[0mprint\u001B[0m\u001B[1;33m(\u001B[0m\u001B[0mx_data\u001B[0m\u001B[1;33m[\u001B[0m\u001B[1;33m:\u001B[0m\u001B[1;33m,\u001B[0m \u001B[0mtrain_index\u001B[0m\u001B[1;33m]\u001B[0m\u001B[1;33m)\u001B[0m\u001B[1;33m\u001B[0m\u001B[1;33m\u001B[0m\u001B[0m\n\u001B[0m",
      "\u001B[1;31mTypeError\u001B[0m: list indices must be integers or slices, not tuple"
     ]
    }
   ],
   "source": [
    "from training.utils import cv_training\n",
    "cv_training(x_data=[x_rgb, x_masks], y_data=[y_rgb])"
   ],
   "metadata": {
    "collapsed": false,
    "pycharm": {
     "name": "#%%\n"
    }
   }
  },
  {
   "cell_type": "code",
   "execution_count": 17,
   "outputs": [
    {
     "name": "stdout",
     "output_type": "stream",
     "text": [
      "Train on 9384 samples, validate on 2346 samples\n",
      "Epoch 1/20\n",
      "9384/9384 [==============================] - 5s 523us/sample - loss: 27.7096 - acc: 0.1725 - val_loss: 19.7031 - val_acc: 0.1624\n",
      "Epoch 2/20\n",
      "9384/9384 [==============================] - 3s 275us/sample - loss: 4.9944 - acc: 0.2239 - val_loss: 2.2705 - val_acc: 0.2123\n",
      "Epoch 3/20\n",
      "9384/9384 [==============================] - 3s 275us/sample - loss: 1.8618 - acc: 0.3529 - val_loss: 2.6945 - val_acc: 0.2298\n",
      "Epoch 4/20\n",
      "9384/9384 [==============================] - 3s 276us/sample - loss: 1.2486 - acc: 0.6012 - val_loss: 1.5411 - val_acc: 0.4885\n",
      "Epoch 5/20\n",
      "9384/9384 [==============================] - 3s 279us/sample - loss: 0.7226 - acc: 0.7491 - val_loss: 1.5547 - val_acc: 0.5175\n",
      "Epoch 6/20\n",
      "9384/9384 [==============================] - 3s 279us/sample - loss: 0.4200 - acc: 0.8638 - val_loss: 1.6791 - val_acc: 0.5563\n",
      "Epoch 7/20\n",
      "9384/9384 [==============================] - 3s 301us/sample - loss: 0.2763 - acc: 0.9102 - val_loss: 2.2851 - val_acc: 0.4983\n",
      "Epoch 8/20\n",
      "9384/9384 [==============================] - 3s 278us/sample - loss: 0.2536 - acc: 0.9194 - val_loss: 1.6009 - val_acc: 0.6049\n",
      "Epoch 9/20\n",
      "9384/9384 [==============================] - 3s 275us/sample - loss: 0.2086 - acc: 0.9516 - val_loss: 1.9487 - val_acc: 0.6151\n",
      "Epoch 10/20\n",
      "9384/9384 [==============================] - 3s 277us/sample - loss: 0.1733 - acc: 0.9566 - val_loss: 4.1060 - val_acc: 0.4872\n",
      "Epoch 11/20\n",
      "9384/9384 [==============================] - 3s 277us/sample - loss: 0.1023 - acc: 0.9710 - val_loss: 2.1497 - val_acc: 0.6202\n",
      "Epoch 12/20\n",
      "9384/9384 [==============================] - 3s 277us/sample - loss: 0.1043 - acc: 0.9717 - val_loss: 1.9669 - val_acc: 0.6543\n",
      "Epoch 13/20\n",
      "9384/9384 [==============================] - 3s 276us/sample - loss: 0.1454 - acc: 0.9715 - val_loss: 3.3078 - val_acc: 0.5473\n",
      "Epoch 14/20\n",
      "9384/9384 [==============================] - 3s 275us/sample - loss: 0.1452 - acc: 0.9722 - val_loss: 2.5477 - val_acc: 0.6355\n",
      "Epoch 15/20\n",
      "9384/9384 [==============================] - 3s 276us/sample - loss: 0.0855 - acc: 0.9806 - val_loss: 4.1332 - val_acc: 0.5835\n",
      "Epoch 16/20\n",
      "9384/9384 [==============================] - 3s 276us/sample - loss: 0.0853 - acc: 0.9790 - val_loss: 3.1637 - val_acc: 0.6215\n",
      "Epoch 17/20\n",
      "9384/9384 [==============================] - 3s 280us/sample - loss: 0.0864 - acc: 0.9821 - val_loss: 3.3197 - val_acc: 0.6198\n",
      "Epoch 18/20\n",
      "9384/9384 [==============================] - 3s 276us/sample - loss: 0.0498 - acc: 0.9850 - val_loss: 3.0083 - val_acc: 0.6509\n",
      "Epoch 19/20\n",
      "9384/9384 [==============================] - 3s 277us/sample - loss: 0.0705 - acc: 0.9821 - val_loss: 3.5631 - val_acc: 0.6198\n",
      "Epoch 20/20\n",
      "9384/9384 [==============================] - 3s 276us/sample - loss: 0.0503 - acc: 0.9867 - val_loss: 2.7660 - val_acc: 0.6701\n",
      "1304/1304 [==============================] - 1s 385us/sample - loss: 0.8331 - acc: 0.8865\n",
      "Score for fold 1: loss of 0.83310784267703; acc of 88.65030407905579%\n",
      "Train on 9384 samples, validate on 2346 samples\n",
      "Epoch 1/20\n",
      "9384/9384 [==============================] - 5s 493us/sample - loss: 20.8635 - acc: 0.1750 - val_loss: 2.4594 - val_acc: 0.1765\n",
      "Epoch 2/20\n",
      "9384/9384 [==============================] - 3s 275us/sample - loss: 4.4983 - acc: 0.2278 - val_loss: 2.2190 - val_acc: 0.1658\n",
      "Epoch 3/20\n",
      "9384/9384 [==============================] - 3s 278us/sample - loss: 1.9544 - acc: 0.3728 - val_loss: 3.9295 - val_acc: 0.1564\n",
      "Epoch 4/20\n",
      "9384/9384 [==============================] - 3s 276us/sample - loss: 1.1715 - acc: 0.5983 - val_loss: 1.6936 - val_acc: 0.4237\n",
      "Epoch 5/20\n",
      "9384/9384 [==============================] - 3s 275us/sample - loss: 0.6987 - acc: 0.7690 - val_loss: 1.7837 - val_acc: 0.5205\n",
      "Epoch 6/20\n",
      "9384/9384 [==============================] - 3s 278us/sample - loss: 0.4164 - acc: 0.8696 - val_loss: 2.3930 - val_acc: 0.4723\n",
      "Epoch 7/20\n",
      "9384/9384 [==============================] - 3s 277us/sample - loss: 0.2612 - acc: 0.9097 - val_loss: 2.2568 - val_acc: 0.5439\n",
      "Epoch 8/20\n",
      "9384/9384 [==============================] - 3s 276us/sample - loss: 0.2387 - acc: 0.9363 - val_loss: 2.1079 - val_acc: 0.5882\n",
      "Epoch 9/20\n",
      "9384/9384 [==============================] - 3s 279us/sample - loss: 0.2684 - acc: 0.9425 - val_loss: 2.0763 - val_acc: 0.6083\n",
      "Epoch 10/20\n",
      "9384/9384 [==============================] - 3s 275us/sample - loss: 0.1919 - acc: 0.9585 - val_loss: 2.2102 - val_acc: 0.6176\n",
      "Epoch 11/20\n",
      "9384/9384 [==============================] - 3s 278us/sample - loss: 0.1303 - acc: 0.9627 - val_loss: 2.4804 - val_acc: 0.6117\n",
      "Epoch 12/20\n",
      "9384/9384 [==============================] - 3s 276us/sample - loss: 0.1618 - acc: 0.9685 - val_loss: 2.2833 - val_acc: 0.6211\n",
      "Epoch 13/20\n",
      "9384/9384 [==============================] - 3s 276us/sample - loss: 0.1380 - acc: 0.9714 - val_loss: 2.2130 - val_acc: 0.6594\n",
      "Epoch 14/20\n",
      "9384/9384 [==============================] - 3s 276us/sample - loss: 0.0976 - acc: 0.9792 - val_loss: 2.3563 - val_acc: 0.6581\n",
      "Epoch 15/20\n",
      "9384/9384 [==============================] - 3s 276us/sample - loss: 0.1962 - acc: 0.9678 - val_loss: 2.6290 - val_acc: 0.6479\n",
      "Epoch 16/20\n",
      "9384/9384 [==============================] - 3s 276us/sample - loss: 0.0634 - acc: 0.9826 - val_loss: 3.4898 - val_acc: 0.6044\n",
      "Epoch 17/20\n",
      "9384/9384 [==============================] - 3s 276us/sample - loss: 0.2468 - acc: 0.9720 - val_loss: 3.6508 - val_acc: 0.5934\n",
      "Epoch 18/20\n",
      "9384/9384 [==============================] - 3s 275us/sample - loss: 0.1001 - acc: 0.9835 - val_loss: 3.1283 - val_acc: 0.6560\n",
      "Epoch 19/20\n",
      "9384/9384 [==============================] - 3s 276us/sample - loss: 0.1568 - acc: 0.9789 - val_loss: 2.7667 - val_acc: 0.6650\n",
      "Epoch 20/20\n",
      "9384/9384 [==============================] - 3s 275us/sample - loss: 0.0869 - acc: 0.9842 - val_loss: 3.2308 - val_acc: 0.6445\n",
      "1304/1304 [==============================] - 1s 420us/sample - loss: 0.9222 - acc: 0.8719\n",
      "Score for fold 2: loss of 0.9221741168269663; acc of 87.19325065612793%\n",
      "Train on 9384 samples, validate on 2346 samples\n",
      "Epoch 1/20\n",
      "9384/9384 [==============================] - 5s 509us/sample - loss: 18.4129 - acc: 0.1760 - val_loss: 4.8347 - val_acc: 0.1364\n",
      "Epoch 2/20\n",
      "9384/9384 [==============================] - 3s 281us/sample - loss: 3.2751 - acc: 0.2206 - val_loss: 2.5058 - val_acc: 0.2080\n",
      "Epoch 3/20\n",
      "9384/9384 [==============================] - 3s 281us/sample - loss: 1.9655 - acc: 0.3052 - val_loss: 2.1144 - val_acc: 0.2566\n",
      "Epoch 4/20\n",
      "9384/9384 [==============================] - 3s 279us/sample - loss: 1.1800 - acc: 0.5981 - val_loss: 1.5119 - val_acc: 0.4919\n",
      "Epoch 5/20\n",
      "9384/9384 [==============================] - 3s 280us/sample - loss: 0.6250 - acc: 0.7850 - val_loss: 1.6439 - val_acc: 0.5188\n",
      "Epoch 6/20\n",
      "9384/9384 [==============================] - 3s 282us/sample - loss: 0.4352 - acc: 0.8535 - val_loss: 1.7228 - val_acc: 0.5384\n",
      "Epoch 7/20\n",
      "9384/9384 [==============================] - 3s 281us/sample - loss: 0.2985 - acc: 0.8968 - val_loss: 1.4359 - val_acc: 0.6232\n",
      "Epoch 8/20\n",
      "9384/9384 [==============================] - 3s 279us/sample - loss: 0.2394 - acc: 0.9227 - val_loss: 1.6994 - val_acc: 0.6142\n",
      "Epoch 9/20\n",
      "9384/9384 [==============================] - 3s 279us/sample - loss: 0.1890 - acc: 0.9431 - val_loss: 2.4117 - val_acc: 0.5529\n",
      "Epoch 10/20\n",
      "9384/9384 [==============================] - 3s 280us/sample - loss: 0.1807 - acc: 0.9542 - val_loss: 2.1129 - val_acc: 0.6164\n",
      "Epoch 11/20\n",
      "9384/9384 [==============================] - 3s 280us/sample - loss: 0.1784 - acc: 0.9556 - val_loss: 2.1160 - val_acc: 0.6432\n",
      "Epoch 12/20\n",
      "9384/9384 [==============================] - 3s 280us/sample - loss: 0.1084 - acc: 0.9773 - val_loss: 3.2628 - val_acc: 0.5482\n",
      "Epoch 13/20\n",
      "9384/9384 [==============================] - 3s 279us/sample - loss: 0.0945 - acc: 0.9751 - val_loss: 3.7780 - val_acc: 0.5699\n",
      "Epoch 14/20\n",
      "9384/9384 [==============================] - 3s 280us/sample - loss: 0.2613 - acc: 0.9645 - val_loss: 2.3449 - val_acc: 0.6517\n",
      "Epoch 15/20\n",
      "9384/9384 [==============================] - 3s 279us/sample - loss: 0.0868 - acc: 0.9799 - val_loss: 2.4292 - val_acc: 0.6616\n",
      "Epoch 16/20\n",
      "9384/9384 [==============================] - 3s 284us/sample - loss: 0.0823 - acc: 0.9847 - val_loss: 3.6334 - val_acc: 0.5946\n",
      "Epoch 17/20\n",
      "9384/9384 [==============================] - 3s 281us/sample - loss: 0.1169 - acc: 0.9763 - val_loss: 3.3222 - val_acc: 0.5823\n",
      "Epoch 18/20\n",
      "9384/9384 [==============================] - 3s 280us/sample - loss: 0.1258 - acc: 0.9786 - val_loss: 3.2070 - val_acc: 0.6245\n",
      "Epoch 19/20\n",
      "9384/9384 [==============================] - 3s 279us/sample - loss: 0.0569 - acc: 0.9872 - val_loss: 3.0589 - val_acc: 0.6458\n",
      "Epoch 20/20\n",
      "9384/9384 [==============================] - 3s 280us/sample - loss: 0.1060 - acc: 0.9826 - val_loss: 3.7419 - val_acc: 0.6194\n",
      "1304/1304 [==============================] - 1s 417us/sample - loss: 1.2686 - acc: 0.8489\n",
      "Score for fold 3: loss of 1.2686460642874358; acc of 84.89263653755188%\n",
      "Train on 9384 samples, validate on 2346 samples\n",
      "Epoch 1/20\n",
      "9384/9384 [==============================] - 5s 517us/sample - loss: 21.2300 - acc: 0.1749 - val_loss: 4.0898 - val_acc: 0.1492\n",
      "Epoch 2/20\n",
      "9384/9384 [==============================] - 3s 281us/sample - loss: 2.5122 - acc: 0.1990 - val_loss: 1.9684 - val_acc: 0.1206\n",
      "Epoch 3/20\n",
      "9384/9384 [==============================] - 3s 277us/sample - loss: 3.0293 - acc: 0.2614 - val_loss: 1.8389 - val_acc: 0.2532\n",
      "Epoch 4/20\n",
      "9384/9384 [==============================] - 3s 277us/sample - loss: 1.3615 - acc: 0.4954 - val_loss: 4.2455 - val_acc: 0.2361\n",
      "Epoch 5/20\n",
      "9384/9384 [==============================] - 3s 280us/sample - loss: 1.0774 - acc: 0.6401 - val_loss: 1.3543 - val_acc: 0.5269\n",
      "Epoch 6/20\n",
      "9384/9384 [==============================] - 3s 281us/sample - loss: 0.7893 - acc: 0.7302 - val_loss: 1.8842 - val_acc: 0.5213\n",
      "Epoch 7/20\n",
      "9384/9384 [==============================] - 3s 280us/sample - loss: 0.5730 - acc: 0.8022 - val_loss: 1.2170 - val_acc: 0.6189\n",
      "Epoch 8/20\n",
      "9384/9384 [==============================] - 3s 288us/sample - loss: 0.4793 - acc: 0.8420 - val_loss: 1.5745 - val_acc: 0.5853\n",
      "Epoch 9/20\n",
      "9384/9384 [==============================] - 3s 278us/sample - loss: 0.3771 - acc: 0.8714 - val_loss: 1.2251 - val_acc: 0.6441\n",
      "Epoch 10/20\n",
      "9384/9384 [==============================] - 3s 278us/sample - loss: 0.3084 - acc: 0.9004 - val_loss: 1.3085 - val_acc: 0.6505\n",
      "Epoch 11/20\n",
      "9384/9384 [==============================] - 3s 279us/sample - loss: 0.2317 - acc: 0.9184 - val_loss: 1.3625 - val_acc: 0.6641\n",
      "Epoch 12/20\n",
      "9384/9384 [==============================] - 3s 277us/sample - loss: 0.1704 - acc: 0.9413 - val_loss: 1.4772 - val_acc: 0.6530\n",
      "Epoch 13/20\n",
      "9384/9384 [==============================] - 3s 277us/sample - loss: 0.2227 - acc: 0.9483 - val_loss: 1.8484 - val_acc: 0.6398\n",
      "Epoch 14/20\n",
      "9384/9384 [==============================] - 3s 277us/sample - loss: 0.1823 - acc: 0.9542 - val_loss: 1.6640 - val_acc: 0.6598\n",
      "Epoch 15/20\n",
      "9384/9384 [==============================] - 3s 277us/sample - loss: 0.0896 - acc: 0.9728 - val_loss: 1.9362 - val_acc: 0.6688\n",
      "Epoch 16/20\n",
      "9384/9384 [==============================] - 3s 278us/sample - loss: 0.1011 - acc: 0.9694 - val_loss: 1.8352 - val_acc: 0.6790\n",
      "Epoch 17/20\n",
      "9384/9384 [==============================] - 3s 277us/sample - loss: 0.0768 - acc: 0.9790 - val_loss: 2.0339 - val_acc: 0.6718\n",
      "Epoch 18/20\n",
      "9384/9384 [==============================] - 3s 277us/sample - loss: 0.0563 - acc: 0.9859 - val_loss: 1.9903 - val_acc: 0.6880\n",
      "Epoch 19/20\n",
      "9384/9384 [==============================] - 3s 277us/sample - loss: 0.1412 - acc: 0.9780 - val_loss: 2.1935 - val_acc: 0.6816\n",
      "Epoch 20/20\n",
      "9384/9384 [==============================] - 3s 277us/sample - loss: 0.0783 - acc: 0.9833 - val_loss: 2.1339 - val_acc: 0.6905\n",
      "1304/1304 [==============================] - 1s 437us/sample - loss: 0.7255 - acc: 0.8811\n",
      "Score for fold 4: loss of 0.7255464971016955; acc of 88.11349868774414%\n",
      "Train on 9384 samples, validate on 2347 samples\n",
      "Epoch 1/20\n",
      "9384/9384 [==============================] - 5s 526us/sample - loss: 16.4275 - acc: 0.1753 - val_loss: 2.1733 - val_acc: 0.1717\n",
      "Epoch 2/20\n",
      "9384/9384 [==============================] - 3s 282us/sample - loss: 4.9096 - acc: 0.2320 - val_loss: 19.9137 - val_acc: 0.1504\n",
      "Epoch 3/20\n",
      "9384/9384 [==============================] - 3s 283us/sample - loss: 2.3281 - acc: 0.3519 - val_loss: 1.9780 - val_acc: 0.2761\n",
      "Epoch 4/20\n",
      "9384/9384 [==============================] - 3s 283us/sample - loss: 1.6551 - acc: 0.5313 - val_loss: 1.6347 - val_acc: 0.3980\n",
      "Epoch 5/20\n",
      "9384/9384 [==============================] - 3s 288us/sample - loss: 0.8980 - acc: 0.6899 - val_loss: 1.2849 - val_acc: 0.5590\n",
      "Epoch 6/20\n",
      "9384/9384 [==============================] - 3s 285us/sample - loss: 0.8004 - acc: 0.7448 - val_loss: 1.4122 - val_acc: 0.5505\n",
      "Epoch 7/20\n",
      "9384/9384 [==============================] - 3s 283us/sample - loss: 0.5313 - acc: 0.8193 - val_loss: 1.3530 - val_acc: 0.5859\n",
      "Epoch 8/20\n",
      "9384/9384 [==============================] - 3s 283us/sample - loss: 0.4386 - acc: 0.8487 - val_loss: 1.2874 - val_acc: 0.6221\n",
      "Epoch 9/20\n",
      "9384/9384 [==============================] - 3s 284us/sample - loss: 0.4355 - acc: 0.8657 - val_loss: 1.2476 - val_acc: 0.6357\n",
      "Epoch 10/20\n",
      "9384/9384 [==============================] - 3s 287us/sample - loss: 0.3083 - acc: 0.8915 - val_loss: 1.1952 - val_acc: 0.6493\n",
      "Epoch 11/20\n",
      "9384/9384 [==============================] - 3s 283us/sample - loss: 0.2380 - acc: 0.9234 - val_loss: 1.7773 - val_acc: 0.5786\n",
      "Epoch 12/20\n",
      "9384/9384 [==============================] - 3s 283us/sample - loss: 0.1993 - acc: 0.9312 - val_loss: 1.2639 - val_acc: 0.6911\n",
      "Epoch 13/20\n",
      "9384/9384 [==============================] - 3s 284us/sample - loss: 0.1452 - acc: 0.9510 - val_loss: 1.7076 - val_acc: 0.6395\n",
      "Epoch 14/20\n",
      "9384/9384 [==============================] - 3s 283us/sample - loss: 0.1590 - acc: 0.9538 - val_loss: 1.3743 - val_acc: 0.6890\n",
      "Epoch 15/20\n",
      "9384/9384 [==============================] - 3s 284us/sample - loss: 0.1297 - acc: 0.9637 - val_loss: 1.5398 - val_acc: 0.6749\n",
      "Epoch 16/20\n",
      "9384/9384 [==============================] - 3s 282us/sample - loss: 0.0940 - acc: 0.9746 - val_loss: 1.6957 - val_acc: 0.6766\n",
      "Epoch 17/20\n",
      "9384/9384 [==============================] - 3s 284us/sample - loss: 0.0893 - acc: 0.9729 - val_loss: 1.7059 - val_acc: 0.6902\n",
      "Epoch 18/20\n",
      "9384/9384 [==============================] - 3s 284us/sample - loss: 0.1175 - acc: 0.9742 - val_loss: 2.3549 - val_acc: 0.6255\n",
      "Epoch 19/20\n",
      "9384/9384 [==============================] - 3s 284us/sample - loss: 0.0787 - acc: 0.9808 - val_loss: 2.2239 - val_acc: 0.6617\n",
      "Epoch 20/20\n",
      "9384/9384 [==============================] - 3s 282us/sample - loss: 0.0700 - acc: 0.9809 - val_loss: 2.1851 - val_acc: 0.6694\n",
      "1303/1303 [==============================] - 1s 510us/sample - loss: 0.7032 - acc: 0.8987\n",
      "Score for fold 5: loss of 0.7032301884751816; acc of 89.86952900886536%\n",
      "Train on 9384 samples, validate on 2347 samples\n",
      "Epoch 1/20\n",
      "9384/9384 [==============================] - 5s 529us/sample - loss: 21.9995 - acc: 0.1747 - val_loss: 2.1395 - val_acc: 0.1853\n",
      "Epoch 2/20\n",
      "9384/9384 [==============================] - 3s 292us/sample - loss: 6.5972 - acc: 0.1912 - val_loss: 1.9890 - val_acc: 0.1683\n",
      "Epoch 3/20\n",
      "9384/9384 [==============================] - 3s 292us/sample - loss: 3.0385 - acc: 0.3195 - val_loss: 1.7155 - val_acc: 0.3247\n",
      "Epoch 4/20\n",
      "9384/9384 [==============================] - 3s 293us/sample - loss: 1.2303 - acc: 0.5654 - val_loss: 1.8339 - val_acc: 0.3571\n",
      "Epoch 5/20\n",
      "9384/9384 [==============================] - 3s 291us/sample - loss: 0.9186 - acc: 0.7188 - val_loss: 1.6417 - val_acc: 0.4470\n",
      "Epoch 6/20\n",
      "9384/9384 [==============================] - 3s 290us/sample - loss: 0.7407 - acc: 0.7642 - val_loss: 1.4343 - val_acc: 0.5633\n",
      "Epoch 7/20\n",
      "9384/9384 [==============================] - 3s 290us/sample - loss: 0.4985 - acc: 0.8262 - val_loss: 2.6944 - val_acc: 0.4137\n",
      "Epoch 8/20\n",
      "9384/9384 [==============================] - 3s 306us/sample - loss: 0.5099 - acc: 0.8410 - val_loss: 1.6017 - val_acc: 0.5262\n",
      "Epoch 9/20\n",
      "9384/9384 [==============================] - 3s 297us/sample - loss: 0.3504 - acc: 0.8818 - val_loss: 1.4413 - val_acc: 0.6289\n",
      "Epoch 10/20\n",
      "9384/9384 [==============================] - 3s 296us/sample - loss: 0.3245 - acc: 0.8918 - val_loss: 1.3079 - val_acc: 0.6553\n",
      "Epoch 11/20\n",
      "9384/9384 [==============================] - 3s 300us/sample - loss: 0.2592 - acc: 0.9138 - val_loss: 1.3829 - val_acc: 0.6583\n",
      "Epoch 12/20\n",
      "9384/9384 [==============================] - 3s 294us/sample - loss: 0.2086 - acc: 0.9325 - val_loss: 1.7214 - val_acc: 0.6157\n",
      "Epoch 13/20\n",
      "9384/9384 [==============================] - 3s 310us/sample - loss: 0.1794 - acc: 0.9390 - val_loss: 1.3299 - val_acc: 0.6966\n",
      "Epoch 14/20\n",
      "9384/9384 [==============================] - 3s 292us/sample - loss: 0.1679 - acc: 0.9499 - val_loss: 1.4972 - val_acc: 0.6723\n",
      "Epoch 15/20\n",
      "9384/9384 [==============================] - 3s 294us/sample - loss: 0.0952 - acc: 0.9695 - val_loss: 1.5224 - val_acc: 0.6839\n",
      "Epoch 16/20\n",
      "9384/9384 [==============================] - 3s 306us/sample - loss: 0.1120 - acc: 0.9664 - val_loss: 1.5389 - val_acc: 0.6877\n",
      "Epoch 17/20\n",
      "9384/9384 [==============================] - 3s 299us/sample - loss: 0.1132 - acc: 0.9696 - val_loss: 1.6499 - val_acc: 0.6770\n",
      "Epoch 18/20\n",
      "9384/9384 [==============================] - 3s 295us/sample - loss: 0.0552 - acc: 0.9849 - val_loss: 2.5221 - val_acc: 0.6374\n",
      "Epoch 19/20\n",
      "9384/9384 [==============================] - 3s 291us/sample - loss: 0.1111 - acc: 0.9740 - val_loss: 2.1315 - val_acc: 0.6694\n",
      "Epoch 20/20\n",
      "9384/9384 [==============================] - 3s 294us/sample - loss: 0.0615 - acc: 0.9871 - val_loss: 2.0362 - val_acc: 0.6800\n",
      "1303/1303 [==============================] - 1s 410us/sample - loss: 0.5798 - acc: 0.8795\n",
      "Score for fold 6: loss of 0.5798107032490435; acc of 87.95088529586792%\n",
      "Train on 9384 samples, validate on 2347 samples\n",
      "Epoch 1/20\n",
      "9384/9384 [==============================] - 5s 576us/sample - loss: 30.1773 - acc: 0.1803 - val_loss: 10.9121 - val_acc: 0.1534\n",
      "Epoch 2/20\n",
      "9384/9384 [==============================] - 3s 288us/sample - loss: 3.7809 - acc: 0.2118 - val_loss: 2.4272 - val_acc: 0.1521\n",
      "Epoch 3/20\n",
      "9384/9384 [==============================] - 3s 287us/sample - loss: 2.1752 - acc: 0.2289 - val_loss: 1.8345 - val_acc: 0.3170\n",
      "Epoch 4/20\n",
      "9384/9384 [==============================] - 3s 286us/sample - loss: 1.8676 - acc: 0.3534 - val_loss: 1.7905 - val_acc: 0.3115\n",
      "Epoch 5/20\n",
      "9384/9384 [==============================] - 3s 288us/sample - loss: 1.1413 - acc: 0.5894 - val_loss: 1.4760 - val_acc: 0.4891\n",
      "Epoch 6/20\n",
      "9384/9384 [==============================] - 3s 298us/sample - loss: 0.7894 - acc: 0.7231 - val_loss: 1.2525 - val_acc: 0.5803\n",
      "Epoch 7/20\n",
      "9384/9384 [==============================] - 3s 284us/sample - loss: 0.6103 - acc: 0.7894 - val_loss: 1.3192 - val_acc: 0.6093\n",
      "Epoch 8/20\n",
      "9384/9384 [==============================] - 3s 285us/sample - loss: 0.5127 - acc: 0.8301 - val_loss: 1.3344 - val_acc: 0.6233\n",
      "Epoch 9/20\n",
      "9384/9384 [==============================] - 3s 283us/sample - loss: 0.3955 - acc: 0.8692 - val_loss: 1.2667 - val_acc: 0.6451\n",
      "Epoch 10/20\n",
      "9384/9384 [==============================] - 3s 285us/sample - loss: 0.3373 - acc: 0.8825 - val_loss: 1.6953 - val_acc: 0.5756\n",
      "Epoch 11/20\n",
      "9384/9384 [==============================] - 3s 288us/sample - loss: 0.2722 - acc: 0.9074 - val_loss: 1.5393 - val_acc: 0.6442\n",
      "Epoch 12/20\n",
      "9384/9384 [==============================] - 3s 288us/sample - loss: 0.2221 - acc: 0.9276 - val_loss: 1.4564 - val_acc: 0.6366\n",
      "Epoch 13/20\n",
      "9384/9384 [==============================] - 3s 285us/sample - loss: 0.1781 - acc: 0.9431 - val_loss: 1.5021 - val_acc: 0.6668\n",
      "Epoch 14/20\n",
      "9384/9384 [==============================] - 3s 285us/sample - loss: 0.1781 - acc: 0.9479 - val_loss: 1.5326 - val_acc: 0.6741\n",
      "Epoch 15/20\n",
      "9384/9384 [==============================] - 3s 288us/sample - loss: 0.0918 - acc: 0.9696 - val_loss: 1.7559 - val_acc: 0.6655\n",
      "Epoch 16/20\n",
      "9384/9384 [==============================] - 3s 283us/sample - loss: 0.0965 - acc: 0.9714 - val_loss: 2.6932 - val_acc: 0.5999\n",
      "Epoch 17/20\n",
      "9384/9384 [==============================] - 3s 284us/sample - loss: 0.0799 - acc: 0.9766 - val_loss: 2.5594 - val_acc: 0.6059\n",
      "Epoch 18/20\n",
      "9384/9384 [==============================] - 3s 287us/sample - loss: 0.0695 - acc: 0.9793 - val_loss: 2.0964 - val_acc: 0.6672\n",
      "Epoch 19/20\n",
      "9384/9384 [==============================] - 3s 291us/sample - loss: 0.0744 - acc: 0.9853 - val_loss: 2.8093 - val_acc: 0.6131\n",
      "Epoch 20/20\n",
      "9384/9384 [==============================] - 3s 297us/sample - loss: 0.1076 - acc: 0.9758 - val_loss: 1.9922 - val_acc: 0.6830\n",
      "1303/1303 [==============================] - 1s 398us/sample - loss: 0.4488 - acc: 0.9033\n",
      "Score for fold 7: loss of 0.44881602189715436; acc of 90.33001065254211%\n",
      "Train on 9384 samples, validate on 2347 samples\n",
      "Epoch 1/20\n",
      "9384/9384 [==============================] - 5s 553us/sample - loss: 18.9079 - acc: 0.1789 - val_loss: 6.8016 - val_acc: 0.1547\n",
      "Epoch 2/20\n",
      "9384/9384 [==============================] - 3s 287us/sample - loss: 3.1113 - acc: 0.2514 - val_loss: 2.4547 - val_acc: 0.1645\n",
      "Epoch 3/20\n",
      "9384/9384 [==============================] - 3s 293us/sample - loss: 1.7111 - acc: 0.4033 - val_loss: 2.0952 - val_acc: 0.2735\n",
      "Epoch 4/20\n",
      "9384/9384 [==============================] - 3s 294us/sample - loss: 0.9838 - acc: 0.6702 - val_loss: 1.8191 - val_acc: 0.4171\n",
      "Epoch 5/20\n",
      "9384/9384 [==============================] - 3s 309us/sample - loss: 0.6301 - acc: 0.7968 - val_loss: 1.8969 - val_acc: 0.4879\n",
      "Epoch 6/20\n",
      "9384/9384 [==============================] - 3s 292us/sample - loss: 0.3878 - acc: 0.8768 - val_loss: 1.6913 - val_acc: 0.5756\n",
      "Epoch 7/20\n",
      "9384/9384 [==============================] - 3s 287us/sample - loss: 0.3311 - acc: 0.8991 - val_loss: 2.1944 - val_acc: 0.5360\n",
      "Epoch 8/20\n",
      "9384/9384 [==============================] - 3s 288us/sample - loss: 0.1748 - acc: 0.9413 - val_loss: 2.2963 - val_acc: 0.5496\n",
      "Epoch 9/20\n",
      "9384/9384 [==============================] - 3s 287us/sample - loss: 0.1834 - acc: 0.9486 - val_loss: 2.0414 - val_acc: 0.6072\n",
      "Epoch 10/20\n",
      "9384/9384 [==============================] - 3s 292us/sample - loss: 0.1876 - acc: 0.9561 - val_loss: 2.1176 - val_acc: 0.6161\n",
      "Epoch 11/20\n",
      "9384/9384 [==============================] - 3s 308us/sample - loss: 0.1659 - acc: 0.9648 - val_loss: 2.9383 - val_acc: 0.5658\n",
      "Epoch 12/20\n",
      "9384/9384 [==============================] - 3s 292us/sample - loss: 0.2186 - acc: 0.9686 - val_loss: 2.5810 - val_acc: 0.5986\n",
      "Epoch 13/20\n",
      "9384/9384 [==============================] - 3s 301us/sample - loss: 0.1820 - acc: 0.9617 - val_loss: 2.7762 - val_acc: 0.6025\n",
      "Epoch 14/20\n",
      "9384/9384 [==============================] - 3s 293us/sample - loss: 0.1409 - acc: 0.9766 - val_loss: 2.5973 - val_acc: 0.6199\n",
      "Epoch 15/20\n",
      "9384/9384 [==============================] - 3s 290us/sample - loss: 0.1215 - acc: 0.9726 - val_loss: 3.1663 - val_acc: 0.5846\n",
      "Epoch 16/20\n",
      "9384/9384 [==============================] - 3s 301us/sample - loss: 0.0865 - acc: 0.9835 - val_loss: 3.0496 - val_acc: 0.6208\n",
      "Epoch 17/20\n",
      "9384/9384 [==============================] - 3s 288us/sample - loss: 0.0725 - acc: 0.9819 - val_loss: 5.7113 - val_acc: 0.5053\n",
      "Epoch 18/20\n",
      "9384/9384 [==============================] - 3s 289us/sample - loss: 0.0652 - acc: 0.9841 - val_loss: 3.0155 - val_acc: 0.6255\n",
      "Epoch 19/20\n",
      "9384/9384 [==============================] - 3s 286us/sample - loss: 0.0917 - acc: 0.9803 - val_loss: 3.4080 - val_acc: 0.6285\n",
      "Epoch 20/20\n",
      "9384/9384 [==============================] - 3s 303us/sample - loss: 0.0352 - acc: 0.9895 - val_loss: 5.9037 - val_acc: 0.5185\n",
      "1303/1303 [==============================] - 1s 438us/sample - loss: 2.6614 - acc: 0.7483\n",
      "Score for fold 8: loss of 2.661442017896031; acc of 74.82731938362122%\n",
      "Train on 9384 samples, validate on 2347 samples\n",
      "Epoch 1/20\n",
      "9384/9384 [==============================] - 5s 555us/sample - loss: 22.2696 - acc: 0.1600 - val_loss: 3.0899 - val_acc: 0.1380\n",
      "Epoch 2/20\n",
      "9384/9384 [==============================] - 3s 291us/sample - loss: 3.9146 - acc: 0.2238 - val_loss: 2.0698 - val_acc: 0.1819\n",
      "Epoch 3/20\n",
      "9384/9384 [==============================] - 3s 295us/sample - loss: 2.7476 - acc: 0.3034 - val_loss: 2.5417 - val_acc: 0.2015\n",
      "Epoch 4/20\n",
      "9384/9384 [==============================] - 3s 293us/sample - loss: 1.1313 - acc: 0.6005 - val_loss: 1.6803 - val_acc: 0.4793\n",
      "Epoch 5/20\n",
      "9384/9384 [==============================] - 3s 302us/sample - loss: 0.7431 - acc: 0.7664 - val_loss: 1.5982 - val_acc: 0.5245\n",
      "Epoch 6/20\n",
      "9384/9384 [==============================] - 3s 296us/sample - loss: 0.4645 - acc: 0.8463 - val_loss: 1.6500 - val_acc: 0.5543\n",
      "Epoch 7/20\n",
      "9384/9384 [==============================] - 3s 295us/sample - loss: 0.2836 - acc: 0.9051 - val_loss: 1.9951 - val_acc: 0.5616\n",
      "Epoch 8/20\n",
      "9384/9384 [==============================] - 3s 293us/sample - loss: 0.2360 - acc: 0.9298 - val_loss: 2.2479 - val_acc: 0.5407\n",
      "Epoch 9/20\n",
      "9384/9384 [==============================] - 3s 298us/sample - loss: 0.1654 - acc: 0.9474 - val_loss: 2.1487 - val_acc: 0.5969\n",
      "Epoch 10/20\n",
      "9384/9384 [==============================] - 3s 301us/sample - loss: 0.1253 - acc: 0.9589 - val_loss: 2.3964 - val_acc: 0.5820\n",
      "Epoch 11/20\n",
      "9384/9384 [==============================] - 3s 300us/sample - loss: 0.1950 - acc: 0.9655 - val_loss: 2.6200 - val_acc: 0.6191\n",
      "Epoch 12/20\n",
      "9384/9384 [==============================] - 3s 303us/sample - loss: 0.1361 - acc: 0.9658 - val_loss: 2.2510 - val_acc: 0.6263\n",
      "Epoch 13/20\n",
      "9384/9384 [==============================] - 3s 298us/sample - loss: 0.1732 - acc: 0.9772 - val_loss: 2.4682 - val_acc: 0.6455\n",
      "Epoch 14/20\n",
      "9384/9384 [==============================] - 3s 297us/sample - loss: 0.1843 - acc: 0.9681 - val_loss: 2.6367 - val_acc: 0.6344\n",
      "Epoch 15/20\n",
      "9384/9384 [==============================] - 3s 291us/sample - loss: 0.0356 - acc: 0.9888 - val_loss: 3.0870 - val_acc: 0.6170\n",
      "Epoch 16/20\n",
      "9384/9384 [==============================] - 3s 291us/sample - loss: 0.1212 - acc: 0.9752 - val_loss: 3.0468 - val_acc: 0.6404\n",
      "Epoch 17/20\n",
      "9384/9384 [==============================] - 3s 295us/sample - loss: 0.1270 - acc: 0.9742 - val_loss: 3.7895 - val_acc: 0.6229\n",
      "Epoch 18/20\n",
      "9384/9384 [==============================] - 3s 292us/sample - loss: 0.0809 - acc: 0.9822 - val_loss: 3.0552 - val_acc: 0.6468\n",
      "Epoch 19/20\n",
      "9384/9384 [==============================] - 3s 319us/sample - loss: 0.0421 - acc: 0.9871 - val_loss: 3.2079 - val_acc: 0.6536\n",
      "Epoch 20/20\n",
      "9384/9384 [==============================] - 3s 296us/sample - loss: 0.0606 - acc: 0.9843 - val_loss: 3.7000 - val_acc: 0.6216\n",
      "1303/1303 [==============================] - 1s 425us/sample - loss: 1.1444 - acc: 0.8580\n",
      "Score for fold 9: loss of 1.1444478181144342; acc of 85.80199480056763%\n",
      "Train on 9384 samples, validate on 2347 samples\n",
      "Epoch 1/20\n",
      "9384/9384 [==============================] - 5s 556us/sample - loss: 24.4946 - acc: 0.1860 - val_loss: 2.1517 - val_acc: 0.1628\n",
      "Epoch 2/20\n",
      "9384/9384 [==============================] - 3s 288us/sample - loss: 3.3384 - acc: 0.2211 - val_loss: 2.0145 - val_acc: 0.2105\n",
      "Epoch 3/20\n",
      "9384/9384 [==============================] - 3s 289us/sample - loss: 1.7936 - acc: 0.3329 - val_loss: 2.9314 - val_acc: 0.2233\n",
      "Epoch 4/20\n",
      "9384/9384 [==============================] - 3s 297us/sample - loss: 1.2938 - acc: 0.5588 - val_loss: 1.3403 - val_acc: 0.5360\n",
      "Epoch 5/20\n",
      "9384/9384 [==============================] - 3s 298us/sample - loss: 0.8314 - acc: 0.7124 - val_loss: 1.3924 - val_acc: 0.5424\n",
      "Epoch 6/20\n",
      "9384/9384 [==============================] - 3s 298us/sample - loss: 0.6773 - acc: 0.7799 - val_loss: 1.5492 - val_acc: 0.5530\n",
      "Epoch 7/20\n",
      "9384/9384 [==============================] - 3s 302us/sample - loss: 0.5262 - acc: 0.8208 - val_loss: 1.3313 - val_acc: 0.5965\n",
      "Epoch 8/20\n",
      "9384/9384 [==============================] - 3s 304us/sample - loss: 0.4201 - acc: 0.8617 - val_loss: 1.3056 - val_acc: 0.6340\n",
      "Epoch 9/20\n",
      "9384/9384 [==============================] - 3s 290us/sample - loss: 0.3386 - acc: 0.8837 - val_loss: 2.6094 - val_acc: 0.4555\n",
      "Epoch 10/20\n",
      "9384/9384 [==============================] - 3s 286us/sample - loss: 0.2880 - acc: 0.9013 - val_loss: 1.4270 - val_acc: 0.6361\n",
      "Epoch 11/20\n",
      "9384/9384 [==============================] - 3s 286us/sample - loss: 0.2083 - acc: 0.9309 - val_loss: 1.3408 - val_acc: 0.6809\n",
      "Epoch 12/20\n",
      "9384/9384 [==============================] - 3s 285us/sample - loss: 0.1616 - acc: 0.9442 - val_loss: 1.5123 - val_acc: 0.6839\n",
      "Epoch 13/20\n",
      "9384/9384 [==============================] - 3s 284us/sample - loss: 0.1625 - acc: 0.9502 - val_loss: 1.5517 - val_acc: 0.6817\n",
      "Epoch 14/20\n",
      "9384/9384 [==============================] - 3s 284us/sample - loss: 0.1278 - acc: 0.9610 - val_loss: 1.7801 - val_acc: 0.6498\n",
      "Epoch 15/20\n",
      "9384/9384 [==============================] - 3s 287us/sample - loss: 0.0864 - acc: 0.9721 - val_loss: 1.8061 - val_acc: 0.6766\n",
      "Epoch 16/20\n",
      "9384/9384 [==============================] - 3s 286us/sample - loss: 0.1010 - acc: 0.9758 - val_loss: 1.9263 - val_acc: 0.6813\n",
      "Epoch 17/20\n",
      "9384/9384 [==============================] - 3s 284us/sample - loss: 0.1324 - acc: 0.9701 - val_loss: 2.2019 - val_acc: 0.6745\n",
      "Epoch 18/20\n",
      "9384/9384 [==============================] - 3s 283us/sample - loss: 0.0583 - acc: 0.9849 - val_loss: 1.9419 - val_acc: 0.6804\n",
      "Epoch 19/20\n",
      "9384/9384 [==============================] - 3s 290us/sample - loss: 0.0952 - acc: 0.9808 - val_loss: 2.4275 - val_acc: 0.6553\n",
      "Epoch 20/20\n",
      "9384/9384 [==============================] - 3s 290us/sample - loss: 0.0570 - acc: 0.9861 - val_loss: 2.3980 - val_acc: 0.6770\n",
      "1303/1303 [==============================] - 1s 435us/sample - loss: 0.6469 - acc: 0.8880\n",
      "Score for fold 10: loss of 0.6468808542913275; acc of 88.79508972167969%\n"
     ]
    },
    {
     "data": {
      "text/plain": "<Figure size 432x288 with 0 Axes>"
     },
     "metadata": {},
     "output_type": "display_data"
    }
   ],
   "source": [
    "from sklearn.model_selection import KFold\n",
    "from utils.Models import *\n",
    "from tensorflow.keras.callbacks import ReduceLROnPlateau\n",
    "import matplotlib.pyplot as plt\n",
    "\n",
    "loss_per_fold = []\n",
    "acc_per_fold = []\n",
    "\n",
    "kf = KFold(n_splits=10, shuffle=True)\n",
    "fold_no = 1\n",
    "for train_index, test_index in kf.split(x_masks):\n",
    "    # load model\n",
    "    model = prototype_model_for_reid((40, 40 , 1))\n",
    "\n",
    "    # creating callbacks\n",
    "    stop_early = tf.keras.callbacks.EarlyStopping(monitor='val_acc', patience=8)\n",
    "    reduce_lr = ReduceLROnPlateau(monitor='val_acc', factor=0.1, patience=4, verbose=1, min_delta=1e-3)\n",
    "    callbacks_list = [stop_early, reduce_lr]\n",
    "\n",
    "    # fitting model\n",
    "    history = model.fit(x=[x_rgb[train_index], x_masks[train_index]], y=y_rgb[train_index], batch_size=150, epochs=20, validation_split=0.2)\n",
    "\n",
    "    # saving model\n",
    "    model.save(f'models/own/experiments/experiment_4/sample_model{fold_no}.h5')\n",
    "\n",
    "    # plot training metrics\n",
    "    plt.plot(history.history['loss'])\n",
    "    plt.plot(history.history['val_loss'])\n",
    "    plt.title('Model accuracy')\n",
    "    plt.xlabel('epochs')\n",
    "    plt.ylabel('accuracy')\n",
    "    plt.savefig(f'acc_{fold_no}.png')\n",
    "    plt.clf()\n",
    "\n",
    "    # generate generalization metrics\n",
    "    scores = model.evaluate(x=[x_rgb[test_index], x_masks[test_index]], y=y_rgb[test_index], verbose=True)\n",
    "    print(f'Score for fold {fold_no}: {model.metrics_names[0]} of {scores[0]}; {model.metrics_names[1]} of {scores[1]*100}%')\n",
    "    acc_per_fold.append(scores[1]*100)\n",
    "    loss_per_fold.append(scores[0])\n",
    "\n",
    "    fold_no += 1"
   ],
   "metadata": {
    "collapsed": false,
    "pycharm": {
     "name": "#%%\n"
    }
   }
  },
  {
   "cell_type": "code",
   "execution_count": 18,
   "outputs": [
    {
     "name": "stdout",
     "output_type": "stream",
     "text": [
      "WARNING:tensorflow:From C:\\Python37\\lib\\site-packages\\tensorflow_core\\python\\ops\\init_ops.py:97: calling GlorotUniform.__init__ (from tensorflow.python.ops.init_ops) with dtype is deprecated and will be removed in a future version.\n",
      "Instructions for updating:\n",
      "Call initializer instance with the dtype argument instead of passing it to the constructor\n",
      "WARNING:tensorflow:From C:\\Python37\\lib\\site-packages\\tensorflow_core\\python\\ops\\init_ops.py:97: calling Zeros.__init__ (from tensorflow.python.ops.init_ops) with dtype is deprecated and will be removed in a future version.\n",
      "Instructions for updating:\n",
      "Call initializer instance with the dtype argument instead of passing it to the constructor\n"
     ]
    }
   ],
   "source": [
    "from tensorflow.keras.models import load_model\n",
    "trained_model = load_model('models/own/saved_model/sample_model3.h5')\n"
   ],
   "metadata": {
    "collapsed": false,
    "pycharm": {
     "name": "#%%\n"
    }
   }
  },
  {
   "cell_type": "code",
   "execution_count": 55,
   "outputs": [
    {
     "data": {
      "text/plain": "2"
     },
     "execution_count": 55,
     "metadata": {},
     "output_type": "execute_result"
    }
   ],
   "source": [
    "result = trained_model.predict(x=[[x_rgb_test[2000]/255], [x_masks_test[2000]]])\n",
    "result.argmax()"
   ],
   "metadata": {
    "collapsed": false,
    "pycharm": {
     "name": "#%%\n"
    }
   }
  },
  {
   "cell_type": "code",
   "execution_count": 74,
   "outputs": [
    {
     "data": {
      "text/plain": "array([[1., 0., 0., 0., 0., 0., 0.]], dtype=float32)"
     },
     "execution_count": 74,
     "metadata": {},
     "output_type": "execute_result"
    }
   ],
   "source": [],
   "metadata": {
    "collapsed": false,
    "pycharm": {
     "name": "#%%\n"
    }
   }
  },
  {
   "cell_type": "code",
   "execution_count": 75,
   "outputs": [
    {
     "name": "stdout",
     "output_type": "stream",
     "text": [
      "1/1 [==============================] - 0s 161ms/sample - loss: 0.6636 - acc: 1.0000\n"
     ]
    },
    {
     "data": {
      "text/plain": "[0.6635879278182983, 1.0]"
     },
     "execution_count": 75,
     "metadata": {},
     "output_type": "execute_result"
    }
   ],
   "source": [
    "model.evaluate(x=[[x_rgb_test[0]/255], [x_masks_test[0]]], y=y_masks_test[:1, :])\n"
   ],
   "metadata": {
    "collapsed": false,
    "pycharm": {
     "name": "#%%\n"
    }
   }
  },
  {
   "cell_type": "code",
   "execution_count": 83,
   "outputs": [
    {
     "name": "stdout",
     "output_type": "stream",
     "text": [
      "[0.09411765]\n"
     ]
    }
   ],
   "source": [
    "print(x_rgb_test[0][0][0]/255)"
   ],
   "metadata": {
    "collapsed": false,
    "pycharm": {
     "name": "#%%\n"
    }
   }
  },
  {
   "cell_type": "code",
   "execution_count": 8,
   "outputs": [
    {
     "data": {
      "text/plain": "array([[6.4668113e-01, 5.5572696e-07, 6.2391174e-04, 4.2988219e-08,\n        1.9188530e-05, 3.5267511e-01, 6.5811783e-08]], dtype=float32)"
     },
     "execution_count": 8,
     "metadata": {},
     "output_type": "execute_result"
    }
   ],
   "source": [
    "from tensorflow.keras.models import load_model\n",
    "trained_model_2 = load_model('models/own/experiments/experiment_3/sample_model3.h5')\n",
    "trained_model_2.predict(x=[[x_rgb_test[0]], [x_masks_test[0]]])"
   ],
   "metadata": {
    "collapsed": false,
    "pycharm": {
     "name": "#%%\n"
    }
   }
  }
 ],
 "metadata": {
  "kernelspec": {
   "display_name": "Python 3",
   "language": "python",
   "name": "python3"
  },
  "language_info": {
   "codemirror_mode": {
    "name": "ipython",
    "version": 2
   },
   "file_extension": ".py",
   "mimetype": "text/x-python",
   "name": "python",
   "nbconvert_exporter": "python",
   "pygments_lexer": "ipython2",
   "version": "2.7.6"
  }
 },
 "nbformat": 4,
 "nbformat_minor": 0
}