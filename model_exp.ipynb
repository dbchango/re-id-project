{
 "cells": [
  {
   "cell_type": "markdown",
   "source": [],
   "metadata": {
    "collapsed": false,
    "pycharm": {
     "name": "#%% md\n"
    }
   }
  },
  {
   "cell_type": "markdown",
   "source": [
    "### Loading histograms"
   ],
   "metadata": {
    "collapsed": false,
    "pycharm": {
     "name": "#%% md\n"
    }
   }
  },
  {
   "cell_type": "code",
   "execution_count": 1,
   "outputs": [
    {
     "name": "stderr",
     "output_type": "stream",
     "text": [
      "Using TensorFlow backend.\n"
     ]
    }
   ],
   "source": [
    "from processing import load_csv_data, slice_labels\n",
    "\n",
    "train_path = 'Datasets/espe/lbp_histograms/train'\n",
    "train_data = load_csv_data(train_path)\n",
    "\n",
    "test_path = 'Datasets/espe/lbp_histograms/test'\n",
    "test_data = load_csv_data(test_path)\n",
    "\n",
    "validation_path = 'Datasets/espe/lbp_histograms/validation'\n",
    "validation_data = load_csv_data(validation_path)\n",
    "\n",
    "# train_data.shape, test_data.shape, validation_data.shape\n",
    "x_train, y_train = slice_labels(train_data)\n",
    "x_test, y_test = slice_labels(test_data)\n",
    "x_val, y_val = slice_labels(validation_data)"
   ],
   "metadata": {
    "collapsed": false,
    "pycharm": {
     "name": "#%%\n"
    }
   }
  },
  {
   "cell_type": "markdown",
   "source": [
    "### Loading silhouette descriptors (area, perimeter)"
   ],
   "metadata": {
    "collapsed": false,
    "pycharm": {
     "name": "#%% md\n"
    }
   }
  },
  {
   "cell_type": "code",
   "execution_count": 2,
   "outputs": [],
   "source": [
    "import pandas as pd\n",
    "\n",
    "silhouette_desc_path_test = 'Datasets/espe/lbp_histograms/test/test.csv'\n",
    "silhouette_desc_path_train = 'Datasets/espe/lbp_histograms/train/train.csv'\n",
    "silhouette_desc_path_val = 'Datasets/espe/lbp_histograms/validation/validation.csv'\n",
    "\n",
    "test_sil_data = pd.read_csv(silhouette_desc_path_test)\n",
    "train_sil_data = pd.read_csv(silhouette_desc_path_train)\n",
    "val_sil_data = pd.read_csv(silhouette_desc_path_val)\n",
    "\n",
    "x_test_sil_data, y_test_sil_data = slice_labels(test_sil_data)\n",
    "x_train_sil_data, y_train_sil_data  = slice_labels(train_sil_data)\n",
    "x_val_sil_data, y_val_sil_data = slice_labels(val_sil_data)"
   ],
   "metadata": {
    "collapsed": false,
    "pycharm": {
     "name": "#%%\n"
    }
   }
  },
  {
   "cell_type": "markdown",
   "source": [
    "### Model preparation"
   ],
   "metadata": {
    "collapsed": false,
    "pycharm": {
     "name": "#%% md\n"
    }
   }
  },
  {
   "cell_type": "code",
   "execution_count": 2,
   "outputs": [
    {
     "data": {
      "text/plain": "[26]"
     },
     "execution_count": 2,
     "metadata": {},
     "output_type": "execute_result"
    }
   ],
   "source": [
    "input_shape = [x_val.shape[1]]\n",
    "input_shape"
   ],
   "metadata": {
    "collapsed": false,
    "pycharm": {
     "name": "#%%\n"
    }
   }
  },
  {
   "cell_type": "code",
   "execution_count": 3,
   "outputs": [
    {
     "name": "stdout",
     "output_type": "stream",
     "text": [
      "WARNING:tensorflow:From C:\\Python37\\lib\\site-packages\\tensorflow_core\\python\\ops\\resource_variable_ops.py:1630: calling BaseResourceVariable.__init__ (from tensorflow.python.ops.resource_variable_ops) with constraint is deprecated and will be removed in a future version.\n",
      "Instructions for updating:\n",
      "If using Keras pass *_constraint arguments to layers.\n"
     ]
    }
   ],
   "source": [
    "from utils.Models import vgg_net, generate_image_dataset, mlp\n",
    "\n",
    "model = mlp(input_shape=input_shape)"
   ],
   "metadata": {
    "collapsed": false,
    "pycharm": {
     "name": "#%%\n"
    }
   }
  },
  {
   "cell_type": "markdown",
   "source": [
    "### Loading entire dataset"
   ],
   "metadata": {
    "collapsed": false,
    "pycharm": {
     "name": "#%% md\n"
    }
   }
  },
  {
   "cell_type": "code",
   "execution_count": 48,
   "outputs": [],
   "source": [
    "from utils.Models import complete_image_dataset_loading\n",
    "\n",
    "rgb_train, rgb_test, rgb_validation = complete_image_dataset_loading(train_data_path, test_data_path, validation_data_path, (64, 64))"
   ],
   "metadata": {
    "collapsed": false,
    "pycharm": {
     "name": "#%%\n"
    }
   }
  },
  {
   "cell_type": "code",
   "execution_count": 49,
   "outputs": [],
   "source": [
    "x_rgb_train, y_rgb_train = rgb_train[0], rgb_train[1]"
   ],
   "metadata": {
    "collapsed": false,
    "pycharm": {
     "name": "#%%\n"
    }
   }
  },
  {
   "cell_type": "markdown",
   "source": [
    "### Load csv histograms"
   ],
   "metadata": {
    "collapsed": false,
    "pycharm": {
     "name": "#%% md\n"
    }
   }
  },
  {
   "cell_type": "code",
   "execution_count": 4,
   "outputs": [],
   "source": [
    "model.compile(loss='categorical_crossentropy', optimizer='sgd', metrics=['accuracy'])"
   ],
   "metadata": {
    "collapsed": false,
    "pycharm": {
     "name": "#%%\n"
    }
   }
  },
  {
   "cell_type": "code",
   "execution_count": 5,
   "outputs": [
    {
     "name": "stdout",
     "output_type": "stream",
     "text": [
      "WARNING:tensorflow:From C:\\Python37\\lib\\site-packages\\tensorflow_core\\python\\ops\\math_grad.py:1424: where (from tensorflow.python.ops.array_ops) is deprecated and will be removed in a future version.\n",
      "Instructions for updating:\n",
      "Use tf.where in 2.0, which has the same broadcast rule as np.where\n",
      "Train on 7397 samples, validate on 1850 samples\n",
      "Epoch 1/300\n",
      "7397/7397 [==============================] - 2s 272us/sample - loss: 2.3483 - acc: 0.1832 - val_loss: 12.1398 - val_acc: 0.0000e+00\n",
      "Epoch 2/300\n",
      "7397/7397 [==============================] - 1s 183us/sample - loss: 1.7749 - acc: 0.1855 - val_loss: 12.1390 - val_acc: 0.0000e+00\n",
      "Epoch 3/300\n",
      "7397/7397 [==============================] - 1s 185us/sample - loss: 1.7731 - acc: 0.1972 - val_loss: 12.1731 - val_acc: 0.0000e+00\n",
      "Epoch 4/300\n",
      "7397/7397 [==============================] - 1s 181us/sample - loss: 1.7664 - acc: 0.2077 - val_loss: 12.1080 - val_acc: 0.0000e+00\n",
      "Epoch 5/300\n",
      "7397/7397 [==============================] - 1s 184us/sample - loss: 1.7653 - acc: 0.2048 - val_loss: 12.1588 - val_acc: 0.0000e+00\n",
      "Epoch 6/300\n",
      "7397/7397 [==============================] - 1s 183us/sample - loss: 1.7536 - acc: 0.2258 - val_loss: 12.2714 - val_acc: 0.0000e+00\n",
      "Epoch 7/300\n",
      "7397/7397 [==============================] - 1s 183us/sample - loss: 1.7574 - acc: 0.2150 - val_loss: 12.0422 - val_acc: 0.0000e+00\n",
      "Epoch 8/300\n",
      "7397/7397 [==============================] - 1s 184us/sample - loss: 1.7403 - acc: 0.2374 - val_loss: 11.9986 - val_acc: 0.0000e+00\n",
      "Epoch 9/300\n",
      "7397/7397 [==============================] - 1s 184us/sample - loss: 1.7304 - acc: 0.2387 - val_loss: 11.8900 - val_acc: 0.2859\n",
      "Epoch 10/300\n",
      "7397/7397 [==============================] - 1s 185us/sample - loss: 1.7215 - acc: 0.2485 - val_loss: 12.0990 - val_acc: 0.0000e+00\n",
      "Epoch 11/300\n",
      "7397/7397 [==============================] - 1s 186us/sample - loss: 3.8763 - acc: 0.1390 - val_loss: 11.8529 - val_acc: 0.2859\n",
      "Epoch 12/300\n",
      "7397/7397 [==============================] - 1s 184us/sample - loss: 3.7338 - acc: 0.1333 - val_loss: 12.4531 - val_acc: 0.0000e+00\n",
      "Epoch 13/300\n",
      "7397/7397 [==============================] - 1s 194us/sample - loss: 2.3481 - acc: 0.1786 - val_loss: 12.3337 - val_acc: 0.0000e+00\n",
      "Epoch 14/300\n",
      "7397/7397 [==============================] - 1s 186us/sample - loss: 2.1623 - acc: 0.1786 - val_loss: 12.2909 - val_acc: 0.0000e+00\n",
      "Epoch 15/300\n",
      "7397/7397 [==============================] - 1s 191us/sample - loss: 2.0731 - acc: 0.1786 - val_loss: 12.2652 - val_acc: 0.0000e+00\n",
      "Epoch 16/300\n",
      "7397/7397 [==============================] - 1s 184us/sample - loss: 2.0162 - acc: 0.1786 - val_loss: 12.2461 - val_acc: 0.0000e+00\n",
      "Epoch 17/300\n",
      "7397/7397 [==============================] - 1s 188us/sample - loss: 1.9750 - acc: 0.1786 - val_loss: 12.2320 - val_acc: 0.0000e+00\n",
      "Epoch 18/300\n",
      "7397/7397 [==============================] - 1s 186us/sample - loss: 1.9434 - acc: 0.1786 - val_loss: 12.2207 - val_acc: 0.0000e+00\n",
      "Epoch 19/300\n",
      "7397/7397 [==============================] - 1s 185us/sample - loss: 1.9188 - acc: 0.1786 - val_loss: 12.2113 - val_acc: 0.0000e+00\n",
      "Epoch 20/300\n",
      "7397/7397 [==============================] - 1s 185us/sample - loss: 1.8973 - acc: 0.1786 - val_loss: 12.2031 - val_acc: 0.0000e+00\n",
      "Epoch 21/300\n",
      "7397/7397 [==============================] - 1s 185us/sample - loss: 1.8798 - acc: 0.1786 - val_loss: 12.1961 - val_acc: 0.0000e+00\n",
      "Epoch 22/300\n",
      "7397/7397 [==============================] - 1s 183us/sample - loss: 1.8654 - acc: 0.1786 - val_loss: 12.1899 - val_acc: 0.0000e+00\n",
      "Epoch 23/300\n",
      "7397/7397 [==============================] - 1s 185us/sample - loss: 1.8529 - acc: 0.1786 - val_loss: 12.1845 - val_acc: 0.0000e+00\n",
      "Epoch 24/300\n",
      "7397/7397 [==============================] - 1s 187us/sample - loss: 1.8414 - acc: 0.1786 - val_loss: 12.1797 - val_acc: 0.0000e+00\n",
      "Epoch 25/300\n",
      "7397/7397 [==============================] - 1s 185us/sample - loss: 1.8321 - acc: 0.1786 - val_loss: 12.1753 - val_acc: 0.0000e+00\n",
      "Epoch 26/300\n",
      "7397/7397 [==============================] - 1s 186us/sample - loss: 1.8237 - acc: 0.1786 - val_loss: 12.1715 - val_acc: 0.0000e+00\n",
      "Epoch 27/300\n",
      "7397/7397 [==============================] - 1s 185us/sample - loss: 1.8168 - acc: 0.1786 - val_loss: 12.1680 - val_acc: 0.0000e+00\n",
      "Epoch 28/300\n",
      "7397/7397 [==============================] - 1s 200us/sample - loss: 1.8098 - acc: 0.1786 - val_loss: 12.1649 - val_acc: 0.0000e+00\n",
      "Epoch 29/300\n",
      "7397/7397 [==============================] - 1s 190us/sample - loss: 1.8050 - acc: 0.1786 - val_loss: 12.1620 - val_acc: 0.0000e+00\n",
      "Epoch 30/300\n",
      "7397/7397 [==============================] - 1s 193us/sample - loss: 1.8007 - acc: 0.1786 - val_loss: 12.1598 - val_acc: 0.0000e+00\n",
      "Epoch 31/300\n",
      "7397/7397 [==============================] - 1s 188us/sample - loss: 1.7966 - acc: 0.1786 - val_loss: 12.1577 - val_acc: 0.0000e+00\n",
      "Epoch 32/300\n",
      "7397/7397 [==============================] - 1s 188us/sample - loss: 1.7930 - acc: 0.1786 - val_loss: 12.1559 - val_acc: 0.0000e+00\n",
      "Epoch 33/300\n",
      "7397/7397 [==============================] - 1s 191us/sample - loss: 1.7911 - acc: 0.1786 - val_loss: 12.1543 - val_acc: 0.0000e+00\n",
      "Epoch 34/300\n",
      "7397/7397 [==============================] - 1s 190us/sample - loss: 1.7883 - acc: 0.1786 - val_loss: 12.1529 - val_acc: 0.0000e+00\n",
      "Epoch 35/300\n",
      "7397/7397 [==============================] - 1s 193us/sample - loss: 1.7865 - acc: 0.1787 - val_loss: 12.1517 - val_acc: 0.0000e+00\n",
      "Epoch 36/300\n",
      "7397/7397 [==============================] - 1s 190us/sample - loss: 1.7854 - acc: 0.1783 - val_loss: 12.1508 - val_acc: 0.0000e+00\n",
      "Epoch 37/300\n",
      "7397/7397 [==============================] - 1s 192us/sample - loss: 1.7835 - acc: 0.1789 - val_loss: 12.1499 - val_acc: 0.0000e+00\n",
      "Epoch 38/300\n",
      "7397/7397 [==============================] - 1s 193us/sample - loss: 1.7824 - acc: 0.1787 - val_loss: 12.1491 - val_acc: 0.0000e+00\n",
      "Epoch 39/300\n",
      "7397/7397 [==============================] - 1s 191us/sample - loss: 1.7823 - acc: 0.1786 - val_loss: 12.1486 - val_acc: 0.0000e+00\n",
      "Epoch 40/300\n",
      "7397/7397 [==============================] - 1s 186us/sample - loss: 1.7813 - acc: 0.1775 - val_loss: 12.1480 - val_acc: 0.0000e+00\n",
      "Epoch 41/300\n",
      "7397/7397 [==============================] - 1s 187us/sample - loss: 1.7801 - acc: 0.1809 - val_loss: 12.1477 - val_acc: 0.0000e+00\n",
      "Epoch 42/300\n",
      "7397/7397 [==============================] - 1s 186us/sample - loss: 1.7798 - acc: 0.1779 - val_loss: 12.1475 - val_acc: 0.0000e+00\n",
      "Epoch 43/300\n",
      "7397/7397 [==============================] - 1s 187us/sample - loss: 1.7793 - acc: 0.1795 - val_loss: 12.1473 - val_acc: 0.0000e+00\n",
      "Epoch 44/300\n",
      "7397/7397 [==============================] - 1s 187us/sample - loss: 1.7802 - acc: 0.1775 - val_loss: 12.1472 - val_acc: 0.0000e+00\n",
      "Epoch 45/300\n",
      "7397/7397 [==============================] - 1s 190us/sample - loss: 1.7787 - acc: 0.1778 - val_loss: 12.1470 - val_acc: 0.0000e+00\n",
      "Epoch 46/300\n",
      "7397/7397 [==============================] - 1s 187us/sample - loss: 1.7794 - acc: 0.1770 - val_loss: 12.1469 - val_acc: 0.0000e+00\n",
      "Epoch 47/300\n",
      "7397/7397 [==============================] - 1s 186us/sample - loss: 1.7784 - acc: 0.1820 - val_loss: 12.1467 - val_acc: 0.0000e+00\n",
      "Epoch 48/300\n",
      "7397/7397 [==============================] - 1s 187us/sample - loss: 1.7787 - acc: 0.1774 - val_loss: 12.1465 - val_acc: 0.0000e+00\n",
      "Epoch 49/300\n",
      "7397/7397 [==============================] - 1s 191us/sample - loss: 1.7782 - acc: 0.1812 - val_loss: 12.1466 - val_acc: 0.0000e+00\n",
      "Epoch 50/300\n",
      "7397/7397 [==============================] - 1s 193us/sample - loss: 1.7782 - acc: 0.1794 - val_loss: 12.1465 - val_acc: 0.0000e+00\n",
      "Epoch 51/300\n",
      "7397/7397 [==============================] - 1s 191us/sample - loss: 1.7787 - acc: 0.1814 - val_loss: 12.1466 - val_acc: 0.0000e+00\n",
      "Epoch 52/300\n",
      "7397/7397 [==============================] - 1s 192us/sample - loss: 1.7783 - acc: 0.1786 - val_loss: 12.1467 - val_acc: 0.0000e+00\n",
      "Epoch 53/300\n",
      "7397/7397 [==============================] - 1s 190us/sample - loss: 1.7784 - acc: 0.1798 - val_loss: 12.1468 - val_acc: 0.0000e+00\n",
      "Epoch 54/300\n",
      "7397/7397 [==============================] - 2s 204us/sample - loss: 1.7782 - acc: 0.1807 - val_loss: 12.1468 - val_acc: 0.0000e+00\n",
      "Epoch 55/300\n",
      "7397/7397 [==============================] - 1s 188us/sample - loss: 1.7774 - acc: 0.1843 - val_loss: 12.1469 - val_acc: 0.0000e+00\n",
      "Epoch 56/300\n",
      "7397/7397 [==============================] - 1s 192us/sample - loss: 1.7787 - acc: 0.1799 - val_loss: 12.1471 - val_acc: 0.0000e+00\n",
      "Epoch 57/300\n",
      "7397/7397 [==============================] - 1s 186us/sample - loss: 1.7780 - acc: 0.1716 - val_loss: 12.1472 - val_acc: 0.0000e+00\n",
      "Epoch 58/300\n",
      "7397/7397 [==============================] - 1s 188us/sample - loss: 1.7780 - acc: 0.1756 - val_loss: 12.1471 - val_acc: 0.0000e+00\n",
      "Epoch 59/300\n",
      "7397/7397 [==============================] - 1s 192us/sample - loss: 1.7781 - acc: 0.1797 - val_loss: 12.1472 - val_acc: 0.0000e+00\n",
      "Epoch 60/300\n",
      "7397/7397 [==============================] - 1s 187us/sample - loss: 1.7785 - acc: 0.1786 - val_loss: 12.1471 - val_acc: 0.0000e+00\n",
      "Epoch 61/300\n",
      "7397/7397 [==============================] - 1s 188us/sample - loss: 1.7780 - acc: 0.1779 - val_loss: 12.1472 - val_acc: 0.0000e+00\n",
      "Epoch 62/300\n",
      "7397/7397 [==============================] - 1s 195us/sample - loss: 1.7780 - acc: 0.1813 - val_loss: 12.1472 - val_acc: 0.0000e+00\n",
      "Epoch 63/300\n",
      "7397/7397 [==============================] - 1s 190us/sample - loss: 1.7779 - acc: 0.1794 - val_loss: 12.1473 - val_acc: 0.0000e+00\n",
      "Epoch 64/300\n",
      "7397/7397 [==============================] - 1s 194us/sample - loss: 1.7794 - acc: 0.1714 - val_loss: 12.1475 - val_acc: 0.0000e+00\n",
      "Epoch 65/300\n",
      "7397/7397 [==============================] - 1s 194us/sample - loss: 1.7783 - acc: 0.1785 - val_loss: 12.1476 - val_acc: 0.0000e+00\n",
      "Epoch 66/300\n",
      "7397/7397 [==============================] - 1s 192us/sample - loss: 1.7780 - acc: 0.1766 - val_loss: 12.1477 - val_acc: 0.0000e+00\n",
      "Epoch 67/300\n",
      "7397/7397 [==============================] - 1s 188us/sample - loss: 1.7783 - acc: 0.1767 - val_loss: 12.1479 - val_acc: 0.0000e+00\n",
      "Epoch 68/300\n",
      "7397/7397 [==============================] - 1s 189us/sample - loss: 1.7785 - acc: 0.1779 - val_loss: 12.1480 - val_acc: 0.0000e+00\n",
      "Epoch 69/300\n",
      "7397/7397 [==============================] - 1s 190us/sample - loss: 1.7784 - acc: 0.1817 - val_loss: 12.1477 - val_acc: 0.0000e+00\n",
      "Epoch 70/300\n",
      "7397/7397 [==============================] - 1s 195us/sample - loss: 1.7783 - acc: 0.1779 - val_loss: 12.1478 - val_acc: 0.0000e+00\n",
      "Epoch 71/300\n",
      "7397/7397 [==============================] - 1s 191us/sample - loss: 1.7787 - acc: 0.1778 - val_loss: 12.1476 - val_acc: 0.0000e+00\n",
      "Epoch 72/300\n",
      "7397/7397 [==============================] - 1s 189us/sample - loss: 1.7781 - acc: 0.1817 - val_loss: 12.1476 - val_acc: 0.0000e+00\n",
      "Epoch 73/300\n",
      "7397/7397 [==============================] - 1s 193us/sample - loss: 1.7774 - acc: 0.1860 - val_loss: 12.1475 - val_acc: 0.0000e+00\n",
      "Epoch 74/300\n",
      "7397/7397 [==============================] - 1s 191us/sample - loss: 1.7777 - acc: 0.1845 - val_loss: 12.1474 - val_acc: 0.0000e+00\n",
      "Epoch 75/300\n",
      "7397/7397 [==============================] - 1s 193us/sample - loss: 1.7788 - acc: 0.1780 - val_loss: 12.1475 - val_acc: 0.0000e+00\n",
      "Epoch 76/300\n",
      "7397/7397 [==============================] - 1s 188us/sample - loss: 1.7782 - acc: 0.1749 - val_loss: 12.1475 - val_acc: 0.0000e+00\n",
      "Epoch 77/300\n",
      "7397/7397 [==============================] - 1s 194us/sample - loss: 1.7777 - acc: 0.1821 - val_loss: 12.1475 - val_acc: 0.0000e+00\n",
      "Epoch 78/300\n",
      "7397/7397 [==============================] - 1s 195us/sample - loss: 1.7787 - acc: 0.1810 - val_loss: 12.1474 - val_acc: 0.0000e+00\n",
      "Epoch 79/300\n",
      "7397/7397 [==============================] - 1s 188us/sample - loss: 1.7782 - acc: 0.1801 - val_loss: 12.1474 - val_acc: 0.0000e+00\n",
      "Epoch 80/300\n",
      "7397/7397 [==============================] - 1s 192us/sample - loss: 1.7779 - acc: 0.1791 - val_loss: 12.1476 - val_acc: 0.0000e+00\n",
      "Epoch 81/300\n",
      "7397/7397 [==============================] - 1s 191us/sample - loss: 1.7784 - acc: 0.1771 - val_loss: 12.1477 - val_acc: 0.0000e+00\n",
      "Epoch 82/300\n",
      "7397/7397 [==============================] - 1s 192us/sample - loss: 1.7776 - acc: 0.1822 - val_loss: 12.1479 - val_acc: 0.0000e+00\n",
      "Epoch 83/300\n",
      "7397/7397 [==============================] - 1s 192us/sample - loss: 1.7787 - acc: 0.1756 - val_loss: 12.1480 - val_acc: 0.0000e+00\n",
      "Epoch 84/300\n",
      "7397/7397 [==============================] - 1s 194us/sample - loss: 1.7787 - acc: 0.1748 - val_loss: 12.1480 - val_acc: 0.0000e+00\n",
      "Epoch 85/300\n",
      "7397/7397 [==============================] - 1s 191us/sample - loss: 1.7773 - acc: 0.1898 - val_loss: 12.1480 - val_acc: 0.0000e+00\n",
      "Epoch 86/300\n",
      "7397/7397 [==============================] - 1s 187us/sample - loss: 1.7775 - acc: 0.1743 - val_loss: 12.1479 - val_acc: 0.0000e+00\n",
      "Epoch 87/300\n",
      "7397/7397 [==============================] - 1s 187us/sample - loss: 1.7785 - acc: 0.1814 - val_loss: 12.1479 - val_acc: 0.0000e+00\n",
      "Epoch 88/300\n",
      "7397/7397 [==============================] - 1s 188us/sample - loss: 1.7773 - acc: 0.1837 - val_loss: 12.1479 - val_acc: 0.0000e+00\n",
      "Epoch 89/300\n",
      "7397/7397 [==============================] - 1s 186us/sample - loss: 1.7786 - acc: 0.1791 - val_loss: 12.1479 - val_acc: 0.0000e+00\n",
      "Epoch 90/300\n",
      "7397/7397 [==============================] - 1s 185us/sample - loss: 1.7781 - acc: 0.1763 - val_loss: 12.1479 - val_acc: 0.0000e+00\n",
      "Epoch 91/300\n",
      "7397/7397 [==============================] - 1s 187us/sample - loss: 1.7786 - acc: 0.1730 - val_loss: 12.1480 - val_acc: 0.0000e+00\n",
      "Epoch 92/300\n",
      "7397/7397 [==============================] - 1s 195us/sample - loss: 1.7784 - acc: 0.1766 - val_loss: 12.1479 - val_acc: 0.0000e+00\n",
      "Epoch 93/300\n",
      "7397/7397 [==============================] - 1s 190us/sample - loss: 1.7777 - acc: 0.1840 - val_loss: 12.1479 - val_acc: 0.0000e+00\n",
      "Epoch 94/300\n",
      "7397/7397 [==============================] - 1s 185us/sample - loss: 1.7779 - acc: 0.1809 - val_loss: 12.1481 - val_acc: 0.0000e+00\n",
      "Epoch 95/300\n",
      "7397/7397 [==============================] - 1s 188us/sample - loss: 1.7781 - acc: 0.1802 - val_loss: 12.1483 - val_acc: 0.0000e+00\n",
      "Epoch 96/300\n",
      "7397/7397 [==============================] - 1s 186us/sample - loss: 1.7782 - acc: 0.1752 - val_loss: 12.1481 - val_acc: 0.0000e+00\n",
      "Epoch 97/300\n",
      "7397/7397 [==============================] - 1s 187us/sample - loss: 1.7777 - acc: 0.1816 - val_loss: 12.1479 - val_acc: 0.0000e+00\n",
      "Epoch 98/300\n",
      "7397/7397 [==============================] - 1s 192us/sample - loss: 1.7789 - acc: 0.1728 - val_loss: 12.1480 - val_acc: 0.0000e+00\n",
      "Epoch 99/300\n",
      "7397/7397 [==============================] - 1s 191us/sample - loss: 1.7774 - acc: 0.1821 - val_loss: 12.1480 - val_acc: 0.0000e+00\n",
      "Epoch 100/300\n",
      "7397/7397 [==============================] - 1s 192us/sample - loss: 1.7783 - acc: 0.1744 - val_loss: 12.1480 - val_acc: 0.0000e+00\n",
      "Epoch 101/300\n",
      "7397/7397 [==============================] - 1s 187us/sample - loss: 1.7777 - acc: 0.1814 - val_loss: 12.1479 - val_acc: 0.0000e+00\n",
      "Epoch 102/300\n",
      "7397/7397 [==============================] - 1s 191us/sample - loss: 1.7777 - acc: 0.1848 - val_loss: 12.1480 - val_acc: 0.0000e+00\n",
      "Epoch 103/300\n",
      "7397/7397 [==============================] - 1s 189us/sample - loss: 1.7787 - acc: 0.1706 - val_loss: 12.1481 - val_acc: 0.0000e+00\n",
      "Epoch 104/300\n",
      "7397/7397 [==============================] - 1s 186us/sample - loss: 1.7786 - acc: 0.1780 - val_loss: 12.1480 - val_acc: 0.0000e+00\n",
      "Epoch 105/300\n",
      "7397/7397 [==============================] - 1s 186us/sample - loss: 1.7778 - acc: 0.1863 - val_loss: 12.1479 - val_acc: 0.0000e+00\n",
      "Epoch 106/300\n",
      "7397/7397 [==============================] - 1s 193us/sample - loss: 1.7775 - acc: 0.1802 - val_loss: 12.1478 - val_acc: 0.0000e+00\n",
      "Epoch 107/300\n",
      "7397/7397 [==============================] - 1s 189us/sample - loss: 1.7782 - acc: 0.1794 - val_loss: 12.1478 - val_acc: 0.0000e+00\n",
      "Epoch 108/300\n",
      "7397/7397 [==============================] - 1s 187us/sample - loss: 1.7789 - acc: 0.1768 - val_loss: 12.1477 - val_acc: 0.0000e+00\n",
      "Epoch 109/300\n",
      "7397/7397 [==============================] - 1s 192us/sample - loss: 1.7778 - acc: 0.1798 - val_loss: 12.1477 - val_acc: 0.0000e+00\n",
      "Epoch 110/300\n",
      "7397/7397 [==============================] - 1s 191us/sample - loss: 1.7780 - acc: 0.1783 - val_loss: 12.1478 - val_acc: 0.0000e+00\n",
      "Epoch 111/300\n",
      "7397/7397 [==============================] - 1s 193us/sample - loss: 1.7788 - acc: 0.1772 - val_loss: 12.1479 - val_acc: 0.0000e+00\n",
      "Epoch 112/300\n",
      "7397/7397 [==============================] - 1s 192us/sample - loss: 1.7778 - acc: 0.1818 - val_loss: 12.1477 - val_acc: 0.0000e+00\n",
      "Epoch 113/300\n",
      "7397/7397 [==============================] - 1s 188us/sample - loss: 1.7784 - acc: 0.1852 - val_loss: 12.1478 - val_acc: 0.0000e+00\n",
      "Epoch 114/300\n",
      "7397/7397 [==============================] - 1s 189us/sample - loss: 1.7782 - acc: 0.1830 - val_loss: 12.1478 - val_acc: 0.0000e+00\n",
      "Epoch 115/300\n",
      "7397/7397 [==============================] - 1s 187us/sample - loss: 1.7782 - acc: 0.1787 - val_loss: 12.1478 - val_acc: 0.0000e+00\n",
      "Epoch 116/300\n",
      "7397/7397 [==============================] - 1s 191us/sample - loss: 1.7785 - acc: 0.1817 - val_loss: 12.1479 - val_acc: 0.0000e+00\n",
      "Epoch 117/300\n",
      "7397/7397 [==============================] - 1s 187us/sample - loss: 1.7778 - acc: 0.1801 - val_loss: 12.1480 - val_acc: 0.0000e+00\n",
      "Epoch 118/300\n",
      "7397/7397 [==============================] - 1s 187us/sample - loss: 1.7784 - acc: 0.1730 - val_loss: 12.1480 - val_acc: 0.0000e+00\n",
      "Epoch 119/300\n",
      "7397/7397 [==============================] - 1s 187us/sample - loss: 1.7782 - acc: 0.1775 - val_loss: 12.1480 - val_acc: 0.0000e+00\n",
      "Epoch 120/300\n",
      "7397/7397 [==============================] - 1s 188us/sample - loss: 1.7778 - acc: 0.1839 - val_loss: 12.1481 - val_acc: 0.0000e+00\n",
      "Epoch 121/300\n",
      "7397/7397 [==============================] - 1s 186us/sample - loss: 1.7778 - acc: 0.1824 - val_loss: 12.1480 - val_acc: 0.0000e+00\n",
      "Epoch 122/300\n",
      "7397/7397 [==============================] - 1s 186us/sample - loss: 1.7789 - acc: 0.1752 - val_loss: 12.1479 - val_acc: 0.0000e+00\n",
      "Epoch 123/300\n",
      "7397/7397 [==============================] - 1s 185us/sample - loss: 1.7779 - acc: 0.1806 - val_loss: 12.1479 - val_acc: 0.0000e+00\n",
      "Epoch 124/300\n",
      "7397/7397 [==============================] - 1s 185us/sample - loss: 1.7779 - acc: 0.1837 - val_loss: 12.1479 - val_acc: 0.0000e+00\n",
      "Epoch 125/300\n",
      "7397/7397 [==============================] - 1s 186us/sample - loss: 1.7779 - acc: 0.1783 - val_loss: 12.1479 - val_acc: 0.0000e+00\n",
      "Epoch 126/300\n",
      "7397/7397 [==============================] - 1s 186us/sample - loss: 1.7790 - acc: 0.1699 - val_loss: 12.1480 - val_acc: 0.0000e+00\n",
      "Epoch 127/300\n",
      "7397/7397 [==============================] - 1s 187us/sample - loss: 1.7780 - acc: 0.1778 - val_loss: 12.1479 - val_acc: 0.0000e+00\n",
      "Epoch 128/300\n",
      "7397/7397 [==============================] - 1s 186us/sample - loss: 1.7777 - acc: 0.1807 - val_loss: 12.1480 - val_acc: 0.0000e+00\n",
      "Epoch 129/300\n",
      "7397/7397 [==============================] - 1s 189us/sample - loss: 1.7784 - acc: 0.1775 - val_loss: 12.1480 - val_acc: 0.0000e+00\n",
      "Epoch 130/300\n",
      "7397/7397 [==============================] - 1s 190us/sample - loss: 1.7780 - acc: 0.1783 - val_loss: 12.1479 - val_acc: 0.0000e+00\n",
      "Epoch 131/300\n",
      "7397/7397 [==============================] - 1s 187us/sample - loss: 1.7776 - acc: 0.1771 - val_loss: 12.1479 - val_acc: 0.0000e+00\n",
      "Epoch 132/300\n",
      "7397/7397 [==============================] - 1s 190us/sample - loss: 1.7778 - acc: 0.1782 - val_loss: 12.1479 - val_acc: 0.0000e+00\n",
      "Epoch 133/300\n",
      "7397/7397 [==============================] - 1s 188us/sample - loss: 1.7773 - acc: 0.1890 - val_loss: 12.1479 - val_acc: 0.0000e+00\n",
      "Epoch 134/300\n",
      "7397/7397 [==============================] - 1s 191us/sample - loss: 1.7780 - acc: 0.1807 - val_loss: 12.1478 - val_acc: 0.0000e+00\n",
      "Epoch 135/300\n",
      "7397/7397 [==============================] - 1s 192us/sample - loss: 1.7783 - acc: 0.1745 - val_loss: 12.1479 - val_acc: 0.0000e+00\n",
      "Epoch 136/300\n",
      "7397/7397 [==============================] - 1s 189us/sample - loss: 1.7776 - acc: 0.1807 - val_loss: 12.1477 - val_acc: 0.0000e+00\n",
      "Epoch 137/300\n",
      "7397/7397 [==============================] - 1s 192us/sample - loss: 1.7777 - acc: 0.1803 - val_loss: 12.1479 - val_acc: 0.0000e+00\n",
      "Epoch 138/300\n",
      "7397/7397 [==============================] - 1s 190us/sample - loss: 1.7779 - acc: 0.1767 - val_loss: 12.1481 - val_acc: 0.0000e+00\n",
      "Epoch 139/300\n",
      "7397/7397 [==============================] - 1s 193us/sample - loss: 1.7783 - acc: 0.1762 - val_loss: 12.1483 - val_acc: 0.0000e+00\n",
      "Epoch 140/300\n",
      "7397/7397 [==============================] - 1s 196us/sample - loss: 1.7773 - acc: 0.1821 - val_loss: 12.1483 - val_acc: 0.0000e+00\n",
      "Epoch 141/300\n",
      "7397/7397 [==============================] - 1s 190us/sample - loss: 1.7772 - acc: 0.1868 - val_loss: 12.1483 - val_acc: 0.0000e+00\n",
      "Epoch 142/300\n",
      "7397/7397 [==============================] - 1s 186us/sample - loss: 1.7782 - acc: 0.1771 - val_loss: 12.1482 - val_acc: 0.0000e+00\n",
      "Epoch 143/300\n",
      "7397/7397 [==============================] - 1s 186us/sample - loss: 1.7785 - acc: 0.1725 - val_loss: 12.1482 - val_acc: 0.0000e+00\n",
      "Epoch 144/300\n",
      "7397/7397 [==============================] - 1s 185us/sample - loss: 1.7778 - acc: 0.1791 - val_loss: 12.1482 - val_acc: 0.0000e+00\n",
      "Epoch 145/300\n",
      "7397/7397 [==============================] - 1s 186us/sample - loss: 1.7780 - acc: 0.1851 - val_loss: 12.1480 - val_acc: 0.0000e+00\n",
      "Epoch 146/300\n",
      "7397/7397 [==============================] - 1s 186us/sample - loss: 1.7785 - acc: 0.1741 - val_loss: 12.1480 - val_acc: 0.0000e+00\n",
      "Epoch 147/300\n",
      "7397/7397 [==============================] - 1s 186us/sample - loss: 1.7774 - acc: 0.1802 - val_loss: 12.1479 - val_acc: 0.0000e+00\n",
      "Epoch 148/300\n",
      "7397/7397 [==============================] - 1s 186us/sample - loss: 1.7780 - acc: 0.1814 - val_loss: 12.1480 - val_acc: 0.0000e+00\n",
      "Epoch 149/300\n",
      "7397/7397 [==============================] - 1s 188us/sample - loss: 1.7777 - acc: 0.1826 - val_loss: 12.1480 - val_acc: 0.0000e+00\n",
      "Epoch 150/300\n",
      "7397/7397 [==============================] - 1s 186us/sample - loss: 1.7784 - acc: 0.1785 - val_loss: 12.1479 - val_acc: 0.0000e+00\n",
      "Epoch 151/300\n",
      "7397/7397 [==============================] - 1s 185us/sample - loss: 1.7769 - acc: 0.1837 - val_loss: 12.1478 - val_acc: 0.0000e+00\n",
      "Epoch 152/300\n",
      "7397/7397 [==============================] - 1s 187us/sample - loss: 1.7784 - acc: 0.1774 - val_loss: 12.1479 - val_acc: 0.0000e+00\n",
      "Epoch 153/300\n",
      "7397/7397 [==============================] - 1s 185us/sample - loss: 1.7777 - acc: 0.1786 - val_loss: 12.1480 - val_acc: 0.0000e+00\n",
      "Epoch 154/300\n",
      "7397/7397 [==============================] - 1s 186us/sample - loss: 1.7779 - acc: 0.1797 - val_loss: 12.1479 - val_acc: 0.0000e+00\n",
      "Epoch 155/300\n",
      "7397/7397 [==============================] - 1s 186us/sample - loss: 1.7779 - acc: 0.1780 - val_loss: 12.1480 - val_acc: 0.0000e+00\n",
      "Epoch 156/300\n",
      "7397/7397 [==============================] - 1s 185us/sample - loss: 1.7785 - acc: 0.1798 - val_loss: 12.1481 - val_acc: 0.0000e+00\n",
      "Epoch 157/300\n",
      "7397/7397 [==============================] - 1s 184us/sample - loss: 1.7776 - acc: 0.1828 - val_loss: 12.1480 - val_acc: 0.0000e+00\n",
      "Epoch 158/300\n",
      "7397/7397 [==============================] - 1s 185us/sample - loss: 1.7772 - acc: 0.1826 - val_loss: 12.1480 - val_acc: 0.0000e+00\n",
      "Epoch 159/300\n",
      "7397/7397 [==============================] - 1s 184us/sample - loss: 1.7782 - acc: 0.1751 - val_loss: 12.1479 - val_acc: 0.0000e+00\n",
      "Epoch 160/300\n",
      "7397/7397 [==============================] - 1s 185us/sample - loss: 1.7780 - acc: 0.1783 - val_loss: 12.1479 - val_acc: 0.0000e+00\n",
      "Epoch 161/300\n",
      "7397/7397 [==============================] - 1s 185us/sample - loss: 1.7782 - acc: 0.1791 - val_loss: 12.1477 - val_acc: 0.0000e+00\n",
      "Epoch 162/300\n",
      "7397/7397 [==============================] - 1s 185us/sample - loss: 1.7784 - acc: 0.1844 - val_loss: 12.1478 - val_acc: 0.0000e+00\n",
      "Epoch 163/300\n",
      "7397/7397 [==============================] - 1s 186us/sample - loss: 1.7783 - acc: 0.1732 - val_loss: 12.1477 - val_acc: 0.0000e+00\n",
      "Epoch 164/300\n",
      "7397/7397 [==============================] - 1s 186us/sample - loss: 1.7777 - acc: 0.1795 - val_loss: 12.1477 - val_acc: 0.0000e+00\n",
      "Epoch 165/300\n",
      "7397/7397 [==============================] - 1s 185us/sample - loss: 1.7771 - acc: 0.1836 - val_loss: 12.1478 - val_acc: 0.0000e+00\n",
      "Epoch 166/300\n",
      "7397/7397 [==============================] - 1s 184us/sample - loss: 1.7781 - acc: 0.1778 - val_loss: 12.1476 - val_acc: 0.0000e+00\n",
      "Epoch 167/300\n",
      "7397/7397 [==============================] - 1s 183us/sample - loss: 1.7771 - acc: 0.1813 - val_loss: 12.1477 - val_acc: 0.0000e+00\n",
      "Epoch 168/300\n",
      "7397/7397 [==============================] - 1s 183us/sample - loss: 1.7775 - acc: 0.1844 - val_loss: 12.1477 - val_acc: 0.0000e+00\n",
      "Epoch 169/300\n",
      "7397/7397 [==============================] - 1s 185us/sample - loss: 1.7791 - acc: 0.1721 - val_loss: 12.1477 - val_acc: 0.0000e+00\n",
      "Epoch 170/300\n",
      "7397/7397 [==============================] - 1s 186us/sample - loss: 1.7779 - acc: 0.1778 - val_loss: 12.1478 - val_acc: 0.0000e+00\n",
      "Epoch 171/300\n",
      "7397/7397 [==============================] - 1s 185us/sample - loss: 1.7781 - acc: 0.1748 - val_loss: 12.1478 - val_acc: 0.0000e+00\n",
      "Epoch 172/300\n",
      "7397/7397 [==============================] - 1s 185us/sample - loss: 1.7780 - acc: 0.1779 - val_loss: 12.1478 - val_acc: 0.0000e+00\n",
      "Epoch 173/300\n",
      "7397/7397 [==============================] - 1s 186us/sample - loss: 1.7776 - acc: 0.1779 - val_loss: 12.1477 - val_acc: 0.0000e+00\n",
      "Epoch 174/300\n",
      "7397/7397 [==============================] - 1s 186us/sample - loss: 1.7784 - acc: 0.1748 - val_loss: 12.1477 - val_acc: 0.0000e+00\n",
      "Epoch 175/300\n",
      "7397/7397 [==============================] - 1s 185us/sample - loss: 1.7778 - acc: 0.1893 - val_loss: 12.1476 - val_acc: 0.0000e+00\n",
      "Epoch 176/300\n",
      "7397/7397 [==============================] - 1s 185us/sample - loss: 1.7785 - acc: 0.1748 - val_loss: 12.1477 - val_acc: 0.0000e+00\n",
      "Epoch 177/300\n",
      "7397/7397 [==============================] - 1s 185us/sample - loss: 1.7780 - acc: 0.1837 - val_loss: 12.1478 - val_acc: 0.0000e+00\n",
      "Epoch 178/300\n",
      "7397/7397 [==============================] - 1s 186us/sample - loss: 1.7779 - acc: 0.1813 - val_loss: 12.1476 - val_acc: 0.0000e+00\n",
      "Epoch 179/300\n",
      "7397/7397 [==============================] - 1s 185us/sample - loss: 1.7779 - acc: 0.1794 - val_loss: 12.1476 - val_acc: 0.0000e+00\n",
      "Epoch 180/300\n",
      "7397/7397 [==============================] - 1s 186us/sample - loss: 1.7782 - acc: 0.1783 - val_loss: 12.1477 - val_acc: 0.0000e+00\n",
      "Epoch 181/300\n",
      "7397/7397 [==============================] - 1s 185us/sample - loss: 1.7774 - acc: 0.1812 - val_loss: 12.1476 - val_acc: 0.0000e+00\n",
      "Epoch 182/300\n",
      "7397/7397 [==============================] - 1s 184us/sample - loss: 1.7781 - acc: 0.1778 - val_loss: 12.1477 - val_acc: 0.0000e+00\n",
      "Epoch 183/300\n",
      "7397/7397 [==============================] - 1s 185us/sample - loss: 1.7783 - acc: 0.1858 - val_loss: 12.1479 - val_acc: 0.0000e+00\n",
      "Epoch 184/300\n",
      "7397/7397 [==============================] - 1s 187us/sample - loss: 1.7784 - acc: 0.1801 - val_loss: 12.1479 - val_acc: 0.0000e+00\n",
      "Epoch 185/300\n",
      "7397/7397 [==============================] - 1s 185us/sample - loss: 1.7777 - acc: 0.1794 - val_loss: 12.1479 - val_acc: 0.0000e+00\n",
      "Epoch 186/300\n",
      "7397/7397 [==============================] - 1s 184us/sample - loss: 1.7788 - acc: 0.1759 - val_loss: 12.1480 - val_acc: 0.0000e+00\n",
      "Epoch 187/300\n",
      "7397/7397 [==============================] - 1s 186us/sample - loss: 1.7775 - acc: 0.1778 - val_loss: 12.1482 - val_acc: 0.0000e+00\n",
      "Epoch 188/300\n",
      "7397/7397 [==============================] - 1s 186us/sample - loss: 1.7774 - acc: 0.1817 - val_loss: 12.1482 - val_acc: 0.0000e+00\n",
      "Epoch 189/300\n",
      "7397/7397 [==============================] - 1s 185us/sample - loss: 1.7790 - acc: 0.1722 - val_loss: 12.1482 - val_acc: 0.0000e+00\n",
      "Epoch 190/300\n",
      "7397/7397 [==============================] - 1s 186us/sample - loss: 1.7777 - acc: 0.1855 - val_loss: 12.1483 - val_acc: 0.0000e+00\n",
      "Epoch 191/300\n",
      "7397/7397 [==============================] - 1s 185us/sample - loss: 1.7779 - acc: 0.1818 - val_loss: 12.1482 - val_acc: 0.0000e+00\n",
      "Epoch 192/300\n",
      "7397/7397 [==============================] - 1s 185us/sample - loss: 1.7783 - acc: 0.1797 - val_loss: 12.1480 - val_acc: 0.0000e+00\n",
      "Epoch 193/300\n",
      "7397/7397 [==============================] - 1s 185us/sample - loss: 1.7777 - acc: 0.1793 - val_loss: 12.1479 - val_acc: 0.0000e+00\n",
      "Epoch 194/300\n",
      "7397/7397 [==============================] - 1s 185us/sample - loss: 1.7776 - acc: 0.1821 - val_loss: 12.1480 - val_acc: 0.0000e+00\n",
      "Epoch 195/300\n",
      "7397/7397 [==============================] - 1s 186us/sample - loss: 1.7778 - acc: 0.1889 - val_loss: 12.1480 - val_acc: 0.0000e+00\n",
      "Epoch 196/300\n",
      "7397/7397 [==============================] - 1s 186us/sample - loss: 1.7768 - acc: 0.1866 - val_loss: 12.1480 - val_acc: 0.0000e+00\n",
      "Epoch 197/300\n",
      "7397/7397 [==============================] - 1s 185us/sample - loss: 1.7777 - acc: 0.1767 - val_loss: 12.1479 - val_acc: 0.0000e+00\n",
      "Epoch 198/300\n",
      "7397/7397 [==============================] - 1s 184us/sample - loss: 1.7777 - acc: 0.1789 - val_loss: 12.1480 - val_acc: 0.0000e+00\n",
      "Epoch 199/300\n",
      "7397/7397 [==============================] - 1s 186us/sample - loss: 1.7771 - acc: 0.1841 - val_loss: 12.1479 - val_acc: 0.0000e+00\n",
      "Epoch 200/300\n",
      "7397/7397 [==============================] - 1s 185us/sample - loss: 1.7782 - acc: 0.1776 - val_loss: 12.1479 - val_acc: 0.0000e+00\n",
      "Epoch 201/300\n",
      "7397/7397 [==============================] - 1s 186us/sample - loss: 1.7778 - acc: 0.1840 - val_loss: 12.1480 - val_acc: 0.0000e+00\n",
      "Epoch 202/300\n",
      "7397/7397 [==============================] - 1s 186us/sample - loss: 1.7788 - acc: 0.1756 - val_loss: 12.1480 - val_acc: 0.0000e+00\n",
      "Epoch 203/300\n",
      "7397/7397 [==============================] - 1s 185us/sample - loss: 1.7782 - acc: 0.1768 - val_loss: 12.1479 - val_acc: 0.0000e+00\n",
      "Epoch 204/300\n",
      "7397/7397 [==============================] - 1s 185us/sample - loss: 1.7781 - acc: 0.1816 - val_loss: 12.1479 - val_acc: 0.0000e+00\n",
      "Epoch 205/300\n",
      "7397/7397 [==============================] - 1s 185us/sample - loss: 1.7782 - acc: 0.1779 - val_loss: 12.1479 - val_acc: 0.0000e+00\n",
      "Epoch 206/300\n",
      "7397/7397 [==============================] - 1s 185us/sample - loss: 1.7781 - acc: 0.1745 - val_loss: 12.1478 - val_acc: 0.0000e+00\n",
      "Epoch 207/300\n",
      "7397/7397 [==============================] - 1s 185us/sample - loss: 1.7776 - acc: 0.1798 - val_loss: 12.1479 - val_acc: 0.0000e+00\n",
      "Epoch 208/300\n",
      "7397/7397 [==============================] - 1s 184us/sample - loss: 1.7775 - acc: 0.1809 - val_loss: 12.1478 - val_acc: 0.0000e+00\n",
      "Epoch 209/300\n",
      "7397/7397 [==============================] - 1s 184us/sample - loss: 1.7778 - acc: 0.1771 - val_loss: 12.1478 - val_acc: 0.0000e+00\n",
      "Epoch 210/300\n",
      "7397/7397 [==============================] - 1s 185us/sample - loss: 1.7778 - acc: 0.1847 - val_loss: 12.1478 - val_acc: 0.0000e+00\n",
      "Epoch 211/300\n",
      "7397/7397 [==============================] - 1s 185us/sample - loss: 1.7777 - acc: 0.1833 - val_loss: 12.1479 - val_acc: 0.0000e+00\n",
      "Epoch 212/300\n",
      "7397/7397 [==============================] - 1s 185us/sample - loss: 1.7775 - acc: 0.1853 - val_loss: 12.1479 - val_acc: 0.0000e+00\n",
      "Epoch 213/300\n",
      "7397/7397 [==============================] - 1s 183us/sample - loss: 1.7776 - acc: 0.1807 - val_loss: 12.1479 - val_acc: 0.0000e+00\n",
      "Epoch 214/300\n",
      "7397/7397 [==============================] - 1s 186us/sample - loss: 1.7790 - acc: 0.1745 - val_loss: 12.1479 - val_acc: 0.0000e+00\n",
      "Epoch 215/300\n",
      "7397/7397 [==============================] - 1s 185us/sample - loss: 1.7767 - acc: 0.1874 - val_loss: 12.1479 - val_acc: 0.0000e+00\n",
      "Epoch 216/300\n",
      "7397/7397 [==============================] - 1s 185us/sample - loss: 1.7776 - acc: 0.1807 - val_loss: 12.1480 - val_acc: 0.0000e+00\n",
      "Epoch 217/300\n",
      "7397/7397 [==============================] - 1s 184us/sample - loss: 1.7775 - acc: 0.1863 - val_loss: 12.1480 - val_acc: 0.0000e+00\n",
      "Epoch 218/300\n",
      "7397/7397 [==============================] - 1s 186us/sample - loss: 1.7773 - acc: 0.1820 - val_loss: 12.1480 - val_acc: 0.0000e+00\n",
      "Epoch 219/300\n",
      "7397/7397 [==============================] - 1s 186us/sample - loss: 1.7775 - acc: 0.1793 - val_loss: 12.1479 - val_acc: 0.0000e+00\n",
      "Epoch 220/300\n",
      "7397/7397 [==============================] - 1s 186us/sample - loss: 1.7784 - acc: 0.1764 - val_loss: 12.1477 - val_acc: 0.0000e+00\n",
      "Epoch 221/300\n",
      "7397/7397 [==============================] - 1s 185us/sample - loss: 1.7779 - acc: 0.1821 - val_loss: 12.1477 - val_acc: 0.0000e+00\n",
      "Epoch 222/300\n",
      "7397/7397 [==============================] - 1s 185us/sample - loss: 1.7770 - acc: 0.1824 - val_loss: 12.1477 - val_acc: 0.0000e+00\n",
      "Epoch 223/300\n",
      "7397/7397 [==============================] - 1s 185us/sample - loss: 1.7780 - acc: 0.1821 - val_loss: 12.1478 - val_acc: 0.0000e+00\n",
      "Epoch 224/300\n",
      "7397/7397 [==============================] - 1s 185us/sample - loss: 1.7782 - acc: 0.1733 - val_loss: 12.1478 - val_acc: 0.0000e+00\n",
      "Epoch 225/300\n",
      "7397/7397 [==============================] - 1s 184us/sample - loss: 1.7779 - acc: 0.1840 - val_loss: 12.1478 - val_acc: 0.0000e+00\n",
      "Epoch 226/300\n",
      "7397/7397 [==============================] - 1s 184us/sample - loss: 1.7774 - acc: 0.1816 - val_loss: 12.1479 - val_acc: 0.0000e+00\n",
      "Epoch 227/300\n",
      "7397/7397 [==============================] - 1s 185us/sample - loss: 1.7779 - acc: 0.1807 - val_loss: 12.1480 - val_acc: 0.0000e+00\n",
      "Epoch 228/300\n",
      "7397/7397 [==============================] - 1s 186us/sample - loss: 1.7774 - acc: 0.1794 - val_loss: 12.1478 - val_acc: 0.0000e+00\n",
      "Epoch 229/300\n",
      "7397/7397 [==============================] - 1s 185us/sample - loss: 1.7779 - acc: 0.1775 - val_loss: 12.1479 - val_acc: 0.0000e+00\n",
      "Epoch 230/300\n",
      "7397/7397 [==============================] - 1s 185us/sample - loss: 1.7778 - acc: 0.1805 - val_loss: 12.1477 - val_acc: 0.0000e+00\n",
      "Epoch 231/300\n",
      "7397/7397 [==============================] - 1s 185us/sample - loss: 1.7781 - acc: 0.1733 - val_loss: 12.1478 - val_acc: 0.0000e+00\n",
      "Epoch 232/300\n",
      "7397/7397 [==============================] - 1s 185us/sample - loss: 1.7780 - acc: 0.1744 - val_loss: 12.1478 - val_acc: 0.0000e+00\n",
      "Epoch 233/300\n",
      "7397/7397 [==============================] - 1s 184us/sample - loss: 1.7778 - acc: 0.1776 - val_loss: 12.1477 - val_acc: 0.0000e+00\n",
      "Epoch 234/300\n",
      "7397/7397 [==============================] - 1s 185us/sample - loss: 1.7782 - acc: 0.1789 - val_loss: 12.1478 - val_acc: 0.0000e+00\n",
      "Epoch 235/300\n",
      "7397/7397 [==============================] - 1s 186us/sample - loss: 1.7773 - acc: 0.1839 - val_loss: 12.1477 - val_acc: 0.0000e+00\n",
      "Epoch 236/300\n",
      "7397/7397 [==============================] - 1s 184us/sample - loss: 1.7781 - acc: 0.1790 - val_loss: 12.1478 - val_acc: 0.0000e+00\n",
      "Epoch 237/300\n",
      "7397/7397 [==============================] - 1s 185us/sample - loss: 1.7776 - acc: 0.1799 - val_loss: 12.1477 - val_acc: 0.0000e+00\n",
      "Epoch 238/300\n",
      "7397/7397 [==============================] - 1s 183us/sample - loss: 1.7779 - acc: 0.1791 - val_loss: 12.1478 - val_acc: 0.0000e+00\n",
      "Epoch 239/300\n",
      "7397/7397 [==============================] - 1s 184us/sample - loss: 1.7787 - acc: 0.1776 - val_loss: 12.1478 - val_acc: 0.0000e+00\n",
      "Epoch 240/300\n",
      "7397/7397 [==============================] - 1s 185us/sample - loss: 1.7784 - acc: 0.1736 - val_loss: 12.1479 - val_acc: 0.0000e+00\n",
      "Epoch 241/300\n",
      "7397/7397 [==============================] - 1s 185us/sample - loss: 1.7782 - acc: 0.1745 - val_loss: 12.1482 - val_acc: 0.0000e+00\n",
      "Epoch 242/300\n",
      "7397/7397 [==============================] - 1s 186us/sample - loss: 1.7781 - acc: 0.1790 - val_loss: 12.1482 - val_acc: 0.0000e+00\n",
      "Epoch 243/300\n",
      "7397/7397 [==============================] - 1s 185us/sample - loss: 1.7781 - acc: 0.1732 - val_loss: 12.1481 - val_acc: 0.0000e+00\n",
      "Epoch 244/300\n",
      "7397/7397 [==============================] - 1s 185us/sample - loss: 1.7778 - acc: 0.1820 - val_loss: 12.1481 - val_acc: 0.0000e+00\n",
      "Epoch 245/300\n",
      "7397/7397 [==============================] - 1s 185us/sample - loss: 1.7774 - acc: 0.1867 - val_loss: 12.1482 - val_acc: 0.0000e+00\n",
      "Epoch 246/300\n",
      "7397/7397 [==============================] - 1s 184us/sample - loss: 1.7778 - acc: 0.1801 - val_loss: 12.1482 - val_acc: 0.0000e+00\n",
      "Epoch 247/300\n",
      "7397/7397 [==============================] - 1s 186us/sample - loss: 1.7776 - acc: 0.1813 - val_loss: 12.1483 - val_acc: 0.0000e+00\n",
      "Epoch 248/300\n",
      "7397/7397 [==============================] - 1s 185us/sample - loss: 1.7775 - acc: 0.1806 - val_loss: 12.1484 - val_acc: 0.0000e+00\n",
      "Epoch 249/300\n",
      "7397/7397 [==============================] - 1s 185us/sample - loss: 1.7773 - acc: 0.1835 - val_loss: 12.1484 - val_acc: 0.0000e+00\n",
      "Epoch 250/300\n",
      "7397/7397 [==============================] - 1s 186us/sample - loss: 1.7776 - acc: 0.1830 - val_loss: 12.1485 - val_acc: 0.0000e+00\n",
      "Epoch 251/300\n",
      "7397/7397 [==============================] - 1s 185us/sample - loss: 1.7778 - acc: 0.1787 - val_loss: 12.1484 - val_acc: 0.0000e+00\n",
      "Epoch 252/300\n",
      "7397/7397 [==============================] - 1s 186us/sample - loss: 1.7777 - acc: 0.1822 - val_loss: 12.1483 - val_acc: 0.0000e+00\n",
      "Epoch 253/300\n",
      "7397/7397 [==============================] - 1s 182us/sample - loss: 1.7778 - acc: 0.1764 - val_loss: 12.1483 - val_acc: 0.0000e+00\n",
      "Epoch 254/300\n",
      "7397/7397 [==============================] - 1s 185us/sample - loss: 1.7779 - acc: 0.1767 - val_loss: 12.1483 - val_acc: 0.0000e+00\n",
      "Epoch 255/300\n",
      "7397/7397 [==============================] - 1s 185us/sample - loss: 1.7780 - acc: 0.1817 - val_loss: 12.1483 - val_acc: 0.0000e+00\n",
      "Epoch 256/300\n",
      "7397/7397 [==============================] - 1s 185us/sample - loss: 1.7783 - acc: 0.1790 - val_loss: 12.1482 - val_acc: 0.0000e+00\n",
      "Epoch 257/300\n",
      "7397/7397 [==============================] - 1s 186us/sample - loss: 1.7782 - acc: 0.1771 - val_loss: 12.1482 - val_acc: 0.0000e+00\n",
      "Epoch 258/300\n",
      "7397/7397 [==============================] - 1s 184us/sample - loss: 1.7780 - acc: 0.1757 - val_loss: 12.1481 - val_acc: 0.0000e+00\n",
      "Epoch 259/300\n",
      "7397/7397 [==============================] - 1s 186us/sample - loss: 1.7775 - acc: 0.1818 - val_loss: 12.1482 - val_acc: 0.0000e+00\n",
      "Epoch 260/300\n",
      "7397/7397 [==============================] - 1s 186us/sample - loss: 1.7777 - acc: 0.1797 - val_loss: 12.1483 - val_acc: 0.0000e+00\n",
      "Epoch 261/300\n",
      "7397/7397 [==============================] - 1s 185us/sample - loss: 1.7777 - acc: 0.1902 - val_loss: 12.1482 - val_acc: 0.0000e+00\n",
      "Epoch 262/300\n",
      "7397/7397 [==============================] - 1s 186us/sample - loss: 1.7782 - acc: 0.1816 - val_loss: 12.1481 - val_acc: 0.0000e+00\n",
      "Epoch 263/300\n",
      "7397/7397 [==============================] - 1s 184us/sample - loss: 1.7773 - acc: 0.1772 - val_loss: 12.1481 - val_acc: 0.0000e+00\n",
      "Epoch 264/300\n",
      "7397/7397 [==============================] - 1s 184us/sample - loss: 1.7784 - acc: 0.1753 - val_loss: 12.1481 - val_acc: 0.0000e+00\n",
      "Epoch 265/300\n",
      "7397/7397 [==============================] - 1s 185us/sample - loss: 1.7781 - acc: 0.1748 - val_loss: 12.1480 - val_acc: 0.0000e+00\n",
      "Epoch 266/300\n",
      "7397/7397 [==============================] - 1s 184us/sample - loss: 1.7771 - acc: 0.1801 - val_loss: 12.1480 - val_acc: 0.0000e+00\n",
      "Epoch 267/300\n",
      "7397/7397 [==============================] - 1s 186us/sample - loss: 1.7774 - acc: 0.1813 - val_loss: 12.1480 - val_acc: 0.0000e+00\n",
      "Epoch 268/300\n",
      "7397/7397 [==============================] - 1s 187us/sample - loss: 1.7773 - acc: 0.1851 - val_loss: 12.1480 - val_acc: 0.0000e+00\n",
      "Epoch 269/300\n",
      "7397/7397 [==============================] - 1s 186us/sample - loss: 1.7783 - acc: 0.1755 - val_loss: 12.1482 - val_acc: 0.0000e+00\n",
      "Epoch 270/300\n",
      "7397/7397 [==============================] - 1s 186us/sample - loss: 1.7779 - acc: 0.1789 - val_loss: 12.1483 - val_acc: 0.0000e+00\n",
      "Epoch 271/300\n",
      "7397/7397 [==============================] - 1s 185us/sample - loss: 1.7780 - acc: 0.1697 - val_loss: 12.1482 - val_acc: 0.0000e+00\n",
      "Epoch 272/300\n",
      "7397/7397 [==============================] - 1s 184us/sample - loss: 1.7775 - acc: 0.1793 - val_loss: 12.1482 - val_acc: 0.0000e+00\n",
      "Epoch 273/300\n",
      "7397/7397 [==============================] - 1s 186us/sample - loss: 1.7785 - acc: 0.1755 - val_loss: 12.1481 - val_acc: 0.0000e+00\n",
      "Epoch 274/300\n",
      "7397/7397 [==============================] - 1s 185us/sample - loss: 1.7782 - acc: 0.1814 - val_loss: 12.1480 - val_acc: 0.0000e+00\n",
      "Epoch 275/300\n",
      "7397/7397 [==============================] - 1s 185us/sample - loss: 1.7779 - acc: 0.1818 - val_loss: 12.1481 - val_acc: 0.0000e+00\n",
      "Epoch 276/300\n",
      "7397/7397 [==============================] - 1s 184us/sample - loss: 1.7778 - acc: 0.1763 - val_loss: 12.1480 - val_acc: 0.0000e+00\n",
      "Epoch 277/300\n",
      "7397/7397 [==============================] - 1s 186us/sample - loss: 1.7788 - acc: 0.1734 - val_loss: 12.1481 - val_acc: 0.0000e+00\n",
      "Epoch 278/300\n",
      "7397/7397 [==============================] - 1s 185us/sample - loss: 1.7778 - acc: 0.1820 - val_loss: 12.1481 - val_acc: 0.0000e+00\n",
      "Epoch 279/300\n",
      "7397/7397 [==============================] - 1s 186us/sample - loss: 1.7780 - acc: 0.1824 - val_loss: 12.1482 - val_acc: 0.0000e+00\n",
      "Epoch 280/300\n",
      "7397/7397 [==============================] - 1s 185us/sample - loss: 1.7778 - acc: 0.1780 - val_loss: 12.1480 - val_acc: 0.0000e+00\n",
      "Epoch 281/300\n",
      "7397/7397 [==============================] - 1s 186us/sample - loss: 1.7773 - acc: 0.1868 - val_loss: 12.1478 - val_acc: 0.0000e+00\n",
      "Epoch 282/300\n",
      "7397/7397 [==============================] - 1s 186us/sample - loss: 1.7773 - acc: 0.1870 - val_loss: 12.1479 - val_acc: 0.0000e+00\n",
      "Epoch 283/300\n",
      "7397/7397 [==============================] - 1s 186us/sample - loss: 1.7770 - acc: 0.1829 - val_loss: 12.1480 - val_acc: 0.0000e+00\n",
      "Epoch 284/300\n",
      "7397/7397 [==============================] - 1s 186us/sample - loss: 1.7776 - acc: 0.1852 - val_loss: 12.1481 - val_acc: 0.0000e+00\n",
      "Epoch 285/300\n",
      "7397/7397 [==============================] - 1s 186us/sample - loss: 1.7777 - acc: 0.1832 - val_loss: 12.1480 - val_acc: 0.0000e+00\n",
      "Epoch 286/300\n",
      "7397/7397 [==============================] - 1s 185us/sample - loss: 1.7773 - acc: 0.1840 - val_loss: 12.1479 - val_acc: 0.0000e+00\n",
      "Epoch 287/300\n",
      "7397/7397 [==============================] - 1s 184us/sample - loss: 1.7777 - acc: 0.1776 - val_loss: 12.1480 - val_acc: 0.0000e+00\n",
      "Epoch 288/300\n",
      "7397/7397 [==============================] - 1s 185us/sample - loss: 1.7775 - acc: 0.1806 - val_loss: 12.1481 - val_acc: 0.0000e+00\n",
      "Epoch 289/300\n",
      "7397/7397 [==============================] - 1s 183us/sample - loss: 1.7779 - acc: 0.1793 - val_loss: 12.1481 - val_acc: 0.0000e+00\n",
      "Epoch 290/300\n",
      "7397/7397 [==============================] - 1s 185us/sample - loss: 1.7778 - acc: 0.1825 - val_loss: 12.1480 - val_acc: 0.0000e+00\n",
      "Epoch 291/300\n",
      "7397/7397 [==============================] - 1s 185us/sample - loss: 1.7776 - acc: 0.1772 - val_loss: 12.1481 - val_acc: 0.0000e+00\n",
      "Epoch 292/300\n",
      "7397/7397 [==============================] - 1s 186us/sample - loss: 1.7781 - acc: 0.1741 - val_loss: 12.1482 - val_acc: 0.0000e+00\n",
      "Epoch 293/300\n",
      "7397/7397 [==============================] - 1s 186us/sample - loss: 1.7773 - acc: 0.1882 - val_loss: 12.1482 - val_acc: 0.0000e+00\n",
      "Epoch 294/300\n",
      "7397/7397 [==============================] - 1s 185us/sample - loss: 1.7780 - acc: 0.1809 - val_loss: 12.1481 - val_acc: 0.0000e+00\n",
      "Epoch 295/300\n",
      "7397/7397 [==============================] - 1s 185us/sample - loss: 1.7780 - acc: 0.1779 - val_loss: 12.1480 - val_acc: 0.0000e+00\n",
      "Epoch 296/300\n",
      "7397/7397 [==============================] - 1s 188us/sample - loss: 1.7774 - acc: 0.1883 - val_loss: 12.1479 - val_acc: 0.0000e+00\n",
      "Epoch 297/300\n",
      "7397/7397 [==============================] - 1s 185us/sample - loss: 1.7781 - acc: 0.1775 - val_loss: 12.1477 - val_acc: 0.0000e+00\n",
      "Epoch 298/300\n",
      "7397/7397 [==============================] - 1s 185us/sample - loss: 1.7779 - acc: 0.1740 - val_loss: 12.1478 - val_acc: 0.0000e+00\n",
      "Epoch 299/300\n",
      "7397/7397 [==============================] - 1s 184us/sample - loss: 1.7779 - acc: 0.1785 - val_loss: 12.1478 - val_acc: 0.0000e+00\n",
      "Epoch 300/300\n",
      "7397/7397 [==============================] - 1s 185us/sample - loss: 1.7784 - acc: 0.1702 - val_loss: 12.1478 - val_acc: 0.0000e+00\n"
     ]
    },
    {
     "data": {
      "text/plain": "<tensorflow.python.keras.callbacks.History at 0x2059cf6a508>"
     },
     "execution_count": 5,
     "metadata": {},
     "output_type": "execute_result"
    }
   ],
   "source": [
    "model.fit(x_train, y_train,\n",
    "          batch_size=64,\n",
    "          epochs=300,\n",
    "          validation_split=0.2)"
   ],
   "metadata": {
    "collapsed": false,
    "pycharm": {
     "name": "#%%\n"
    }
   }
  },
  {
   "cell_type": "code",
   "execution_count": 3,
   "outputs": [],
   "source": [
    "from keras.callbacks import EarlyStopping, ReduceLROnPlateau\n",
    "\n",
    "early_stop = EarlyStopping(monitor='val_loss', patience=8, verbose=1, min_delta=1e-4)\n",
    "reduce_lr = ReduceLROnPlateau(monitor='val_loss', factor=0.1, patience=4, verbose=1, min_delta=1e-4)\n",
    "callbacks_list = [early_stop, reduce_lr]"
   ],
   "metadata": {
    "collapsed": false,
    "pycharm": {
     "name": "#%%\n"
    }
   }
  },
  {
   "cell_type": "code",
   "execution_count": 4,
   "outputs": [
    {
     "name": "stdout",
     "output_type": "stream",
     "text": [
      "WARNING:tensorflow:From C:\\Python37\\lib\\site-packages\\tensorflow_core\\python\\ops\\math_grad.py:1424: where (from tensorflow.python.ops.array_ops) is deprecated and will be removed in a future version.\n",
      "Instructions for updating:\n",
      "Use tf.where in 2.0, which has the same broadcast rule as np.where\n",
      "WARNING:tensorflow:From C:\\Python37\\lib\\site-packages\\keras\\backend\\tensorflow_backend.py:977: The name tf.assign_add is deprecated. Please use tf.compat.v1.assign_add instead.\n",
      "\n",
      "WARNING:tensorflow:From C:\\Python37\\lib\\site-packages\\keras\\backend\\tensorflow_backend.py:964: The name tf.assign is deprecated. Please use tf.compat.v1.assign instead.\n",
      "\n",
      "WARNING:tensorflow:From C:\\Python37\\lib\\site-packages\\keras\\backend\\tensorflow_backend.py:2503: The name tf.Session is deprecated. Please use tf.compat.v1.Session instead.\n",
      "\n",
      "Epoch 1/100\n",
      "WARNING:tensorflow:From C:\\Python37\\lib\\site-packages\\keras\\backend\\tensorflow_backend.py:168: The name tf.get_default_session is deprecated. Please use tf.compat.v1.get_default_session instead.\n",
      "\n",
      "WARNING:tensorflow:From C:\\Python37\\lib\\site-packages\\keras\\backend\\tensorflow_backend.py:175: The name tf.ConfigProto is deprecated. Please use tf.compat.v1.ConfigProto instead.\n",
      "\n",
      "WARNING:tensorflow:From C:\\Python37\\lib\\site-packages\\keras\\backend\\tensorflow_backend.py:184: The name tf.global_variables is deprecated. Please use tf.compat.v1.global_variables instead.\n",
      "\n",
      "WARNING:tensorflow:From C:\\Python37\\lib\\site-packages\\keras\\backend\\tensorflow_backend.py:193: The name tf.is_variable_initialized is deprecated. Please use tf.compat.v1.is_variable_initialized instead.\n",
      "\n",
      "WARNING:tensorflow:From C:\\Python37\\lib\\site-packages\\keras\\backend\\tensorflow_backend.py:200: The name tf.variables_initializer is deprecated. Please use tf.compat.v1.variables_initializer instead.\n",
      "\n",
      "28/28 [==============================] - 64s 2s/step - loss: 11.2877 - acc: 0.1205 - val_loss: 5.6058 - val_acc: 0.1465\n",
      "Epoch 2/100\n",
      "28/28 [==============================] - 46s 2s/step - loss: 4.5747 - acc: 0.1339 - val_loss: 3.8999 - val_acc: 0.1465\n",
      "Epoch 3/100\n",
      "28/28 [==============================] - 46s 2s/step - loss: 3.0330 - acc: 0.1484 - val_loss: 1.9544 - val_acc: 0.1465\n",
      "Epoch 4/100\n",
      "28/28 [==============================] - 46s 2s/step - loss: 2.0031 - acc: 0.1183 - val_loss: 1.9517 - val_acc: 0.1465\n",
      "Epoch 5/100\n",
      "28/28 [==============================] - 46s 2s/step - loss: 2.0016 - acc: 0.0786 - val_loss: 1.9461 - val_acc: 0.1465\n",
      "Epoch 6/100\n",
      "28/28 [==============================] - 46s 2s/step - loss: 1.9956 - acc: 0.0626 - val_loss: 1.9504 - val_acc: 0.1270\n",
      "Epoch 7/100\n",
      "28/28 [==============================] - 46s 2s/step - loss: 1.9850 - acc: 0.0751 - val_loss: 1.9529 - val_acc: 0.1465\n",
      "Epoch 8/100\n",
      "28/28 [==============================] - 46s 2s/step - loss: 1.9862 - acc: 0.0682 - val_loss: 1.9494 - val_acc: 0.1465\n",
      "Epoch 9/100\n",
      "28/28 [==============================] - 46s 2s/step - loss: 1.9868 - acc: 0.0859 - val_loss: 1.9520 - val_acc: 0.1270\n",
      "\n",
      "Epoch 00009: ReduceLROnPlateau reducing learning rate to 0.0009999999776482583.\n",
      "Epoch 10/100\n",
      "28/28 [==============================] - 49s 2s/step - loss: 1.9783 - acc: 0.1230 - val_loss: 1.9508 - val_acc: 0.1270\n",
      "Epoch 11/100\n",
      "28/28 [==============================] - 47s 2s/step - loss: 1.9478 - acc: 0.1250 - val_loss: 1.9505 - val_acc: 0.1270\n",
      "Epoch 12/100\n",
      "28/28 [==============================] - 45s 2s/step - loss: 1.9355 - acc: 0.1473 - val_loss: 1.9512 - val_acc: 0.1270\n",
      "Epoch 13/100\n",
      "28/28 [==============================] - 46s 2s/step - loss: 1.9558 - acc: 0.1609 - val_loss: 1.9508 - val_acc: 0.1270\n",
      "\n",
      "Epoch 00013: ReduceLROnPlateau reducing learning rate to 9.999999310821295e-05.\n",
      "Epoch 00013: early stopping\n"
     ]
    },
    {
     "data": {
      "text/plain": "<keras.callbacks.History at 0x2d753915a48>"
     },
     "execution_count": 4,
     "metadata": {},
     "output_type": "execute_result"
    }
   ],
   "source": [
    "model.fit_generator(\n",
    "    train_gen,\n",
    "    epochs=100,\n",
    "    validation_data=validation_gen,\n",
    "    steps_per_epoch=train_gen.samples//batch_size,\n",
    "    callbacks=callbacks_list,\n",
    "    validation_steps=250\n",
    ")"
   ],
   "metadata": {
    "collapsed": false,
    "pycharm": {
     "name": "#%%\n"
    }
   }
  },
  {
   "cell_type": "markdown",
   "source": [
    "### Loading features dataset from .csv files"
   ],
   "metadata": {
    "collapsed": false,
    "pycharm": {
     "name": "#%% md\n"
    }
   }
  },
  {
   "cell_type": "code",
   "execution_count": 1,
   "outputs": [
    {
     "name": "stderr",
     "output_type": "stream",
     "text": [
      "Using TensorFlow backend.\n"
     ]
    }
   ],
   "source": [
    "from processing import load_csv_data, slice_labels\n",
    "\n",
    "train_path = 'Datasets/espe/lbp_histograms/train'\n",
    "train_data = load_csv_data(train_path)\n",
    "\n",
    "test_path = 'Datasets/espe/lbp_histograms/test'\n",
    "test_data = load_csv_data(test_path)\n",
    "\n",
    "validation_path = 'Datasets/espe/lbp_histograms/validation'\n",
    "validation_data = load_csv_data(validation_path)\n",
    "\n",
    "# train_data.shape, test_data.shape, validation_data.shape\n",
    "x_train, y_train = slice_labels(train_data)\n",
    "x_test, y_test = slice_labels(test_data)\n",
    "x_val, y_val = slice_labels(validation_data)"
   ],
   "metadata": {
    "collapsed": false,
    "pycharm": {
     "name": "#%%\n"
    }
   }
  },
  {
   "cell_type": "markdown",
   "source": [],
   "metadata": {
    "collapsed": false,
    "pycharm": {
     "name": "#%% md\n"
    }
   }
  },
  {
   "cell_type": "code",
   "execution_count": 4,
   "outputs": [],
   "source": [
    "from processing import load_image_dataset\n",
    "\n",
    "x_rgb_train, y_rgb_train = load_image_dataset('Datasets/espe/base/train', (256, 256), True)\n",
    "x_rgb_test, y_rgb_test = load_image_dataset('Datasets/espe/base/test', (256, 256), True)\n",
    "x_rgb_validation, y_rgb_validation = load_image_dataset('Datasets/espe/base/validation', (256, 256), True)"
   ],
   "metadata": {
    "collapsed": false,
    "pycharm": {
     "name": "#%%\n"
    }
   }
  },
  {
   "cell_type": "code",
   "execution_count": 4,
   "outputs": [
    {
     "name": "stdout",
     "output_type": "stream",
     "text": [
      "WARNING:tensorflow:From C:\\Python37\\lib\\site-packages\\keras\\optimizers.py:757: The name tf.train.Optimizer is deprecated. Please use tf.compat.v1.train.Optimizer instead.\n",
      "\n",
      "WARNING:tensorflow:From C:\\Python37\\lib\\site-packages\\keras\\backend\\tensorflow_backend.py:3014: The name tf.log is deprecated. Please use tf.math.log instead.\n",
      "\n"
     ]
    }
   ],
   "source": [
    "from keras.optimizers import RMSprop\n",
    "model.compile(optimizer=RMSprop(1e-3),\n",
    "              loss='categorical_crossentropy',\n",
    "              metrics=['acc'])"
   ],
   "metadata": {
    "collapsed": false,
    "pycharm": {
     "name": "#%%\n"
    }
   }
  },
  {
   "cell_type": "markdown",
   "source": [
    "### Loading histogram data"
   ],
   "metadata": {
    "collapsed": false,
    "pycharm": {
     "name": "#%% md\n"
    }
   }
  },
  {
   "cell_type": "code",
   "execution_count": 22,
   "outputs": [],
   "source": [
    "from processing import load_csv_data, slice_labels\n",
    "\n",
    "train_path = 'Datasets/espe/lbp_histograms/train'\n",
    "train_data = load_csv_data(train_path)\n",
    "\n",
    "test_path = 'Datasets/espe/lbp_histograms/test'\n",
    "test_data = load_csv_data(test_path)\n",
    "\n",
    "validation_path = 'Datasets/espe/lbp_histograms/validation'\n",
    "validation_data = load_csv_data(validation_path)\n",
    "\n",
    "# train_data.shape, test_data.shape, validation_data.shape\n",
    "x_train, y_train = slice_labels(train_data)\n",
    "x_test, y_test = slice_labels(test_data)\n",
    "x_val, y_val = slice_labels(validation_data)"
   ],
   "metadata": {
    "collapsed": false,
    "pycharm": {
     "name": "#%%\n"
    }
   }
  },
  {
   "cell_type": "code",
   "execution_count": 10,
   "outputs": [
    {
     "name": "stdout",
     "output_type": "stream",
     "text": [
      "Found 489 images belonging to 7 classes.\n"
     ]
    }
   ],
   "source": [
    "from keras.preprocessing.image import ImageDataGenerator\n",
    "\n",
    "generator = ImageDataGenerator()\n",
    "train_generator = generator.flow_from_directory(directory='Datasets/espe/base/train', target_size=(32, 32), class_mode='categorical', batch_size=101)"
   ],
   "metadata": {
    "collapsed": false,
    "pycharm": {
     "name": "#%%\n"
    }
   }
  },
  {
   "cell_type": "markdown",
   "source": [
    "### Model tunning"
   ],
   "metadata": {
    "collapsed": false,
    "pycharm": {
     "name": "#%% md\n"
    }
   }
  },
  {
   "cell_type": "code",
   "execution_count": 1,
   "outputs": [
    {
     "name": "stderr",
     "output_type": "stream",
     "text": [
      "Using TensorFlow backend.\n"
     ]
    },
    {
     "name": "stdout",
     "output_type": "stream",
     "text": [
      "WARNING:tensorflow:From C:\\Python37\\lib\\site-packages\\keras\\backend\\tensorflow_backend.py:68: The name tf.get_default_graph is deprecated. Please use tf.compat.v1.get_default_graph instead.\n",
      "\n",
      "WARNING:tensorflow:From C:\\Python37\\lib\\site-packages\\keras\\backend\\tensorflow_backend.py:508: The name tf.placeholder is deprecated. Please use tf.compat.v1.placeholder instead.\n",
      "\n",
      "WARNING:tensorflow:From C:\\Python37\\lib\\site-packages\\keras\\backend\\tensorflow_backend.py:3837: The name tf.random_uniform is deprecated. Please use tf.random.uniform instead.\n",
      "\n",
      "WARNING:tensorflow:From C:\\Python37\\lib\\site-packages\\keras\\backend\\tensorflow_backend.py:3661: The name tf.nn.max_pool is deprecated. Please use tf.nn.max_pool2d instead.\n",
      "\n",
      "WARNING:tensorflow:From C:\\Python37\\lib\\site-packages\\keras\\backend\\tensorflow_backend.py:127: The name tf.placeholder_with_default is deprecated. Please use tf.compat.v1.placeholder_with_default instead.\n",
      "\n",
      "WARNING:tensorflow:From C:\\Python37\\lib\\site-packages\\keras\\backend\\tensorflow_backend.py:3144: calling dropout (from tensorflow.python.ops.nn_ops) with keep_prob is deprecated and will be removed in a future version.\n",
      "Instructions for updating:\n",
      "Please use `rate` instead of `keep_prob`. Rate should be set to `rate = 1 - keep_prob`.\n",
      "WARNING:tensorflow:From C:\\Python37\\lib\\site-packages\\keras\\optimizers.py:757: The name tf.train.Optimizer is deprecated. Please use tf.compat.v1.train.Optimizer instead.\n",
      "\n",
      "WARNING:tensorflow:From C:\\Python37\\lib\\site-packages\\keras\\backend\\tensorflow_backend.py:3014: The name tf.log is deprecated. Please use tf.math.log instead.\n",
      "\n"
     ]
    }
   ],
   "source": [
    "from keras import layers\n",
    "from keras.models import Model\n",
    "from utils.Models import vgg_net\n",
    "from keras.optimizers import RMSprop\n",
    "\n",
    "model = vgg_net(input_shape=(64, 64, 1))\n",
    "\n",
    "\n",
    "\n",
    "from keras.utils.vis_utils import plot_model\n",
    "\n",
    "plot_model(model, to_file='model_plot.png', show_shapes=True, show_layer_names=True)\n",
    "\n",
    "model.compile(optimizer=RMSprop(1e-3),\n",
    "              loss='categorical_crossentropy',\n",
    "              metrics=['acc'])\n"
   ],
   "metadata": {
    "collapsed": false,
    "pycharm": {
     "name": "#%%\n"
    }
   }
  },
  {
   "cell_type": "code",
   "execution_count": 5,
   "outputs": [],
   "source": [
    "def model_builder(hp):\n",
    "    model = keras.Sequential()\n",
    "    model.add(keras.layers.Flatten(input_shape=(28, 28)))\n",
    "\n",
    "    # Tune the number of units in the first Dense layer\n",
    "    # Choose an optimal value between 32-512\n",
    "    hp_units = hp.Int('units', min_value=32, max_value=512, step=32)\n",
    "    model.add(keras.layers.Dense(units=hp_units, activation='relu'))\n",
    "    model.add(keras.layers.Dense(10))\n",
    "\n",
    "    # Tune the learning rate for the optimizer\n",
    "    # Choose an optimal value from 0.01, 0.001, or 0.0001\n",
    "    hp_learning_rate = hp.Choice('learning_rate', values=[1e-2, 1e-3, 1e-4])\n",
    "\n",
    "    model.compile(optimizer=keras.optimizers.Adam(learning_rate=hp_learning_rate),\n",
    "                loss=keras.losses.SparseCategoricalCrossentropy(from_logits=True),\n",
    "                metrics=['accuracy'])\n",
    "\n",
    "    return model"
   ],
   "metadata": {
    "collapsed": false,
    "pycharm": {
     "name": "#%%\n"
    }
   }
  },
  {
   "cell_type": "code",
   "execution_count": 2,
   "outputs": [],
   "source": [
    "import tensorflow as tf\n",
    "import keras\n",
    "import keras_tuner as kt"
   ],
   "metadata": {
    "collapsed": false,
    "pycharm": {
     "name": "#%%\n"
    }
   }
  },
  {
   "cell_type": "code",
   "execution_count": 9,
   "outputs": [
    {
     "ename": "ValueError",
     "evalue": "Layer sequential_1 was called with an input that isn't a symbolic tensor. Received type: <class 'keras_tuner.engine.hyperparameters.HyperParameters'>. Full input: [<keras_tuner.engine.hyperparameters.HyperParameters object at 0x000002D90D981E48>]. All inputs to the layer should be tensors.",
     "output_type": "error",
     "traceback": [
      "\u001B[1;31m---------------------------------------------------------------------------\u001B[0m",
      "\u001B[1;31mValueError\u001B[0m                                Traceback (most recent call last)",
      "\u001B[1;32mC:\\Python37\\lib\\site-packages\\keras\\engine\\topology.py\u001B[0m in \u001B[0;36massert_input_compatibility\u001B[1;34m(self, inputs)\u001B[0m\n\u001B[0;32m    441\u001B[0m             \u001B[1;32mtry\u001B[0m\u001B[1;33m:\u001B[0m\u001B[1;33m\u001B[0m\u001B[1;33m\u001B[0m\u001B[0m\n\u001B[1;32m--> 442\u001B[1;33m                 \u001B[0mK\u001B[0m\u001B[1;33m.\u001B[0m\u001B[0mis_keras_tensor\u001B[0m\u001B[1;33m(\u001B[0m\u001B[0mx\u001B[0m\u001B[1;33m)\u001B[0m\u001B[1;33m\u001B[0m\u001B[1;33m\u001B[0m\u001B[0m\n\u001B[0m\u001B[0;32m    443\u001B[0m             \u001B[1;32mexcept\u001B[0m \u001B[0mValueError\u001B[0m\u001B[1;33m:\u001B[0m\u001B[1;33m\u001B[0m\u001B[1;33m\u001B[0m\u001B[0m\n",
      "\u001B[1;32mC:\\Python37\\lib\\site-packages\\keras\\backend\\tensorflow_backend.py\u001B[0m in \u001B[0;36mis_keras_tensor\u001B[1;34m(x)\u001B[0m\n\u001B[0;32m    468\u001B[0m                           tf.SparseTensor)):\n\u001B[1;32m--> 469\u001B[1;33m         raise ValueError('Unexpectedly found an instance of type `' + str(type(x)) + '`. '\n\u001B[0m\u001B[0;32m    470\u001B[0m                          'Expected a symbolic tensor instance.')\n",
      "\u001B[1;31mValueError\u001B[0m: Unexpectedly found an instance of type `<class 'keras_tuner.engine.hyperparameters.HyperParameters'>`. Expected a symbolic tensor instance.",
      "\nDuring handling of the above exception, another exception occurred:\n",
      "\u001B[1;31mValueError\u001B[0m                                Traceback (most recent call last)",
      "\u001B[1;32m~\\AppData\\Local\\Temp\\ipykernel_14920\\2644808344.py\u001B[0m in \u001B[0;36m<module>\u001B[1;34m\u001B[0m\n\u001B[0;32m      4\u001B[0m                      \u001B[0mfactor\u001B[0m\u001B[1;33m=\u001B[0m\u001B[1;36m3\u001B[0m\u001B[1;33m,\u001B[0m\u001B[1;33m\u001B[0m\u001B[1;33m\u001B[0m\u001B[0m\n\u001B[0;32m      5\u001B[0m                      \u001B[0mdirectory\u001B[0m\u001B[1;33m=\u001B[0m\u001B[1;34m'my_dir'\u001B[0m\u001B[1;33m,\u001B[0m\u001B[1;33m\u001B[0m\u001B[1;33m\u001B[0m\u001B[0m\n\u001B[1;32m----> 6\u001B[1;33m                      project_name='intro_to_kt')\n\u001B[0m",
      "\u001B[1;32mC:\\Python37\\lib\\site-packages\\keras_tuner\\tuners\\hyperband.py\u001B[0m in \u001B[0;36m__init__\u001B[1;34m(self, hypermodel, objective, max_epochs, factor, hyperband_iterations, seed, hyperparameters, tune_new_entries, allow_new_entries, **kwargs)\u001B[0m\n\u001B[0;32m    374\u001B[0m         )\n\u001B[0;32m    375\u001B[0m         super(Hyperband, self).__init__(\n\u001B[1;32m--> 376\u001B[1;33m             \u001B[0moracle\u001B[0m\u001B[1;33m=\u001B[0m\u001B[0moracle\u001B[0m\u001B[1;33m,\u001B[0m \u001B[0mhypermodel\u001B[0m\u001B[1;33m=\u001B[0m\u001B[0mhypermodel\u001B[0m\u001B[1;33m,\u001B[0m \u001B[1;33m**\u001B[0m\u001B[0mkwargs\u001B[0m\u001B[1;33m\u001B[0m\u001B[1;33m\u001B[0m\u001B[0m\n\u001B[0m\u001B[0;32m    377\u001B[0m         )\n\u001B[0;32m    378\u001B[0m \u001B[1;33m\u001B[0m\u001B[0m\n",
      "\u001B[1;32mC:\\Python37\\lib\\site-packages\\keras_tuner\\engine\\tuner.py\u001B[0m in \u001B[0;36m__init__\u001B[1;34m(self, oracle, hypermodel, max_model_size, optimizer, loss, metrics, distribution_strategy, directory, project_name, logger, tuner_id, overwrite, executions_per_trial)\u001B[0m\n\u001B[0;32m    114\u001B[0m             \u001B[0mproject_name\u001B[0m\u001B[1;33m=\u001B[0m\u001B[0mproject_name\u001B[0m\u001B[1;33m,\u001B[0m\u001B[1;33m\u001B[0m\u001B[1;33m\u001B[0m\u001B[0m\n\u001B[0;32m    115\u001B[0m             \u001B[0mlogger\u001B[0m\u001B[1;33m=\u001B[0m\u001B[0mlogger\u001B[0m\u001B[1;33m,\u001B[0m\u001B[1;33m\u001B[0m\u001B[1;33m\u001B[0m\u001B[0m\n\u001B[1;32m--> 116\u001B[1;33m             \u001B[0moverwrite\u001B[0m\u001B[1;33m=\u001B[0m\u001B[0moverwrite\u001B[0m\u001B[1;33m,\u001B[0m\u001B[1;33m\u001B[0m\u001B[1;33m\u001B[0m\u001B[0m\n\u001B[0m\u001B[0;32m    117\u001B[0m         )\n\u001B[0;32m    118\u001B[0m \u001B[1;33m\u001B[0m\u001B[0m\n",
      "\u001B[1;32mC:\\Python37\\lib\\site-packages\\keras_tuner\\engine\\base_tuner.py\u001B[0m in \u001B[0;36m__init__\u001B[1;34m(self, oracle, hypermodel, directory, project_name, logger, overwrite)\u001B[0m\n\u001B[0;32m    101\u001B[0m         \u001B[0mself\u001B[0m\u001B[1;33m.\u001B[0m\u001B[0m_display\u001B[0m \u001B[1;33m=\u001B[0m \u001B[0mtuner_utils\u001B[0m\u001B[1;33m.\u001B[0m\u001B[0mDisplay\u001B[0m\u001B[1;33m(\u001B[0m\u001B[0moracle\u001B[0m\u001B[1;33m=\u001B[0m\u001B[0mself\u001B[0m\u001B[1;33m.\u001B[0m\u001B[0moracle\u001B[0m\u001B[1;33m)\u001B[0m\u001B[1;33m\u001B[0m\u001B[1;33m\u001B[0m\u001B[0m\n\u001B[0;32m    102\u001B[0m \u001B[1;33m\u001B[0m\u001B[0m\n\u001B[1;32m--> 103\u001B[1;33m         \u001B[0mself\u001B[0m\u001B[1;33m.\u001B[0m\u001B[0m_populate_initial_space\u001B[0m\u001B[1;33m(\u001B[0m\u001B[1;33m)\u001B[0m\u001B[1;33m\u001B[0m\u001B[1;33m\u001B[0m\u001B[0m\n\u001B[0m\u001B[0;32m    104\u001B[0m \u001B[1;33m\u001B[0m\u001B[0m\n\u001B[0;32m    105\u001B[0m         \u001B[1;32mif\u001B[0m \u001B[1;32mnot\u001B[0m \u001B[0moverwrite\u001B[0m \u001B[1;32mand\u001B[0m \u001B[0mtf\u001B[0m\u001B[1;33m.\u001B[0m\u001B[0mio\u001B[0m\u001B[1;33m.\u001B[0m\u001B[0mgfile\u001B[0m\u001B[1;33m.\u001B[0m\u001B[0mexists\u001B[0m\u001B[1;33m(\u001B[0m\u001B[0mself\u001B[0m\u001B[1;33m.\u001B[0m\u001B[0m_get_tuner_fname\u001B[0m\u001B[1;33m(\u001B[0m\u001B[1;33m)\u001B[0m\u001B[1;33m)\u001B[0m\u001B[1;33m:\u001B[0m\u001B[1;33m\u001B[0m\u001B[1;33m\u001B[0m\u001B[0m\n",
      "\u001B[1;32mC:\\Python37\\lib\\site-packages\\keras_tuner\\engine\\base_tuner.py\u001B[0m in \u001B[0;36m_populate_initial_space\u001B[1;34m(self)\u001B[0m\n\u001B[0;32m    130\u001B[0m \u001B[1;33m\u001B[0m\u001B[0m\n\u001B[0;32m    131\u001B[0m         \u001B[1;32mwhile\u001B[0m \u001B[1;32mTrue\u001B[0m\u001B[1;33m:\u001B[0m\u001B[1;33m\u001B[0m\u001B[1;33m\u001B[0m\u001B[0m\n\u001B[1;32m--> 132\u001B[1;33m             \u001B[0mself\u001B[0m\u001B[1;33m.\u001B[0m\u001B[0mhypermodel\u001B[0m\u001B[1;33m.\u001B[0m\u001B[0mbuild\u001B[0m\u001B[1;33m(\u001B[0m\u001B[0mhp\u001B[0m\u001B[1;33m)\u001B[0m\u001B[1;33m\u001B[0m\u001B[1;33m\u001B[0m\u001B[0m\n\u001B[0m\u001B[0;32m    133\u001B[0m \u001B[1;33m\u001B[0m\u001B[0m\n\u001B[0;32m    134\u001B[0m             \u001B[1;31m# Update the recored scopes.\u001B[0m\u001B[1;33m\u001B[0m\u001B[1;33m\u001B[0m\u001B[1;33m\u001B[0m\u001B[0m\n",
      "\u001B[1;32mC:\\Python37\\lib\\site-packages\\keras\\engine\\topology.py\u001B[0m in \u001B[0;36m__call__\u001B[1;34m(self, inputs, **kwargs)\u001B[0m\n\u001B[0;32m    601\u001B[0m             \u001B[1;31m# Raise exceptions in case the input is not compatible\u001B[0m\u001B[1;33m\u001B[0m\u001B[1;33m\u001B[0m\u001B[1;33m\u001B[0m\u001B[0m\n\u001B[0;32m    602\u001B[0m             \u001B[1;31m# with the input_spec set at build time.\u001B[0m\u001B[1;33m\u001B[0m\u001B[1;33m\u001B[0m\u001B[1;33m\u001B[0m\u001B[0m\n\u001B[1;32m--> 603\u001B[1;33m             \u001B[0mself\u001B[0m\u001B[1;33m.\u001B[0m\u001B[0massert_input_compatibility\u001B[0m\u001B[1;33m(\u001B[0m\u001B[0minputs\u001B[0m\u001B[1;33m)\u001B[0m\u001B[1;33m\u001B[0m\u001B[1;33m\u001B[0m\u001B[0m\n\u001B[0m\u001B[0;32m    604\u001B[0m \u001B[1;33m\u001B[0m\u001B[0m\n\u001B[0;32m    605\u001B[0m             \u001B[1;31m# Handle mask propagation.\u001B[0m\u001B[1;33m\u001B[0m\u001B[1;33m\u001B[0m\u001B[1;33m\u001B[0m\u001B[0m\n",
      "\u001B[1;32mC:\\Python37\\lib\\site-packages\\keras\\engine\\topology.py\u001B[0m in \u001B[0;36massert_input_compatibility\u001B[1;34m(self, inputs)\u001B[0m\n\u001B[0;32m    446\u001B[0m                                  \u001B[1;34m'Received type: '\u001B[0m \u001B[1;33m+\u001B[0m\u001B[1;33m\u001B[0m\u001B[1;33m\u001B[0m\u001B[0m\n\u001B[0;32m    447\u001B[0m                                  \u001B[0mstr\u001B[0m\u001B[1;33m(\u001B[0m\u001B[0mtype\u001B[0m\u001B[1;33m(\u001B[0m\u001B[0mx\u001B[0m\u001B[1;33m)\u001B[0m\u001B[1;33m)\u001B[0m \u001B[1;33m+\u001B[0m \u001B[1;34m'. Full input: '\u001B[0m \u001B[1;33m+\u001B[0m\u001B[1;33m\u001B[0m\u001B[1;33m\u001B[0m\u001B[0m\n\u001B[1;32m--> 448\u001B[1;33m                                  \u001B[0mstr\u001B[0m\u001B[1;33m(\u001B[0m\u001B[0minputs\u001B[0m\u001B[1;33m)\u001B[0m \u001B[1;33m+\u001B[0m \u001B[1;34m'. All inputs to the layer '\u001B[0m\u001B[1;33m\u001B[0m\u001B[1;33m\u001B[0m\u001B[0m\n\u001B[0m\u001B[0;32m    449\u001B[0m                                  'should be tensors.')\n\u001B[0;32m    450\u001B[0m \u001B[1;33m\u001B[0m\u001B[0m\n",
      "\u001B[1;31mValueError\u001B[0m: Layer sequential_1 was called with an input that isn't a symbolic tensor. Received type: <class 'keras_tuner.engine.hyperparameters.HyperParameters'>. Full input: [<keras_tuner.engine.hyperparameters.HyperParameters object at 0x000002D90D981E48>]. All inputs to the layer should be tensors."
     ]
    }
   ],
   "source": [
    "tuner = kt.Hyperband(model,\n",
    "                     objective='val_accuracy',\n",
    "                     max_epochs=10,\n",
    "                     factor=3,\n",
    "                     directory='my_dir',\n",
    "                     project_name='intro_to_kt')"
   ],
   "metadata": {
    "collapsed": false,
    "pycharm": {
     "name": "#%%\n"
    }
   }
  },
  {
   "cell_type": "code",
   "execution_count": 6,
   "outputs": [
    {
     "name": "stdout",
     "output_type": "stream",
     "text": [
      "Found 489 images belonging to 7 classes.\n",
      "Found 105 images belonging to 7 classes.\n"
     ]
    }
   ],
   "source": [
    "from keras.preprocessing.image import ImageDataGenerator\n",
    "batch_size = 64\n",
    "generator = ImageDataGenerator()\n",
    "train_generator = generator.flow_from_directory(directory='Datasets/espe/base/train', target_size=(64, 64), class_mode='categorical', batch_size=batch_size, color_mode='grayscale')\n",
    "val_generator = generator.flow_from_directory(directory='Datasets/espe/base/validation', target_size=(64, 64), class_mode='categorical', batch_size=batch_size, color_mode='grayscale')"
   ],
   "metadata": {
    "collapsed": false,
    "pycharm": {
     "name": "#%%\n"
    }
   }
  },
  {
   "cell_type": "code",
   "execution_count": 7,
   "outputs": [],
   "source": [
    "from keras.callbacks import EarlyStopping, ReduceLROnPlateau\n",
    "\n",
    "early_stop = EarlyStopping(monitor='val_loss', patience=8, verbose=1, min_delta=1e-4)\n",
    "reduce_lr = ReduceLROnPlateau(monitor='val_loss', factor=0.1, patience=4, verbose=1, min_delta=1e-4)\n",
    "callbacks_list = [early_stop, reduce_lr]"
   ],
   "metadata": {
    "collapsed": false,
    "pycharm": {
     "name": "#%%\n"
    }
   }
  },
  {
   "cell_type": "code",
   "execution_count": 24,
   "outputs": [
    {
     "name": "stdout",
     "output_type": "stream",
     "text": [
      "Epoch 1/100\n",
      "7/7 [==============================] - 10s 1s/step - loss: 3.3195 - acc: 0.4591 - val_loss: 3.3557 - val_acc: 0.4762\n",
      "Epoch 2/100\n",
      "7/7 [==============================] - 9s 1s/step - loss: 3.2197 - acc: 0.4933 - val_loss: 3.3426 - val_acc: 0.4286\n",
      "Epoch 3/100\n",
      "7/7 [==============================] - 9s 1s/step - loss: 3.6510 - acc: 0.4720 - val_loss: 3.3408 - val_acc: 0.4571\n",
      "Epoch 4/100\n",
      "7/7 [==============================] - 9s 1s/step - loss: 3.4090 - acc: 0.4994 - val_loss: 3.3364 - val_acc: 0.4095\n",
      "Epoch 5/100\n",
      "7/7 [==============================] - 9s 1s/step - loss: 3.4367 - acc: 0.4621 - val_loss: 3.3144 - val_acc: 0.4381\n",
      "Epoch 6/100\n",
      "7/7 [==============================] - 9s 1s/step - loss: 3.2679 - acc: 0.4741 - val_loss: 3.3064 - val_acc: 0.4476\n",
      "Epoch 7/100\n",
      "7/7 [==============================] - 9s 1s/step - loss: 3.2056 - acc: 0.4978 - val_loss: 3.3009 - val_acc: 0.4476\n",
      "Epoch 8/100\n",
      "7/7 [==============================] - 9s 1s/step - loss: 3.3831 - acc: 0.4983 - val_loss: 3.2849 - val_acc: 0.4571\n",
      "Epoch 9/100\n",
      "5/7 [====================>.........] - ETA: 1s - loss: 3.3871 - acc: 0.4969"
     ]
    },
    {
     "ename": "ResourceExhaustedError",
     "evalue": "OOM when allocating tensor with shape[4096,4096] and type float on /job:localhost/replica:0/task:0/device:GPU:0 by allocator GPU_0_bfc\n\t [[node training_1/RMSprop/Square_28 (defined at Python37\\lib\\site-packages\\tensorflow_core\\python\\framework\\ops.py:1748) ]]\nHint: If you want to see a list of allocated tensors when OOM happens, add report_tensor_allocations_upon_oom to RunOptions for current allocation info.\n\n\nOriginal stack trace for 'training_1/RMSprop/Square_28':\n  File \"Python37\\lib\\runpy.py\", line 193, in _run_module_as_main\n    \"__main__\", mod_spec)\n  File \"Python37\\lib\\runpy.py\", line 85, in _run_code\n    exec(code, run_globals)\n  File \"Python37\\lib\\site-packages\\ipykernel_launcher.py\", line 17, in <module>\n    app.launch_new_instance()\n  File \"Python37\\lib\\site-packages\\traitlets\\config\\application.py\", line 976, in launch_instance\n    app.start()\n  File \"Python37\\lib\\site-packages\\ipykernel\\kernelapp.py\", line 712, in start\n    self.io_loop.start()\n  File \"Python37\\lib\\site-packages\\tornado\\platform\\asyncio.py\", line 199, in start\n    self.asyncio_loop.run_forever()\n  File \"Python37\\lib\\asyncio\\base_events.py\", line 541, in run_forever\n    self._run_once()\n  File \"Python37\\lib\\asyncio\\base_events.py\", line 1786, in _run_once\n    handle._run()\n  File \"Python37\\lib\\asyncio\\events.py\", line 88, in _run\n    self._context.run(self._callback, *self._args)\n  File \"Python37\\lib\\site-packages\\ipykernel\\kernelbase.py\", line 504, in dispatch_queue\n    await self.process_one()\n  File \"Python37\\lib\\site-packages\\ipykernel\\kernelbase.py\", line 493, in process_one\n    await dispatch(*args)\n  File \"Python37\\lib\\site-packages\\ipykernel\\kernelbase.py\", line 400, in dispatch_shell\n    await result\n  File \"Python37\\lib\\site-packages\\ipykernel\\kernelbase.py\", line 724, in execute_request\n    reply_content = await reply_content\n  File \"Python37\\lib\\site-packages\\ipykernel\\ipkernel.py\", line 387, in do_execute\n    cell_id=cell_id,\n  File \"Python37\\lib\\site-packages\\ipykernel\\zmqshell.py\", line 528, in run_cell\n    return super().run_cell(*args, **kwargs)\n  File \"Python37\\lib\\site-packages\\IPython\\core\\interactiveshell.py\", line 2976, in run_cell\n    raw_cell, store_history, silent, shell_futures, cell_id\n  File \"Python37\\lib\\site-packages\\IPython\\core\\interactiveshell.py\", line 3030, in _run_cell\n    return runner(coro)\n  File \"Python37\\lib\\site-packages\\IPython\\core\\async_helpers.py\", line 78, in _pseudo_sync_runner\n    coro.send(None)\n  File \"Python37\\lib\\site-packages\\IPython\\core\\interactiveshell.py\", line 3258, in run_cell_async\n    interactivity=interactivity, compiler=compiler, result=result)\n  File \"Python37\\lib\\site-packages\\IPython\\core\\interactiveshell.py\", line 3473, in run_ast_nodes\n    if (await self.run_code(code, result,  async_=asy)):\n  File \"Python37\\lib\\site-packages\\IPython\\core\\interactiveshell.py\", line 3553, in run_code\n    exec(code_obj, self.user_global_ns, self.user_ns)\n  File \"Users\\David\\AppData\\Local\\Temp\\ipykernel_3064\\2851312532.py\", line 7, in <module>\n    validation_steps=250\n  File \"Python37\\lib\\site-packages\\keras\\legacy\\interfaces.py\", line 91, in wrapper\n    return func(*args, **kwargs)\n  File \"Python37\\lib\\site-packages\\keras\\models.py\", line 1315, in fit_generator\n    initial_epoch=initial_epoch)\n  File \"Python37\\lib\\site-packages\\keras\\legacy\\interfaces.py\", line 91, in wrapper\n    return func(*args, **kwargs)\n  File \"Python37\\lib\\site-packages\\keras\\engine\\training.py\", line 2080, in fit_generator\n    self._make_train_function()\n  File \"Python37\\lib\\site-packages\\keras\\engine\\training.py\", line 992, in _make_train_function\n    loss=self.total_loss)\n  File \"Python37\\lib\\site-packages\\keras\\legacy\\interfaces.py\", line 91, in wrapper\n    return func(*args, **kwargs)\n  File \"Python37\\lib\\site-packages\\keras\\optimizers.py\", line 256, in get_updates\n    new_a = self.rho * a + (1. - self.rho) * K.square(g)\n  File \"Python37\\lib\\site-packages\\keras\\backend\\tensorflow_backend.py\", line 1439, in square\n    return tf.square(x)\n  File \"Python37\\lib\\site-packages\\tensorflow_core\\python\\ops\\gen_math_ops.py\", line 10929, in square\n    \"Square\", x=x, name=name)\n  File \"Python37\\lib\\site-packages\\tensorflow_core\\python\\framework\\op_def_library.py\", line 794, in _apply_op_helper\n    op_def=op_def)\n  File \"Python37\\lib\\site-packages\\tensorflow_core\\python\\util\\deprecation.py\", line 507, in new_func\n    return func(*args, **kwargs)\n  File \"Python37\\lib\\site-packages\\tensorflow_core\\python\\framework\\ops.py\", line 3357, in create_op\n    attrs, op_def, compute_device)\n  File \"Python37\\lib\\site-packages\\tensorflow_core\\python\\framework\\ops.py\", line 3426, in _create_op_internal\n    op_def=op_def)\n  File \"Python37\\lib\\site-packages\\tensorflow_core\\python\\framework\\ops.py\", line 1748, in __init__\n    self._traceback = tf_stack.extract_stack()\n",
     "output_type": "error",
     "traceback": [
      "\u001B[1;31m---------------------------------------------------------------------------\u001B[0m",
      "\u001B[1;31mResourceExhaustedError\u001B[0m                    Traceback (most recent call last)",
      "\u001B[1;32mC:\\Python37\\lib\\site-packages\\tensorflow_core\\python\\client\\session.py\u001B[0m in \u001B[0;36m_do_call\u001B[1;34m(self, fn, *args)\u001B[0m\n\u001B[0;32m   1364\u001B[0m     \u001B[1;32mtry\u001B[0m\u001B[1;33m:\u001B[0m\u001B[1;33m\u001B[0m\u001B[1;33m\u001B[0m\u001B[0m\n\u001B[1;32m-> 1365\u001B[1;33m       \u001B[1;32mreturn\u001B[0m \u001B[0mfn\u001B[0m\u001B[1;33m(\u001B[0m\u001B[1;33m*\u001B[0m\u001B[0margs\u001B[0m\u001B[1;33m)\u001B[0m\u001B[1;33m\u001B[0m\u001B[1;33m\u001B[0m\u001B[0m\n\u001B[0m\u001B[0;32m   1366\u001B[0m     \u001B[1;32mexcept\u001B[0m \u001B[0merrors\u001B[0m\u001B[1;33m.\u001B[0m\u001B[0mOpError\u001B[0m \u001B[1;32mas\u001B[0m \u001B[0me\u001B[0m\u001B[1;33m:\u001B[0m\u001B[1;33m\u001B[0m\u001B[1;33m\u001B[0m\u001B[0m\n",
      "\u001B[1;32mC:\\Python37\\lib\\site-packages\\tensorflow_core\\python\\client\\session.py\u001B[0m in \u001B[0;36m_run_fn\u001B[1;34m(feed_dict, fetch_list, target_list, options, run_metadata)\u001B[0m\n\u001B[0;32m   1349\u001B[0m       return self._call_tf_sessionrun(options, feed_dict, fetch_list,\n\u001B[1;32m-> 1350\u001B[1;33m                                       target_list, run_metadata)\n\u001B[0m\u001B[0;32m   1351\u001B[0m \u001B[1;33m\u001B[0m\u001B[0m\n",
      "\u001B[1;32mC:\\Python37\\lib\\site-packages\\tensorflow_core\\python\\client\\session.py\u001B[0m in \u001B[0;36m_call_tf_sessionrun\u001B[1;34m(self, options, feed_dict, fetch_list, target_list, run_metadata)\u001B[0m\n\u001B[0;32m   1442\u001B[0m                                             \u001B[0mfetch_list\u001B[0m\u001B[1;33m,\u001B[0m \u001B[0mtarget_list\u001B[0m\u001B[1;33m,\u001B[0m\u001B[1;33m\u001B[0m\u001B[1;33m\u001B[0m\u001B[0m\n\u001B[1;32m-> 1443\u001B[1;33m                                             run_metadata)\n\u001B[0m\u001B[0;32m   1444\u001B[0m \u001B[1;33m\u001B[0m\u001B[0m\n",
      "\u001B[1;31mResourceExhaustedError\u001B[0m: OOM when allocating tensor with shape[4096,4096] and type float on /job:localhost/replica:0/task:0/device:GPU:0 by allocator GPU_0_bfc\n\t [[{{node training_1/RMSprop/Square_28}}]]\nHint: If you want to see a list of allocated tensors when OOM happens, add report_tensor_allocations_upon_oom to RunOptions for current allocation info.\n",
      "\nDuring handling of the above exception, another exception occurred:\n",
      "\u001B[1;31mResourceExhaustedError\u001B[0m                    Traceback (most recent call last)",
      "\u001B[1;32m~\\AppData\\Local\\Temp\\ipykernel_3064\\3338579327.py\u001B[0m in \u001B[0;36m<module>\u001B[1;34m\u001B[0m\n\u001B[0;32m      5\u001B[0m     \u001B[0msteps_per_epoch\u001B[0m\u001B[1;33m=\u001B[0m\u001B[0mtrain_generator\u001B[0m\u001B[1;33m.\u001B[0m\u001B[0msamples\u001B[0m\u001B[1;33m//\u001B[0m\u001B[0mbatch_size\u001B[0m\u001B[1;33m,\u001B[0m\u001B[1;33m\u001B[0m\u001B[1;33m\u001B[0m\u001B[0m\n\u001B[0;32m      6\u001B[0m     \u001B[0mcallbacks\u001B[0m\u001B[1;33m=\u001B[0m\u001B[0mcallbacks_list\u001B[0m\u001B[1;33m,\u001B[0m\u001B[1;33m\u001B[0m\u001B[1;33m\u001B[0m\u001B[0m\n\u001B[1;32m----> 7\u001B[1;33m     \u001B[0mvalidation_steps\u001B[0m\u001B[1;33m=\u001B[0m\u001B[1;36m10\u001B[0m\u001B[1;33m\u001B[0m\u001B[1;33m\u001B[0m\u001B[0m\n\u001B[0m\u001B[0;32m      8\u001B[0m )\n",
      "\u001B[1;32mC:\\Python37\\lib\\site-packages\\keras\\legacy\\interfaces.py\u001B[0m in \u001B[0;36mwrapper\u001B[1;34m(*args, **kwargs)\u001B[0m\n\u001B[0;32m     89\u001B[0m                 warnings.warn('Update your `' + object_name +\n\u001B[0;32m     90\u001B[0m                               '` call to the Keras 2 API: ' + signature, stacklevel=2)\n\u001B[1;32m---> 91\u001B[1;33m             \u001B[1;32mreturn\u001B[0m \u001B[0mfunc\u001B[0m\u001B[1;33m(\u001B[0m\u001B[1;33m*\u001B[0m\u001B[0margs\u001B[0m\u001B[1;33m,\u001B[0m \u001B[1;33m**\u001B[0m\u001B[0mkwargs\u001B[0m\u001B[1;33m)\u001B[0m\u001B[1;33m\u001B[0m\u001B[1;33m\u001B[0m\u001B[0m\n\u001B[0m\u001B[0;32m     92\u001B[0m         \u001B[0mwrapper\u001B[0m\u001B[1;33m.\u001B[0m\u001B[0m_original_function\u001B[0m \u001B[1;33m=\u001B[0m \u001B[0mfunc\u001B[0m\u001B[1;33m\u001B[0m\u001B[1;33m\u001B[0m\u001B[0m\n\u001B[0;32m     93\u001B[0m         \u001B[1;32mreturn\u001B[0m \u001B[0mwrapper\u001B[0m\u001B[1;33m\u001B[0m\u001B[1;33m\u001B[0m\u001B[0m\n",
      "\u001B[1;32mC:\\Python37\\lib\\site-packages\\keras\\models.py\u001B[0m in \u001B[0;36mfit_generator\u001B[1;34m(self, generator, steps_per_epoch, epochs, verbose, callbacks, validation_data, validation_steps, class_weight, max_queue_size, workers, use_multiprocessing, shuffle, initial_epoch)\u001B[0m\n\u001B[0;32m   1313\u001B[0m                                         \u001B[0muse_multiprocessing\u001B[0m\u001B[1;33m=\u001B[0m\u001B[0muse_multiprocessing\u001B[0m\u001B[1;33m,\u001B[0m\u001B[1;33m\u001B[0m\u001B[1;33m\u001B[0m\u001B[0m\n\u001B[0;32m   1314\u001B[0m                                         \u001B[0mshuffle\u001B[0m\u001B[1;33m=\u001B[0m\u001B[0mshuffle\u001B[0m\u001B[1;33m,\u001B[0m\u001B[1;33m\u001B[0m\u001B[1;33m\u001B[0m\u001B[0m\n\u001B[1;32m-> 1315\u001B[1;33m                                         initial_epoch=initial_epoch)\n\u001B[0m\u001B[0;32m   1316\u001B[0m \u001B[1;33m\u001B[0m\u001B[0m\n\u001B[0;32m   1317\u001B[0m     \u001B[1;33m@\u001B[0m\u001B[0minterfaces\u001B[0m\u001B[1;33m.\u001B[0m\u001B[0mlegacy_generator_methods_support\u001B[0m\u001B[1;33m\u001B[0m\u001B[1;33m\u001B[0m\u001B[0m\n",
      "\u001B[1;32mC:\\Python37\\lib\\site-packages\\keras\\legacy\\interfaces.py\u001B[0m in \u001B[0;36mwrapper\u001B[1;34m(*args, **kwargs)\u001B[0m\n\u001B[0;32m     89\u001B[0m                 warnings.warn('Update your `' + object_name +\n\u001B[0;32m     90\u001B[0m                               '` call to the Keras 2 API: ' + signature, stacklevel=2)\n\u001B[1;32m---> 91\u001B[1;33m             \u001B[1;32mreturn\u001B[0m \u001B[0mfunc\u001B[0m\u001B[1;33m(\u001B[0m\u001B[1;33m*\u001B[0m\u001B[0margs\u001B[0m\u001B[1;33m,\u001B[0m \u001B[1;33m**\u001B[0m\u001B[0mkwargs\u001B[0m\u001B[1;33m)\u001B[0m\u001B[1;33m\u001B[0m\u001B[1;33m\u001B[0m\u001B[0m\n\u001B[0m\u001B[0;32m     92\u001B[0m         \u001B[0mwrapper\u001B[0m\u001B[1;33m.\u001B[0m\u001B[0m_original_function\u001B[0m \u001B[1;33m=\u001B[0m \u001B[0mfunc\u001B[0m\u001B[1;33m\u001B[0m\u001B[1;33m\u001B[0m\u001B[0m\n\u001B[0;32m     93\u001B[0m         \u001B[1;32mreturn\u001B[0m \u001B[0mwrapper\u001B[0m\u001B[1;33m\u001B[0m\u001B[1;33m\u001B[0m\u001B[0m\n",
      "\u001B[1;32mC:\\Python37\\lib\\site-packages\\keras\\engine\\training.py\u001B[0m in \u001B[0;36mfit_generator\u001B[1;34m(self, generator, steps_per_epoch, epochs, verbose, callbacks, validation_data, validation_steps, class_weight, max_queue_size, workers, use_multiprocessing, shuffle, initial_epoch)\u001B[0m\n\u001B[0;32m   2228\u001B[0m                     outs = self.train_on_batch(x, y,\n\u001B[0;32m   2229\u001B[0m                                                \u001B[0msample_weight\u001B[0m\u001B[1;33m=\u001B[0m\u001B[0msample_weight\u001B[0m\u001B[1;33m,\u001B[0m\u001B[1;33m\u001B[0m\u001B[1;33m\u001B[0m\u001B[0m\n\u001B[1;32m-> 2230\u001B[1;33m                                                class_weight=class_weight)\n\u001B[0m\u001B[0;32m   2231\u001B[0m \u001B[1;33m\u001B[0m\u001B[0m\n\u001B[0;32m   2232\u001B[0m                     \u001B[1;32mif\u001B[0m \u001B[1;32mnot\u001B[0m \u001B[0misinstance\u001B[0m\u001B[1;33m(\u001B[0m\u001B[0mouts\u001B[0m\u001B[1;33m,\u001B[0m \u001B[0mlist\u001B[0m\u001B[1;33m)\u001B[0m\u001B[1;33m:\u001B[0m\u001B[1;33m\u001B[0m\u001B[1;33m\u001B[0m\u001B[0m\n",
      "\u001B[1;32mC:\\Python37\\lib\\site-packages\\keras\\engine\\training.py\u001B[0m in \u001B[0;36mtrain_on_batch\u001B[1;34m(self, x, y, sample_weight, class_weight)\u001B[0m\n\u001B[0;32m   1881\u001B[0m             \u001B[0mins\u001B[0m \u001B[1;33m=\u001B[0m \u001B[0mx\u001B[0m \u001B[1;33m+\u001B[0m \u001B[0my\u001B[0m \u001B[1;33m+\u001B[0m \u001B[0msample_weights\u001B[0m\u001B[1;33m\u001B[0m\u001B[1;33m\u001B[0m\u001B[0m\n\u001B[0;32m   1882\u001B[0m         \u001B[0mself\u001B[0m\u001B[1;33m.\u001B[0m\u001B[0m_make_train_function\u001B[0m\u001B[1;33m(\u001B[0m\u001B[1;33m)\u001B[0m\u001B[1;33m\u001B[0m\u001B[1;33m\u001B[0m\u001B[0m\n\u001B[1;32m-> 1883\u001B[1;33m         \u001B[0moutputs\u001B[0m \u001B[1;33m=\u001B[0m \u001B[0mself\u001B[0m\u001B[1;33m.\u001B[0m\u001B[0mtrain_function\u001B[0m\u001B[1;33m(\u001B[0m\u001B[0mins\u001B[0m\u001B[1;33m)\u001B[0m\u001B[1;33m\u001B[0m\u001B[1;33m\u001B[0m\u001B[0m\n\u001B[0m\u001B[0;32m   1884\u001B[0m         \u001B[1;32mif\u001B[0m \u001B[0mlen\u001B[0m\u001B[1;33m(\u001B[0m\u001B[0moutputs\u001B[0m\u001B[1;33m)\u001B[0m \u001B[1;33m==\u001B[0m \u001B[1;36m1\u001B[0m\u001B[1;33m:\u001B[0m\u001B[1;33m\u001B[0m\u001B[1;33m\u001B[0m\u001B[0m\n\u001B[0;32m   1885\u001B[0m             \u001B[1;32mreturn\u001B[0m \u001B[0moutputs\u001B[0m\u001B[1;33m[\u001B[0m\u001B[1;36m0\u001B[0m\u001B[1;33m]\u001B[0m\u001B[1;33m\u001B[0m\u001B[1;33m\u001B[0m\u001B[0m\n",
      "\u001B[1;32mC:\\Python37\\lib\\site-packages\\keras\\backend\\tensorflow_backend.py\u001B[0m in \u001B[0;36m__call__\u001B[1;34m(self, inputs)\u001B[0m\n\u001B[0;32m   2480\u001B[0m         \u001B[0msession\u001B[0m \u001B[1;33m=\u001B[0m \u001B[0mget_session\u001B[0m\u001B[1;33m(\u001B[0m\u001B[1;33m)\u001B[0m\u001B[1;33m\u001B[0m\u001B[1;33m\u001B[0m\u001B[0m\n\u001B[0;32m   2481\u001B[0m         updated = session.run(fetches=fetches, feed_dict=feed_dict,\n\u001B[1;32m-> 2482\u001B[1;33m                               **self.session_kwargs)\n\u001B[0m\u001B[0;32m   2483\u001B[0m         \u001B[1;32mreturn\u001B[0m \u001B[0mupdated\u001B[0m\u001B[1;33m[\u001B[0m\u001B[1;33m:\u001B[0m\u001B[0mlen\u001B[0m\u001B[1;33m(\u001B[0m\u001B[0mself\u001B[0m\u001B[1;33m.\u001B[0m\u001B[0moutputs\u001B[0m\u001B[1;33m)\u001B[0m\u001B[1;33m]\u001B[0m\u001B[1;33m\u001B[0m\u001B[1;33m\u001B[0m\u001B[0m\n\u001B[0;32m   2484\u001B[0m \u001B[1;33m\u001B[0m\u001B[0m\n",
      "\u001B[1;32mC:\\Python37\\lib\\site-packages\\tensorflow_core\\python\\client\\session.py\u001B[0m in \u001B[0;36mrun\u001B[1;34m(self, fetches, feed_dict, options, run_metadata)\u001B[0m\n\u001B[0;32m    954\u001B[0m     \u001B[1;32mtry\u001B[0m\u001B[1;33m:\u001B[0m\u001B[1;33m\u001B[0m\u001B[1;33m\u001B[0m\u001B[0m\n\u001B[0;32m    955\u001B[0m       result = self._run(None, fetches, feed_dict, options_ptr,\n\u001B[1;32m--> 956\u001B[1;33m                          run_metadata_ptr)\n\u001B[0m\u001B[0;32m    957\u001B[0m       \u001B[1;32mif\u001B[0m \u001B[0mrun_metadata\u001B[0m\u001B[1;33m:\u001B[0m\u001B[1;33m\u001B[0m\u001B[1;33m\u001B[0m\u001B[0m\n\u001B[0;32m    958\u001B[0m         \u001B[0mproto_data\u001B[0m \u001B[1;33m=\u001B[0m \u001B[0mtf_session\u001B[0m\u001B[1;33m.\u001B[0m\u001B[0mTF_GetBuffer\u001B[0m\u001B[1;33m(\u001B[0m\u001B[0mrun_metadata_ptr\u001B[0m\u001B[1;33m)\u001B[0m\u001B[1;33m\u001B[0m\u001B[1;33m\u001B[0m\u001B[0m\n",
      "\u001B[1;32mC:\\Python37\\lib\\site-packages\\tensorflow_core\\python\\client\\session.py\u001B[0m in \u001B[0;36m_run\u001B[1;34m(self, handle, fetches, feed_dict, options, run_metadata)\u001B[0m\n\u001B[0;32m   1178\u001B[0m     \u001B[1;32mif\u001B[0m \u001B[0mfinal_fetches\u001B[0m \u001B[1;32mor\u001B[0m \u001B[0mfinal_targets\u001B[0m \u001B[1;32mor\u001B[0m \u001B[1;33m(\u001B[0m\u001B[0mhandle\u001B[0m \u001B[1;32mand\u001B[0m \u001B[0mfeed_dict_tensor\u001B[0m\u001B[1;33m)\u001B[0m\u001B[1;33m:\u001B[0m\u001B[1;33m\u001B[0m\u001B[1;33m\u001B[0m\u001B[0m\n\u001B[0;32m   1179\u001B[0m       results = self._do_run(handle, final_targets, final_fetches,\n\u001B[1;32m-> 1180\u001B[1;33m                              feed_dict_tensor, options, run_metadata)\n\u001B[0m\u001B[0;32m   1181\u001B[0m     \u001B[1;32melse\u001B[0m\u001B[1;33m:\u001B[0m\u001B[1;33m\u001B[0m\u001B[1;33m\u001B[0m\u001B[0m\n\u001B[0;32m   1182\u001B[0m       \u001B[0mresults\u001B[0m \u001B[1;33m=\u001B[0m \u001B[1;33m[\u001B[0m\u001B[1;33m]\u001B[0m\u001B[1;33m\u001B[0m\u001B[1;33m\u001B[0m\u001B[0m\n",
      "\u001B[1;32mC:\\Python37\\lib\\site-packages\\tensorflow_core\\python\\client\\session.py\u001B[0m in \u001B[0;36m_do_run\u001B[1;34m(self, handle, target_list, fetch_list, feed_dict, options, run_metadata)\u001B[0m\n\u001B[0;32m   1357\u001B[0m     \u001B[1;32mif\u001B[0m \u001B[0mhandle\u001B[0m \u001B[1;32mis\u001B[0m \u001B[1;32mNone\u001B[0m\u001B[1;33m:\u001B[0m\u001B[1;33m\u001B[0m\u001B[1;33m\u001B[0m\u001B[0m\n\u001B[0;32m   1358\u001B[0m       return self._do_call(_run_fn, feeds, fetches, targets, options,\n\u001B[1;32m-> 1359\u001B[1;33m                            run_metadata)\n\u001B[0m\u001B[0;32m   1360\u001B[0m     \u001B[1;32melse\u001B[0m\u001B[1;33m:\u001B[0m\u001B[1;33m\u001B[0m\u001B[1;33m\u001B[0m\u001B[0m\n\u001B[0;32m   1361\u001B[0m       \u001B[1;32mreturn\u001B[0m \u001B[0mself\u001B[0m\u001B[1;33m.\u001B[0m\u001B[0m_do_call\u001B[0m\u001B[1;33m(\u001B[0m\u001B[0m_prun_fn\u001B[0m\u001B[1;33m,\u001B[0m \u001B[0mhandle\u001B[0m\u001B[1;33m,\u001B[0m \u001B[0mfeeds\u001B[0m\u001B[1;33m,\u001B[0m \u001B[0mfetches\u001B[0m\u001B[1;33m)\u001B[0m\u001B[1;33m\u001B[0m\u001B[1;33m\u001B[0m\u001B[0m\n",
      "\u001B[1;32mC:\\Python37\\lib\\site-packages\\tensorflow_core\\python\\client\\session.py\u001B[0m in \u001B[0;36m_do_call\u001B[1;34m(self, fn, *args)\u001B[0m\n\u001B[0;32m   1382\u001B[0m                     \u001B[1;34m'\\nsession_config.graph_options.rewrite_options.'\u001B[0m\u001B[1;33m\u001B[0m\u001B[1;33m\u001B[0m\u001B[0m\n\u001B[0;32m   1383\u001B[0m                     'disable_meta_optimizer = True')\n\u001B[1;32m-> 1384\u001B[1;33m       \u001B[1;32mraise\u001B[0m \u001B[0mtype\u001B[0m\u001B[1;33m(\u001B[0m\u001B[0me\u001B[0m\u001B[1;33m)\u001B[0m\u001B[1;33m(\u001B[0m\u001B[0mnode_def\u001B[0m\u001B[1;33m,\u001B[0m \u001B[0mop\u001B[0m\u001B[1;33m,\u001B[0m \u001B[0mmessage\u001B[0m\u001B[1;33m)\u001B[0m\u001B[1;33m\u001B[0m\u001B[1;33m\u001B[0m\u001B[0m\n\u001B[0m\u001B[0;32m   1385\u001B[0m \u001B[1;33m\u001B[0m\u001B[0m\n\u001B[0;32m   1386\u001B[0m   \u001B[1;32mdef\u001B[0m \u001B[0m_extend_graph\u001B[0m\u001B[1;33m(\u001B[0m\u001B[0mself\u001B[0m\u001B[1;33m)\u001B[0m\u001B[1;33m:\u001B[0m\u001B[1;33m\u001B[0m\u001B[1;33m\u001B[0m\u001B[0m\n",
      "\u001B[1;31mResourceExhaustedError\u001B[0m: OOM when allocating tensor with shape[4096,4096] and type float on /job:localhost/replica:0/task:0/device:GPU:0 by allocator GPU_0_bfc\n\t [[node training_1/RMSprop/Square_28 (defined at Python37\\lib\\site-packages\\tensorflow_core\\python\\framework\\ops.py:1748) ]]\nHint: If you want to see a list of allocated tensors when OOM happens, add report_tensor_allocations_upon_oom to RunOptions for current allocation info.\n\n\nOriginal stack trace for 'training_1/RMSprop/Square_28':\n  File \"Python37\\lib\\runpy.py\", line 193, in _run_module_as_main\n    \"__main__\", mod_spec)\n  File \"Python37\\lib\\runpy.py\", line 85, in _run_code\n    exec(code, run_globals)\n  File \"Python37\\lib\\site-packages\\ipykernel_launcher.py\", line 17, in <module>\n    app.launch_new_instance()\n  File \"Python37\\lib\\site-packages\\traitlets\\config\\application.py\", line 976, in launch_instance\n    app.start()\n  File \"Python37\\lib\\site-packages\\ipykernel\\kernelapp.py\", line 712, in start\n    self.io_loop.start()\n  File \"Python37\\lib\\site-packages\\tornado\\platform\\asyncio.py\", line 199, in start\n    self.asyncio_loop.run_forever()\n  File \"Python37\\lib\\asyncio\\base_events.py\", line 541, in run_forever\n    self._run_once()\n  File \"Python37\\lib\\asyncio\\base_events.py\", line 1786, in _run_once\n    handle._run()\n  File \"Python37\\lib\\asyncio\\events.py\", line 88, in _run\n    self._context.run(self._callback, *self._args)\n  File \"Python37\\lib\\site-packages\\ipykernel\\kernelbase.py\", line 504, in dispatch_queue\n    await self.process_one()\n  File \"Python37\\lib\\site-packages\\ipykernel\\kernelbase.py\", line 493, in process_one\n    await dispatch(*args)\n  File \"Python37\\lib\\site-packages\\ipykernel\\kernelbase.py\", line 400, in dispatch_shell\n    await result\n  File \"Python37\\lib\\site-packages\\ipykernel\\kernelbase.py\", line 724, in execute_request\n    reply_content = await reply_content\n  File \"Python37\\lib\\site-packages\\ipykernel\\ipkernel.py\", line 387, in do_execute\n    cell_id=cell_id,\n  File \"Python37\\lib\\site-packages\\ipykernel\\zmqshell.py\", line 528, in run_cell\n    return super().run_cell(*args, **kwargs)\n  File \"Python37\\lib\\site-packages\\IPython\\core\\interactiveshell.py\", line 2976, in run_cell\n    raw_cell, store_history, silent, shell_futures, cell_id\n  File \"Python37\\lib\\site-packages\\IPython\\core\\interactiveshell.py\", line 3030, in _run_cell\n    return runner(coro)\n  File \"Python37\\lib\\site-packages\\IPython\\core\\async_helpers.py\", line 78, in _pseudo_sync_runner\n    coro.send(None)\n  File \"Python37\\lib\\site-packages\\IPython\\core\\interactiveshell.py\", line 3258, in run_cell_async\n    interactivity=interactivity, compiler=compiler, result=result)\n  File \"Python37\\lib\\site-packages\\IPython\\core\\interactiveshell.py\", line 3473, in run_ast_nodes\n    if (await self.run_code(code, result,  async_=asy)):\n  File \"Python37\\lib\\site-packages\\IPython\\core\\interactiveshell.py\", line 3553, in run_code\n    exec(code_obj, self.user_global_ns, self.user_ns)\n  File \"Users\\David\\AppData\\Local\\Temp\\ipykernel_3064\\2851312532.py\", line 7, in <module>\n    validation_steps=250\n  File \"Python37\\lib\\site-packages\\keras\\legacy\\interfaces.py\", line 91, in wrapper\n    return func(*args, **kwargs)\n  File \"Python37\\lib\\site-packages\\keras\\models.py\", line 1315, in fit_generator\n    initial_epoch=initial_epoch)\n  File \"Python37\\lib\\site-packages\\keras\\legacy\\interfaces.py\", line 91, in wrapper\n    return func(*args, **kwargs)\n  File \"Python37\\lib\\site-packages\\keras\\engine\\training.py\", line 2080, in fit_generator\n    self._make_train_function()\n  File \"Python37\\lib\\site-packages\\keras\\engine\\training.py\", line 992, in _make_train_function\n    loss=self.total_loss)\n  File \"Python37\\lib\\site-packages\\keras\\legacy\\interfaces.py\", line 91, in wrapper\n    return func(*args, **kwargs)\n  File \"Python37\\lib\\site-packages\\keras\\optimizers.py\", line 256, in get_updates\n    new_a = self.rho * a + (1. - self.rho) * K.square(g)\n  File \"Python37\\lib\\site-packages\\keras\\backend\\tensorflow_backend.py\", line 1439, in square\n    return tf.square(x)\n  File \"Python37\\lib\\site-packages\\tensorflow_core\\python\\ops\\gen_math_ops.py\", line 10929, in square\n    \"Square\", x=x, name=name)\n  File \"Python37\\lib\\site-packages\\tensorflow_core\\python\\framework\\op_def_library.py\", line 794, in _apply_op_helper\n    op_def=op_def)\n  File \"Python37\\lib\\site-packages\\tensorflow_core\\python\\util\\deprecation.py\", line 507, in new_func\n    return func(*args, **kwargs)\n  File \"Python37\\lib\\site-packages\\tensorflow_core\\python\\framework\\ops.py\", line 3357, in create_op\n    attrs, op_def, compute_device)\n  File \"Python37\\lib\\site-packages\\tensorflow_core\\python\\framework\\ops.py\", line 3426, in _create_op_internal\n    op_def=op_def)\n  File \"Python37\\lib\\site-packages\\tensorflow_core\\python\\framework\\ops.py\", line 1748, in __init__\n    self._traceback = tf_stack.extract_stack()\n"
     ]
    }
   ],
   "source": [
    "model.fit_generator(\n",
    "    train_generator,\n",
    "    epochs=100,\n",
    "    validation_data=val_generator,\n",
    "    steps_per_epoch=train_generator.samples//batch_size,\n",
    "    callbacks=callbacks_list,\n",
    "    validation_steps=10\n",
    ")"
   ],
   "metadata": {
    "collapsed": false,
    "pycharm": {
     "name": "#%%\n"
    }
   }
  },
  {
   "cell_type": "code",
   "execution_count": 13,
   "outputs": [
    {
     "name": "stdout",
     "output_type": "stream",
     "text": [
      "WARNING:tensorflow:From C:\\Python37\\lib\\site-packages\\keras\\backend\\tensorflow_backend.py:3837: The name tf.random_uniform is deprecated. Please use tf.random.uniform instead.\n",
      "\n"
     ]
    },
    {
     "ename": "ValueError",
     "evalue": "A `Concatenate` layer requires inputs with matching shapes except for the concat axis. Got inputs shapes: [(None, 32, 32, 72), (None, 8)]",
     "output_type": "error",
     "traceback": [
      "\u001B[1;31m---------------------------------------------------------------------------\u001B[0m",
      "\u001B[1;31mValueError\u001B[0m                                Traceback (most recent call last)",
      "\u001B[1;32m~\\AppData\\Local\\Temp\\ipykernel_49576\\2214096898.py\u001B[0m in \u001B[0;36m<module>\u001B[1;34m\u001B[0m\n\u001B[0;32m     15\u001B[0m \u001B[1;31m# combinedInput = concatenate([x.output, model.output])\u001B[0m\u001B[1;33m\u001B[0m\u001B[1;33m\u001B[0m\u001B[1;33m\u001B[0m\u001B[0m\n\u001B[0;32m     16\u001B[0m \u001B[1;31m# main_b = Dense(80, activation='relu')(combinedInput)\u001B[0m\u001B[1;33m\u001B[0m\u001B[1;33m\u001B[0m\u001B[1;33m\u001B[0m\u001B[0m\n\u001B[1;32m---> 17\u001B[1;33m \u001B[0mcombinate\u001B[0m \u001B[1;33m=\u001B[0m \u001B[0mconcatenate\u001B[0m\u001B[1;33m(\u001B[0m\u001B[1;33m[\u001B[0m\u001B[0mx\u001B[0m\u001B[1;33m.\u001B[0m\u001B[0moutput\u001B[0m\u001B[1;33m,\u001B[0m \u001B[0my\u001B[0m\u001B[1;33m.\u001B[0m\u001B[0moutput\u001B[0m\u001B[1;33m]\u001B[0m\u001B[1;33m)\u001B[0m\u001B[1;33m\u001B[0m\u001B[1;33m\u001B[0m\u001B[0m\n\u001B[0m\u001B[0;32m     18\u001B[0m \u001B[1;33m\u001B[0m\u001B[0m\n\u001B[0;32m     19\u001B[0m \u001B[0mz\u001B[0m \u001B[1;33m=\u001B[0m \u001B[0mDense\u001B[0m\u001B[1;33m(\u001B[0m\u001B[1;36m80\u001B[0m\u001B[1;33m,\u001B[0m \u001B[0mactivation\u001B[0m\u001B[1;33m=\u001B[0m\u001B[1;34m'relu'\u001B[0m\u001B[1;33m)\u001B[0m\u001B[1;33m(\u001B[0m\u001B[0mcombinate\u001B[0m\u001B[1;33m)\u001B[0m\u001B[1;33m\u001B[0m\u001B[1;33m\u001B[0m\u001B[0m\n",
      "\u001B[1;32mC:\\Python37\\lib\\site-packages\\keras\\layers\\merge.py\u001B[0m in \u001B[0;36mconcatenate\u001B[1;34m(inputs, axis, **kwargs)\u001B[0m\n\u001B[0;32m    639\u001B[0m         \u001B[0mA\u001B[0m \u001B[0mtensor\u001B[0m\u001B[1;33m,\u001B[0m \u001B[0mthe\u001B[0m \u001B[0mconcatenation\u001B[0m \u001B[0mof\u001B[0m \u001B[0mthe\u001B[0m \u001B[0minputs\u001B[0m \u001B[0malongside\u001B[0m \u001B[0maxis\u001B[0m\u001B[0;31m \u001B[0m\u001B[0;31m`\u001B[0m\u001B[0maxis\u001B[0m\u001B[0;31m`\u001B[0m\u001B[1;33m.\u001B[0m\u001B[1;33m\u001B[0m\u001B[1;33m\u001B[0m\u001B[0m\n\u001B[0;32m    640\u001B[0m     \"\"\"\n\u001B[1;32m--> 641\u001B[1;33m     \u001B[1;32mreturn\u001B[0m \u001B[0mConcatenate\u001B[0m\u001B[1;33m(\u001B[0m\u001B[0maxis\u001B[0m\u001B[1;33m=\u001B[0m\u001B[0maxis\u001B[0m\u001B[1;33m,\u001B[0m \u001B[1;33m**\u001B[0m\u001B[0mkwargs\u001B[0m\u001B[1;33m)\u001B[0m\u001B[1;33m(\u001B[0m\u001B[0minputs\u001B[0m\u001B[1;33m)\u001B[0m\u001B[1;33m\u001B[0m\u001B[1;33m\u001B[0m\u001B[0m\n\u001B[0m\u001B[0;32m    642\u001B[0m \u001B[1;33m\u001B[0m\u001B[0m\n\u001B[0;32m    643\u001B[0m \u001B[1;33m\u001B[0m\u001B[0m\n",
      "\u001B[1;32mC:\\Python37\\lib\\site-packages\\keras\\engine\\topology.py\u001B[0m in \u001B[0;36m__call__\u001B[1;34m(self, inputs, **kwargs)\u001B[0m\n\u001B[0;32m    592\u001B[0m                     \u001B[0mself\u001B[0m\u001B[1;33m.\u001B[0m\u001B[0mbuild\u001B[0m\u001B[1;33m(\u001B[0m\u001B[0minput_shapes\u001B[0m\u001B[1;33m[\u001B[0m\u001B[1;36m0\u001B[0m\u001B[1;33m]\u001B[0m\u001B[1;33m)\u001B[0m\u001B[1;33m\u001B[0m\u001B[1;33m\u001B[0m\u001B[0m\n\u001B[0;32m    593\u001B[0m                 \u001B[1;32melse\u001B[0m\u001B[1;33m:\u001B[0m\u001B[1;33m\u001B[0m\u001B[1;33m\u001B[0m\u001B[0m\n\u001B[1;32m--> 594\u001B[1;33m                     \u001B[0mself\u001B[0m\u001B[1;33m.\u001B[0m\u001B[0mbuild\u001B[0m\u001B[1;33m(\u001B[0m\u001B[0minput_shapes\u001B[0m\u001B[1;33m)\u001B[0m\u001B[1;33m\u001B[0m\u001B[1;33m\u001B[0m\u001B[0m\n\u001B[0m\u001B[0;32m    595\u001B[0m                 \u001B[0mself\u001B[0m\u001B[1;33m.\u001B[0m\u001B[0mbuilt\u001B[0m \u001B[1;33m=\u001B[0m \u001B[1;32mTrue\u001B[0m\u001B[1;33m\u001B[0m\u001B[1;33m\u001B[0m\u001B[0m\n\u001B[0;32m    596\u001B[0m \u001B[1;33m\u001B[0m\u001B[0m\n",
      "\u001B[1;32mC:\\Python37\\lib\\site-packages\\keras\\layers\\merge.py\u001B[0m in \u001B[0;36mbuild\u001B[1;34m(self, input_shape)\u001B[0m\n\u001B[0;32m    352\u001B[0m                              \u001B[1;34m'inputs with matching shapes '\u001B[0m\u001B[1;33m\u001B[0m\u001B[1;33m\u001B[0m\u001B[0m\n\u001B[0;32m    353\u001B[0m                              \u001B[1;34m'except for the concat axis. '\u001B[0m\u001B[1;33m\u001B[0m\u001B[1;33m\u001B[0m\u001B[0m\n\u001B[1;32m--> 354\u001B[1;33m                              'Got inputs shapes: %s' % (input_shape))\n\u001B[0m\u001B[0;32m    355\u001B[0m \u001B[1;33m\u001B[0m\u001B[0m\n\u001B[0;32m    356\u001B[0m     \u001B[1;32mdef\u001B[0m \u001B[0m_merge_function\u001B[0m\u001B[1;33m(\u001B[0m\u001B[0mself\u001B[0m\u001B[1;33m,\u001B[0m \u001B[0minputs\u001B[0m\u001B[1;33m)\u001B[0m\u001B[1;33m:\u001B[0m\u001B[1;33m\u001B[0m\u001B[1;33m\u001B[0m\u001B[0m\n",
      "\u001B[1;31mValueError\u001B[0m: A `Concatenate` layer requires inputs with matching shapes except for the concat axis. Got inputs shapes: [(None, 32, 32, 72), (None, 8)]"
     ]
    }
   ],
   "source": [
    "from keras.layers import Input, Dense, concatenate\n",
    "from keras.models import Model\n",
    "from keras.utils.vis_utils import plot_model\n",
    "\n",
    "lbp_hist_input = Input(shape=(32, 32, 3, ), name='texture_histogram')\n",
    "x = Dense(36, activation='relu')(lbp_hist_input)\n",
    "x = Dense(72, activation='relu')(x)\n",
    "x = Model(inputs=lbp_hist_input, outputs=x)\n",
    "\n",
    "features = Input(shape=(2,), name='features')\n",
    "y = Dense(4, activation='relu')(features)\n",
    "y = Dense(8, activation='relu')(y)\n",
    "y = Model(inputs=features, outputs=y)\n",
    "#\n",
    "# combinedInput = concatenate([x.output, model.output])\n",
    "# main_b = Dense(80, activation='relu')(combinedInput)\n",
    "combinate = concatenate([x.output, y.output])\n",
    "\n",
    "z = Dense(80, activation='relu')(combinate)\n",
    "z = Dense(7, activation='softmax')(z)\n",
    "\n",
    "model = Model(inputs=[x.input, y.input], outputs=z)\n",
    "\n",
    "plot_model(model, to_file='model_plot.png', show_shapes=True, show_layer_names=True)"
   ],
   "metadata": {
    "collapsed": false,
    "pycharm": {
     "name": "#%%\n"
    }
   }
  },
  {
   "cell_type": "code",
   "execution_count": 1,
   "outputs": [
    {
     "name": "stderr",
     "output_type": "stream",
     "text": [
      "Using TensorFlow backend.\n"
     ]
    }
   ],
   "source": [
    "from processing import load_image_dataset\n",
    "\n",
    "x_rgb_train, y_rgb_train = load_image_dataset('Datasets/espe/base/train', (256, 256), True)\n",
    "x_rgb_test, y_rgb_test = load_image_dataset('Datasets/espe/base/test', (256, 256), True)\n",
    "x_rgb_validation, y_rgb_validation = load_image_dataset('Datasets/espe/base/validation', (256, 256), True)"
   ],
   "metadata": {
    "collapsed": false,
    "pycharm": {
     "name": "#%%\n"
    }
   }
  },
  {
   "cell_type": "code",
   "execution_count": 1,
   "outputs": [
    {
     "name": "stderr",
     "output_type": "stream",
     "text": [
      "Using TensorFlow backend.\n"
     ]
    }
   ],
   "source": [
    "from processing import load_image_dataset\n",
    "\n",
    "x_rgb_train, y_rgb_train = load_image_dataset('Datasets/espe/lbp_histograms - copia/train', (40, 40), True)\n",
    "x_rgb_test, y_rgb_test = load_image_dataset('Datasets/espe/lbp_histograms - copia/test', (40, 40), True)\n",
    "x_rgb_validation, y_rgb_validation = load_image_dataset('Datasets/espe/lbp_histograms - copia/validation', (40, 40), True)"
   ],
   "metadata": {
    "collapsed": false,
    "pycharm": {
     "name": "#%%\n"
    }
   }
  },
  {
   "cell_type": "code",
   "execution_count": 2,
   "outputs": [
    {
     "name": "stdout",
     "output_type": "stream",
     "text": [
      "WARNING:tensorflow:From C:\\Python37\\lib\\site-packages\\tensorflow_core\\python\\ops\\init_ops.py:97: calling GlorotUniform.__init__ (from tensorflow.python.ops.init_ops) with dtype is deprecated and will be removed in a future version.\n",
      "Instructions for updating:\n",
      "Call initializer instance with the dtype argument instead of passing it to the constructor\n",
      "WARNING:tensorflow:From C:\\Python37\\lib\\site-packages\\tensorflow_core\\python\\ops\\init_ops.py:97: calling Zeros.__init__ (from tensorflow.python.ops.init_ops) with dtype is deprecated and will be removed in a future version.\n",
      "Instructions for updating:\n",
      "Call initializer instance with the dtype argument instead of passing it to the constructor\n",
      "WARNING:tensorflow:From C:\\Python37\\lib\\site-packages\\tensorflow_core\\python\\ops\\resource_variable_ops.py:1630: calling BaseResourceVariable.__init__ (from tensorflow.python.ops.resource_variable_ops) with constraint is deprecated and will be removed in a future version.\n",
      "Instructions for updating:\n",
      "If using Keras pass *_constraint arguments to layers.\n"
     ]
    }
   ],
   "source": [
    "from tensorflow import keras\n",
    "model = keras.models.load_model('models/own/saved_model/my_model.h5')\n"
   ],
   "metadata": {
    "collapsed": false,
    "pycharm": {
     "name": "#%%\n"
    }
   }
  },
  {
   "cell_type": "code",
   "execution_count": 5,
   "outputs": [
    {
     "name": "stdout",
     "output_type": "stream",
     "text": [
      "1967/1967 [==============================] - 0s 216us/sample - loss: 2.9833 - acc: 0.6131\n"
     ]
    },
    {
     "data": {
      "text/plain": "[2.983334733498054, 0.61311644]"
     },
     "execution_count": 5,
     "metadata": {},
     "output_type": "execute_result"
    }
   ],
   "source": [
    "model.evaluate(x=x_rgb_test, y=y_rgb_test)"
   ],
   "metadata": {
    "collapsed": false,
    "pycharm": {
     "name": "#%%\n"
    }
   }
  }
 ],
 "metadata": {
  "kernelspec": {
   "display_name": "Python 3",
   "language": "python",
   "name": "python3"
  },
  "language_info": {
   "codemirror_mode": {
    "name": "ipython",
    "version": 2
   },
   "file_extension": ".py",
   "mimetype": "text/x-python",
   "name": "python",
   "nbconvert_exporter": "python",
   "pygments_lexer": "ipython2",
   "version": "2.7.6"
  }
 },
 "nbformat": 4,
 "nbformat_minor": 0
}