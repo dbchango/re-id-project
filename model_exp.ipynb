{
 "cells": [
  {
   "cell_type": "markdown",
   "source": [
    "# Experimenting with CNN architectures\n",
    "### Data reading"
   ],
   "metadata": {
    "collapsed": false,
    "pycharm": {
     "name": "#%% md\n"
    }
   }
  },
  {
   "cell_type": "code",
   "execution_count": 47,
   "outputs": [
    {
     "name": "stderr",
     "output_type": "stream",
     "text": [
      "Using TensorFlow backend.\n"
     ]
    },
    {
     "name": "stdout",
     "output_type": "stream",
     "text": [
      "WARNING:tensorflow:From C:\\Python37\\lib\\site-packages\\keras\\backend\\tensorflow_backend.py:68: The name tf.get_default_graph is deprecated. Please use tf.compat.v1.get_default_graph instead.\n",
      "\n",
      "WARNING:tensorflow:From C:\\Python37\\lib\\site-packages\\keras\\backend\\tensorflow_backend.py:508: The name tf.placeholder is deprecated. Please use tf.compat.v1.placeholder instead.\n",
      "\n",
      "WARNING:tensorflow:From C:\\Python37\\lib\\site-packages\\keras\\backend\\tensorflow_backend.py:3837: The name tf.random_uniform is deprecated. Please use tf.random.uniform instead.\n",
      "\n",
      "WARNING:tensorflow:From C:\\Python37\\lib\\site-packages\\keras\\backend\\tensorflow_backend.py:127: The name tf.placeholder_with_default is deprecated. Please use tf.compat.v1.placeholder_with_default instead.\n",
      "\n",
      "WARNING:tensorflow:From C:\\Python37\\lib\\site-packages\\keras\\backend\\tensorflow_backend.py:3144: calling dropout (from tensorflow.python.ops.nn_ops) with keep_prob is deprecated and will be removed in a future version.\n",
      "Instructions for updating:\n",
      "Please use `rate` instead of `keep_prob`. Rate should be set to `rate = 1 - keep_prob`.\n"
     ]
    }
   ],
   "source": [
    "from utils.Models import vgg_net, generate_image_dataset, mlp\n",
    "input_shape = (64, 64, 1)\n",
    "train_data_path = 'Datasets/espe/lbp_histograms/train'\n",
    "test_data_path = 'Datasets/espe/lbp_histograms/test'\n",
    "validation_data_path = 'Datasets/espe/lbp_histograms/validation'\n",
    "model = mlp(input_shape=input_shape)"
   ],
   "metadata": {
    "collapsed": false,
    "pycharm": {
     "name": "#%%\n"
    }
   }
  },
  {
   "cell_type": "markdown",
   "source": [
    "### Loading entire dataset"
   ],
   "metadata": {
    "collapsed": false,
    "pycharm": {
     "name": "#%% md\n"
    }
   }
  },
  {
   "cell_type": "code",
   "execution_count": 48,
   "outputs": [],
   "source": [
    "from utils.Models import complete_image_dataset_loading\n",
    "\n",
    "rgb_train, rgb_test, rgb_validation = complete_image_dataset_loading(train_data_path, test_data_path, validation_data_path, (64, 64))"
   ],
   "metadata": {
    "collapsed": false,
    "pycharm": {
     "name": "#%%\n"
    }
   }
  },
  {
   "cell_type": "code",
   "execution_count": 49,
   "outputs": [],
   "source": [
    "x_rgb_train, y_rgb_train = rgb_train[0], rgb_train[1]"
   ],
   "metadata": {
    "collapsed": false,
    "pycharm": {
     "name": "#%%\n"
    }
   }
  },
  {
   "cell_type": "code",
   "execution_count": 50,
   "outputs": [
    {
     "name": "stdout",
     "output_type": "stream",
     "text": [
      "WARNING:tensorflow:From C:\\Python37\\lib\\site-packages\\keras\\optimizers.py:757: The name tf.train.Optimizer is deprecated. Please use tf.compat.v1.train.Optimizer instead.\n",
      "\n",
      "WARNING:tensorflow:From C:\\Python37\\lib\\site-packages\\keras\\backend\\tensorflow_backend.py:3014: The name tf.log is deprecated. Please use tf.math.log instead.\n",
      "\n"
     ]
    }
   ],
   "source": [
    "model.compile(loss='categorical_crossentropy', optimizer='sgd', metrics=['accuracy'])"
   ],
   "metadata": {
    "collapsed": false,
    "pycharm": {
     "name": "#%%\n"
    }
   }
  },
  {
   "cell_type": "code",
   "execution_count": 51,
   "outputs": [
    {
     "name": "stdout",
     "output_type": "stream",
     "text": [
      "WARNING:tensorflow:From C:\\Python37\\lib\\site-packages\\tensorflow_core\\python\\ops\\math_grad.py:1424: where (from tensorflow.python.ops.array_ops) is deprecated and will be removed in a future version.\n",
      "Instructions for updating:\n",
      "Use tf.where in 2.0, which has the same broadcast rule as np.where\n",
      "WARNING:tensorflow:From C:\\Python37\\lib\\site-packages\\keras\\backend\\tensorflow_backend.py:977: The name tf.assign_add is deprecated. Please use tf.compat.v1.assign_add instead.\n",
      "\n",
      "WARNING:tensorflow:From C:\\Python37\\lib\\site-packages\\keras\\backend\\tensorflow_backend.py:964: The name tf.assign is deprecated. Please use tf.compat.v1.assign instead.\n",
      "\n",
      "WARNING:tensorflow:From C:\\Python37\\lib\\site-packages\\keras\\backend\\tensorflow_backend.py:2503: The name tf.Session is deprecated. Please use tf.compat.v1.Session instead.\n",
      "\n",
      "Train on 370 samples, validate on 93 samples\n",
      "Epoch 1/300\n",
      "WARNING:tensorflow:From C:\\Python37\\lib\\site-packages\\keras\\backend\\tensorflow_backend.py:168: The name tf.get_default_session is deprecated. Please use tf.compat.v1.get_default_session instead.\n",
      "\n",
      "WARNING:tensorflow:From C:\\Python37\\lib\\site-packages\\keras\\backend\\tensorflow_backend.py:175: The name tf.ConfigProto is deprecated. Please use tf.compat.v1.ConfigProto instead.\n",
      "\n",
      "WARNING:tensorflow:From C:\\Python37\\lib\\site-packages\\keras\\backend\\tensorflow_backend.py:184: The name tf.global_variables is deprecated. Please use tf.compat.v1.global_variables instead.\n",
      "\n",
      "WARNING:tensorflow:From C:\\Python37\\lib\\site-packages\\keras\\backend\\tensorflow_backend.py:193: The name tf.is_variable_initialized is deprecated. Please use tf.compat.v1.is_variable_initialized instead.\n",
      "\n",
      "WARNING:tensorflow:From C:\\Python37\\lib\\site-packages\\keras\\backend\\tensorflow_backend.py:200: The name tf.variables_initializer is deprecated. Please use tf.compat.v1.variables_initializer instead.\n",
      "\n",
      "370/370 [==============================] - 3s 7ms/step - loss: 3.7766 - acc: 0.0973 - val_loss: 11.7784 - val_acc: 0.2903\n",
      "Epoch 2/300\n",
      "370/370 [==============================] - 0s 586us/step - loss: 1.8993 - acc: 0.1027 - val_loss: 11.8144 - val_acc: 0.2903\n",
      "Epoch 3/300\n",
      "370/370 [==============================] - 0s 576us/step - loss: 1.8594 - acc: 0.1027 - val_loss: 11.8462 - val_acc: 0.2903\n",
      "Epoch 4/300\n",
      "370/370 [==============================] - 0s 576us/step - loss: 1.8278 - acc: 0.1054 - val_loss: 11.8761 - val_acc: 0.2903\n",
      "Epoch 5/300\n",
      "370/370 [==============================] - 0s 584us/step - loss: 1.8108 - acc: 0.1216 - val_loss: 11.9060 - val_acc: 0.2903\n",
      "Epoch 6/300\n",
      "370/370 [==============================] - 0s 582us/step - loss: 1.8050 - acc: 0.1595 - val_loss: 11.9332 - val_acc: 0.2903\n",
      "Epoch 7/300\n",
      "370/370 [==============================] - 0s 587us/step - loss: 1.7958 - acc: 0.1351 - val_loss: 11.9614 - val_acc: 0.0000e+00\n",
      "Epoch 8/300\n",
      "370/370 [==============================] - 0s 584us/step - loss: 1.7857 - acc: 0.1811 - val_loss: 11.9869 - val_acc: 0.0000e+00\n",
      "Epoch 9/300\n",
      "370/370 [==============================] - 0s 582us/step - loss: 1.7715 - acc: 0.2189 - val_loss: 12.0127 - val_acc: 0.0000e+00\n",
      "Epoch 10/300\n",
      "370/370 [==============================] - 0s 573us/step - loss: 1.7796 - acc: 0.1892 - val_loss: 12.0340 - val_acc: 0.0000e+00\n",
      "Epoch 11/300\n",
      "370/370 [==============================] - 0s 581us/step - loss: 1.7680 - acc: 0.1757 - val_loss: 12.0518 - val_acc: 0.0000e+00\n",
      "Epoch 12/300\n",
      "370/370 [==============================] - 0s 584us/step - loss: 1.7618 - acc: 0.2081 - val_loss: 12.0687 - val_acc: 0.0000e+00\n",
      "Epoch 13/300\n",
      "370/370 [==============================] - 0s 584us/step - loss: 1.7563 - acc: 0.2432 - val_loss: 12.0784 - val_acc: 0.0000e+00\n",
      "Epoch 14/300\n",
      "370/370 [==============================] - 0s 581us/step - loss: 1.7635 - acc: 0.1757 - val_loss: 12.0860 - val_acc: 0.0000e+00\n",
      "Epoch 15/300\n",
      "370/370 [==============================] - 0s 584us/step - loss: 1.7660 - acc: 0.1757 - val_loss: 12.0847 - val_acc: 0.0000e+00\n",
      "Epoch 16/300\n",
      "370/370 [==============================] - 0s 578us/step - loss: 1.7519 - acc: 0.2595 - val_loss: 12.0926 - val_acc: 0.0000e+00\n",
      "Epoch 17/300\n",
      "370/370 [==============================] - 0s 578us/step - loss: 1.7492 - acc: 0.2405 - val_loss: 12.1008 - val_acc: 0.0000e+00\n",
      "Epoch 18/300\n",
      "370/370 [==============================] - 0s 583us/step - loss: 1.7547 - acc: 0.2000 - val_loss: 12.1116 - val_acc: 0.0000e+00\n",
      "Epoch 19/300\n",
      "370/370 [==============================] - 0s 580us/step - loss: 1.7582 - acc: 0.2000 - val_loss: 12.1139 - val_acc: 0.0000e+00\n",
      "Epoch 20/300\n",
      "370/370 [==============================] - 0s 581us/step - loss: 1.7577 - acc: 0.2054 - val_loss: 12.1106 - val_acc: 0.0000e+00\n",
      "Epoch 21/300\n",
      "370/370 [==============================] - 0s 581us/step - loss: 1.7450 - acc: 0.2459 - val_loss: 12.1087 - val_acc: 0.0000e+00\n",
      "Epoch 22/300\n",
      "370/370 [==============================] - 0s 580us/step - loss: 1.7453 - acc: 0.2676 - val_loss: 12.1087 - val_acc: 0.0000e+00\n",
      "Epoch 23/300\n",
      "370/370 [==============================] - 0s 578us/step - loss: 1.7405 - acc: 0.2378 - val_loss: 12.1162 - val_acc: 0.0000e+00\n",
      "Epoch 24/300\n",
      "370/370 [==============================] - 0s 578us/step - loss: 1.7411 - acc: 0.2270 - val_loss: 12.1159 - val_acc: 0.0000e+00\n",
      "Epoch 25/300\n",
      "370/370 [==============================] - 0s 589us/step - loss: 1.7398 - acc: 0.2730 - val_loss: 12.1170 - val_acc: 0.0000e+00\n",
      "Epoch 26/300\n",
      "370/370 [==============================] - 0s 582us/step - loss: 1.7451 - acc: 0.1973 - val_loss: 12.1208 - val_acc: 0.0000e+00\n",
      "Epoch 27/300\n",
      "370/370 [==============================] - 0s 576us/step - loss: 1.7286 - acc: 0.2838 - val_loss: 12.1274 - val_acc: 0.0000e+00\n",
      "Epoch 28/300\n",
      "370/370 [==============================] - 0s 581us/step - loss: 1.7367 - acc: 0.2649 - val_loss: 12.1188 - val_acc: 0.0000e+00\n",
      "Epoch 29/300\n",
      "370/370 [==============================] - 0s 577us/step - loss: 1.7337 - acc: 0.2703 - val_loss: 12.1152 - val_acc: 0.0000e+00\n",
      "Epoch 30/300\n",
      "370/370 [==============================] - 0s 584us/step - loss: 1.7263 - acc: 0.2378 - val_loss: 12.1040 - val_acc: 0.0000e+00\n",
      "Epoch 31/300\n",
      "370/370 [==============================] - 0s 576us/step - loss: 1.7443 - acc: 0.2270 - val_loss: 12.0988 - val_acc: 0.0000e+00\n",
      "Epoch 32/300\n",
      "370/370 [==============================] - 0s 576us/step - loss: 1.7243 - acc: 0.2838 - val_loss: 12.1083 - val_acc: 0.0000e+00\n",
      "Epoch 33/300\n",
      "370/370 [==============================] - 0s 577us/step - loss: 1.7357 - acc: 0.2243 - val_loss: 12.1129 - val_acc: 0.0000e+00\n",
      "Epoch 34/300\n",
      "370/370 [==============================] - 0s 570us/step - loss: 1.7314 - acc: 0.2541 - val_loss: 12.1083 - val_acc: 0.0000e+00\n",
      "Epoch 35/300\n",
      "370/370 [==============================] - 0s 584us/step - loss: 1.7243 - acc: 0.2568 - val_loss: 12.1107 - val_acc: 0.0000e+00\n",
      "Epoch 36/300\n",
      "370/370 [==============================] - 0s 581us/step - loss: 1.7230 - acc: 0.2297 - val_loss: 12.1185 - val_acc: 0.0000e+00\n",
      "Epoch 37/300\n",
      "370/370 [==============================] - 0s 578us/step - loss: 1.7212 - acc: 0.2892 - val_loss: 12.1169 - val_acc: 0.0000e+00\n",
      "Epoch 38/300\n",
      "370/370 [==============================] - 0s 581us/step - loss: 1.7124 - acc: 0.3162 - val_loss: 12.1130 - val_acc: 0.0000e+00\n",
      "Epoch 39/300\n",
      "370/370 [==============================] - 0s 584us/step - loss: 1.7183 - acc: 0.2892 - val_loss: 12.1261 - val_acc: 0.0000e+00\n",
      "Epoch 40/300\n",
      "370/370 [==============================] - 0s 581us/step - loss: 1.7080 - acc: 0.2838 - val_loss: 12.1303 - val_acc: 0.0000e+00\n",
      "Epoch 41/300\n",
      "370/370 [==============================] - 0s 581us/step - loss: 1.7121 - acc: 0.2676 - val_loss: 12.1306 - val_acc: 0.0000e+00\n",
      "Epoch 42/300\n",
      "370/370 [==============================] - 0s 570us/step - loss: 1.6987 - acc: 0.3135 - val_loss: 12.1149 - val_acc: 0.0000e+00\n",
      "Epoch 43/300\n",
      "370/370 [==============================] - 0s 576us/step - loss: 1.6953 - acc: 0.2973 - val_loss: 12.1145 - val_acc: 0.0000e+00\n",
      "Epoch 44/300\n",
      "370/370 [==============================] - 0s 580us/step - loss: 1.6840 - acc: 0.2757 - val_loss: 12.1227 - val_acc: 0.0000e+00\n",
      "Epoch 45/300\n",
      "370/370 [==============================] - 0s 576us/step - loss: 1.6819 - acc: 0.2946 - val_loss: 12.1218 - val_acc: 0.0000e+00\n",
      "Epoch 46/300\n",
      "370/370 [==============================] - 0s 576us/step - loss: 1.6875 - acc: 0.2730 - val_loss: 12.1161 - val_acc: 0.0000e+00\n",
      "Epoch 47/300\n",
      "370/370 [==============================] - 0s 568us/step - loss: 1.7061 - acc: 0.3108 - val_loss: 12.1353 - val_acc: 0.0000e+00\n",
      "Epoch 48/300\n",
      "370/370 [==============================] - 0s 584us/step - loss: 1.6736 - acc: 0.3459 - val_loss: 12.0913 - val_acc: 0.0000e+00\n",
      "Epoch 49/300\n",
      "370/370 [==============================] - 0s 581us/step - loss: 1.6588 - acc: 0.3108 - val_loss: 12.1192 - val_acc: 0.0000e+00\n",
      "Epoch 50/300\n",
      "370/370 [==============================] - 0s 578us/step - loss: 1.6458 - acc: 0.3486 - val_loss: 12.1005 - val_acc: 0.0000e+00\n",
      "Epoch 51/300\n",
      "370/370 [==============================] - 0s 584us/step - loss: 1.6510 - acc: 0.3081 - val_loss: 12.0615 - val_acc: 0.0000e+00\n",
      "Epoch 52/300\n",
      "370/370 [==============================] - 0s 576us/step - loss: 1.6199 - acc: 0.3649 - val_loss: 12.0982 - val_acc: 0.0000e+00\n",
      "Epoch 53/300\n",
      "370/370 [==============================] - 0s 578us/step - loss: 1.6057 - acc: 0.3703 - val_loss: 12.0956 - val_acc: 0.0000e+00\n",
      "Epoch 54/300\n",
      "370/370 [==============================] - 0s 573us/step - loss: 1.5998 - acc: 0.3730 - val_loss: 12.0225 - val_acc: 0.0000e+00\n",
      "Epoch 55/300\n",
      "370/370 [==============================] - 0s 584us/step - loss: 1.5655 - acc: 0.3919 - val_loss: 12.0408 - val_acc: 0.0000e+00\n",
      "Epoch 56/300\n",
      "370/370 [==============================] - 0s 580us/step - loss: 1.5721 - acc: 0.3730 - val_loss: 11.9155 - val_acc: 0.1720\n",
      "Epoch 57/300\n",
      "370/370 [==============================] - 0s 586us/step - loss: 1.4751 - acc: 0.4108 - val_loss: 11.8825 - val_acc: 0.1828\n",
      "Epoch 58/300\n",
      "370/370 [==============================] - 0s 581us/step - loss: 2.0356 - acc: 0.2865 - val_loss: 11.9605 - val_acc: 0.0000e+00\n",
      "Epoch 59/300\n",
      "370/370 [==============================] - 0s 567us/step - loss: 1.6287 - acc: 0.1946 - val_loss: 12.0177 - val_acc: 0.0000e+00\n",
      "Epoch 60/300\n",
      "370/370 [==============================] - 0s 584us/step - loss: 1.5622 - acc: 0.2811 - val_loss: 12.0148 - val_acc: 0.0000e+00\n",
      "Epoch 61/300\n",
      "370/370 [==============================] - 0s 583us/step - loss: 1.5094 - acc: 0.3865 - val_loss: 12.0015 - val_acc: 0.0538\n",
      "Epoch 62/300\n",
      "370/370 [==============================] - 0s 584us/step - loss: 1.4358 - acc: 0.4378 - val_loss: 11.9681 - val_acc: 0.0000e+00\n",
      "Epoch 63/300\n",
      "370/370 [==============================] - 0s 578us/step - loss: 1.5804 - acc: 0.2703 - val_loss: 11.7702 - val_acc: 0.2903\n",
      "Epoch 64/300\n",
      "370/370 [==============================] - 0s 580us/step - loss: 1.5288 - acc: 0.4162 - val_loss: 11.9438 - val_acc: 0.1183\n",
      "Epoch 65/300\n",
      "370/370 [==============================] - 0s 583us/step - loss: 1.4492 - acc: 0.4784 - val_loss: 12.2728 - val_acc: 0.0000e+00\n",
      "Epoch 66/300\n",
      "370/370 [==============================] - 0s 730us/step - loss: 1.5909 - acc: 0.3297 - val_loss: 11.9871 - val_acc: 0.0000e+00\n",
      "Epoch 67/300\n",
      "370/370 [==============================] - 0s 570us/step - loss: 1.4523 - acc: 0.4838 - val_loss: 11.9521 - val_acc: 0.1290\n",
      "Epoch 68/300\n",
      "370/370 [==============================] - 0s 735us/step - loss: 1.3183 - acc: 0.5432 - val_loss: 12.1725 - val_acc: 0.0000e+00\n",
      "Epoch 69/300\n",
      "370/370 [==============================] - 0s 576us/step - loss: 1.4457 - acc: 0.5054 - val_loss: 11.5684 - val_acc: 0.2688\n",
      "Epoch 70/300\n",
      "370/370 [==============================] - 0s 572us/step - loss: 2.9197 - acc: 0.3243 - val_loss: 12.4190 - val_acc: 0.0000e+00\n",
      "Epoch 71/300\n",
      "370/370 [==============================] - 0s 580us/step - loss: 2.1868 - acc: 0.1892 - val_loss: 12.3209 - val_acc: 0.0000e+00\n",
      "Epoch 72/300\n",
      "370/370 [==============================] - 0s 581us/step - loss: 2.0687 - acc: 0.1892 - val_loss: 12.2863 - val_acc: 0.0000e+00\n",
      "Epoch 73/300\n",
      "370/370 [==============================] - 0s 581us/step - loss: 2.0060 - acc: 0.1892 - val_loss: 12.2624 - val_acc: 0.0000e+00\n",
      "Epoch 74/300\n",
      "370/370 [==============================] - 0s 582us/step - loss: 1.9556 - acc: 0.1892 - val_loss: 12.2405 - val_acc: 0.0000e+00\n",
      "Epoch 75/300\n",
      "370/370 [==============================] - 0s 578us/step - loss: 1.9437 - acc: 0.1892 - val_loss: 12.2248 - val_acc: 0.0000e+00\n",
      "Epoch 76/300\n",
      "370/370 [==============================] - 0s 571us/step - loss: 1.9204 - acc: 0.1892 - val_loss: 12.2118 - val_acc: 0.0000e+00\n",
      "Epoch 77/300\n",
      "370/370 [==============================] - 0s 583us/step - loss: 1.9084 - acc: 0.1892 - val_loss: 12.2018 - val_acc: 0.0000e+00\n",
      "Epoch 78/300\n",
      "370/370 [==============================] - 0s 573us/step - loss: 1.8839 - acc: 0.1892 - val_loss: 12.1937 - val_acc: 0.0000e+00\n",
      "Epoch 79/300\n",
      "370/370 [==============================] - 0s 572us/step - loss: 1.8791 - acc: 0.1892 - val_loss: 12.1849 - val_acc: 0.0000e+00\n",
      "Epoch 80/300\n",
      "370/370 [==============================] - 0s 579us/step - loss: 1.8591 - acc: 0.1892 - val_loss: 12.1780 - val_acc: 0.0000e+00\n",
      "Epoch 81/300\n",
      "370/370 [==============================] - 0s 578us/step - loss: 1.8478 - acc: 0.1892 - val_loss: 12.1724 - val_acc: 0.0000e+00\n",
      "Epoch 82/300\n",
      "370/370 [==============================] - 0s 584us/step - loss: 1.8406 - acc: 0.1892 - val_loss: 12.1692 - val_acc: 0.0000e+00\n",
      "Epoch 83/300\n",
      "370/370 [==============================] - 0s 578us/step - loss: 1.8362 - acc: 0.1892 - val_loss: 12.1649 - val_acc: 0.0000e+00\n",
      "Epoch 84/300\n",
      "370/370 [==============================] - 0s 581us/step - loss: 1.8280 - acc: 0.1892 - val_loss: 12.1599 - val_acc: 0.0000e+00\n",
      "Epoch 85/300\n",
      "370/370 [==============================] - 0s 578us/step - loss: 1.8211 - acc: 0.1892 - val_loss: 12.1556 - val_acc: 0.0000e+00\n",
      "Epoch 86/300\n",
      "370/370 [==============================] - 0s 578us/step - loss: 1.8185 - acc: 0.1892 - val_loss: 12.1531 - val_acc: 0.0000e+00\n",
      "Epoch 87/300\n",
      "370/370 [==============================] - 0s 570us/step - loss: 1.8178 - acc: 0.1892 - val_loss: 12.1492 - val_acc: 0.0000e+00\n",
      "Epoch 88/300\n",
      "370/370 [==============================] - 0s 573us/step - loss: 1.8106 - acc: 0.1892 - val_loss: 12.1470 - val_acc: 0.0000e+00\n",
      "Epoch 89/300\n",
      "370/370 [==============================] - 0s 570us/step - loss: 1.8070 - acc: 0.1892 - val_loss: 12.1440 - val_acc: 0.0000e+00\n",
      "Epoch 90/300\n",
      "370/370 [==============================] - 0s 578us/step - loss: 1.8007 - acc: 0.1892 - val_loss: 12.1409 - val_acc: 0.0000e+00\n",
      "Epoch 91/300\n",
      "370/370 [==============================] - 0s 578us/step - loss: 1.7964 - acc: 0.1892 - val_loss: 12.1394 - val_acc: 0.0000e+00\n",
      "Epoch 92/300\n",
      "370/370 [==============================] - 0s 573us/step - loss: 1.7945 - acc: 0.1892 - val_loss: 12.1375 - val_acc: 0.0000e+00\n",
      "Epoch 93/300\n",
      "370/370 [==============================] - 0s 573us/step - loss: 1.7867 - acc: 0.1892 - val_loss: 12.1357 - val_acc: 0.0000e+00\n",
      "Epoch 94/300\n",
      "370/370 [==============================] - 0s 578us/step - loss: 1.7870 - acc: 0.1892 - val_loss: 12.1336 - val_acc: 0.0000e+00\n",
      "Epoch 95/300\n",
      "370/370 [==============================] - 0s 578us/step - loss: 1.7865 - acc: 0.1892 - val_loss: 12.1322 - val_acc: 0.0000e+00\n",
      "Epoch 96/300\n",
      "370/370 [==============================] - 0s 578us/step - loss: 1.7826 - acc: 0.1892 - val_loss: 12.1313 - val_acc: 0.0000e+00\n",
      "Epoch 97/300\n",
      "370/370 [==============================] - 0s 573us/step - loss: 1.7828 - acc: 0.1892 - val_loss: 12.1295 - val_acc: 0.0000e+00\n",
      "Epoch 98/300\n",
      "370/370 [==============================] - 0s 581us/step - loss: 1.7838 - acc: 0.1865 - val_loss: 12.1275 - val_acc: 0.0000e+00\n",
      "Epoch 99/300\n",
      "370/370 [==============================] - 0s 581us/step - loss: 1.7804 - acc: 0.1892 - val_loss: 12.1256 - val_acc: 0.0000e+00\n",
      "Epoch 100/300\n",
      "370/370 [==============================] - 0s 578us/step - loss: 1.7679 - acc: 0.1892 - val_loss: 12.1250 - val_acc: 0.0000e+00\n",
      "Epoch 101/300\n",
      "370/370 [==============================] - 0s 589us/step - loss: 1.7753 - acc: 0.1946 - val_loss: 12.1236 - val_acc: 0.0000e+00\n",
      "Epoch 102/300\n",
      "370/370 [==============================] - 0s 574us/step - loss: 1.7717 - acc: 0.1892 - val_loss: 12.1226 - val_acc: 0.0000e+00\n",
      "Epoch 103/300\n",
      "370/370 [==============================] - 0s 581us/step - loss: 1.7700 - acc: 0.1892 - val_loss: 12.1218 - val_acc: 0.0000e+00\n",
      "Epoch 104/300\n",
      "370/370 [==============================] - 0s 576us/step - loss: 1.7708 - acc: 0.1919 - val_loss: 12.1197 - val_acc: 0.0000e+00\n",
      "Epoch 105/300\n",
      "370/370 [==============================] - 0s 576us/step - loss: 1.7696 - acc: 0.1919 - val_loss: 12.1188 - val_acc: 0.0000e+00\n",
      "Epoch 106/300\n",
      "370/370 [==============================] - 0s 573us/step - loss: 1.7713 - acc: 0.1892 - val_loss: 12.1177 - val_acc: 0.0000e+00\n",
      "Epoch 107/300\n",
      "370/370 [==============================] - 0s 581us/step - loss: 1.7698 - acc: 0.1865 - val_loss: 12.1163 - val_acc: 0.0000e+00\n",
      "Epoch 108/300\n",
      "370/370 [==============================] - 0s 578us/step - loss: 1.7703 - acc: 0.1919 - val_loss: 12.1151 - val_acc: 0.0000e+00\n",
      "Epoch 109/300\n",
      "370/370 [==============================] - 0s 578us/step - loss: 1.7667 - acc: 0.1892 - val_loss: 12.1136 - val_acc: 0.0000e+00\n",
      "Epoch 110/300\n",
      "370/370 [==============================] - 0s 578us/step - loss: 1.7646 - acc: 0.1892 - val_loss: 12.1131 - val_acc: 0.0000e+00\n",
      "Epoch 111/300\n",
      "370/370 [==============================] - 0s 570us/step - loss: 1.7563 - acc: 0.2000 - val_loss: 12.1128 - val_acc: 0.0000e+00\n",
      "Epoch 112/300\n",
      "370/370 [==============================] - 0s 576us/step - loss: 1.7667 - acc: 0.1946 - val_loss: 12.1117 - val_acc: 0.0000e+00\n",
      "Epoch 113/300\n",
      "370/370 [==============================] - 0s 587us/step - loss: 1.7643 - acc: 0.1946 - val_loss: 12.1108 - val_acc: 0.0000e+00\n",
      "Epoch 114/300\n",
      "370/370 [==============================] - 0s 578us/step - loss: 1.7635 - acc: 0.1919 - val_loss: 12.1106 - val_acc: 0.0000e+00\n",
      "Epoch 115/300\n",
      "370/370 [==============================] - 0s 589us/step - loss: 1.7587 - acc: 0.1892 - val_loss: 12.1095 - val_acc: 0.0000e+00\n",
      "Epoch 116/300\n",
      "370/370 [==============================] - 0s 584us/step - loss: 1.7621 - acc: 0.2027 - val_loss: 12.1094 - val_acc: 0.0000e+00\n",
      "Epoch 117/300\n",
      "370/370 [==============================] - 0s 584us/step - loss: 1.7629 - acc: 0.2000 - val_loss: 12.1090 - val_acc: 0.0000e+00\n",
      "Epoch 118/300\n",
      "370/370 [==============================] - 0s 584us/step - loss: 1.7560 - acc: 0.1973 - val_loss: 12.1087 - val_acc: 0.0000e+00\n",
      "Epoch 119/300\n",
      "370/370 [==============================] - 0s 578us/step - loss: 1.7591 - acc: 0.1865 - val_loss: 12.1084 - val_acc: 0.0000e+00\n",
      "Epoch 120/300\n",
      "370/370 [==============================] - 0s 576us/step - loss: 1.7545 - acc: 0.2027 - val_loss: 12.1075 - val_acc: 0.0000e+00\n",
      "Epoch 121/300\n",
      "370/370 [==============================] - 0s 575us/step - loss: 1.7583 - acc: 0.1973 - val_loss: 12.1078 - val_acc: 0.0000e+00\n",
      "Epoch 122/300\n",
      "370/370 [==============================] - 0s 576us/step - loss: 1.7596 - acc: 0.1865 - val_loss: 12.1073 - val_acc: 0.0000e+00\n",
      "Epoch 123/300\n",
      "370/370 [==============================] - 0s 576us/step - loss: 1.7529 - acc: 0.1973 - val_loss: 12.1070 - val_acc: 0.0000e+00\n",
      "Epoch 124/300\n",
      "370/370 [==============================] - 0s 576us/step - loss: 1.7515 - acc: 0.2162 - val_loss: 12.1072 - val_acc: 0.0000e+00\n",
      "Epoch 125/300\n",
      "370/370 [==============================] - 0s 576us/step - loss: 1.7531 - acc: 0.1946 - val_loss: 12.1064 - val_acc: 0.0000e+00\n",
      "Epoch 126/300\n",
      "370/370 [==============================] - 0s 573us/step - loss: 1.7557 - acc: 0.2027 - val_loss: 12.1058 - val_acc: 0.0000e+00\n",
      "Epoch 127/300\n",
      "370/370 [==============================] - 0s 584us/step - loss: 1.7569 - acc: 0.2054 - val_loss: 12.1055 - val_acc: 0.0000e+00\n",
      "Epoch 128/300\n",
      "370/370 [==============================] - 0s 578us/step - loss: 1.7535 - acc: 0.2027 - val_loss: 12.1054 - val_acc: 0.0000e+00\n",
      "Epoch 129/300\n",
      "370/370 [==============================] - 0s 584us/step - loss: 1.7584 - acc: 0.2027 - val_loss: 12.1048 - val_acc: 0.0000e+00\n",
      "Epoch 130/300\n",
      "370/370 [==============================] - 0s 581us/step - loss: 1.7509 - acc: 0.2000 - val_loss: 12.1051 - val_acc: 0.0000e+00\n",
      "Epoch 131/300\n",
      "370/370 [==============================] - 0s 576us/step - loss: 1.7560 - acc: 0.1973 - val_loss: 12.1044 - val_acc: 0.0000e+00\n",
      "Epoch 132/300\n",
      "370/370 [==============================] - 0s 578us/step - loss: 1.7519 - acc: 0.2081 - val_loss: 12.1046 - val_acc: 0.0000e+00\n",
      "Epoch 133/300\n",
      "370/370 [==============================] - 0s 578us/step - loss: 1.7546 - acc: 0.2108 - val_loss: 12.1050 - val_acc: 0.0000e+00\n",
      "Epoch 134/300\n",
      "370/370 [==============================] - 0s 576us/step - loss: 1.7503 - acc: 0.2135 - val_loss: 12.1041 - val_acc: 0.0000e+00\n",
      "Epoch 135/300\n",
      "370/370 [==============================] - 0s 586us/step - loss: 1.7568 - acc: 0.2054 - val_loss: 12.1046 - val_acc: 0.0000e+00\n",
      "Epoch 136/300\n",
      "370/370 [==============================] - 0s 578us/step - loss: 1.7508 - acc: 0.2027 - val_loss: 12.1039 - val_acc: 0.0000e+00\n",
      "Epoch 137/300\n",
      "370/370 [==============================] - 0s 573us/step - loss: 1.7532 - acc: 0.2027 - val_loss: 12.1029 - val_acc: 0.0000e+00\n",
      "Epoch 138/300\n",
      "370/370 [==============================] - 0s 575us/step - loss: 1.7514 - acc: 0.2000 - val_loss: 12.1028 - val_acc: 0.0000e+00\n",
      "Epoch 139/300\n",
      "370/370 [==============================] - 0s 576us/step - loss: 1.7515 - acc: 0.2135 - val_loss: 12.1026 - val_acc: 0.0000e+00\n",
      "Epoch 140/300\n",
      "370/370 [==============================] - 0s 582us/step - loss: 1.7528 - acc: 0.2027 - val_loss: 12.1025 - val_acc: 0.0000e+00\n",
      "Epoch 141/300\n",
      "370/370 [==============================] - 0s 573us/step - loss: 1.7530 - acc: 0.2108 - val_loss: 12.1029 - val_acc: 0.0000e+00\n",
      "Epoch 142/300\n",
      "370/370 [==============================] - 0s 573us/step - loss: 1.7556 - acc: 0.2135 - val_loss: 12.1025 - val_acc: 0.0000e+00\n",
      "Epoch 143/300\n",
      "370/370 [==============================] - 0s 632us/step - loss: 1.7506 - acc: 0.2135 - val_loss: 12.1038 - val_acc: 0.0000e+00\n",
      "Epoch 144/300\n",
      "370/370 [==============================] - 0s 565us/step - loss: 1.7559 - acc: 0.2189 - val_loss: 12.1036 - val_acc: 0.0000e+00\n",
      "Epoch 145/300\n",
      "370/370 [==============================] - 0s 597us/step - loss: 1.7501 - acc: 0.2000 - val_loss: 12.1036 - val_acc: 0.0000e+00\n",
      "Epoch 146/300\n",
      "370/370 [==============================] - 0s 565us/step - loss: 1.7518 - acc: 0.1946 - val_loss: 12.1043 - val_acc: 0.0000e+00\n",
      "Epoch 147/300\n",
      "370/370 [==============================] - 0s 578us/step - loss: 1.7508 - acc: 0.2000 - val_loss: 12.1036 - val_acc: 0.0000e+00\n",
      "Epoch 148/300\n",
      "370/370 [==============================] - 0s 572us/step - loss: 1.7471 - acc: 0.2297 - val_loss: 12.1034 - val_acc: 0.0000e+00\n",
      "Epoch 149/300\n",
      "370/370 [==============================] - 0s 575us/step - loss: 1.7498 - acc: 0.2297 - val_loss: 12.1030 - val_acc: 0.0000e+00\n",
      "Epoch 150/300\n",
      "370/370 [==============================] - 0s 579us/step - loss: 1.7476 - acc: 0.2514 - val_loss: 12.1032 - val_acc: 0.0000e+00\n",
      "Epoch 151/300\n",
      "370/370 [==============================] - 0s 576us/step - loss: 1.7504 - acc: 0.2162 - val_loss: 12.1025 - val_acc: 0.0000e+00\n",
      "Epoch 152/300\n",
      "370/370 [==============================] - 0s 581us/step - loss: 1.7484 - acc: 0.2459 - val_loss: 12.1022 - val_acc: 0.0000e+00\n",
      "Epoch 153/300\n",
      "370/370 [==============================] - 0s 576us/step - loss: 1.7482 - acc: 0.2216 - val_loss: 12.1025 - val_acc: 0.0000e+00\n",
      "Epoch 154/300\n",
      "370/370 [==============================] - 0s 570us/step - loss: 1.7465 - acc: 0.2541 - val_loss: 12.1030 - val_acc: 0.0000e+00\n",
      "Epoch 155/300\n",
      "370/370 [==============================] - 0s 576us/step - loss: 1.7453 - acc: 0.2297 - val_loss: 12.1029 - val_acc: 0.0000e+00\n",
      "Epoch 156/300\n",
      "370/370 [==============================] - 0s 573us/step - loss: 1.7432 - acc: 0.2595 - val_loss: 12.1024 - val_acc: 0.0000e+00\n",
      "Epoch 157/300\n",
      "370/370 [==============================] - 0s 578us/step - loss: 1.7466 - acc: 0.2459 - val_loss: 12.1031 - val_acc: 0.0000e+00\n",
      "Epoch 158/300\n",
      "370/370 [==============================] - 0s 581us/step - loss: 1.7473 - acc: 0.2757 - val_loss: 12.1029 - val_acc: 0.0000e+00\n",
      "Epoch 159/300\n",
      "370/370 [==============================] - 0s 570us/step - loss: 1.7527 - acc: 0.2297 - val_loss: 12.1027 - val_acc: 0.0000e+00\n",
      "Epoch 160/300\n",
      "370/370 [==============================] - 0s 570us/step - loss: 1.7449 - acc: 0.2432 - val_loss: 12.1033 - val_acc: 0.0000e+00\n",
      "Epoch 161/300\n",
      "370/370 [==============================] - 0s 573us/step - loss: 1.7475 - acc: 0.2541 - val_loss: 12.1032 - val_acc: 0.0000e+00\n",
      "Epoch 162/300\n",
      "370/370 [==============================] - 0s 572us/step - loss: 1.7496 - acc: 0.2568 - val_loss: 12.1029 - val_acc: 0.0000e+00\n",
      "Epoch 163/300\n",
      "370/370 [==============================] - 0s 581us/step - loss: 1.7416 - acc: 0.2486 - val_loss: 12.1029 - val_acc: 0.0000e+00\n",
      "Epoch 164/300\n",
      "370/370 [==============================] - 0s 577us/step - loss: 1.7463 - acc: 0.2514 - val_loss: 12.1034 - val_acc: 0.0000e+00\n",
      "Epoch 165/300\n",
      "370/370 [==============================] - 0s 576us/step - loss: 1.7497 - acc: 0.2135 - val_loss: 12.1038 - val_acc: 0.0000e+00\n",
      "Epoch 166/300\n",
      "370/370 [==============================] - 0s 568us/step - loss: 1.7503 - acc: 0.2324 - val_loss: 12.1037 - val_acc: 0.0000e+00\n",
      "Epoch 167/300\n",
      "370/370 [==============================] - 0s 577us/step - loss: 1.7421 - acc: 0.2811 - val_loss: 12.1031 - val_acc: 0.0000e+00\n",
      "Epoch 168/300\n",
      "370/370 [==============================] - 0s 573us/step - loss: 1.7472 - acc: 0.2514 - val_loss: 12.1026 - val_acc: 0.0000e+00\n",
      "Epoch 169/300\n",
      "370/370 [==============================] - 0s 577us/step - loss: 1.7480 - acc: 0.2432 - val_loss: 12.1031 - val_acc: 0.0000e+00\n",
      "Epoch 170/300\n",
      "370/370 [==============================] - 0s 584us/step - loss: 1.7449 - acc: 0.2324 - val_loss: 12.1021 - val_acc: 0.0000e+00\n",
      "Epoch 171/300\n",
      "370/370 [==============================] - 0s 578us/step - loss: 1.7419 - acc: 0.2432 - val_loss: 12.1025 - val_acc: 0.0000e+00\n",
      "Epoch 172/300\n",
      "370/370 [==============================] - 0s 586us/step - loss: 1.7462 - acc: 0.2622 - val_loss: 12.1023 - val_acc: 0.0000e+00\n",
      "Epoch 173/300\n",
      "370/370 [==============================] - 0s 581us/step - loss: 1.7436 - acc: 0.2432 - val_loss: 12.1021 - val_acc: 0.0000e+00\n",
      "Epoch 174/300\n",
      "370/370 [==============================] - 0s 589us/step - loss: 1.7416 - acc: 0.2676 - val_loss: 12.1023 - val_acc: 0.0000e+00\n",
      "Epoch 175/300\n",
      "370/370 [==============================] - 0s 584us/step - loss: 1.7422 - acc: 0.2486 - val_loss: 12.1001 - val_acc: 0.0000e+00\n",
      "Epoch 176/300\n",
      "370/370 [==============================] - 0s 579us/step - loss: 1.7434 - acc: 0.2757 - val_loss: 12.0999 - val_acc: 0.0000e+00\n",
      "Epoch 177/300\n",
      "370/370 [==============================] - 0s 577us/step - loss: 1.7381 - acc: 0.2649 - val_loss: 12.1003 - val_acc: 0.0000e+00\n",
      "Epoch 178/300\n",
      "370/370 [==============================] - 0s 586us/step - loss: 1.7433 - acc: 0.2649 - val_loss: 12.1003 - val_acc: 0.0000e+00\n",
      "Epoch 179/300\n",
      "370/370 [==============================] - 0s 578us/step - loss: 1.7437 - acc: 0.2595 - val_loss: 12.1005 - val_acc: 0.0000e+00\n",
      "Epoch 180/300\n",
      "370/370 [==============================] - 0s 576us/step - loss: 1.7458 - acc: 0.2486 - val_loss: 12.0996 - val_acc: 0.0000e+00\n",
      "Epoch 181/300\n",
      "370/370 [==============================] - 0s 571us/step - loss: 1.7441 - acc: 0.2270 - val_loss: 12.0996 - val_acc: 0.0000e+00\n",
      "Epoch 182/300\n",
      "370/370 [==============================] - 0s 576us/step - loss: 1.7468 - acc: 0.2432 - val_loss: 12.1001 - val_acc: 0.0000e+00\n",
      "Epoch 183/300\n",
      "370/370 [==============================] - 0s 576us/step - loss: 1.7356 - acc: 0.2730 - val_loss: 12.1002 - val_acc: 0.0000e+00\n",
      "Epoch 184/300\n",
      "370/370 [==============================] - 0s 574us/step - loss: 1.7382 - acc: 0.2351 - val_loss: 12.1013 - val_acc: 0.0000e+00\n",
      "Epoch 185/300\n",
      "370/370 [==============================] - 0s 577us/step - loss: 1.7425 - acc: 0.2541 - val_loss: 12.1011 - val_acc: 0.0000e+00\n",
      "Epoch 186/300\n",
      "370/370 [==============================] - 0s 578us/step - loss: 1.7373 - acc: 0.2892 - val_loss: 12.1019 - val_acc: 0.0000e+00\n",
      "Epoch 187/300\n",
      "370/370 [==============================] - 0s 565us/step - loss: 1.7405 - acc: 0.2703 - val_loss: 12.1022 - val_acc: 0.0000e+00\n",
      "Epoch 188/300\n",
      "370/370 [==============================] - 0s 573us/step - loss: 1.7405 - acc: 0.2541 - val_loss: 12.1032 - val_acc: 0.0000e+00\n",
      "Epoch 189/300\n",
      "370/370 [==============================] - 0s 575us/step - loss: 1.7357 - acc: 0.2514 - val_loss: 12.1033 - val_acc: 0.0000e+00\n",
      "Epoch 190/300\n",
      "370/370 [==============================] - 0s 573us/step - loss: 1.7392 - acc: 0.2757 - val_loss: 12.1033 - val_acc: 0.0000e+00\n",
      "Epoch 191/300\n",
      "370/370 [==============================] - 0s 581us/step - loss: 1.7335 - acc: 0.2865 - val_loss: 12.1034 - val_acc: 0.0000e+00\n",
      "Epoch 192/300\n",
      "370/370 [==============================] - 0s 581us/step - loss: 1.7389 - acc: 0.2811 - val_loss: 12.1031 - val_acc: 0.0000e+00\n",
      "Epoch 193/300\n",
      "370/370 [==============================] - 0s 584us/step - loss: 1.7401 - acc: 0.2649 - val_loss: 12.1024 - val_acc: 0.0000e+00\n",
      "Epoch 194/300\n",
      "370/370 [==============================] - 0s 581us/step - loss: 1.7410 - acc: 0.2649 - val_loss: 12.1017 - val_acc: 0.0000e+00\n",
      "Epoch 195/300\n",
      "370/370 [==============================] - 0s 576us/step - loss: 1.7346 - acc: 0.3054 - val_loss: 12.1021 - val_acc: 0.0000e+00\n",
      "Epoch 196/300\n",
      "370/370 [==============================] - 0s 568us/step - loss: 1.7375 - acc: 0.2595 - val_loss: 12.1022 - val_acc: 0.0000e+00\n",
      "Epoch 197/300\n",
      "370/370 [==============================] - 0s 589us/step - loss: 1.7379 - acc: 0.2703 - val_loss: 12.1028 - val_acc: 0.0000e+00\n",
      "Epoch 198/300\n",
      "370/370 [==============================] - 0s 576us/step - loss: 1.7414 - acc: 0.2486 - val_loss: 12.1024 - val_acc: 0.0000e+00\n",
      "Epoch 199/300\n",
      "370/370 [==============================] - 0s 576us/step - loss: 1.7374 - acc: 0.2703 - val_loss: 12.1019 - val_acc: 0.0000e+00\n",
      "Epoch 200/300\n",
      "370/370 [==============================] - 0s 570us/step - loss: 1.7412 - acc: 0.2595 - val_loss: 12.1020 - val_acc: 0.0000e+00\n",
      "Epoch 201/300\n",
      "370/370 [==============================] - 0s 570us/step - loss: 1.7361 - acc: 0.2757 - val_loss: 12.1002 - val_acc: 0.0000e+00\n",
      "Epoch 202/300\n",
      "370/370 [==============================] - 0s 573us/step - loss: 1.7353 - acc: 0.2892 - val_loss: 12.1002 - val_acc: 0.0000e+00\n",
      "Epoch 203/300\n",
      "370/370 [==============================] - 0s 579us/step - loss: 1.7376 - acc: 0.2757 - val_loss: 12.0994 - val_acc: 0.0000e+00\n",
      "Epoch 204/300\n",
      "370/370 [==============================] - 0s 584us/step - loss: 1.7349 - acc: 0.2865 - val_loss: 12.1004 - val_acc: 0.0000e+00\n",
      "Epoch 205/300\n",
      "370/370 [==============================] - 0s 573us/step - loss: 1.7371 - acc: 0.2486 - val_loss: 12.1009 - val_acc: 0.0000e+00\n",
      "Epoch 206/300\n",
      "370/370 [==============================] - 0s 573us/step - loss: 1.7373 - acc: 0.2892 - val_loss: 12.1011 - val_acc: 0.0000e+00\n",
      "Epoch 207/300\n",
      "370/370 [==============================] - 0s 565us/step - loss: 1.7328 - acc: 0.2811 - val_loss: 12.1022 - val_acc: 0.0000e+00\n",
      "Epoch 208/300\n",
      "370/370 [==============================] - 0s 578us/step - loss: 1.7373 - acc: 0.2730 - val_loss: 12.1017 - val_acc: 0.0000e+00\n",
      "Epoch 209/300\n",
      "370/370 [==============================] - 0s 592us/step - loss: 1.7340 - acc: 0.2757 - val_loss: 12.1007 - val_acc: 0.0000e+00\n",
      "Epoch 210/300\n",
      "370/370 [==============================] - 0s 581us/step - loss: 1.7261 - acc: 0.3162 - val_loss: 12.1013 - val_acc: 0.0000e+00\n",
      "Epoch 211/300\n",
      "370/370 [==============================] - 0s 565us/step - loss: 1.7310 - acc: 0.2919 - val_loss: 12.1007 - val_acc: 0.0000e+00\n",
      "Epoch 212/300\n",
      "370/370 [==============================] - 0s 573us/step - loss: 1.7328 - acc: 0.2892 - val_loss: 12.0998 - val_acc: 0.0000e+00\n",
      "Epoch 213/300\n",
      "370/370 [==============================] - 0s 578us/step - loss: 1.7314 - acc: 0.2838 - val_loss: 12.1000 - val_acc: 0.0000e+00\n",
      "Epoch 214/300\n",
      "370/370 [==============================] - 0s 570us/step - loss: 1.7277 - acc: 0.3027 - val_loss: 12.1009 - val_acc: 0.0000e+00\n",
      "Epoch 215/300\n",
      "370/370 [==============================] - 0s 570us/step - loss: 1.7275 - acc: 0.2919 - val_loss: 12.1026 - val_acc: 0.0000e+00\n",
      "Epoch 216/300\n",
      "370/370 [==============================] - 0s 576us/step - loss: 1.7294 - acc: 0.3081 - val_loss: 12.1024 - val_acc: 0.0000e+00\n",
      "Epoch 217/300\n",
      "370/370 [==============================] - 0s 578us/step - loss: 1.7325 - acc: 0.2784 - val_loss: 12.1023 - val_acc: 0.0000e+00\n",
      "Epoch 218/300\n",
      "370/370 [==============================] - 0s 568us/step - loss: 1.7307 - acc: 0.2784 - val_loss: 12.1002 - val_acc: 0.0000e+00\n",
      "Epoch 219/300\n",
      "370/370 [==============================] - 0s 576us/step - loss: 1.7326 - acc: 0.2892 - val_loss: 12.0988 - val_acc: 0.0000e+00\n",
      "Epoch 220/300\n",
      "370/370 [==============================] - 0s 573us/step - loss: 1.7307 - acc: 0.2541 - val_loss: 12.0993 - val_acc: 0.0000e+00\n",
      "Epoch 221/300\n",
      "370/370 [==============================] - 0s 579us/step - loss: 1.7321 - acc: 0.2784 - val_loss: 12.0995 - val_acc: 0.0000e+00\n",
      "Epoch 222/300\n",
      "370/370 [==============================] - 0s 578us/step - loss: 1.7350 - acc: 0.2892 - val_loss: 12.0993 - val_acc: 0.0000e+00\n",
      "Epoch 223/300\n",
      "370/370 [==============================] - 0s 578us/step - loss: 1.7296 - acc: 0.2811 - val_loss: 12.0991 - val_acc: 0.0000e+00\n",
      "Epoch 224/300\n",
      "370/370 [==============================] - 0s 581us/step - loss: 1.7320 - acc: 0.2676 - val_loss: 12.1004 - val_acc: 0.0000e+00\n",
      "Epoch 225/300\n",
      "370/370 [==============================] - 0s 581us/step - loss: 1.7243 - acc: 0.3216 - val_loss: 12.1000 - val_acc: 0.0000e+00\n",
      "Epoch 226/300\n",
      "370/370 [==============================] - 0s 584us/step - loss: 1.7332 - acc: 0.2703 - val_loss: 12.0985 - val_acc: 0.0000e+00\n",
      "Epoch 227/300\n",
      "370/370 [==============================] - 0s 578us/step - loss: 1.7260 - acc: 0.2865 - val_loss: 12.0987 - val_acc: 0.0000e+00\n",
      "Epoch 228/300\n",
      "370/370 [==============================] - 0s 577us/step - loss: 1.7312 - acc: 0.2946 - val_loss: 12.0979 - val_acc: 0.0000e+00\n",
      "Epoch 229/300\n",
      "370/370 [==============================] - 0s 573us/step - loss: 1.7222 - acc: 0.3081 - val_loss: 12.0982 - val_acc: 0.0000e+00\n",
      "Epoch 230/300\n",
      "370/370 [==============================] - 0s 578us/step - loss: 1.7230 - acc: 0.2946 - val_loss: 12.0983 - val_acc: 0.0000e+00\n",
      "Epoch 231/300\n",
      "370/370 [==============================] - 0s 578us/step - loss: 1.7281 - acc: 0.2784 - val_loss: 12.0972 - val_acc: 0.0000e+00\n",
      "Epoch 232/300\n",
      "370/370 [==============================] - 0s 578us/step - loss: 1.7218 - acc: 0.2676 - val_loss: 12.0975 - val_acc: 0.0000e+00\n",
      "Epoch 233/300\n",
      "370/370 [==============================] - 0s 573us/step - loss: 1.7203 - acc: 0.2811 - val_loss: 12.0978 - val_acc: 0.0000e+00\n",
      "Epoch 234/300\n",
      "370/370 [==============================] - 0s 570us/step - loss: 1.7213 - acc: 0.3054 - val_loss: 12.0980 - val_acc: 0.0000e+00\n",
      "Epoch 235/300\n",
      "370/370 [==============================] - 0s 584us/step - loss: 1.7225 - acc: 0.3162 - val_loss: 12.0990 - val_acc: 0.0000e+00\n",
      "Epoch 236/300\n",
      "370/370 [==============================] - 0s 586us/step - loss: 1.7257 - acc: 0.2865 - val_loss: 12.0985 - val_acc: 0.0000e+00\n",
      "Epoch 237/300\n",
      "370/370 [==============================] - 0s 576us/step - loss: 1.7217 - acc: 0.2892 - val_loss: 12.0989 - val_acc: 0.0000e+00\n",
      "Epoch 238/300\n",
      "370/370 [==============================] - 0s 576us/step - loss: 1.7236 - acc: 0.2973 - val_loss: 12.0990 - val_acc: 0.0000e+00\n",
      "Epoch 239/300\n",
      "370/370 [==============================] - 0s 584us/step - loss: 1.7142 - acc: 0.2973 - val_loss: 12.1007 - val_acc: 0.0000e+00\n",
      "Epoch 240/300\n",
      "370/370 [==============================] - 0s 578us/step - loss: 1.7121 - acc: 0.3514 - val_loss: 12.0993 - val_acc: 0.0000e+00\n",
      "Epoch 241/300\n",
      "370/370 [==============================] - 0s 578us/step - loss: 1.7193 - acc: 0.2973 - val_loss: 12.0987 - val_acc: 0.0000e+00\n",
      "Epoch 242/300\n",
      "370/370 [==============================] - 0s 592us/step - loss: 1.7194 - acc: 0.3297 - val_loss: 12.0986 - val_acc: 0.0000e+00\n",
      "Epoch 243/300\n",
      "370/370 [==============================] - 0s 565us/step - loss: 1.7172 - acc: 0.3405 - val_loss: 12.0978 - val_acc: 0.0000e+00\n",
      "Epoch 244/300\n",
      "370/370 [==============================] - 0s 568us/step - loss: 1.7166 - acc: 0.3135 - val_loss: 12.0976 - val_acc: 0.0000e+00\n",
      "Epoch 245/300\n",
      "370/370 [==============================] - 0s 578us/step - loss: 1.7127 - acc: 0.3189 - val_loss: 12.0972 - val_acc: 0.0000e+00\n",
      "Epoch 246/300\n",
      "370/370 [==============================] - 0s 569us/step - loss: 1.7178 - acc: 0.2838 - val_loss: 12.0980 - val_acc: 0.0000e+00\n",
      "Epoch 247/300\n",
      "370/370 [==============================] - 0s 578us/step - loss: 1.7137 - acc: 0.2865 - val_loss: 12.0994 - val_acc: 0.0000e+00\n",
      "Epoch 248/300\n",
      "370/370 [==============================] - 0s 589us/step - loss: 1.7080 - acc: 0.3351 - val_loss: 12.1000 - val_acc: 0.0000e+00\n",
      "Epoch 249/300\n",
      "370/370 [==============================] - 0s 581us/step - loss: 1.7098 - acc: 0.3162 - val_loss: 12.1020 - val_acc: 0.0000e+00\n",
      "Epoch 250/300\n",
      "370/370 [==============================] - 0s 576us/step - loss: 1.7060 - acc: 0.3378 - val_loss: 12.1043 - val_acc: 0.0000e+00\n",
      "Epoch 251/300\n",
      "370/370 [==============================] - 0s 587us/step - loss: 1.7098 - acc: 0.2946 - val_loss: 12.1052 - val_acc: 0.0000e+00\n",
      "Epoch 252/300\n",
      "370/370 [==============================] - 0s 581us/step - loss: 1.7271 - acc: 0.2514 - val_loss: 12.1043 - val_acc: 0.0000e+00\n",
      "Epoch 253/300\n",
      "370/370 [==============================] - 0s 581us/step - loss: 1.7189 - acc: 0.2703 - val_loss: 12.1017 - val_acc: 0.0000e+00\n",
      "Epoch 254/300\n",
      "370/370 [==============================] - 0s 576us/step - loss: 1.7086 - acc: 0.3189 - val_loss: 12.0992 - val_acc: 0.0000e+00\n",
      "Epoch 255/300\n",
      "370/370 [==============================] - 0s 583us/step - loss: 1.7180 - acc: 0.2703 - val_loss: 12.0956 - val_acc: 0.0000e+00\n",
      "Epoch 256/300\n",
      "370/370 [==============================] - 0s 597us/step - loss: 1.7031 - acc: 0.3351 - val_loss: 12.0956 - val_acc: 0.0000e+00\n",
      "Epoch 257/300\n",
      "370/370 [==============================] - 0s 565us/step - loss: 1.7013 - acc: 0.3243 - val_loss: 12.0992 - val_acc: 0.0000e+00\n",
      "Epoch 258/300\n",
      "370/370 [==============================] - 0s 587us/step - loss: 1.7063 - acc: 0.3622 - val_loss: 12.0964 - val_acc: 0.0000e+00\n",
      "Epoch 259/300\n",
      "370/370 [==============================] - 0s 581us/step - loss: 1.7077 - acc: 0.3216 - val_loss: 12.0948 - val_acc: 0.0000e+00\n",
      "Epoch 260/300\n",
      "370/370 [==============================] - 0s 576us/step - loss: 1.7026 - acc: 0.3297 - val_loss: 12.0945 - val_acc: 0.0000e+00\n",
      "Epoch 261/300\n",
      "370/370 [==============================] - 0s 587us/step - loss: 1.7050 - acc: 0.3189 - val_loss: 12.0954 - val_acc: 0.0000e+00\n",
      "Epoch 262/300\n",
      "370/370 [==============================] - 0s 584us/step - loss: 1.6972 - acc: 0.3000 - val_loss: 12.0986 - val_acc: 0.0000e+00\n",
      "Epoch 263/300\n",
      "370/370 [==============================] - 0s 573us/step - loss: 1.6967 - acc: 0.3405 - val_loss: 12.0958 - val_acc: 0.0000e+00\n",
      "Epoch 264/300\n",
      "370/370 [==============================] - 0s 584us/step - loss: 1.6979 - acc: 0.3459 - val_loss: 12.0960 - val_acc: 0.0000e+00\n",
      "Epoch 265/300\n",
      "370/370 [==============================] - 0s 573us/step - loss: 1.6959 - acc: 0.3676 - val_loss: 12.0930 - val_acc: 0.0000e+00\n",
      "Epoch 266/300\n",
      "370/370 [==============================] - 0s 584us/step - loss: 1.6949 - acc: 0.3162 - val_loss: 12.0938 - val_acc: 0.0000e+00\n",
      "Epoch 267/300\n",
      "370/370 [==============================] - 0s 585us/step - loss: 1.6909 - acc: 0.3514 - val_loss: 12.0945 - val_acc: 0.0000e+00\n",
      "Epoch 268/300\n",
      "370/370 [==============================] - 0s 587us/step - loss: 1.6953 - acc: 0.3216 - val_loss: 12.0950 - val_acc: 0.0000e+00\n",
      "Epoch 269/300\n",
      "370/370 [==============================] - 0s 576us/step - loss: 1.6963 - acc: 0.3081 - val_loss: 12.0969 - val_acc: 0.0000e+00\n",
      "Epoch 270/300\n",
      "370/370 [==============================] - 0s 582us/step - loss: 1.6927 - acc: 0.3595 - val_loss: 12.0930 - val_acc: 0.0000e+00\n",
      "Epoch 271/300\n",
      "370/370 [==============================] - 0s 581us/step - loss: 1.6849 - acc: 0.3324 - val_loss: 12.0952 - val_acc: 0.0000e+00\n",
      "Epoch 272/300\n",
      "370/370 [==============================] - 0s 586us/step - loss: 1.6886 - acc: 0.3081 - val_loss: 12.0955 - val_acc: 0.0000e+00\n",
      "Epoch 273/300\n",
      "370/370 [==============================] - 0s 581us/step - loss: 1.6879 - acc: 0.2730 - val_loss: 12.1001 - val_acc: 0.0000e+00\n",
      "Epoch 274/300\n",
      "370/370 [==============================] - 0s 586us/step - loss: 1.6819 - acc: 0.3595 - val_loss: 12.0974 - val_acc: 0.0000e+00\n",
      "Epoch 275/300\n",
      "370/370 [==============================] - 0s 576us/step - loss: 1.6765 - acc: 0.3703 - val_loss: 12.0985 - val_acc: 0.0000e+00\n",
      "Epoch 276/300\n",
      "370/370 [==============================] - 0s 578us/step - loss: 1.6887 - acc: 0.3108 - val_loss: 12.0951 - val_acc: 0.0000e+00\n",
      "Epoch 277/300\n",
      "370/370 [==============================] - 0s 578us/step - loss: 1.6798 - acc: 0.3541 - val_loss: 12.0953 - val_acc: 0.0000e+00\n",
      "Epoch 278/300\n",
      "370/370 [==============================] - 0s 570us/step - loss: 1.6763 - acc: 0.3432 - val_loss: 12.0948 - val_acc: 0.0000e+00\n",
      "Epoch 279/300\n",
      "370/370 [==============================] - 0s 595us/step - loss: 1.6763 - acc: 0.3459 - val_loss: 12.0932 - val_acc: 0.0000e+00\n",
      "Epoch 280/300\n",
      "370/370 [==============================] - 0s 568us/step - loss: 1.6783 - acc: 0.3216 - val_loss: 12.0917 - val_acc: 0.0000e+00\n",
      "Epoch 281/300\n",
      "370/370 [==============================] - 0s 570us/step - loss: 1.6640 - acc: 0.3649 - val_loss: 12.0914 - val_acc: 0.0000e+00\n",
      "Epoch 282/300\n",
      "370/370 [==============================] - 0s 568us/step - loss: 1.6727 - acc: 0.3324 - val_loss: 12.0947 - val_acc: 0.0000e+00\n",
      "Epoch 283/300\n",
      "370/370 [==============================] - 0s 576us/step - loss: 1.6608 - acc: 0.3622 - val_loss: 12.0944 - val_acc: 0.0000e+00\n",
      "Epoch 284/300\n",
      "370/370 [==============================] - 0s 592us/step - loss: 1.6635 - acc: 0.3243 - val_loss: 12.0929 - val_acc: 0.0000e+00\n",
      "Epoch 285/300\n",
      "370/370 [==============================] - 0s 576us/step - loss: 1.6584 - acc: 0.3865 - val_loss: 12.0908 - val_acc: 0.0000e+00\n",
      "Epoch 286/300\n",
      "370/370 [==============================] - 0s 567us/step - loss: 1.6551 - acc: 0.3649 - val_loss: 12.0919 - val_acc: 0.0000e+00\n",
      "Epoch 287/300\n",
      "370/370 [==============================] - 0s 581us/step - loss: 1.6469 - acc: 0.3459 - val_loss: 12.0887 - val_acc: 0.0000e+00\n",
      "Epoch 288/300\n",
      "370/370 [==============================] - 0s 577us/step - loss: 1.6423 - acc: 0.3649 - val_loss: 12.0899 - val_acc: 0.0000e+00\n",
      "Epoch 289/300\n",
      "370/370 [==============================] - 0s 576us/step - loss: 1.6451 - acc: 0.3703 - val_loss: 12.0875 - val_acc: 0.0000e+00\n",
      "Epoch 290/300\n",
      "370/370 [==============================] - 0s 577us/step - loss: 1.6454 - acc: 0.3243 - val_loss: 12.0845 - val_acc: 0.0000e+00\n",
      "Epoch 291/300\n",
      "370/370 [==============================] - 0s 575us/step - loss: 1.6278 - acc: 0.3730 - val_loss: 12.0770 - val_acc: 0.0000e+00\n",
      "Epoch 292/300\n",
      "370/370 [==============================] - 0s 580us/step - loss: 1.6421 - acc: 0.3324 - val_loss: 12.0619 - val_acc: 0.0000e+00\n",
      "Epoch 293/300\n",
      "370/370 [==============================] - 0s 579us/step - loss: 1.6192 - acc: 0.3649 - val_loss: 12.0603 - val_acc: 0.0000e+00\n",
      "Epoch 294/300\n",
      "370/370 [==============================] - 0s 584us/step - loss: 1.6218 - acc: 0.3486 - val_loss: 12.0521 - val_acc: 0.0000e+00\n",
      "Epoch 295/300\n",
      "370/370 [==============================] - 0s 581us/step - loss: 1.6023 - acc: 0.3973 - val_loss: 12.0382 - val_acc: 0.0000e+00\n",
      "Epoch 296/300\n",
      "370/370 [==============================] - 0s 581us/step - loss: 1.6086 - acc: 0.3838 - val_loss: 12.0233 - val_acc: 0.0000e+00\n",
      "Epoch 297/300\n",
      "370/370 [==============================] - 0s 582us/step - loss: 1.5849 - acc: 0.3865 - val_loss: 12.0081 - val_acc: 0.0000e+00\n",
      "Epoch 298/300\n",
      "370/370 [==============================] - 0s 581us/step - loss: 1.5776 - acc: 0.3811 - val_loss: 12.0148 - val_acc: 0.0000e+00\n",
      "Epoch 299/300\n",
      "370/370 [==============================] - 0s 581us/step - loss: 1.5575 - acc: 0.4378 - val_loss: 12.0000 - val_acc: 0.0000e+00\n",
      "Epoch 300/300\n",
      "370/370 [==============================] - 0s 574us/step - loss: 1.5561 - acc: 0.4270 - val_loss: 11.9757 - val_acc: 0.0000e+00\n"
     ]
    },
    {
     "data": {
      "text/plain": "<keras.callbacks.History at 0x1c7c3490608>"
     },
     "execution_count": 51,
     "metadata": {},
     "output_type": "execute_result"
    }
   ],
   "source": [
    "model.fit(x_rgb_train, y_rgb_train,\n",
    "          batch_size=64,\n",
    "          epochs=300,\n",
    "          validation_split=0.2)"
   ],
   "metadata": {
    "collapsed": false,
    "pycharm": {
     "name": "#%%\n"
    }
   }
  },
  {
   "cell_type": "code",
   "execution_count": 3,
   "outputs": [],
   "source": [
    "from keras.callbacks import EarlyStopping, ReduceLROnPlateau\n",
    "\n",
    "early_stop = EarlyStopping(monitor='val_loss', patience=8, verbose=1, min_delta=1e-4)\n",
    "reduce_lr = ReduceLROnPlateau(monitor='val_loss', factor=0.1, patience=4, verbose=1, min_delta=1e-4)\n",
    "callbacks_list = [early_stop, reduce_lr]"
   ],
   "metadata": {
    "collapsed": false,
    "pycharm": {
     "name": "#%%\n"
    }
   }
  },
  {
   "cell_type": "code",
   "execution_count": 4,
   "outputs": [
    {
     "name": "stdout",
     "output_type": "stream",
     "text": [
      "WARNING:tensorflow:From C:\\Python37\\lib\\site-packages\\tensorflow_core\\python\\ops\\math_grad.py:1424: where (from tensorflow.python.ops.array_ops) is deprecated and will be removed in a future version.\n",
      "Instructions for updating:\n",
      "Use tf.where in 2.0, which has the same broadcast rule as np.where\n",
      "WARNING:tensorflow:From C:\\Python37\\lib\\site-packages\\keras\\backend\\tensorflow_backend.py:977: The name tf.assign_add is deprecated. Please use tf.compat.v1.assign_add instead.\n",
      "\n",
      "WARNING:tensorflow:From C:\\Python37\\lib\\site-packages\\keras\\backend\\tensorflow_backend.py:964: The name tf.assign is deprecated. Please use tf.compat.v1.assign instead.\n",
      "\n",
      "WARNING:tensorflow:From C:\\Python37\\lib\\site-packages\\keras\\backend\\tensorflow_backend.py:2503: The name tf.Session is deprecated. Please use tf.compat.v1.Session instead.\n",
      "\n",
      "Epoch 1/100\n",
      "WARNING:tensorflow:From C:\\Python37\\lib\\site-packages\\keras\\backend\\tensorflow_backend.py:168: The name tf.get_default_session is deprecated. Please use tf.compat.v1.get_default_session instead.\n",
      "\n",
      "WARNING:tensorflow:From C:\\Python37\\lib\\site-packages\\keras\\backend\\tensorflow_backend.py:175: The name tf.ConfigProto is deprecated. Please use tf.compat.v1.ConfigProto instead.\n",
      "\n",
      "WARNING:tensorflow:From C:\\Python37\\lib\\site-packages\\keras\\backend\\tensorflow_backend.py:184: The name tf.global_variables is deprecated. Please use tf.compat.v1.global_variables instead.\n",
      "\n",
      "WARNING:tensorflow:From C:\\Python37\\lib\\site-packages\\keras\\backend\\tensorflow_backend.py:193: The name tf.is_variable_initialized is deprecated. Please use tf.compat.v1.is_variable_initialized instead.\n",
      "\n",
      "WARNING:tensorflow:From C:\\Python37\\lib\\site-packages\\keras\\backend\\tensorflow_backend.py:200: The name tf.variables_initializer is deprecated. Please use tf.compat.v1.variables_initializer instead.\n",
      "\n",
      "28/28 [==============================] - 64s 2s/step - loss: 11.2877 - acc: 0.1205 - val_loss: 5.6058 - val_acc: 0.1465\n",
      "Epoch 2/100\n",
      "28/28 [==============================] - 46s 2s/step - loss: 4.5747 - acc: 0.1339 - val_loss: 3.8999 - val_acc: 0.1465\n",
      "Epoch 3/100\n",
      "28/28 [==============================] - 46s 2s/step - loss: 3.0330 - acc: 0.1484 - val_loss: 1.9544 - val_acc: 0.1465\n",
      "Epoch 4/100\n",
      "28/28 [==============================] - 46s 2s/step - loss: 2.0031 - acc: 0.1183 - val_loss: 1.9517 - val_acc: 0.1465\n",
      "Epoch 5/100\n",
      "28/28 [==============================] - 46s 2s/step - loss: 2.0016 - acc: 0.0786 - val_loss: 1.9461 - val_acc: 0.1465\n",
      "Epoch 6/100\n",
      "28/28 [==============================] - 46s 2s/step - loss: 1.9956 - acc: 0.0626 - val_loss: 1.9504 - val_acc: 0.1270\n",
      "Epoch 7/100\n",
      "28/28 [==============================] - 46s 2s/step - loss: 1.9850 - acc: 0.0751 - val_loss: 1.9529 - val_acc: 0.1465\n",
      "Epoch 8/100\n",
      "28/28 [==============================] - 46s 2s/step - loss: 1.9862 - acc: 0.0682 - val_loss: 1.9494 - val_acc: 0.1465\n",
      "Epoch 9/100\n",
      "28/28 [==============================] - 46s 2s/step - loss: 1.9868 - acc: 0.0859 - val_loss: 1.9520 - val_acc: 0.1270\n",
      "\n",
      "Epoch 00009: ReduceLROnPlateau reducing learning rate to 0.0009999999776482583.\n",
      "Epoch 10/100\n",
      "28/28 [==============================] - 49s 2s/step - loss: 1.9783 - acc: 0.1230 - val_loss: 1.9508 - val_acc: 0.1270\n",
      "Epoch 11/100\n",
      "28/28 [==============================] - 47s 2s/step - loss: 1.9478 - acc: 0.1250 - val_loss: 1.9505 - val_acc: 0.1270\n",
      "Epoch 12/100\n",
      "28/28 [==============================] - 45s 2s/step - loss: 1.9355 - acc: 0.1473 - val_loss: 1.9512 - val_acc: 0.1270\n",
      "Epoch 13/100\n",
      "28/28 [==============================] - 46s 2s/step - loss: 1.9558 - acc: 0.1609 - val_loss: 1.9508 - val_acc: 0.1270\n",
      "\n",
      "Epoch 00013: ReduceLROnPlateau reducing learning rate to 9.999999310821295e-05.\n",
      "Epoch 00013: early stopping\n"
     ]
    },
    {
     "data": {
      "text/plain": "<keras.callbacks.History at 0x2d753915a48>"
     },
     "execution_count": 4,
     "metadata": {},
     "output_type": "execute_result"
    }
   ],
   "source": [
    "model.fit_generator(\n",
    "    train_gen,\n",
    "    epochs=100,\n",
    "    validation_data=validation_gen,\n",
    "    steps_per_epoch=train_gen.samples//batch_size,\n",
    "    callbacks=callbacks_list,\n",
    "    validation_steps=250\n",
    ")"
   ],
   "metadata": {
    "collapsed": false,
    "pycharm": {
     "name": "#%%\n"
    }
   }
  },
  {
   "cell_type": "markdown",
   "source": [
    "### Loading features dataset from .csv files"
   ],
   "metadata": {
    "collapsed": false,
    "pycharm": {
     "name": "#%% md\n"
    }
   }
  },
  {
   "cell_type": "code",
   "execution_count": 1,
   "outputs": [
    {
     "name": "stderr",
     "output_type": "stream",
     "text": [
      "Using TensorFlow backend.\n"
     ]
    }
   ],
   "source": [
    "from processing import load_csv_data, slice_labels\n",
    "\n",
    "train_path = 'Datasets/espe/lbp_histograms/train'\n",
    "train_data = load_csv_data(train_path)\n",
    "\n",
    "test_path = 'Datasets/espe/lbp_histograms/test'\n",
    "test_data = load_csv_data(test_path)\n",
    "\n",
    "validation_path = 'Datasets/espe/lbp_histograms/validation'\n",
    "validation_data = load_csv_data(validation_path)\n",
    "\n",
    "# train_data.shape, test_data.shape, validation_data.shape\n",
    "x_train, y_train = slice_labels(train_data)\n",
    "x_test, y_test = slice_labels(test_data)\n",
    "x_val, y_val = slice_labels(validation_data)"
   ],
   "metadata": {
    "collapsed": false,
    "pycharm": {
     "name": "#%%\n"
    }
   }
  },
  {
   "cell_type": "markdown",
   "source": [],
   "metadata": {
    "collapsed": false,
    "pycharm": {
     "name": "#%% md\n"
    }
   }
  },
  {
   "cell_type": "code",
   "execution_count": 4,
   "outputs": [],
   "source": [
    "from processing import load_image_dataset\n",
    "\n",
    "x_rgb_train, y_rgb_train = load_image_dataset('Datasets/espe/base/train', (256, 256), True)\n",
    "x_rgb_test, y_rgb_test = load_image_dataset('Datasets/espe/base/test', (256, 256), True)\n",
    "x_rgb_validation, y_rgb_validation = load_image_dataset('Datasets/espe/base/validation', (256, 256), True)"
   ],
   "metadata": {
    "collapsed": false,
    "pycharm": {
     "name": "#%%\n"
    }
   }
  },
  {
   "cell_type": "code",
   "execution_count": 4,
   "outputs": [
    {
     "name": "stdout",
     "output_type": "stream",
     "text": [
      "WARNING:tensorflow:From C:\\Python37\\lib\\site-packages\\keras\\optimizers.py:757: The name tf.train.Optimizer is deprecated. Please use tf.compat.v1.train.Optimizer instead.\n",
      "\n",
      "WARNING:tensorflow:From C:\\Python37\\lib\\site-packages\\keras\\backend\\tensorflow_backend.py:3014: The name tf.log is deprecated. Please use tf.math.log instead.\n",
      "\n"
     ]
    }
   ],
   "source": [
    "from keras.optimizers import RMSprop\n",
    "model.compile(optimizer=RMSprop(1e-3),\n",
    "              loss='categorical_crossentropy',\n",
    "              metrics=['acc'])"
   ],
   "metadata": {
    "collapsed": false,
    "pycharm": {
     "name": "#%%\n"
    }
   }
  },
  {
   "cell_type": "markdown",
   "source": [
    "### Loading histogram data"
   ],
   "metadata": {
    "collapsed": false,
    "pycharm": {
     "name": "#%% md\n"
    }
   }
  },
  {
   "cell_type": "code",
   "execution_count": 58,
   "outputs": [],
   "source": [
    "def load_csv_data(path):\n",
    "    df = pd.DataFrame()\n",
    "    for person in os.listdir(path):\n",
    "        person_path = os.path.join(path, person)\n",
    "        if person.endswith('.csv'):\n",
    "            continue\n",
    "        for instance in os.listdir(person_path):\n",
    "            if instance.endswith('.csv') is False:\n",
    "                continue\n",
    "            instance_path = os.path.join(person_path, instance)\n",
    "            extracted = pd.read_csv(instance_path, header=None)\n",
    "            df = df.append(extracted)\n",
    "    return df\n",
    "\n",
    "def slice_labels(df):\n",
    "    x = df.iloc[:, :17]\n",
    "    y = df.iloc[:, 18]\n",
    "    from keras.utils import to_categorical\n",
    "    y = to_categorical(y)\n",
    "    return x, y"
   ],
   "metadata": {
    "collapsed": false,
    "pycharm": {
     "name": "#%%\n"
    }
   }
  },
  {
   "cell_type": "code",
   "execution_count": 22,
   "outputs": [],
   "source": [
    "from processing import load_csv_data, slice_labels\n",
    "\n",
    "train_path = 'Datasets/espe/lbp_histograms/train'\n",
    "train_data = load_csv_data(train_path)\n",
    "\n",
    "test_path = 'Datasets/espe/lbp_histograms/test'\n",
    "test_data = load_csv_data(test_path)\n",
    "\n",
    "validation_path = 'Datasets/espe/lbp_histograms/validation'\n",
    "validation_data = load_csv_data(validation_path)\n",
    "\n",
    "# train_data.shape, test_data.shape, validation_data.shape\n",
    "x_train, y_train = slice_labels(train_data)\n",
    "x_test, y_test = slice_labels(test_data)\n",
    "x_val, y_val = slice_labels(validation_data)"
   ],
   "metadata": {
    "collapsed": false,
    "pycharm": {
     "name": "#%%\n"
    }
   }
  },
  {
   "cell_type": "code",
   "execution_count": 23,
   "outputs": [
    {
     "data": {
      "text/plain": "array([[0., 1., 0., ..., 0., 0., 0.],\n       [0., 1., 0., ..., 0., 0., 0.],\n       [0., 1., 0., ..., 0., 0., 0.],\n       ...,\n       [0., 0., 0., ..., 0., 0., 1.],\n       [0., 0., 0., ..., 0., 0., 1.],\n       [0., 0., 0., ..., 0., 0., 1.]], dtype=float32)"
     },
     "execution_count": 23,
     "metadata": {},
     "output_type": "execute_result"
    }
   ],
   "source": [],
   "metadata": {
    "collapsed": false,
    "pycharm": {
     "name": "#%%\n"
    }
   }
  },
  {
   "cell_type": "code",
   "execution_count": 70,
   "outputs": [
    {
     "name": "stdout",
     "output_type": "stream",
     "text": [
      "Found 101 images belonging to 7 classes.\n"
     ]
    }
   ],
   "source": [
    "from keras.preprocessing.image import ImageDataGenerator\n",
    "\n",
    "generator = ImageDataGenerator()\n",
    "train_generator = generator.flow_from_directory(directory='Datasets/espe/base/test', target_size=(32, 32), class_mode='categorical', batch_size=101)"
   ],
   "metadata": {
    "collapsed": false,
    "pycharm": {
     "name": "#%%\n"
    }
   }
  },
  {
   "cell_type": "code",
   "execution_count": 80,
   "outputs": [
    {
     "data": {
      "text/plain": "(array([[[[200., 213., 222.],\n          [197., 210., 218.],\n          [202., 215., 223.],\n          ...,\n          [189., 190., 184.],\n          [168., 169., 164.],\n          [108., 112.,  87.]],\n \n         [[223., 231., 242.],\n          [104., 116.,  96.],\n          [ 93., 105.,  67.],\n          ...,\n          [201., 203., 215.],\n          [117., 119., 108.],\n          [178., 180., 192.]],\n \n         [[102., 111.,  90.],\n          [120., 126., 112.],\n          [ 95., 101.,  65.],\n          ...,\n          [186., 198., 210.],\n          [182., 194., 206.],\n          [196., 208., 220.]],\n \n         ...,\n \n         [[219., 199., 149.],\n          [225., 203., 143.],\n          [218., 200., 138.],\n          ...,\n          [144., 133., 131.],\n          [151., 140., 138.],\n          [117., 106., 100.]],\n \n         [[219., 198., 141.],\n          [241., 220., 165.],\n          [223., 203., 142.],\n          ...,\n          [130., 119., 117.],\n          [140., 130., 121.],\n          [105.,  94.,  88.]],\n \n         [[228., 208., 145.],\n          [236., 216., 157.],\n          [223., 203., 140.],\n          ...,\n          [128., 117., 111.],\n          [123., 112., 106.],\n          [134., 123., 117.]]],\n \n \n        [[[171., 185., 198.],\n          [163., 177., 188.],\n          [168., 182., 195.],\n          ...,\n          [192., 207., 212.],\n          [195., 205., 217.],\n          [ 36.,  38.,  14.]],\n \n         [[165., 181., 196.],\n          [159., 174., 195.],\n          [156., 173., 189.],\n          ...,\n          [190., 201., 207.],\n          [132., 138., 124.],\n          [ 24.,  30.,   0.]],\n \n         [[189., 201., 215.],\n          [182., 191., 206.],\n          [189., 199., 208.],\n          ...,\n          [196., 201., 204.],\n          [ 78.,  86.,  39.],\n          [ 83.,  91.,  40.]],\n \n         ...,\n \n         [[217., 191., 142.],\n          [210., 184., 127.],\n          [226., 197., 137.],\n          ...,\n          [128., 112.,  79.],\n          [132., 112.,  79.],\n          [132., 109.,  68.]],\n \n         [[223., 195., 132.],\n          [227., 198., 140.],\n          [220., 193., 140.],\n          ...,\n          [ 72.,  47.,  16.],\n          [ 55.,  39.,   3.],\n          [ 38.,  28.,   0.]],\n \n         [[211., 188., 134.],\n          [211., 188., 134.],\n          [184., 160., 112.],\n          ...,\n          [207., 182., 128.],\n          [ 86.,  67.,  27.],\n          [ 89.,  73.,  39.]]],\n \n \n        [[[186., 178., 165.],\n          [187., 179., 166.],\n          [188., 180., 167.],\n          ...,\n          [200., 196., 184.],\n          [201., 197., 185.],\n          [203., 199., 187.]],\n \n         [[187., 179., 166.],\n          [189., 181., 168.],\n          [189., 181., 168.],\n          ...,\n          [202., 198., 187.],\n          [203., 199., 188.],\n          [207., 203., 192.]],\n \n         [[189., 181., 168.],\n          [189., 181., 168.],\n          [189., 181., 168.],\n          ...,\n          [205., 201., 190.],\n          [206., 202., 191.],\n          [209., 205., 194.]],\n \n         ...,\n \n         [[195., 190., 187.],\n          [203., 199., 190.],\n          [195., 191., 182.],\n          ...,\n          [211., 207., 208.],\n          [214., 209., 206.],\n          [216., 212., 211.]],\n \n         [[207., 202., 196.],\n          [203., 198., 194.],\n          [215., 210., 207.],\n          ...,\n          [208., 202., 204.],\n          [216., 210., 210.],\n          [220., 216., 215.]],\n \n         [[210., 207., 198.],\n          [212., 207., 204.],\n          [210., 205., 201.],\n          ...,\n          [212., 207., 211.],\n          [208., 203., 207.],\n          [220., 215., 212.]]],\n \n \n        ...,\n \n \n        [[[200., 213., 222.],\n          [197., 210., 218.],\n          [182., 195., 203.],\n          ...,\n          [169., 170., 164.],\n          [113., 113., 113.],\n          [125., 129., 104.]],\n \n         [[226., 234., 245.],\n          [111., 122., 106.],\n          [ 87.,  99.,  63.],\n          ...,\n          [195., 197., 209.],\n          [138., 140., 129.],\n          [196., 199., 206.]],\n \n         [[129., 138., 117.],\n          [122., 129., 113.],\n          [ 89.,  95.,  59.],\n          ...,\n          [187., 199., 211.],\n          [182., 194., 206.],\n          [196., 208., 220.]],\n \n         ...,\n \n         [[211., 191., 141.],\n          [226., 204., 146.],\n          [215., 197., 133.],\n          ...,\n          [133., 122., 120.],\n          [123., 112., 110.],\n          [114., 103.,  97.]],\n \n         [[222., 201., 144.],\n          [238., 217., 162.],\n          [227., 207., 146.],\n          ...,\n          [119., 108., 106.],\n          [137., 127., 118.],\n          [126., 115., 109.]],\n \n         [[226., 206., 145.],\n          [227., 207., 148.],\n          [233., 213., 150.],\n          ...,\n          [128., 117., 111.],\n          [125., 114., 108.],\n          [125., 114., 108.]]],\n \n \n        [[[165., 178., 194.],\n          [147., 165., 185.],\n          [153., 166., 182.],\n          ...,\n          [169., 183., 196.],\n          [182., 196., 205.],\n          [181., 194., 203.]],\n \n         [[168., 180., 194.],\n          [166., 180., 191.],\n          [158., 174., 187.],\n          ...,\n          [182., 192., 201.],\n          [182., 193., 199.],\n          [ 70.,  77.,  35.]],\n \n         [[165., 181., 194.],\n          [146., 165., 182.],\n          [149., 166., 186.],\n          ...,\n          [188., 197., 204.],\n          [181., 186., 182.],\n          [ 71.,  79.,  32.]],\n \n         ...,\n \n         [[224., 197., 142.],\n          [172., 143., 103.],\n          [237., 208., 150.],\n          ...,\n          [127., 115.,  75.],\n          [123., 107.,  73.],\n          [ 55.,  41.,   6.]],\n \n         [[110.,  88.,  51.],\n          [214., 185., 125.],\n          [221., 193., 128.],\n          ...,\n          [183., 161., 112.],\n          [129., 110.,  70.],\n          [128., 112.,  76.]],\n \n         [[123.,  99.,  53.],\n          [198., 174., 126.],\n          [218., 195., 145.],\n          ...,\n          [187., 164., 110.],\n          [ 93.,  69.,  33.],\n          [117.,  99.,  61.]]],\n \n \n        [[[151., 167., 182.],\n          [144., 160., 183.],\n          [142., 159., 179.],\n          ...,\n          [188., 197., 202.],\n          [ 85.,  86.,  52.],\n          [ 52.,  59.,  18.]],\n \n         [[167., 179., 193.],\n          [180., 193., 201.],\n          [183., 193., 202.],\n          ...,\n          [187., 198., 200.],\n          [ 55.,  62.,  20.],\n          [ 40.,  41.,   9.]],\n \n         [[209., 214., 218.],\n          [210., 215., 219.],\n          [210., 215., 218.],\n          ...,\n          [196., 200., 203.],\n          [ 51.,  56.,  16.],\n          [ 46.,  48.,   8.]],\n \n         ...,\n \n         [[191., 165., 114.],\n          [213., 186., 133.],\n          [235., 206., 148.],\n          ...,\n          [127., 104.,  70.],\n          [ 70.,  54.,  20.],\n          [ 71.,  55.,  29.]],\n \n         [[209., 183., 126.],\n          [176., 147., 107.],\n          [238., 204., 143.],\n          ...,\n          [122., 103.,  63.],\n          [118.,  96.,  55.],\n          [200., 177., 125.]],\n \n         [[203., 180., 130.],\n          [211., 186., 130.],\n          [212., 186., 127.],\n          ...,\n          [200., 174., 137.],\n          [124., 104.,  67.],\n          [120.,  98.,  61.]]]], dtype=float32),\n array([[1., 0., 0., 0., 0., 0., 0.],\n        [0., 0., 0., 0., 0., 0., 1.],\n        [0., 0., 0., 0., 0., 1., 0.],\n        [1., 0., 0., 0., 0., 0., 0.],\n        [0., 0., 0., 1., 0., 0., 0.],\n        [0., 0., 0., 0., 1., 0., 0.],\n        [0., 0., 0., 0., 1., 0., 0.],\n        [0., 0., 0., 0., 0., 1., 0.],\n        [0., 0., 0., 0., 0., 0., 1.],\n        [0., 0., 0., 0., 0., 1., 0.],\n        [0., 0., 0., 0., 0., 1., 0.],\n        [1., 0., 0., 0., 0., 0., 0.],\n        [0., 1., 0., 0., 0., 0., 0.],\n        [0., 0., 0., 0., 0., 0., 1.],\n        [1., 0., 0., 0., 0., 0., 0.],\n        [0., 0., 0., 0., 0., 1., 0.],\n        [0., 0., 0., 1., 0., 0., 0.],\n        [0., 0., 1., 0., 0., 0., 0.],\n        [0., 0., 0., 0., 0., 0., 1.],\n        [0., 1., 0., 0., 0., 0., 0.],\n        [0., 0., 1., 0., 0., 0., 0.],\n        [0., 1., 0., 0., 0., 0., 0.],\n        [1., 0., 0., 0., 0., 0., 0.],\n        [0., 0., 1., 0., 0., 0., 0.],\n        [0., 0., 1., 0., 0., 0., 0.],\n        [0., 0., 0., 0., 0., 1., 0.],\n        [0., 0., 0., 0., 0., 0., 1.],\n        [0., 1., 0., 0., 0., 0., 0.],\n        [0., 0., 0., 0., 0., 1., 0.],\n        [0., 0., 0., 0., 0., 1., 0.],\n        [0., 1., 0., 0., 0., 0., 0.],\n        [0., 0., 0., 0., 0., 0., 1.],\n        [1., 0., 0., 0., 0., 0., 0.],\n        [0., 1., 0., 0., 0., 0., 0.],\n        [1., 0., 0., 0., 0., 0., 0.],\n        [0., 1., 0., 0., 0., 0., 0.],\n        [0., 0., 0., 0., 0., 0., 1.],\n        [0., 0., 0., 0., 0., 0., 1.],\n        [1., 0., 0., 0., 0., 0., 0.],\n        [1., 0., 0., 0., 0., 0., 0.],\n        [0., 0., 1., 0., 0., 0., 0.],\n        [1., 0., 0., 0., 0., 0., 0.],\n        [1., 0., 0., 0., 0., 0., 0.],\n        [0., 0., 0., 0., 1., 0., 0.],\n        [0., 0., 0., 0., 0., 1., 0.],\n        [0., 1., 0., 0., 0., 0., 0.],\n        [0., 0., 0., 0., 0., 1., 0.],\n        [0., 0., 0., 0., 0., 0., 1.],\n        [0., 0., 0., 0., 0., 1., 0.],\n        [0., 0., 0., 0., 0., 1., 0.],\n        [0., 0., 0., 0., 0., 0., 1.],\n        [0., 0., 1., 0., 0., 0., 0.],\n        [0., 1., 0., 0., 0., 0., 0.],\n        [0., 0., 1., 0., 0., 0., 0.],\n        [0., 0., 0., 0., 0., 1., 0.],\n        [0., 0., 0., 1., 0., 0., 0.],\n        [0., 0., 0., 0., 1., 0., 0.],\n        [0., 0., 0., 0., 0., 1., 0.],\n        [0., 1., 0., 0., 0., 0., 0.],\n        [0., 0., 0., 0., 0., 0., 1.],\n        [0., 0., 1., 0., 0., 0., 0.],\n        [0., 0., 0., 0., 1., 0., 0.],\n        [0., 0., 1., 0., 0., 0., 0.],\n        [1., 0., 0., 0., 0., 0., 0.],\n        [0., 0., 0., 0., 1., 0., 0.],\n        [1., 0., 0., 0., 0., 0., 0.],\n        [0., 0., 1., 0., 0., 0., 0.],\n        [0., 1., 0., 0., 0., 0., 0.],\n        [1., 0., 0., 0., 0., 0., 0.],\n        [0., 0., 0., 0., 0., 1., 0.],\n        [0., 1., 0., 0., 0., 0., 0.],\n        [1., 0., 0., 0., 0., 0., 0.],\n        [1., 0., 0., 0., 0., 0., 0.],\n        [1., 0., 0., 0., 0., 0., 0.],\n        [0., 0., 0., 0., 0., 1., 0.],\n        [0., 0., 0., 0., 1., 0., 0.],\n        [1., 0., 0., 0., 0., 0., 0.],\n        [1., 0., 0., 0., 0., 0., 0.],\n        [1., 0., 0., 0., 0., 0., 0.],\n        [0., 1., 0., 0., 0., 0., 0.],\n        [0., 1., 0., 0., 0., 0., 0.],\n        [0., 1., 0., 0., 0., 0., 0.],\n        [0., 1., 0., 0., 0., 0., 0.],\n        [0., 0., 0., 0., 1., 0., 0.],\n        [0., 0., 0., 0., 0., 0., 1.],\n        [0., 1., 0., 0., 0., 0., 0.],\n        [0., 0., 1., 0., 0., 0., 0.],\n        [0., 0., 0., 0., 0., 1., 0.],\n        [0., 1., 0., 0., 0., 0., 0.],\n        [0., 0., 1., 0., 0., 0., 0.],\n        [0., 1., 0., 0., 0., 0., 0.],\n        [1., 0., 0., 0., 0., 0., 0.],\n        [0., 0., 0., 0., 0., 1., 0.],\n        [0., 0., 0., 0., 0., 1., 0.],\n        [0., 1., 0., 0., 0., 0., 0.],\n        [0., 0., 0., 0., 0., 0., 1.],\n        [0., 0., 0., 0., 0., 1., 0.],\n        [0., 0., 0., 0., 0., 0., 1.],\n        [1., 0., 0., 0., 0., 0., 0.],\n        [0., 0., 0., 0., 0., 0., 1.],\n        [0., 0., 0., 1., 0., 0., 0.]], dtype=float32))"
     },
     "execution_count": 80,
     "metadata": {},
     "output_type": "execute_result"
    }
   ],
   "source": [
    "next(train_generator)"
   ],
   "metadata": {
    "collapsed": false,
    "pycharm": {
     "name": "#%%\n"
    }
   }
  },
  {
   "cell_type": "code",
   "execution_count": 8,
   "outputs": [],
   "source": [
    "import os\n",
    "from keras.utils import to_categorical\n",
    "import cv2\n",
    "\n",
    "\n",
    "def load_image_dataset(path, size):\n",
    "    labels = []\n",
    "    images = []\n",
    "    for person in sorted(os.listdir(path)):\n",
    "        person_path = os.path.join(path, person)\n",
    "        for instance in os.listdir(person_path):\n",
    "            if instance.endswith('.jpg') is False:\n",
    "                continue\n",
    "            instance_path = os.path.join(person_path, instance)\n",
    "            image = cv2.imread(instance_path, cv2.COLOR_BGR2RGB)\n",
    "            image = cv2.resize(image, size)\n",
    "            label = to_categorical(person, num_classes=8)\n",
    "            images.append(image)\n",
    "            labels.append(label)\n",
    "    return images, labels\n"
   ],
   "metadata": {
    "collapsed": false,
    "pycharm": {
     "name": "#%%\n"
    }
   }
  },
  {
   "cell_type": "code",
   "execution_count": 1,
   "outputs": [
    {
     "name": "stderr",
     "output_type": "stream",
     "text": [
      "Using TensorFlow backend.\n"
     ]
    }
   ],
   "source": [
    "from processing import load_image_dataset\n",
    "\n",
    "x_rgb_train, y_rgb_train = load_image_dataset('Datasets/espe/base/train', (256, 256), True)\n",
    "x_rgb_test, y_rgb_test = load_image_dataset('Datasets/espe/base/test', (256, 256), True)\n",
    "x_rgb_validation, y_rgb_validation = load_image_dataset('Datasets/espe/base/validation', (256, 256), True)"
   ],
   "metadata": {
    "collapsed": false,
    "pycharm": {
     "name": "#%%\n"
    }
   }
  },
  {
   "cell_type": "code",
   "execution_count": 2,
   "outputs": [
    {
     "data": {
      "text/plain": "(256, 256, 1)"
     },
     "execution_count": 2,
     "metadata": {},
     "output_type": "execute_result"
    }
   ],
   "source": [
    "input_shape = x_rgb_train.shape[1:]\n",
    "input_shape"
   ],
   "metadata": {
    "collapsed": false,
    "pycharm": {
     "name": "#%%\n"
    }
   }
  },
  {
   "cell_type": "code",
   "execution_count": 13,
   "outputs": [
    {
     "name": "stdout",
     "output_type": "stream",
     "text": [
      "WARNING:tensorflow:From C:\\Python37\\lib\\site-packages\\keras\\backend\\tensorflow_backend.py:3837: The name tf.random_uniform is deprecated. Please use tf.random.uniform instead.\n",
      "\n"
     ]
    },
    {
     "ename": "ValueError",
     "evalue": "A `Concatenate` layer requires inputs with matching shapes except for the concat axis. Got inputs shapes: [(None, 32, 32, 72), (None, 8)]",
     "output_type": "error",
     "traceback": [
      "\u001B[1;31m---------------------------------------------------------------------------\u001B[0m",
      "\u001B[1;31mValueError\u001B[0m                                Traceback (most recent call last)",
      "\u001B[1;32m~\\AppData\\Local\\Temp\\ipykernel_49576\\2214096898.py\u001B[0m in \u001B[0;36m<module>\u001B[1;34m\u001B[0m\n\u001B[0;32m     15\u001B[0m \u001B[1;31m# combinedInput = concatenate([x.output, model.output])\u001B[0m\u001B[1;33m\u001B[0m\u001B[1;33m\u001B[0m\u001B[1;33m\u001B[0m\u001B[0m\n\u001B[0;32m     16\u001B[0m \u001B[1;31m# main_b = Dense(80, activation='relu')(combinedInput)\u001B[0m\u001B[1;33m\u001B[0m\u001B[1;33m\u001B[0m\u001B[1;33m\u001B[0m\u001B[0m\n\u001B[1;32m---> 17\u001B[1;33m \u001B[0mcombinate\u001B[0m \u001B[1;33m=\u001B[0m \u001B[0mconcatenate\u001B[0m\u001B[1;33m(\u001B[0m\u001B[1;33m[\u001B[0m\u001B[0mx\u001B[0m\u001B[1;33m.\u001B[0m\u001B[0moutput\u001B[0m\u001B[1;33m,\u001B[0m \u001B[0my\u001B[0m\u001B[1;33m.\u001B[0m\u001B[0moutput\u001B[0m\u001B[1;33m]\u001B[0m\u001B[1;33m)\u001B[0m\u001B[1;33m\u001B[0m\u001B[1;33m\u001B[0m\u001B[0m\n\u001B[0m\u001B[0;32m     18\u001B[0m \u001B[1;33m\u001B[0m\u001B[0m\n\u001B[0;32m     19\u001B[0m \u001B[0mz\u001B[0m \u001B[1;33m=\u001B[0m \u001B[0mDense\u001B[0m\u001B[1;33m(\u001B[0m\u001B[1;36m80\u001B[0m\u001B[1;33m,\u001B[0m \u001B[0mactivation\u001B[0m\u001B[1;33m=\u001B[0m\u001B[1;34m'relu'\u001B[0m\u001B[1;33m)\u001B[0m\u001B[1;33m(\u001B[0m\u001B[0mcombinate\u001B[0m\u001B[1;33m)\u001B[0m\u001B[1;33m\u001B[0m\u001B[1;33m\u001B[0m\u001B[0m\n",
      "\u001B[1;32mC:\\Python37\\lib\\site-packages\\keras\\layers\\merge.py\u001B[0m in \u001B[0;36mconcatenate\u001B[1;34m(inputs, axis, **kwargs)\u001B[0m\n\u001B[0;32m    639\u001B[0m         \u001B[0mA\u001B[0m \u001B[0mtensor\u001B[0m\u001B[1;33m,\u001B[0m \u001B[0mthe\u001B[0m \u001B[0mconcatenation\u001B[0m \u001B[0mof\u001B[0m \u001B[0mthe\u001B[0m \u001B[0minputs\u001B[0m \u001B[0malongside\u001B[0m \u001B[0maxis\u001B[0m\u001B[0;31m \u001B[0m\u001B[0;31m`\u001B[0m\u001B[0maxis\u001B[0m\u001B[0;31m`\u001B[0m\u001B[1;33m.\u001B[0m\u001B[1;33m\u001B[0m\u001B[1;33m\u001B[0m\u001B[0m\n\u001B[0;32m    640\u001B[0m     \"\"\"\n\u001B[1;32m--> 641\u001B[1;33m     \u001B[1;32mreturn\u001B[0m \u001B[0mConcatenate\u001B[0m\u001B[1;33m(\u001B[0m\u001B[0maxis\u001B[0m\u001B[1;33m=\u001B[0m\u001B[0maxis\u001B[0m\u001B[1;33m,\u001B[0m \u001B[1;33m**\u001B[0m\u001B[0mkwargs\u001B[0m\u001B[1;33m)\u001B[0m\u001B[1;33m(\u001B[0m\u001B[0minputs\u001B[0m\u001B[1;33m)\u001B[0m\u001B[1;33m\u001B[0m\u001B[1;33m\u001B[0m\u001B[0m\n\u001B[0m\u001B[0;32m    642\u001B[0m \u001B[1;33m\u001B[0m\u001B[0m\n\u001B[0;32m    643\u001B[0m \u001B[1;33m\u001B[0m\u001B[0m\n",
      "\u001B[1;32mC:\\Python37\\lib\\site-packages\\keras\\engine\\topology.py\u001B[0m in \u001B[0;36m__call__\u001B[1;34m(self, inputs, **kwargs)\u001B[0m\n\u001B[0;32m    592\u001B[0m                     \u001B[0mself\u001B[0m\u001B[1;33m.\u001B[0m\u001B[0mbuild\u001B[0m\u001B[1;33m(\u001B[0m\u001B[0minput_shapes\u001B[0m\u001B[1;33m[\u001B[0m\u001B[1;36m0\u001B[0m\u001B[1;33m]\u001B[0m\u001B[1;33m)\u001B[0m\u001B[1;33m\u001B[0m\u001B[1;33m\u001B[0m\u001B[0m\n\u001B[0;32m    593\u001B[0m                 \u001B[1;32melse\u001B[0m\u001B[1;33m:\u001B[0m\u001B[1;33m\u001B[0m\u001B[1;33m\u001B[0m\u001B[0m\n\u001B[1;32m--> 594\u001B[1;33m                     \u001B[0mself\u001B[0m\u001B[1;33m.\u001B[0m\u001B[0mbuild\u001B[0m\u001B[1;33m(\u001B[0m\u001B[0minput_shapes\u001B[0m\u001B[1;33m)\u001B[0m\u001B[1;33m\u001B[0m\u001B[1;33m\u001B[0m\u001B[0m\n\u001B[0m\u001B[0;32m    595\u001B[0m                 \u001B[0mself\u001B[0m\u001B[1;33m.\u001B[0m\u001B[0mbuilt\u001B[0m \u001B[1;33m=\u001B[0m \u001B[1;32mTrue\u001B[0m\u001B[1;33m\u001B[0m\u001B[1;33m\u001B[0m\u001B[0m\n\u001B[0;32m    596\u001B[0m \u001B[1;33m\u001B[0m\u001B[0m\n",
      "\u001B[1;32mC:\\Python37\\lib\\site-packages\\keras\\layers\\merge.py\u001B[0m in \u001B[0;36mbuild\u001B[1;34m(self, input_shape)\u001B[0m\n\u001B[0;32m    352\u001B[0m                              \u001B[1;34m'inputs with matching shapes '\u001B[0m\u001B[1;33m\u001B[0m\u001B[1;33m\u001B[0m\u001B[0m\n\u001B[0;32m    353\u001B[0m                              \u001B[1;34m'except for the concat axis. '\u001B[0m\u001B[1;33m\u001B[0m\u001B[1;33m\u001B[0m\u001B[0m\n\u001B[1;32m--> 354\u001B[1;33m                              'Got inputs shapes: %s' % (input_shape))\n\u001B[0m\u001B[0;32m    355\u001B[0m \u001B[1;33m\u001B[0m\u001B[0m\n\u001B[0;32m    356\u001B[0m     \u001B[1;32mdef\u001B[0m \u001B[0m_merge_function\u001B[0m\u001B[1;33m(\u001B[0m\u001B[0mself\u001B[0m\u001B[1;33m,\u001B[0m \u001B[0minputs\u001B[0m\u001B[1;33m)\u001B[0m\u001B[1;33m:\u001B[0m\u001B[1;33m\u001B[0m\u001B[1;33m\u001B[0m\u001B[0m\n",
      "\u001B[1;31mValueError\u001B[0m: A `Concatenate` layer requires inputs with matching shapes except for the concat axis. Got inputs shapes: [(None, 32, 32, 72), (None, 8)]"
     ]
    }
   ],
   "source": [
    "from keras.layers import Input, Dense, concatenate\n",
    "from keras.models import Model\n",
    "from keras.utils.vis_utils import plot_model\n",
    "\n",
    "lbp_hist_input = Input(shape=(32, 32, 3, ), name='texture_histogram')\n",
    "x = Dense(36, activation='relu')(lbp_hist_input)\n",
    "x = Dense(72, activation='relu')(x)\n",
    "x = Model(inputs=lbp_hist_input, outputs=x)\n",
    "\n",
    "features = Input(shape=(2,), name='features')\n",
    "y = Dense(4, activation='relu')(features)\n",
    "y = Dense(8, activation='relu')(y)\n",
    "y = Model(inputs=features, outputs=y)\n",
    "#\n",
    "# combinedInput = concatenate([x.output, model.output])\n",
    "# main_b = Dense(80, activation='relu')(combinedInput)\n",
    "combinate = concatenate([x.output, y.output])\n",
    "\n",
    "z = Dense(80, activation='relu')(combinate)\n",
    "z = Dense(7, activation='softmax')(z)\n",
    "\n",
    "model = Model(inputs=[x.input, y.input], outputs=z)\n",
    "\n",
    "plot_model(model, to_file='model_plot.png', show_shapes=True, show_layer_names=True)"
   ],
   "metadata": {
    "collapsed": false,
    "pycharm": {
     "name": "#%%\n"
    }
   }
  },
  {
   "cell_type": "code",
   "execution_count": 6,
   "outputs": [
    {
     "name": "stdout",
     "output_type": "stream",
     "text": [
      "Train on 40000 samples, validate on 10000 samples\n",
      "Epoch 1/1\n",
      "40000/40000 [==============================] - 35s 873us/step - loss: 1.8789 - acc: 0.2810 - val_loss: 1.5524 - val_acc: 0.4153\n"
     ]
    },
    {
     "data": {
      "text/plain": "<keras.callbacks.History at 0x288913efd08>"
     },
     "execution_count": 6,
     "metadata": {},
     "output_type": "execute_result"
    }
   ],
   "source": [
    "from keras import layers\n",
    "from keras.models import Model\n",
    "\n",
    "inputs = layers.Input(shape=(32, 32, 3))\n",
    "x = layers.Conv2D(32, 3, activation='relu')(inputs)\n",
    "x = layers.Conv2D(64, 3, activation='relu')(x)\n",
    "block_1_output = layers.MaxPooling2D(3)(x)\n",
    "\n",
    "x = layers.Conv2D(64, 3, activation='relu', padding='same')(block_1_output)\n",
    "x = layers.Conv2D(64, 3, activation='relu', padding='same')(x)\n",
    "block_2_output = layers.add([x, block_1_output])\n",
    "\n",
    "x = layers.Conv2D(64, 3, activation='relu', padding='same')(block_2_output)\n",
    "x = layers.Conv2D(64, 3, activation='relu', padding='same')(x)\n",
    "block_3_output = layers.add([x, block_2_output])\n",
    "\n",
    "x = layers.Conv2D(64, 3, activation='relu')(block_3_output)\n",
    "x = layers.GlobalAvgPool2D()(x)\n",
    "x = layers.Dense(256, activation='relu')(x)\n",
    "x = layers.Dropout(0.5)(x)\n",
    "outputs = layers.Dense(10, activation='softmax')(x)\n",
    "\n",
    "model = Model(inputs, outputs, name='toy_resnet')\n",
    "\n",
    "from keras.utils import to_categorical\n",
    "from keras import datasets\n",
    "from keras.optimizers import RMSprop\n",
    "\n",
    "(x_train, y_train), (x_test, y_test) = datasets.cifar10.load_data()\n",
    "x_train = x_train.astype('float32') / 255.\n",
    "x_test = x_test.astype('float32') / 255.\n",
    "y_train = to_categorical(y_train, 10)\n",
    "y_test = to_categorical(y_test, 10)\n",
    "\n",
    "from keras.utils.vis_utils import plot_model\n",
    "\n",
    "plot_model(model, to_file='model_plot.png', show_shapes=True, show_layer_names=True)\n",
    "\n",
    "model.compile(optimizer=RMSprop(1e-3),\n",
    "              loss='categorical_crossentropy',\n",
    "              metrics=['acc'])\n",
    "\n",
    "model.fit(x_train, y_train,\n",
    "          batch_size=64,\n",
    "          epochs=1,\n",
    "          validation_split=0.2)"
   ],
   "metadata": {
    "collapsed": false,
    "pycharm": {
     "name": "#%%\n"
    }
   }
  },
  {
   "cell_type": "code",
   "execution_count": 2,
   "outputs": [
    {
     "name": "stdout",
     "output_type": "stream",
     "text": [
      "WARNING:tensorflow:From C:\\Python37\\lib\\site-packages\\tensorflow_core\\python\\ops\\resource_variable_ops.py:1630: calling BaseResourceVariable.__init__ (from tensorflow.python.ops.resource_variable_ops) with constraint is deprecated and will be removed in a future version.\n",
      "Instructions for updating:\n",
      "If using Keras pass *_constraint arguments to layers.\n",
      "WARNING:tensorflow:From C:\\Python37\\lib\\site-packages\\pixellib\\instance\\mask_rcnn.py:409: where (from tensorflow.python.ops.array_ops) is deprecated and will be removed in a future version.\n",
      "Instructions for updating:\n",
      "Use tf.where in 2.0, which has the same broadcast rule as np.where\n",
      "WARNING:tensorflow:From C:\\Python37\\lib\\site-packages\\pixellib\\instance\\mask_rcnn.py:431: calling crop_and_resize_v1 (from tensorflow.python.ops.image_ops_impl) with box_ind is deprecated and will be removed in a future version.\n",
      "Instructions for updating:\n",
      "box_ind is deprecated, use box_indices instead\n"
     ]
    }
   ],
   "source": [
    "from utils.MaskRCNN import MaskRCNN\n",
    "model = MaskRCNN()"
   ],
   "metadata": {
    "collapsed": false,
    "pycharm": {
     "name": "#%%\n"
    }
   }
  },
  {
   "cell_type": "code",
   "execution_count": 1,
   "outputs": [
    {
     "data": {
      "text/plain": "<Figure size 432x288 with 1 Axes>",
      "image/png": "[encoded data removed]"
     },
     "metadata": {
      "needs_background": "light"
     },
     "output_type": "display_data"
    }
   ],
   "source": [
    "from utils.LocalBinaryPatterns import LocalBinaryPatterns\n",
    "import cv2\n",
    "import matplotlib.pyplot as plt\n",
    "import pandas as pd\n",
    "\n",
    "lbp = LocalBinaryPatterns(3)\n",
    "image = cv2.imread('Datasets/espe/base/test/0/001_9 16.jpg')\n",
    "\n",
    "lbp_img = lbp.lbp(image)\n",
    "hist = lbp.describe(image=image)\n",
    "\n",
    "from collections import Counter\n",
    "\n",
    "\n",
    "plt.hist(hist, bins=len(hist))\n",
    "plt.savefig('1.png')\n",
    "plt.show()\n",
    "\n",
    "# cropped_frame = cv2.cvtColor(lbp_img.astype('uint8') * 255, cv2.COLOR_GRAY2RGB)\n",
    "#\n",
    "# # cv2.imshow(\"LBP\", cropped_frame)\n",
    "#\n",
    "# lbp_img = lbp_img.astype('uint8')\n",
    "# cv2.imshow(\"LBP 2\", lbp_img)\n",
    "#\n",
    "# cv2.waitKey(0)\n",
    "\n",
    "# cv2.imwrite('save.jpg', lbp_img)\n",
    "\n",
    "from PIL import Image\n",
    "# pd.DataFrame()\n",
    "\n",
    "# Image.fromarray(lbp_img).save('out_2.jpg')"
   ],
   "metadata": {
    "collapsed": false,
    "pycharm": {
     "name": "#%%\n"
    }
   }
  },
  {
   "cell_type": "code",
   "execution_count": 45,
   "outputs": [
    {
     "data": {
      "text/plain": "<Figure size 432x288 with 1 Axes>",
      "image/png": "[encoded data removed]"
     },
     "metadata": {
      "needs_background": "light"
     },
     "output_type": "display_data"
    }
   ],
   "source": [
    "# out_2 = Image.open('out_2.jpg')\n",
    "out_2 = cv2.imread('Datasets/espe/lbp_histograms/train/0/person_0_1.jpg', cv2.COLOR_BGR2GRAY)\n",
    "plt.imshow(out_2)\n",
    "plt.show()"
   ],
   "metadata": {
    "collapsed": false,
    "pycharm": {
     "name": "#%%\n"
    }
   }
  },
  {
   "cell_type": "code",
   "execution_count": 43,
   "outputs": [
    {
     "data": {
      "text/plain": "<Figure size 432x288 with 1 Axes>",
      "image/png": "[encoded data removed]"
     },
     "metadata": {
      "needs_background": "light"
     },
     "output_type": "display_data"
    },
    {
     "data": {
      "text/plain": "(609, 189, 3)"
     },
     "execution_count": 43,
     "metadata": {},
     "output_type": "execute_result"
    }
   ],
   "source": [
    "import pandas as pd\n",
    "disk_load_lbp = cv2.imread('Datasets/espe/lbp_histograms/test/0/person_0_1.jpg', cv2.COLOR_BGR2GRAY)\n",
    "# disk_load_lbp = cv2.cvtColor(disk_load_lbp, cv2.COLOR_BGR2GRAY)\n",
    "plt.imshow(disk_load_lbp)\n",
    "plt.show()\n",
    "disk_load_lbp.shape"
   ],
   "metadata": {
    "collapsed": false,
    "pycharm": {
     "name": "#%%\n"
    }
   }
  },
  {
   "cell_type": "code",
   "execution_count": 7,
   "outputs": [
    {
     "name": "stdout",
     "output_type": "stream",
     "text": [
      "WARNING:tensorflow:From C:\\Python37\\lib\\site-packages\\tensorflow_core\\python\\ops\\resource_variable_ops.py:1630: calling BaseResourceVariable.__init__ (from tensorflow.python.ops.resource_variable_ops) with constraint is deprecated and will be removed in a future version.\n",
      "Instructions for updating:\n",
      "If using Keras pass *_constraint arguments to layers.\n",
      "WARNING:tensorflow:From C:\\Python37\\lib\\site-packages\\pixellib\\instance\\mask_rcnn.py:409: where (from tensorflow.python.ops.array_ops) is deprecated and will be removed in a future version.\n",
      "Instructions for updating:\n",
      "Use tf.where in 2.0, which has the same broadcast rule as np.where\n",
      "WARNING:tensorflow:From C:\\Python37\\lib\\site-packages\\pixellib\\instance\\mask_rcnn.py:431: calling crop_and_resize_v1 (from tensorflow.python.ops.image_ops_impl) with box_ind is deprecated and will be removed in a future version.\n",
      "Instructions for updating:\n",
      "box_ind is deprecated, use box_indices instead\n"
     ]
    },
    {
     "data": {
      "text/plain": "<Figure size 432x288 with 1 Axes>",
      "image/png": "[encoded data removed]"
     },
     "metadata": {
      "needs_background": "light"
     },
     "output_type": "display_data"
    }
   ],
   "source": [
    "import cv2\n",
    "from utils.MaskRCNN import MaskRCNN\n",
    "import matplotlib.pyplot as plt\n",
    "\n",
    "model = MaskRCNN()\n",
    "\n"
   ],
   "metadata": {
    "collapsed": false,
    "pycharm": {
     "name": "#%%\n"
    }
   }
  },
  {
   "cell_type": "code",
   "execution_count": 34,
   "outputs": [],
   "source": [
    "image = cv2.imread(\"Datasets/Propio/Video/pasillo/cam_1/pasillo_001/pasillo_001 0044.jpg\")\n",
    "copied_image = image.copy()\n",
    "r, _ = model.segment(image)"
   ],
   "metadata": {
    "collapsed": false,
    "pycharm": {
     "name": "#%%\n"
    }
   }
  },
  {
   "cell_type": "code",
   "execution_count": 35,
   "outputs": [],
   "source": [
    "mask = r['masks'][:, :, 0].astype('uint8')\n",
    "x1, y1 = r[\"rois\"][0][0], r[\"rois\"][0][1]\n",
    "x2, y2 = r[\"rois\"][0][2], r[\"rois\"][0][3]"
   ],
   "metadata": {
    "collapsed": false,
    "pycharm": {
     "name": "#%%\n"
    }
   }
  },
  {
   "cell_type": "code",
   "execution_count": 36,
   "outputs": [],
   "source": [
    "from utils.ReID import crop_frame, apply_mask\n",
    "masked_image = apply_mask(copied_image, mask)\n",
    "cropped = crop_frame(x1, x2, y1, y2, masked_image)"
   ],
   "metadata": {
    "collapsed": false,
    "pycharm": {
     "name": "#%%\n"
    }
   }
  },
  {
   "cell_type": "code",
   "execution_count": 27,
   "outputs": [
    {
     "data": {
      "text/plain": "-1"
     },
     "execution_count": 27,
     "metadata": {},
     "output_type": "execute_result"
    }
   ],
   "source": [
    "cv2.imshow(\"\", cropped)\n",
    "cv2.waitKey(0)"
   ],
   "metadata": {
    "collapsed": false,
    "pycharm": {
     "name": "#%%\n"
    }
   }
  },
  {
   "cell_type": "code",
   "execution_count": 39,
   "outputs": [
    {
     "data": {
      "text/plain": "True"
     },
     "execution_count": 39,
     "metadata": {},
     "output_type": "execute_result"
    }
   ],
   "source": [
    "import PIL\n",
    "from PIL import Image\n",
    "i = Image.fromarray(cropped)\n",
    "cv2.imwrite('masked2.jpg', mask * 255)"
   ],
   "metadata": {
    "collapsed": false,
    "pycharm": {
     "name": "#%%\n"
    }
   }
  }
 ],
 "metadata": {
  "kernelspec": {
   "display_name": "Python 3",
   "language": "python",
   "name": "python3"
  },
  "language_info": {
   "codemirror_mode": {
    "name": "ipython",
    "version": 2
   },
   "file_extension": ".py",
   "mimetype": "text/x-python",
   "name": "python",
   "nbconvert_exporter": "python",
   "pygments_lexer": "ipython2",
   "version": "2.7.6"
  }
 },
 "nbformat": 4,
 "nbformat_minor": 0
}